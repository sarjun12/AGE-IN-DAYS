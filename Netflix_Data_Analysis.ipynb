{
  "nbformat": 4,
  "nbformat_minor": 0,
  "metadata": {
    "colab": {
      "provenance": [],
      "include_colab_link": true
    },
    "kernelspec": {
      "name": "python3",
      "display_name": "Python 3"
    },
    "language_info": {
      "name": "python"
    }
  },
  "cells": [
    {
      "cell_type": "markdown",
      "metadata": {
        "id": "view-in-github",
        "colab_type": "text"
      },
      "source": [
        "<a href=\"https://colab.research.google.com/github/sarjun12/AGE-IN-DAYS/blob/main/Netflix_Data_Analysis.ipynb\" target=\"_parent\"><img src=\"https://colab.research.google.com/assets/colab-badge.svg\" alt=\"Open In Colab\"/></a>"
      ]
    },
    {
      "cell_type": "markdown",
      "source": [
        "**Import Libaries and data**"
      ],
      "metadata": {
        "id": "Us-hyfLP3ks7"
      }
    },
    {
      "cell_type": "code",
      "execution_count": null,
      "metadata": {
        "id": "8MdUx42UtEQZ"
      },
      "outputs": [],
      "source": [
        "import numpy as np # linear algebra operations\n",
        "import pandas as pd # used for data preparation\n",
        "import plotly.express as px #used for data visualization\n",
        "from textblob import TextBlob #used for sentiment analysis\n",
        "\n",
        "df = pd.read_csv('All_Clickstream.csv')\n"
      ]
    },
    {
      "cell_type": "markdown",
      "source": [
        "## Checking number of rows and columns in data"
      ],
      "metadata": {
        "id": "hqLlSfZd3x3Q"
      }
    },
    {
      "cell_type": "code",
      "source": [
        "df.shape"
      ],
      "metadata": {
        "colab": {
          "base_uri": "https://localhost:8080/"
        },
        "id": "HLYVGQPluZmJ",
        "outputId": "53f00a76-5359-4286-f42d-fa3dfde114fd"
      },
      "execution_count": null,
      "outputs": [
        {
          "output_type": "execute_result",
          "data": {
            "text/plain": [
              "(12104, 6)"
            ]
          },
          "metadata": {},
          "execution_count": 6
        }
      ]
    },
    {
      "cell_type": "markdown",
      "source": [
        "# Checking content available in Dataset"
      ],
      "metadata": {
        "id": "qv2C5SNT38Er"
      }
    },
    {
      "cell_type": "code",
      "source": [
        "df.head()"
      ],
      "metadata": {
        "colab": {
          "base_uri": "https://localhost:8080/",
          "height": 247
        },
        "id": "NBVQOndEugLY",
        "outputId": "f1ba297d-81ee-42a6-d70c-6766a90614aa"
      },
      "execution_count": null,
      "outputs": [
        {
          "output_type": "execute_result",
          "data": {
            "text/plain": [
              "  Profile Name    Source Navigation Level       Referrer Url Webpage Url  \\\n",
              "0       User 4  Source 0     signupPrompt  Url not specified         NaN   \n",
              "1       User 4  Source 0     browseTitles  Url not specified         NaN   \n",
              "2       User 4  Source 1     movieDetails  Url not specified         NaN   \n",
              "3       User 4  Source 1     browseTitles  Url not specified         NaN   \n",
              "4       User 4  Source 1     movieDetails  Url not specified         NaN   \n",
              "\n",
              "          Click Utc Ts  \n",
              "0  2022-10-08 14:04:47  \n",
              "1  2022-10-08 14:04:46  \n",
              "2  2022-09-30 14:53:50  \n",
              "3  2022-09-30 14:53:50  \n",
              "4  2022-09-30 14:53:49  "
            ],
            "text/html": [
              "\n",
              "  <div id=\"df-6c8fda6f-64f2-4fa5-a547-c43ae46aee59\" class=\"colab-df-container\">\n",
              "    <div>\n",
              "<style scoped>\n",
              "    .dataframe tbody tr th:only-of-type {\n",
              "        vertical-align: middle;\n",
              "    }\n",
              "\n",
              "    .dataframe tbody tr th {\n",
              "        vertical-align: top;\n",
              "    }\n",
              "\n",
              "    .dataframe thead th {\n",
              "        text-align: right;\n",
              "    }\n",
              "</style>\n",
              "<table border=\"1\" class=\"dataframe\">\n",
              "  <thead>\n",
              "    <tr style=\"text-align: right;\">\n",
              "      <th></th>\n",
              "      <th>Profile Name</th>\n",
              "      <th>Source</th>\n",
              "      <th>Navigation Level</th>\n",
              "      <th>Referrer Url</th>\n",
              "      <th>Webpage Url</th>\n",
              "      <th>Click Utc Ts</th>\n",
              "    </tr>\n",
              "  </thead>\n",
              "  <tbody>\n",
              "    <tr>\n",
              "      <th>0</th>\n",
              "      <td>User 4</td>\n",
              "      <td>Source 0</td>\n",
              "      <td>signupPrompt</td>\n",
              "      <td>Url not specified</td>\n",
              "      <td>NaN</td>\n",
              "      <td>2022-10-08 14:04:47</td>\n",
              "    </tr>\n",
              "    <tr>\n",
              "      <th>1</th>\n",
              "      <td>User 4</td>\n",
              "      <td>Source 0</td>\n",
              "      <td>browseTitles</td>\n",
              "      <td>Url not specified</td>\n",
              "      <td>NaN</td>\n",
              "      <td>2022-10-08 14:04:46</td>\n",
              "    </tr>\n",
              "    <tr>\n",
              "      <th>2</th>\n",
              "      <td>User 4</td>\n",
              "      <td>Source 1</td>\n",
              "      <td>movieDetails</td>\n",
              "      <td>Url not specified</td>\n",
              "      <td>NaN</td>\n",
              "      <td>2022-09-30 14:53:50</td>\n",
              "    </tr>\n",
              "    <tr>\n",
              "      <th>3</th>\n",
              "      <td>User 4</td>\n",
              "      <td>Source 1</td>\n",
              "      <td>browseTitles</td>\n",
              "      <td>Url not specified</td>\n",
              "      <td>NaN</td>\n",
              "      <td>2022-09-30 14:53:50</td>\n",
              "    </tr>\n",
              "    <tr>\n",
              "      <th>4</th>\n",
              "      <td>User 4</td>\n",
              "      <td>Source 1</td>\n",
              "      <td>movieDetails</td>\n",
              "      <td>Url not specified</td>\n",
              "      <td>NaN</td>\n",
              "      <td>2022-09-30 14:53:49</td>\n",
              "    </tr>\n",
              "  </tbody>\n",
              "</table>\n",
              "</div>\n",
              "    <div class=\"colab-df-buttons\">\n",
              "\n",
              "  <div class=\"colab-df-container\">\n",
              "    <button class=\"colab-df-convert\" onclick=\"convertToInteractive('df-6c8fda6f-64f2-4fa5-a547-c43ae46aee59')\"\n",
              "            title=\"Convert this dataframe to an interactive table.\"\n",
              "            style=\"display:none;\">\n",
              "\n",
              "  <svg xmlns=\"http://www.w3.org/2000/svg\" height=\"24px\" viewBox=\"0 -960 960 960\">\n",
              "    <path d=\"M120-120v-720h720v720H120Zm60-500h600v-160H180v160Zm220 220h160v-160H400v160Zm0 220h160v-160H400v160ZM180-400h160v-160H180v160Zm440 0h160v-160H620v160ZM180-180h160v-160H180v160Zm440 0h160v-160H620v160Z\"/>\n",
              "  </svg>\n",
              "    </button>\n",
              "\n",
              "  <style>\n",
              "    .colab-df-container {\n",
              "      display:flex;\n",
              "      gap: 12px;\n",
              "    }\n",
              "\n",
              "    .colab-df-convert {\n",
              "      background-color: #E8F0FE;\n",
              "      border: none;\n",
              "      border-radius: 50%;\n",
              "      cursor: pointer;\n",
              "      display: none;\n",
              "      fill: #1967D2;\n",
              "      height: 32px;\n",
              "      padding: 0 0 0 0;\n",
              "      width: 32px;\n",
              "    }\n",
              "\n",
              "    .colab-df-convert:hover {\n",
              "      background-color: #E2EBFA;\n",
              "      box-shadow: 0px 1px 2px rgba(60, 64, 67, 0.3), 0px 1px 3px 1px rgba(60, 64, 67, 0.15);\n",
              "      fill: #174EA6;\n",
              "    }\n",
              "\n",
              "    .colab-df-buttons div {\n",
              "      margin-bottom: 4px;\n",
              "    }\n",
              "\n",
              "    [theme=dark] .colab-df-convert {\n",
              "      background-color: #3B4455;\n",
              "      fill: #D2E3FC;\n",
              "    }\n",
              "\n",
              "    [theme=dark] .colab-df-convert:hover {\n",
              "      background-color: #434B5C;\n",
              "      box-shadow: 0px 1px 3px 1px rgba(0, 0, 0, 0.15);\n",
              "      filter: drop-shadow(0px 1px 2px rgba(0, 0, 0, 0.3));\n",
              "      fill: #FFFFFF;\n",
              "    }\n",
              "  </style>\n",
              "\n",
              "    <script>\n",
              "      const buttonEl =\n",
              "        document.querySelector('#df-6c8fda6f-64f2-4fa5-a547-c43ae46aee59 button.colab-df-convert');\n",
              "      buttonEl.style.display =\n",
              "        google.colab.kernel.accessAllowed ? 'block' : 'none';\n",
              "\n",
              "      async function convertToInteractive(key) {\n",
              "        const element = document.querySelector('#df-6c8fda6f-64f2-4fa5-a547-c43ae46aee59');\n",
              "        const dataTable =\n",
              "          await google.colab.kernel.invokeFunction('convertToInteractive',\n",
              "                                                    [key], {});\n",
              "        if (!dataTable) return;\n",
              "\n",
              "        const docLinkHtml = 'Like what you see? Visit the ' +\n",
              "          '<a target=\"_blank\" href=https://colab.research.google.com/notebooks/data_table.ipynb>data table notebook</a>'\n",
              "          + ' to learn more about interactive tables.';\n",
              "        element.innerHTML = '';\n",
              "        dataTable['output_type'] = 'display_data';\n",
              "        await google.colab.output.renderOutput(dataTable, element);\n",
              "        const docLink = document.createElement('div');\n",
              "        docLink.innerHTML = docLinkHtml;\n",
              "        element.appendChild(docLink);\n",
              "      }\n",
              "    </script>\n",
              "  </div>\n",
              "\n",
              "\n",
              "<div id=\"df-5b61a5b8-d6fa-47b5-9264-a9df2bbf706f\">\n",
              "  <button class=\"colab-df-quickchart\" onclick=\"quickchart('df-5b61a5b8-d6fa-47b5-9264-a9df2bbf706f')\"\n",
              "            title=\"Suggest charts\"\n",
              "            style=\"display:none;\">\n",
              "\n",
              "<svg xmlns=\"http://www.w3.org/2000/svg\" height=\"24px\"viewBox=\"0 0 24 24\"\n",
              "     width=\"24px\">\n",
              "    <g>\n",
              "        <path d=\"M19 3H5c-1.1 0-2 .9-2 2v14c0 1.1.9 2 2 2h14c1.1 0 2-.9 2-2V5c0-1.1-.9-2-2-2zM9 17H7v-7h2v7zm4 0h-2V7h2v10zm4 0h-2v-4h2v4z\"/>\n",
              "    </g>\n",
              "</svg>\n",
              "  </button>\n",
              "\n",
              "<style>\n",
              "  .colab-df-quickchart {\n",
              "      --bg-color: #E8F0FE;\n",
              "      --fill-color: #1967D2;\n",
              "      --hover-bg-color: #E2EBFA;\n",
              "      --hover-fill-color: #174EA6;\n",
              "      --disabled-fill-color: #AAA;\n",
              "      --disabled-bg-color: #DDD;\n",
              "  }\n",
              "\n",
              "  [theme=dark] .colab-df-quickchart {\n",
              "      --bg-color: #3B4455;\n",
              "      --fill-color: #D2E3FC;\n",
              "      --hover-bg-color: #434B5C;\n",
              "      --hover-fill-color: #FFFFFF;\n",
              "      --disabled-bg-color: #3B4455;\n",
              "      --disabled-fill-color: #666;\n",
              "  }\n",
              "\n",
              "  .colab-df-quickchart {\n",
              "    background-color: var(--bg-color);\n",
              "    border: none;\n",
              "    border-radius: 50%;\n",
              "    cursor: pointer;\n",
              "    display: none;\n",
              "    fill: var(--fill-color);\n",
              "    height: 32px;\n",
              "    padding: 0;\n",
              "    width: 32px;\n",
              "  }\n",
              "\n",
              "  .colab-df-quickchart:hover {\n",
              "    background-color: var(--hover-bg-color);\n",
              "    box-shadow: 0 1px 2px rgba(60, 64, 67, 0.3), 0 1px 3px 1px rgba(60, 64, 67, 0.15);\n",
              "    fill: var(--button-hover-fill-color);\n",
              "  }\n",
              "\n",
              "  .colab-df-quickchart-complete:disabled,\n",
              "  .colab-df-quickchart-complete:disabled:hover {\n",
              "    background-color: var(--disabled-bg-color);\n",
              "    fill: var(--disabled-fill-color);\n",
              "    box-shadow: none;\n",
              "  }\n",
              "\n",
              "  .colab-df-spinner {\n",
              "    border: 2px solid var(--fill-color);\n",
              "    border-color: transparent;\n",
              "    border-bottom-color: var(--fill-color);\n",
              "    animation:\n",
              "      spin 1s steps(1) infinite;\n",
              "  }\n",
              "\n",
              "  @keyframes spin {\n",
              "    0% {\n",
              "      border-color: transparent;\n",
              "      border-bottom-color: var(--fill-color);\n",
              "      border-left-color: var(--fill-color);\n",
              "    }\n",
              "    20% {\n",
              "      border-color: transparent;\n",
              "      border-left-color: var(--fill-color);\n",
              "      border-top-color: var(--fill-color);\n",
              "    }\n",
              "    30% {\n",
              "      border-color: transparent;\n",
              "      border-left-color: var(--fill-color);\n",
              "      border-top-color: var(--fill-color);\n",
              "      border-right-color: var(--fill-color);\n",
              "    }\n",
              "    40% {\n",
              "      border-color: transparent;\n",
              "      border-right-color: var(--fill-color);\n",
              "      border-top-color: var(--fill-color);\n",
              "    }\n",
              "    60% {\n",
              "      border-color: transparent;\n",
              "      border-right-color: var(--fill-color);\n",
              "    }\n",
              "    80% {\n",
              "      border-color: transparent;\n",
              "      border-right-color: var(--fill-color);\n",
              "      border-bottom-color: var(--fill-color);\n",
              "    }\n",
              "    90% {\n",
              "      border-color: transparent;\n",
              "      border-bottom-color: var(--fill-color);\n",
              "    }\n",
              "  }\n",
              "</style>\n",
              "\n",
              "  <script>\n",
              "    async function quickchart(key) {\n",
              "      const quickchartButtonEl =\n",
              "        document.querySelector('#' + key + ' button');\n",
              "      quickchartButtonEl.disabled = true;  // To prevent multiple clicks.\n",
              "      quickchartButtonEl.classList.add('colab-df-spinner');\n",
              "      try {\n",
              "        const charts = await google.colab.kernel.invokeFunction(\n",
              "            'suggestCharts', [key], {});\n",
              "      } catch (error) {\n",
              "        console.error('Error during call to suggestCharts:', error);\n",
              "      }\n",
              "      quickchartButtonEl.classList.remove('colab-df-spinner');\n",
              "      quickchartButtonEl.classList.add('colab-df-quickchart-complete');\n",
              "    }\n",
              "    (() => {\n",
              "      let quickchartButtonEl =\n",
              "        document.querySelector('#df-5b61a5b8-d6fa-47b5-9264-a9df2bbf706f button');\n",
              "      quickchartButtonEl.style.display =\n",
              "        google.colab.kernel.accessAllowed ? 'block' : 'none';\n",
              "    })();\n",
              "  </script>\n",
              "</div>\n",
              "\n",
              "    </div>\n",
              "  </div>\n"
            ],
            "application/vnd.google.colaboratory.intrinsic+json": {
              "type": "dataframe",
              "variable_name": "df",
              "summary": "{\n  \"name\": \"df\",\n  \"rows\": 12104,\n  \"fields\": [\n    {\n      \"column\": \"Profile Name\",\n      \"properties\": {\n        \"dtype\": \"category\",\n        \"num_unique_values\": 9,\n        \"samples\": [\n          \"User 5\",\n          \"User 2\",\n          \"User 7\"\n        ],\n        \"semantic_type\": \"\",\n        \"description\": \"\"\n      }\n    },\n    {\n      \"column\": \"Source\",\n      \"properties\": {\n        \"dtype\": \"category\",\n        \"num_unique_values\": 3,\n        \"samples\": [\n          \"Source 0\",\n          \"Source 1\",\n          \"Source 2\"\n        ],\n        \"semantic_type\": \"\",\n        \"description\": \"\"\n      }\n    },\n    {\n      \"column\": \"Navigation Level\",\n      \"properties\": {\n        \"dtype\": \"category\",\n        \"num_unique_values\": 32,\n        \"samples\": [\n          \"login\",\n          \"customerService\",\n          \"gameDetails\"\n        ],\n        \"semantic_type\": \"\",\n        \"description\": \"\"\n      }\n    },\n    {\n      \"column\": \"Referrer Url\",\n      \"properties\": {\n        \"dtype\": \"category\",\n        \"num_unique_values\": 2,\n        \"samples\": [\n          \"https://www.netflix.com/in/Login\",\n          \"Url not specified\"\n        ],\n        \"semantic_type\": \"\",\n        \"description\": \"\"\n      }\n    },\n    {\n      \"column\": \"Webpage Url\",\n      \"properties\": {\n        \"dtype\": \"category\",\n        \"num_unique_values\": 4,\n        \"samples\": [\n          \"/youraccountlite?nftoken=BQAbAAEBEDjDCSG13aQFqDuXYZyfj9KAoFpGymtWNFFR4kUfm92hbTLRDVwzglNcMx4Q7m1rnnEG8ADNQmolPgnchiRFszrVMA3g74MnfV%2FUqT%2BmT%2F9JnZGbgBarQxPTm0yJwHhsWILYW%2FEWL5KpJMYtd1iKjGXdYyDNY61DqaABCdFsCoVKYOOmGDBiQ7s1g6rtoDpGYn1mYHDCbSD2p%2FTqDc5qQf6%2FLZIvPBuW1l9qypUZArXR7Jc%3D&inapp=true\",\n          \"/browse\"\n        ],\n        \"semantic_type\": \"\",\n        \"description\": \"\"\n      }\n    },\n    {\n      \"column\": \"Click Utc Ts\",\n      \"properties\": {\n        \"dtype\": \"object\",\n        \"num_unique_values\": 7258,\n        \"samples\": [\n          \"2023-04-18 08:44:25\",\n          \"2022-08-03 14:09:29\"\n        ],\n        \"semantic_type\": \"\",\n        \"description\": \"\"\n      }\n    }\n  ]\n}"
            }
          },
          "metadata": {},
          "execution_count": 26
        }
      ]
    },
    {
      "cell_type": "markdown",
      "source": [
        "#How to check columns name of dataset"
      ],
      "metadata": {
        "id": "qdkuPqZm4FrD"
      }
    },
    {
      "cell_type": "code",
      "source": [
        "df.columns"
      ],
      "metadata": {
        "colab": {
          "base_uri": "https://localhost:8080/"
        },
        "id": "Ec5H7YyMumZA",
        "outputId": "17cf152f-c84a-459e-e0a5-681d3175cc54"
      },
      "execution_count": null,
      "outputs": [
        {
          "output_type": "execute_result",
          "data": {
            "text/plain": [
              "Index(['Profile Name', 'Source', 'Navigation Level', 'Referrer Url',\n",
              "       'Webpage Url', 'Click Utc Ts'],\n",
              "      dtype='object')"
            ]
          },
          "metadata": {},
          "execution_count": 8
        }
      ]
    },
    {
      "cell_type": "markdown",
      "source": [
        "#Taking the count of Navigation Level Used"
      ],
      "metadata": {
        "id": "QtAsCJLt4QzK"
      }
    },
    {
      "cell_type": "code",
      "source": [
        "x = df.groupby(['Navigation Level']).size().reset_index(name='counts')\n",
        "print(x)"
      ],
      "metadata": {
        "colab": {
          "base_uri": "https://localhost:8080/"
        },
        "id": "N4DQsj-yu3XZ",
        "outputId": "7dfd8b8a-9029-4ed2-8f2d-b7e2024e7db8"
      },
      "execution_count": null,
      "outputs": [
        {
          "output_type": "stream",
          "name": "stdout",
          "text": [
            "                Navigation Level  counts\n",
            "0                    accountMenu     244\n",
            "1                accountSettings       3\n",
            "2         audioSubtitlesSelector       2\n",
            "3                    browseGames      17\n",
            "4                   browseTitles    3171\n",
            "5            browseTitlesGallery     406\n",
            "6                   cachedVideos     281\n",
            "7                    categoryHub       2\n",
            "8                  comedyFeedTab      26\n",
            "9                      contactUs       4\n",
            "10               customerService       2\n",
            "11                  editProfiles       2\n",
            "12              episodesSelector      77\n",
            "13                   gameDetails      30\n",
            "14                         login       3\n",
            "15                        logout       2\n",
            "16                  movieDetails    2749\n",
            "17                      newsFeed     121\n",
            "18           notificationLanding       2\n",
            "19          notificationSelector      16\n",
            "20               planUpgradeGate      10\n",
            "21                      playback    2507\n",
            "22                      postPlay     509\n",
            "23                  profilesGate     913\n",
            "24                   screenSaver      17\n",
            "25                        search     928\n",
            "26  searchSuggestionTitleResults       8\n",
            "27                      settings      13\n",
            "28                  signupPrompt       2\n",
            "29         similarTitlesSelector      10\n",
            "30      thumbRatingWelcomeDialog       2\n",
            "31                       webLink      25\n"
          ]
        }
      ]
    },
    {
      "cell_type": "markdown",
      "source": [
        "#Creating the Piechart based on Content Navigation Level"
      ],
      "metadata": {
        "id": "E3HSgrlW4Z7S"
      }
    },
    {
      "cell_type": "code",
      "source": [
        "pieChart = px.pie(x, values='counts', names='Navigation Level', title='Distribution of Navigation Level on Netflix')\n",
        "pieChart.show()"
      ],
      "metadata": {
        "colab": {
          "base_uri": "https://localhost:8080/",
          "height": 542
        },
        "id": "TyuLf2mSwUSs",
        "outputId": "e039ec3e-71ea-4438-d721-bae5a7879417"
      },
      "execution_count": null,
      "outputs": [
        {
          "output_type": "display_data",
          "data": {
            "text/html": [
              "<html>\n",
              "<head><meta charset=\"utf-8\" /></head>\n",
              "<body>\n",
              "    <div>            <script src=\"https://cdnjs.cloudflare.com/ajax/libs/mathjax/2.7.5/MathJax.js?config=TeX-AMS-MML_SVG\"></script><script type=\"text/javascript\">if (window.MathJax && window.MathJax.Hub && window.MathJax.Hub.Config) {window.MathJax.Hub.Config({SVG: {font: \"STIX-Web\"}});}</script>                <script type=\"text/javascript\">window.PlotlyConfig = {MathJaxConfig: 'local'};</script>\n",
              "        <script charset=\"utf-8\" src=\"https://cdn.plot.ly/plotly-2.24.1.min.js\"></script>                <div id=\"8f0e624a-7303-4404-af2c-b810c6a2105b\" class=\"plotly-graph-div\" style=\"height:525px; width:100%;\"></div>            <script type=\"text/javascript\">                                    window.PLOTLYENV=window.PLOTLYENV || {};                                    if (document.getElementById(\"8f0e624a-7303-4404-af2c-b810c6a2105b\")) {                    Plotly.newPlot(                        \"8f0e624a-7303-4404-af2c-b810c6a2105b\",                        [{\"domain\":{\"x\":[0.0,1.0],\"y\":[0.0,1.0]},\"hovertemplate\":\"Navigation Level=%{label}\\u003cbr\\u003ecounts=%{value}\\u003cextra\\u003e\\u003c\\u002fextra\\u003e\",\"labels\":[\"accountMenu\",\"accountSettings\",\"audioSubtitlesSelector\",\"browseGames\",\"browseTitles\",\"browseTitlesGallery\",\"cachedVideos\",\"categoryHub\",\"comedyFeedTab\",\"contactUs\",\"customerService\",\"editProfiles\",\"episodesSelector\",\"gameDetails\",\"login\",\"logout\",\"movieDetails\",\"newsFeed\",\"notificationLanding\",\"notificationSelector\",\"planUpgradeGate\",\"playback\",\"postPlay\",\"profilesGate\",\"screenSaver\",\"search\",\"searchSuggestionTitleResults\",\"settings\",\"signupPrompt\",\"similarTitlesSelector\",\"thumbRatingWelcomeDialog\",\"webLink\"],\"legendgroup\":\"\",\"name\":\"\",\"showlegend\":true,\"values\":[244,3,2,17,3171,406,281,2,26,4,2,2,77,30,3,2,2749,121,2,16,10,2507,509,913,17,928,8,13,2,10,2,25],\"type\":\"pie\"}],                        {\"template\":{\"data\":{\"histogram2dcontour\":[{\"type\":\"histogram2dcontour\",\"colorbar\":{\"outlinewidth\":0,\"ticks\":\"\"},\"colorscale\":[[0.0,\"#0d0887\"],[0.1111111111111111,\"#46039f\"],[0.2222222222222222,\"#7201a8\"],[0.3333333333333333,\"#9c179e\"],[0.4444444444444444,\"#bd3786\"],[0.5555555555555556,\"#d8576b\"],[0.6666666666666666,\"#ed7953\"],[0.7777777777777778,\"#fb9f3a\"],[0.8888888888888888,\"#fdca26\"],[1.0,\"#f0f921\"]]}],\"choropleth\":[{\"type\":\"choropleth\",\"colorbar\":{\"outlinewidth\":0,\"ticks\":\"\"}}],\"histogram2d\":[{\"type\":\"histogram2d\",\"colorbar\":{\"outlinewidth\":0,\"ticks\":\"\"},\"colorscale\":[[0.0,\"#0d0887\"],[0.1111111111111111,\"#46039f\"],[0.2222222222222222,\"#7201a8\"],[0.3333333333333333,\"#9c179e\"],[0.4444444444444444,\"#bd3786\"],[0.5555555555555556,\"#d8576b\"],[0.6666666666666666,\"#ed7953\"],[0.7777777777777778,\"#fb9f3a\"],[0.8888888888888888,\"#fdca26\"],[1.0,\"#f0f921\"]]}],\"heatmap\":[{\"type\":\"heatmap\",\"colorbar\":{\"outlinewidth\":0,\"ticks\":\"\"},\"colorscale\":[[0.0,\"#0d0887\"],[0.1111111111111111,\"#46039f\"],[0.2222222222222222,\"#7201a8\"],[0.3333333333333333,\"#9c179e\"],[0.4444444444444444,\"#bd3786\"],[0.5555555555555556,\"#d8576b\"],[0.6666666666666666,\"#ed7953\"],[0.7777777777777778,\"#fb9f3a\"],[0.8888888888888888,\"#fdca26\"],[1.0,\"#f0f921\"]]}],\"heatmapgl\":[{\"type\":\"heatmapgl\",\"colorbar\":{\"outlinewidth\":0,\"ticks\":\"\"},\"colorscale\":[[0.0,\"#0d0887\"],[0.1111111111111111,\"#46039f\"],[0.2222222222222222,\"#7201a8\"],[0.3333333333333333,\"#9c179e\"],[0.4444444444444444,\"#bd3786\"],[0.5555555555555556,\"#d8576b\"],[0.6666666666666666,\"#ed7953\"],[0.7777777777777778,\"#fb9f3a\"],[0.8888888888888888,\"#fdca26\"],[1.0,\"#f0f921\"]]}],\"contourcarpet\":[{\"type\":\"contourcarpet\",\"colorbar\":{\"outlinewidth\":0,\"ticks\":\"\"}}],\"contour\":[{\"type\":\"contour\",\"colorbar\":{\"outlinewidth\":0,\"ticks\":\"\"},\"colorscale\":[[0.0,\"#0d0887\"],[0.1111111111111111,\"#46039f\"],[0.2222222222222222,\"#7201a8\"],[0.3333333333333333,\"#9c179e\"],[0.4444444444444444,\"#bd3786\"],[0.5555555555555556,\"#d8576b\"],[0.6666666666666666,\"#ed7953\"],[0.7777777777777778,\"#fb9f3a\"],[0.8888888888888888,\"#fdca26\"],[1.0,\"#f0f921\"]]}],\"surface\":[{\"type\":\"surface\",\"colorbar\":{\"outlinewidth\":0,\"ticks\":\"\"},\"colorscale\":[[0.0,\"#0d0887\"],[0.1111111111111111,\"#46039f\"],[0.2222222222222222,\"#7201a8\"],[0.3333333333333333,\"#9c179e\"],[0.4444444444444444,\"#bd3786\"],[0.5555555555555556,\"#d8576b\"],[0.6666666666666666,\"#ed7953\"],[0.7777777777777778,\"#fb9f3a\"],[0.8888888888888888,\"#fdca26\"],[1.0,\"#f0f921\"]]}],\"mesh3d\":[{\"type\":\"mesh3d\",\"colorbar\":{\"outlinewidth\":0,\"ticks\":\"\"}}],\"scatter\":[{\"fillpattern\":{\"fillmode\":\"overlay\",\"size\":10,\"solidity\":0.2},\"type\":\"scatter\"}],\"parcoords\":[{\"type\":\"parcoords\",\"line\":{\"colorbar\":{\"outlinewidth\":0,\"ticks\":\"\"}}}],\"scatterpolargl\":[{\"type\":\"scatterpolargl\",\"marker\":{\"colorbar\":{\"outlinewidth\":0,\"ticks\":\"\"}}}],\"bar\":[{\"error_x\":{\"color\":\"#2a3f5f\"},\"error_y\":{\"color\":\"#2a3f5f\"},\"marker\":{\"line\":{\"color\":\"#E5ECF6\",\"width\":0.5},\"pattern\":{\"fillmode\":\"overlay\",\"size\":10,\"solidity\":0.2}},\"type\":\"bar\"}],\"scattergeo\":[{\"type\":\"scattergeo\",\"marker\":{\"colorbar\":{\"outlinewidth\":0,\"ticks\":\"\"}}}],\"scatterpolar\":[{\"type\":\"scatterpolar\",\"marker\":{\"colorbar\":{\"outlinewidth\":0,\"ticks\":\"\"}}}],\"histogram\":[{\"marker\":{\"pattern\":{\"fillmode\":\"overlay\",\"size\":10,\"solidity\":0.2}},\"type\":\"histogram\"}],\"scattergl\":[{\"type\":\"scattergl\",\"marker\":{\"colorbar\":{\"outlinewidth\":0,\"ticks\":\"\"}}}],\"scatter3d\":[{\"type\":\"scatter3d\",\"line\":{\"colorbar\":{\"outlinewidth\":0,\"ticks\":\"\"}},\"marker\":{\"colorbar\":{\"outlinewidth\":0,\"ticks\":\"\"}}}],\"scattermapbox\":[{\"type\":\"scattermapbox\",\"marker\":{\"colorbar\":{\"outlinewidth\":0,\"ticks\":\"\"}}}],\"scatterternary\":[{\"type\":\"scatterternary\",\"marker\":{\"colorbar\":{\"outlinewidth\":0,\"ticks\":\"\"}}}],\"scattercarpet\":[{\"type\":\"scattercarpet\",\"marker\":{\"colorbar\":{\"outlinewidth\":0,\"ticks\":\"\"}}}],\"carpet\":[{\"aaxis\":{\"endlinecolor\":\"#2a3f5f\",\"gridcolor\":\"white\",\"linecolor\":\"white\",\"minorgridcolor\":\"white\",\"startlinecolor\":\"#2a3f5f\"},\"baxis\":{\"endlinecolor\":\"#2a3f5f\",\"gridcolor\":\"white\",\"linecolor\":\"white\",\"minorgridcolor\":\"white\",\"startlinecolor\":\"#2a3f5f\"},\"type\":\"carpet\"}],\"table\":[{\"cells\":{\"fill\":{\"color\":\"#EBF0F8\"},\"line\":{\"color\":\"white\"}},\"header\":{\"fill\":{\"color\":\"#C8D4E3\"},\"line\":{\"color\":\"white\"}},\"type\":\"table\"}],\"barpolar\":[{\"marker\":{\"line\":{\"color\":\"#E5ECF6\",\"width\":0.5},\"pattern\":{\"fillmode\":\"overlay\",\"size\":10,\"solidity\":0.2}},\"type\":\"barpolar\"}],\"pie\":[{\"automargin\":true,\"type\":\"pie\"}]},\"layout\":{\"autotypenumbers\":\"strict\",\"colorway\":[\"#636efa\",\"#EF553B\",\"#00cc96\",\"#ab63fa\",\"#FFA15A\",\"#19d3f3\",\"#FF6692\",\"#B6E880\",\"#FF97FF\",\"#FECB52\"],\"font\":{\"color\":\"#2a3f5f\"},\"hovermode\":\"closest\",\"hoverlabel\":{\"align\":\"left\"},\"paper_bgcolor\":\"white\",\"plot_bgcolor\":\"#E5ECF6\",\"polar\":{\"bgcolor\":\"#E5ECF6\",\"angularaxis\":{\"gridcolor\":\"white\",\"linecolor\":\"white\",\"ticks\":\"\"},\"radialaxis\":{\"gridcolor\":\"white\",\"linecolor\":\"white\",\"ticks\":\"\"}},\"ternary\":{\"bgcolor\":\"#E5ECF6\",\"aaxis\":{\"gridcolor\":\"white\",\"linecolor\":\"white\",\"ticks\":\"\"},\"baxis\":{\"gridcolor\":\"white\",\"linecolor\":\"white\",\"ticks\":\"\"},\"caxis\":{\"gridcolor\":\"white\",\"linecolor\":\"white\",\"ticks\":\"\"}},\"coloraxis\":{\"colorbar\":{\"outlinewidth\":0,\"ticks\":\"\"}},\"colorscale\":{\"sequential\":[[0.0,\"#0d0887\"],[0.1111111111111111,\"#46039f\"],[0.2222222222222222,\"#7201a8\"],[0.3333333333333333,\"#9c179e\"],[0.4444444444444444,\"#bd3786\"],[0.5555555555555556,\"#d8576b\"],[0.6666666666666666,\"#ed7953\"],[0.7777777777777778,\"#fb9f3a\"],[0.8888888888888888,\"#fdca26\"],[1.0,\"#f0f921\"]],\"sequentialminus\":[[0.0,\"#0d0887\"],[0.1111111111111111,\"#46039f\"],[0.2222222222222222,\"#7201a8\"],[0.3333333333333333,\"#9c179e\"],[0.4444444444444444,\"#bd3786\"],[0.5555555555555556,\"#d8576b\"],[0.6666666666666666,\"#ed7953\"],[0.7777777777777778,\"#fb9f3a\"],[0.8888888888888888,\"#fdca26\"],[1.0,\"#f0f921\"]],\"diverging\":[[0,\"#8e0152\"],[0.1,\"#c51b7d\"],[0.2,\"#de77ae\"],[0.3,\"#f1b6da\"],[0.4,\"#fde0ef\"],[0.5,\"#f7f7f7\"],[0.6,\"#e6f5d0\"],[0.7,\"#b8e186\"],[0.8,\"#7fbc41\"],[0.9,\"#4d9221\"],[1,\"#276419\"]]},\"xaxis\":{\"gridcolor\":\"white\",\"linecolor\":\"white\",\"ticks\":\"\",\"title\":{\"standoff\":15},\"zerolinecolor\":\"white\",\"automargin\":true,\"zerolinewidth\":2},\"yaxis\":{\"gridcolor\":\"white\",\"linecolor\":\"white\",\"ticks\":\"\",\"title\":{\"standoff\":15},\"zerolinecolor\":\"white\",\"automargin\":true,\"zerolinewidth\":2},\"scene\":{\"xaxis\":{\"backgroundcolor\":\"#E5ECF6\",\"gridcolor\":\"white\",\"linecolor\":\"white\",\"showbackground\":true,\"ticks\":\"\",\"zerolinecolor\":\"white\",\"gridwidth\":2},\"yaxis\":{\"backgroundcolor\":\"#E5ECF6\",\"gridcolor\":\"white\",\"linecolor\":\"white\",\"showbackground\":true,\"ticks\":\"\",\"zerolinecolor\":\"white\",\"gridwidth\":2},\"zaxis\":{\"backgroundcolor\":\"#E5ECF6\",\"gridcolor\":\"white\",\"linecolor\":\"white\",\"showbackground\":true,\"ticks\":\"\",\"zerolinecolor\":\"white\",\"gridwidth\":2}},\"shapedefaults\":{\"line\":{\"color\":\"#2a3f5f\"}},\"annotationdefaults\":{\"arrowcolor\":\"#2a3f5f\",\"arrowhead\":0,\"arrowwidth\":1},\"geo\":{\"bgcolor\":\"white\",\"landcolor\":\"#E5ECF6\",\"subunitcolor\":\"white\",\"showland\":true,\"showlakes\":true,\"lakecolor\":\"white\"},\"title\":{\"x\":0.05},\"mapbox\":{\"style\":\"light\"}}},\"legend\":{\"tracegroupgap\":0},\"title\":{\"text\":\"Distribution of Navigation Level on Netflix\"}},                        {\"responsive\": true}                    ).then(function(){\n",
              "                            \n",
              "var gd = document.getElementById('8f0e624a-7303-4404-af2c-b810c6a2105b');\n",
              "var x = new MutationObserver(function (mutations, observer) {{\n",
              "        var display = window.getComputedStyle(gd).display;\n",
              "        if (!display || display === 'none') {{\n",
              "            console.log([gd, 'removed!']);\n",
              "            Plotly.purge(gd);\n",
              "            observer.disconnect();\n",
              "        }}\n",
              "}});\n",
              "\n",
              "// Listen for the removal of the full notebook cells\n",
              "var notebookContainer = gd.closest('#notebook-container');\n",
              "if (notebookContainer) {{\n",
              "    x.observe(notebookContainer, {childList: true});\n",
              "}}\n",
              "\n",
              "// Listen for the clearing of the current output cell\n",
              "var outputEl = gd.closest('.output');\n",
              "if (outputEl) {{\n",
              "    x.observe(outputEl, {childList: true});\n",
              "}}\n",
              "\n",
              "                        })                };                            </script>        </div>\n",
              "</body>\n",
              "</html>"
            ]
          },
          "metadata": {}
        }
      ]
    },
    {
      "cell_type": "markdown",
      "source": [
        "#Changing Null Values in the Referer Url into Url Not specified"
      ],
      "metadata": {
        "id": "SmsrqzTe4lX-"
      }
    },
    {
      "cell_type": "code",
      "source": [
        "df['Referrer Url']=df['Referrer Url'].fillna('Url not specified')\n",
        "df.head()"
      ],
      "metadata": {
        "colab": {
          "base_uri": "https://localhost:8080/",
          "height": 206
        },
        "id": "CrrxEgLCxRm6",
        "outputId": "2003bb54-4afe-4fb0-9bb0-32b95754ac3d"
      },
      "execution_count": null,
      "outputs": [
        {
          "output_type": "execute_result",
          "data": {
            "text/plain": [
              "  Profile Name    Source Navigation Level       Referrer Url Webpage Url  \\\n",
              "0       User 4  Source 0     signupPrompt  Url not specified         NaN   \n",
              "1       User 4  Source 0     browseTitles  Url not specified         NaN   \n",
              "2       User 4  Source 1     movieDetails  Url not specified         NaN   \n",
              "3       User 4  Source 1     browseTitles  Url not specified         NaN   \n",
              "4       User 4  Source 1     movieDetails  Url not specified         NaN   \n",
              "\n",
              "          Click Utc Ts  \n",
              "0  2022-10-08 14:04:47  \n",
              "1  2022-10-08 14:04:46  \n",
              "2  2022-09-30 14:53:50  \n",
              "3  2022-09-30 14:53:50  \n",
              "4  2022-09-30 14:53:49  "
            ],
            "text/html": [
              "\n",
              "  <div id=\"df-3fc5def2-15f4-4266-b2d4-efe6174d5ee0\" class=\"colab-df-container\">\n",
              "    <div>\n",
              "<style scoped>\n",
              "    .dataframe tbody tr th:only-of-type {\n",
              "        vertical-align: middle;\n",
              "    }\n",
              "\n",
              "    .dataframe tbody tr th {\n",
              "        vertical-align: top;\n",
              "    }\n",
              "\n",
              "    .dataframe thead th {\n",
              "        text-align: right;\n",
              "    }\n",
              "</style>\n",
              "<table border=\"1\" class=\"dataframe\">\n",
              "  <thead>\n",
              "    <tr style=\"text-align: right;\">\n",
              "      <th></th>\n",
              "      <th>Profile Name</th>\n",
              "      <th>Source</th>\n",
              "      <th>Navigation Level</th>\n",
              "      <th>Referrer Url</th>\n",
              "      <th>Webpage Url</th>\n",
              "      <th>Click Utc Ts</th>\n",
              "    </tr>\n",
              "  </thead>\n",
              "  <tbody>\n",
              "    <tr>\n",
              "      <th>0</th>\n",
              "      <td>User 4</td>\n",
              "      <td>Source 0</td>\n",
              "      <td>signupPrompt</td>\n",
              "      <td>Url not specified</td>\n",
              "      <td>NaN</td>\n",
              "      <td>2022-10-08 14:04:47</td>\n",
              "    </tr>\n",
              "    <tr>\n",
              "      <th>1</th>\n",
              "      <td>User 4</td>\n",
              "      <td>Source 0</td>\n",
              "      <td>browseTitles</td>\n",
              "      <td>Url not specified</td>\n",
              "      <td>NaN</td>\n",
              "      <td>2022-10-08 14:04:46</td>\n",
              "    </tr>\n",
              "    <tr>\n",
              "      <th>2</th>\n",
              "      <td>User 4</td>\n",
              "      <td>Source 1</td>\n",
              "      <td>movieDetails</td>\n",
              "      <td>Url not specified</td>\n",
              "      <td>NaN</td>\n",
              "      <td>2022-09-30 14:53:50</td>\n",
              "    </tr>\n",
              "    <tr>\n",
              "      <th>3</th>\n",
              "      <td>User 4</td>\n",
              "      <td>Source 1</td>\n",
              "      <td>browseTitles</td>\n",
              "      <td>Url not specified</td>\n",
              "      <td>NaN</td>\n",
              "      <td>2022-09-30 14:53:50</td>\n",
              "    </tr>\n",
              "    <tr>\n",
              "      <th>4</th>\n",
              "      <td>User 4</td>\n",
              "      <td>Source 1</td>\n",
              "      <td>movieDetails</td>\n",
              "      <td>Url not specified</td>\n",
              "      <td>NaN</td>\n",
              "      <td>2022-09-30 14:53:49</td>\n",
              "    </tr>\n",
              "  </tbody>\n",
              "</table>\n",
              "</div>\n",
              "    <div class=\"colab-df-buttons\">\n",
              "\n",
              "  <div class=\"colab-df-container\">\n",
              "    <button class=\"colab-df-convert\" onclick=\"convertToInteractive('df-3fc5def2-15f4-4266-b2d4-efe6174d5ee0')\"\n",
              "            title=\"Convert this dataframe to an interactive table.\"\n",
              "            style=\"display:none;\">\n",
              "\n",
              "  <svg xmlns=\"http://www.w3.org/2000/svg\" height=\"24px\" viewBox=\"0 -960 960 960\">\n",
              "    <path d=\"M120-120v-720h720v720H120Zm60-500h600v-160H180v160Zm220 220h160v-160H400v160Zm0 220h160v-160H400v160ZM180-400h160v-160H180v160Zm440 0h160v-160H620v160ZM180-180h160v-160H180v160Zm440 0h160v-160H620v160Z\"/>\n",
              "  </svg>\n",
              "    </button>\n",
              "\n",
              "  <style>\n",
              "    .colab-df-container {\n",
              "      display:flex;\n",
              "      gap: 12px;\n",
              "    }\n",
              "\n",
              "    .colab-df-convert {\n",
              "      background-color: #E8F0FE;\n",
              "      border: none;\n",
              "      border-radius: 50%;\n",
              "      cursor: pointer;\n",
              "      display: none;\n",
              "      fill: #1967D2;\n",
              "      height: 32px;\n",
              "      padding: 0 0 0 0;\n",
              "      width: 32px;\n",
              "    }\n",
              "\n",
              "    .colab-df-convert:hover {\n",
              "      background-color: #E2EBFA;\n",
              "      box-shadow: 0px 1px 2px rgba(60, 64, 67, 0.3), 0px 1px 3px 1px rgba(60, 64, 67, 0.15);\n",
              "      fill: #174EA6;\n",
              "    }\n",
              "\n",
              "    .colab-df-buttons div {\n",
              "      margin-bottom: 4px;\n",
              "    }\n",
              "\n",
              "    [theme=dark] .colab-df-convert {\n",
              "      background-color: #3B4455;\n",
              "      fill: #D2E3FC;\n",
              "    }\n",
              "\n",
              "    [theme=dark] .colab-df-convert:hover {\n",
              "      background-color: #434B5C;\n",
              "      box-shadow: 0px 1px 3px 1px rgba(0, 0, 0, 0.15);\n",
              "      filter: drop-shadow(0px 1px 2px rgba(0, 0, 0, 0.3));\n",
              "      fill: #FFFFFF;\n",
              "    }\n",
              "  </style>\n",
              "\n",
              "    <script>\n",
              "      const buttonEl =\n",
              "        document.querySelector('#df-3fc5def2-15f4-4266-b2d4-efe6174d5ee0 button.colab-df-convert');\n",
              "      buttonEl.style.display =\n",
              "        google.colab.kernel.accessAllowed ? 'block' : 'none';\n",
              "\n",
              "      async function convertToInteractive(key) {\n",
              "        const element = document.querySelector('#df-3fc5def2-15f4-4266-b2d4-efe6174d5ee0');\n",
              "        const dataTable =\n",
              "          await google.colab.kernel.invokeFunction('convertToInteractive',\n",
              "                                                    [key], {});\n",
              "        if (!dataTable) return;\n",
              "\n",
              "        const docLinkHtml = 'Like what you see? Visit the ' +\n",
              "          '<a target=\"_blank\" href=https://colab.research.google.com/notebooks/data_table.ipynb>data table notebook</a>'\n",
              "          + ' to learn more about interactive tables.';\n",
              "        element.innerHTML = '';\n",
              "        dataTable['output_type'] = 'display_data';\n",
              "        await google.colab.output.renderOutput(dataTable, element);\n",
              "        const docLink = document.createElement('div');\n",
              "        docLink.innerHTML = docLinkHtml;\n",
              "        element.appendChild(docLink);\n",
              "      }\n",
              "    </script>\n",
              "  </div>\n",
              "\n",
              "\n",
              "<div id=\"df-3a847ebd-91a5-4c74-a077-a488e929f9e4\">\n",
              "  <button class=\"colab-df-quickchart\" onclick=\"quickchart('df-3a847ebd-91a5-4c74-a077-a488e929f9e4')\"\n",
              "            title=\"Suggest charts\"\n",
              "            style=\"display:none;\">\n",
              "\n",
              "<svg xmlns=\"http://www.w3.org/2000/svg\" height=\"24px\"viewBox=\"0 0 24 24\"\n",
              "     width=\"24px\">\n",
              "    <g>\n",
              "        <path d=\"M19 3H5c-1.1 0-2 .9-2 2v14c0 1.1.9 2 2 2h14c1.1 0 2-.9 2-2V5c0-1.1-.9-2-2-2zM9 17H7v-7h2v7zm4 0h-2V7h2v10zm4 0h-2v-4h2v4z\"/>\n",
              "    </g>\n",
              "</svg>\n",
              "  </button>\n",
              "\n",
              "<style>\n",
              "  .colab-df-quickchart {\n",
              "      --bg-color: #E8F0FE;\n",
              "      --fill-color: #1967D2;\n",
              "      --hover-bg-color: #E2EBFA;\n",
              "      --hover-fill-color: #174EA6;\n",
              "      --disabled-fill-color: #AAA;\n",
              "      --disabled-bg-color: #DDD;\n",
              "  }\n",
              "\n",
              "  [theme=dark] .colab-df-quickchart {\n",
              "      --bg-color: #3B4455;\n",
              "      --fill-color: #D2E3FC;\n",
              "      --hover-bg-color: #434B5C;\n",
              "      --hover-fill-color: #FFFFFF;\n",
              "      --disabled-bg-color: #3B4455;\n",
              "      --disabled-fill-color: #666;\n",
              "  }\n",
              "\n",
              "  .colab-df-quickchart {\n",
              "    background-color: var(--bg-color);\n",
              "    border: none;\n",
              "    border-radius: 50%;\n",
              "    cursor: pointer;\n",
              "    display: none;\n",
              "    fill: var(--fill-color);\n",
              "    height: 32px;\n",
              "    padding: 0;\n",
              "    width: 32px;\n",
              "  }\n",
              "\n",
              "  .colab-df-quickchart:hover {\n",
              "    background-color: var(--hover-bg-color);\n",
              "    box-shadow: 0 1px 2px rgba(60, 64, 67, 0.3), 0 1px 3px 1px rgba(60, 64, 67, 0.15);\n",
              "    fill: var(--button-hover-fill-color);\n",
              "  }\n",
              "\n",
              "  .colab-df-quickchart-complete:disabled,\n",
              "  .colab-df-quickchart-complete:disabled:hover {\n",
              "    background-color: var(--disabled-bg-color);\n",
              "    fill: var(--disabled-fill-color);\n",
              "    box-shadow: none;\n",
              "  }\n",
              "\n",
              "  .colab-df-spinner {\n",
              "    border: 2px solid var(--fill-color);\n",
              "    border-color: transparent;\n",
              "    border-bottom-color: var(--fill-color);\n",
              "    animation:\n",
              "      spin 1s steps(1) infinite;\n",
              "  }\n",
              "\n",
              "  @keyframes spin {\n",
              "    0% {\n",
              "      border-color: transparent;\n",
              "      border-bottom-color: var(--fill-color);\n",
              "      border-left-color: var(--fill-color);\n",
              "    }\n",
              "    20% {\n",
              "      border-color: transparent;\n",
              "      border-left-color: var(--fill-color);\n",
              "      border-top-color: var(--fill-color);\n",
              "    }\n",
              "    30% {\n",
              "      border-color: transparent;\n",
              "      border-left-color: var(--fill-color);\n",
              "      border-top-color: var(--fill-color);\n",
              "      border-right-color: var(--fill-color);\n",
              "    }\n",
              "    40% {\n",
              "      border-color: transparent;\n",
              "      border-right-color: var(--fill-color);\n",
              "      border-top-color: var(--fill-color);\n",
              "    }\n",
              "    60% {\n",
              "      border-color: transparent;\n",
              "      border-right-color: var(--fill-color);\n",
              "    }\n",
              "    80% {\n",
              "      border-color: transparent;\n",
              "      border-right-color: var(--fill-color);\n",
              "      border-bottom-color: var(--fill-color);\n",
              "    }\n",
              "    90% {\n",
              "      border-color: transparent;\n",
              "      border-bottom-color: var(--fill-color);\n",
              "    }\n",
              "  }\n",
              "</style>\n",
              "\n",
              "  <script>\n",
              "    async function quickchart(key) {\n",
              "      const quickchartButtonEl =\n",
              "        document.querySelector('#' + key + ' button');\n",
              "      quickchartButtonEl.disabled = true;  // To prevent multiple clicks.\n",
              "      quickchartButtonEl.classList.add('colab-df-spinner');\n",
              "      try {\n",
              "        const charts = await google.colab.kernel.invokeFunction(\n",
              "            'suggestCharts', [key], {});\n",
              "      } catch (error) {\n",
              "        console.error('Error during call to suggestCharts:', error);\n",
              "      }\n",
              "      quickchartButtonEl.classList.remove('colab-df-spinner');\n",
              "      quickchartButtonEl.classList.add('colab-df-quickchart-complete');\n",
              "    }\n",
              "    (() => {\n",
              "      let quickchartButtonEl =\n",
              "        document.querySelector('#df-3a847ebd-91a5-4c74-a077-a488e929f9e4 button');\n",
              "      quickchartButtonEl.style.display =\n",
              "        google.colab.kernel.accessAllowed ? 'block' : 'none';\n",
              "    })();\n",
              "  </script>\n",
              "</div>\n",
              "\n",
              "    </div>\n",
              "  </div>\n"
            ],
            "application/vnd.google.colaboratory.intrinsic+json": {
              "type": "dataframe",
              "variable_name": "df",
              "summary": "{\n  \"name\": \"df\",\n  \"rows\": 12104,\n  \"fields\": [\n    {\n      \"column\": \"Profile Name\",\n      \"properties\": {\n        \"dtype\": \"category\",\n        \"num_unique_values\": 9,\n        \"samples\": [\n          \"User 5\",\n          \"User 2\",\n          \"User 7\"\n        ],\n        \"semantic_type\": \"\",\n        \"description\": \"\"\n      }\n    },\n    {\n      \"column\": \"Source\",\n      \"properties\": {\n        \"dtype\": \"category\",\n        \"num_unique_values\": 3,\n        \"samples\": [\n          \"Source 0\",\n          \"Source 1\",\n          \"Source 2\"\n        ],\n        \"semantic_type\": \"\",\n        \"description\": \"\"\n      }\n    },\n    {\n      \"column\": \"Navigation Level\",\n      \"properties\": {\n        \"dtype\": \"category\",\n        \"num_unique_values\": 32,\n        \"samples\": [\n          \"login\",\n          \"customerService\",\n          \"gameDetails\"\n        ],\n        \"semantic_type\": \"\",\n        \"description\": \"\"\n      }\n    },\n    {\n      \"column\": \"Referrer Url\",\n      \"properties\": {\n        \"dtype\": \"category\",\n        \"num_unique_values\": 2,\n        \"samples\": [\n          \"https://www.netflix.com/in/Login\",\n          \"Url not specified\"\n        ],\n        \"semantic_type\": \"\",\n        \"description\": \"\"\n      }\n    },\n    {\n      \"column\": \"Webpage Url\",\n      \"properties\": {\n        \"dtype\": \"category\",\n        \"num_unique_values\": 4,\n        \"samples\": [\n          \"/youraccountlite?nftoken=BQAbAAEBEDjDCSG13aQFqDuXYZyfj9KAoFpGymtWNFFR4kUfm92hbTLRDVwzglNcMx4Q7m1rnnEG8ADNQmolPgnchiRFszrVMA3g74MnfV%2FUqT%2BmT%2F9JnZGbgBarQxPTm0yJwHhsWILYW%2FEWL5KpJMYtd1iKjGXdYyDNY61DqaABCdFsCoVKYOOmGDBiQ7s1g6rtoDpGYn1mYHDCbSD2p%2FTqDc5qQf6%2FLZIvPBuW1l9qypUZArXR7Jc%3D&inapp=true\",\n          \"/browse\"\n        ],\n        \"semantic_type\": \"\",\n        \"description\": \"\"\n      }\n    },\n    {\n      \"column\": \"Click Utc Ts\",\n      \"properties\": {\n        \"dtype\": \"object\",\n        \"num_unique_values\": 7258,\n        \"samples\": [\n          \"2023-04-18 08:44:25\",\n          \"2022-08-03 14:09:29\"\n        ],\n        \"semantic_type\": \"\",\n        \"description\": \"\"\n      }\n    }\n  ]\n}"
            }
          },
          "metadata": {},
          "execution_count": 12
        }
      ]
    },
    {
      "cell_type": "markdown",
      "source": [
        "#Creating a new dataFrame as Navigation_Level"
      ],
      "metadata": {
        "id": "I_DSzw0RYcqQ"
      }
    },
    {
      "cell_type": "code",
      "source": [
        "Navigation_Level = pd.DataFrame()\n",
        "print(Navigation_Level)"
      ],
      "metadata": {
        "colab": {
          "base_uri": "https://localhost:8080/"
        },
        "id": "_PQNU_B4xnIv",
        "outputId": "1156bdea-cad1-4231-98aa-baad72ae5610"
      },
      "execution_count": null,
      "outputs": [
        {
          "output_type": "stream",
          "name": "stdout",
          "text": [
            "Empty DataFrame\n",
            "Columns: []\n",
            "Index: []\n"
          ]
        }
      ]
    },
    {
      "cell_type": "markdown",
      "source": [
        "#Taking The Value From the Existing Dataset"
      ],
      "metadata": {
        "id": "o-BCoPpVYpZx"
      }
    },
    {
      "cell_type": "code",
      "source": [
        "Navigation_Level = df['Navigation Level'].str.split(',', expand=True).stack()\n",
        "print(Navigation_Level)"
      ],
      "metadata": {
        "colab": {
          "base_uri": "https://localhost:8080/"
        },
        "id": "vZZVxCepybGx",
        "outputId": "038bea10-54a8-4eb2-cff5-9c1f2b74517d"
      },
      "execution_count": null,
      "outputs": [
        {
          "output_type": "stream",
          "name": "stdout",
          "text": [
            "0      0    signupPrompt\n",
            "1      0    browseTitles\n",
            "2      0    movieDetails\n",
            "3      0    browseTitles\n",
            "4      0    movieDetails\n",
            "                ...     \n",
            "12099  0          search\n",
            "12100  0    browseTitles\n",
            "12101  0          search\n",
            "12102  0    profilesGate\n",
            "12103  0    browseTitles\n",
            "Length: 12104, dtype: object\n"
          ]
        }
      ]
    },
    {
      "cell_type": "markdown",
      "source": [
        "#Adding the data into the new dataframe Navigation_Level"
      ],
      "metadata": {
        "id": "PtFsZwEEZOxP"
      }
    },
    {
      "cell_type": "code",
      "source": [
        "Navigation_Level = Navigation_Level.to_frame()\n",
        "print(Navigation_Level)"
      ],
      "metadata": {
        "colab": {
          "base_uri": "https://localhost:8080/"
        },
        "id": "U2gdLYx4zaT8",
        "outputId": "62a630a5-393d-444e-a1d8-798633ba8cd7"
      },
      "execution_count": null,
      "outputs": [
        {
          "output_type": "stream",
          "name": "stdout",
          "text": [
            "                    0\n",
            "0     0  signupPrompt\n",
            "1     0  browseTitles\n",
            "2     0  movieDetails\n",
            "3     0  browseTitles\n",
            "4     0  movieDetails\n",
            "...               ...\n",
            "12099 0        search\n",
            "12100 0  browseTitles\n",
            "12101 0        search\n",
            "12102 0  profilesGate\n",
            "12103 0  browseTitles\n",
            "\n",
            "[12104 rows x 1 columns]\n"
          ]
        }
      ]
    },
    {
      "cell_type": "markdown",
      "source": [
        "#Mention the coloun Name"
      ],
      "metadata": {
        "id": "m8dBLTegZqM7"
      }
    },
    {
      "cell_type": "code",
      "source": [
        "Navigation_Level.columns = ['Navigation']\n",
        "print(Navigation_Level)"
      ],
      "metadata": {
        "colab": {
          "base_uri": "https://localhost:8080/"
        },
        "id": "eYzk3Z9fzu9x",
        "outputId": "ef09d4e5-e67e-41d0-9977-e5491649ef35"
      },
      "execution_count": null,
      "outputs": [
        {
          "output_type": "stream",
          "name": "stdout",
          "text": [
            "           Navigation\n",
            "0     0  signupPrompt\n",
            "1     0  browseTitles\n",
            "2     0  movieDetails\n",
            "3     0  browseTitles\n",
            "4     0  movieDetails\n",
            "...               ...\n",
            "12099 0        search\n",
            "12100 0  browseTitles\n",
            "12101 0        search\n",
            "12102 0  profilesGate\n",
            "12103 0  browseTitles\n",
            "\n",
            "[12104 rows x 1 columns]\n"
          ]
        }
      ]
    },
    {
      "cell_type": "markdown",
      "source": [
        "#Counting the Total of the Navigation Options that are used"
      ],
      "metadata": {
        "id": "b9MlYGW_Z3rt"
      }
    },
    {
      "cell_type": "code",
      "source": [
        "Navigations = Navigation_Level.groupby(['Navigation']).size().reset_index(name='Total Count')\n",
        "print(Navigations)"
      ],
      "metadata": {
        "colab": {
          "base_uri": "https://localhost:8080/"
        },
        "id": "V6K9hE3nz3vp",
        "outputId": "cb002b02-7999-4e59-b840-7c011db421e2"
      },
      "execution_count": null,
      "outputs": [
        {
          "output_type": "stream",
          "name": "stdout",
          "text": [
            "                      Navigation  Total Count\n",
            "0                    accountMenu          244\n",
            "1                accountSettings            3\n",
            "2         audioSubtitlesSelector            2\n",
            "3                    browseGames           17\n",
            "4                   browseTitles         3171\n",
            "5            browseTitlesGallery          406\n",
            "6                   cachedVideos          281\n",
            "7                    categoryHub            2\n",
            "8                  comedyFeedTab           26\n",
            "9                      contactUs            4\n",
            "10               customerService            2\n",
            "11                  editProfiles            2\n",
            "12              episodesSelector           77\n",
            "13                   gameDetails           30\n",
            "14                         login            3\n",
            "15                        logout            2\n",
            "16                  movieDetails         2749\n",
            "17                      newsFeed          121\n",
            "18           notificationLanding            2\n",
            "19          notificationSelector           16\n",
            "20               planUpgradeGate           10\n",
            "21                      playback         2507\n",
            "22                      postPlay          509\n",
            "23                  profilesGate          913\n",
            "24                   screenSaver           17\n",
            "25                        search          928\n",
            "26  searchSuggestionTitleResults            8\n",
            "27                      settings           13\n",
            "28                  signupPrompt            2\n",
            "29         similarTitlesSelector           10\n",
            "30      thumbRatingWelcomeDialog            2\n",
            "31                       webLink           25\n"
          ]
        }
      ]
    },
    {
      "cell_type": "markdown",
      "source": [
        "#Removing the unwanted Rows"
      ],
      "metadata": {
        "id": "wgVb4Lp4aVOT"
      }
    },
    {
      "cell_type": "code",
      "source": [
        "Navigations= Navigations[Navigations.Navigation != 'editProfiles']\n",
        "print(Navigations)"
      ],
      "metadata": {
        "id": "LTlaVkJU0gQT",
        "outputId": "50bca283-27c9-45a0-e635-6ccd3d87a26c",
        "colab": {
          "base_uri": "https://localhost:8080/"
        }
      },
      "execution_count": null,
      "outputs": [
        {
          "output_type": "stream",
          "name": "stdout",
          "text": [
            "                      Navigation  Total Count\n",
            "0                    accountMenu          244\n",
            "1                accountSettings            3\n",
            "2         audioSubtitlesSelector            2\n",
            "3                    browseGames           17\n",
            "4                   browseTitles         3171\n",
            "5            browseTitlesGallery          406\n",
            "6                   cachedVideos          281\n",
            "7                    categoryHub            2\n",
            "8                  comedyFeedTab           26\n",
            "9                      contactUs            4\n",
            "10               customerService            2\n",
            "12              episodesSelector           77\n",
            "13                   gameDetails           30\n",
            "14                         login            3\n",
            "15                        logout            2\n",
            "16                  movieDetails         2749\n",
            "17                      newsFeed          121\n",
            "18           notificationLanding            2\n",
            "19          notificationSelector           16\n",
            "20               planUpgradeGate           10\n",
            "21                      playback         2507\n",
            "22                      postPlay          509\n",
            "23                  profilesGate          913\n",
            "24                   screenSaver           17\n",
            "25                        search          928\n",
            "26  searchSuggestionTitleResults            8\n",
            "27                      settings           13\n",
            "28                  signupPrompt            2\n",
            "29         similarTitlesSelector           10\n",
            "30      thumbRatingWelcomeDialog            2\n",
            "31                       webLink           25\n"
          ]
        }
      ]
    },
    {
      "cell_type": "markdown",
      "source": [
        "#Arranging the values in ascending order"
      ],
      "metadata": {
        "id": "7n0l2B_haifV"
      }
    },
    {
      "cell_type": "code",
      "source": [
        "Navigations = Navigations.sort_values(by=['Total Count'], ascending = False)\n",
        "print(Navigations)"
      ],
      "metadata": {
        "colab": {
          "base_uri": "https://localhost:8080/"
        },
        "id": "bP8eDXqy05b5",
        "outputId": "77c22a59-daa7-410e-b2b3-299dae5dc633"
      },
      "execution_count": null,
      "outputs": [
        {
          "output_type": "stream",
          "name": "stdout",
          "text": [
            "                      Navigation  Total Count\n",
            "4                   browseTitles         3171\n",
            "16                  movieDetails         2749\n",
            "21                      playback         2507\n",
            "25                        search          928\n",
            "23                  profilesGate          913\n",
            "22                      postPlay          509\n",
            "5            browseTitlesGallery          406\n",
            "6                   cachedVideos          281\n",
            "0                    accountMenu          244\n",
            "17                      newsFeed          121\n",
            "12              episodesSelector           77\n",
            "13                   gameDetails           30\n",
            "8                  comedyFeedTab           26\n",
            "31                       webLink           25\n",
            "3                    browseGames           17\n",
            "24                   screenSaver           17\n",
            "19          notificationSelector           16\n",
            "27                      settings           13\n",
            "29         similarTitlesSelector           10\n",
            "20               planUpgradeGate           10\n",
            "26  searchSuggestionTitleResults            8\n",
            "9                      contactUs            4\n",
            "1                accountSettings            3\n",
            "14                         login            3\n",
            "7                    categoryHub            2\n",
            "2         audioSubtitlesSelector            2\n",
            "10               customerService            2\n",
            "18           notificationLanding            2\n",
            "28                  signupPrompt            2\n",
            "30      thumbRatingWelcomeDialog            2\n",
            "15                        logout            2\n"
          ]
        }
      ]
    },
    {
      "cell_type": "markdown",
      "source": [
        "#Top 5 Navigation that are used"
      ],
      "metadata": {
        "id": "p0tVTqJTaubX"
      }
    },
    {
      "cell_type": "code",
      "source": [
        "top5Navigation = Navigations.head()\n",
        "print(top5Navigation)"
      ],
      "metadata": {
        "colab": {
          "base_uri": "https://localhost:8080/"
        },
        "id": "xObVE6Al1OdA",
        "outputId": "a5089797-11b7-4fdc-fa22-7f8689897a32"
      },
      "execution_count": null,
      "outputs": [
        {
          "output_type": "stream",
          "name": "stdout",
          "text": [
            "      Navigation  Total Count\n",
            "4   browseTitles         3171\n",
            "16  movieDetails         2749\n",
            "21      playback         2507\n",
            "25        search          928\n",
            "23  profilesGate          913\n"
          ]
        }
      ]
    },
    {
      "cell_type": "markdown",
      "source": [
        "#Graphical Representation"
      ],
      "metadata": {
        "id": "I1uYRH_ka5hA"
      }
    },
    {
      "cell_type": "code",
      "source": [
        "top5Navigation = top5Navigation.sort_values(by=['Total Count'])\n",
        "barChart = px.bar(top5Navigation, x='Total Count', y = 'Navigation', title = 'Top 5 Navigation on Netflix')\n",
        "barChart.show()"
      ],
      "metadata": {
        "colab": {
          "base_uri": "https://localhost:8080/",
          "height": 542
        },
        "id": "eRzycIMS10nA",
        "outputId": "458c1a43-1539-4212-971a-bebf767fdb7d"
      },
      "execution_count": null,
      "outputs": [
        {
          "output_type": "display_data",
          "data": {
            "text/html": [
              "<html>\n",
              "<head><meta charset=\"utf-8\" /></head>\n",
              "<body>\n",
              "    <div>            <script src=\"https://cdnjs.cloudflare.com/ajax/libs/mathjax/2.7.5/MathJax.js?config=TeX-AMS-MML_SVG\"></script><script type=\"text/javascript\">if (window.MathJax && window.MathJax.Hub && window.MathJax.Hub.Config) {window.MathJax.Hub.Config({SVG: {font: \"STIX-Web\"}});}</script>                <script type=\"text/javascript\">window.PlotlyConfig = {MathJaxConfig: 'local'};</script>\n",
              "        <script charset=\"utf-8\" src=\"https://cdn.plot.ly/plotly-2.24.1.min.js\"></script>                <div id=\"150392b3-34e2-4843-92b8-a122ec473052\" class=\"plotly-graph-div\" style=\"height:525px; width:100%;\"></div>            <script type=\"text/javascript\">                                    window.PLOTLYENV=window.PLOTLYENV || {};                                    if (document.getElementById(\"150392b3-34e2-4843-92b8-a122ec473052\")) {                    Plotly.newPlot(                        \"150392b3-34e2-4843-92b8-a122ec473052\",                        [{\"alignmentgroup\":\"True\",\"hovertemplate\":\"Total Count=%{x}\\u003cbr\\u003eNavigation=%{y}\\u003cextra\\u003e\\u003c\\u002fextra\\u003e\",\"legendgroup\":\"\",\"marker\":{\"color\":\"#636efa\",\"pattern\":{\"shape\":\"\"}},\"name\":\"\",\"offsetgroup\":\"\",\"orientation\":\"h\",\"showlegend\":false,\"textposition\":\"auto\",\"x\":[913,928,2507,2749,3171],\"xaxis\":\"x\",\"y\":[\"profilesGate\",\"search\",\"playback\",\"movieDetails\",\"browseTitles\"],\"yaxis\":\"y\",\"type\":\"bar\"}],                        {\"template\":{\"data\":{\"histogram2dcontour\":[{\"type\":\"histogram2dcontour\",\"colorbar\":{\"outlinewidth\":0,\"ticks\":\"\"},\"colorscale\":[[0.0,\"#0d0887\"],[0.1111111111111111,\"#46039f\"],[0.2222222222222222,\"#7201a8\"],[0.3333333333333333,\"#9c179e\"],[0.4444444444444444,\"#bd3786\"],[0.5555555555555556,\"#d8576b\"],[0.6666666666666666,\"#ed7953\"],[0.7777777777777778,\"#fb9f3a\"],[0.8888888888888888,\"#fdca26\"],[1.0,\"#f0f921\"]]}],\"choropleth\":[{\"type\":\"choropleth\",\"colorbar\":{\"outlinewidth\":0,\"ticks\":\"\"}}],\"histogram2d\":[{\"type\":\"histogram2d\",\"colorbar\":{\"outlinewidth\":0,\"ticks\":\"\"},\"colorscale\":[[0.0,\"#0d0887\"],[0.1111111111111111,\"#46039f\"],[0.2222222222222222,\"#7201a8\"],[0.3333333333333333,\"#9c179e\"],[0.4444444444444444,\"#bd3786\"],[0.5555555555555556,\"#d8576b\"],[0.6666666666666666,\"#ed7953\"],[0.7777777777777778,\"#fb9f3a\"],[0.8888888888888888,\"#fdca26\"],[1.0,\"#f0f921\"]]}],\"heatmap\":[{\"type\":\"heatmap\",\"colorbar\":{\"outlinewidth\":0,\"ticks\":\"\"},\"colorscale\":[[0.0,\"#0d0887\"],[0.1111111111111111,\"#46039f\"],[0.2222222222222222,\"#7201a8\"],[0.3333333333333333,\"#9c179e\"],[0.4444444444444444,\"#bd3786\"],[0.5555555555555556,\"#d8576b\"],[0.6666666666666666,\"#ed7953\"],[0.7777777777777778,\"#fb9f3a\"],[0.8888888888888888,\"#fdca26\"],[1.0,\"#f0f921\"]]}],\"heatmapgl\":[{\"type\":\"heatmapgl\",\"colorbar\":{\"outlinewidth\":0,\"ticks\":\"\"},\"colorscale\":[[0.0,\"#0d0887\"],[0.1111111111111111,\"#46039f\"],[0.2222222222222222,\"#7201a8\"],[0.3333333333333333,\"#9c179e\"],[0.4444444444444444,\"#bd3786\"],[0.5555555555555556,\"#d8576b\"],[0.6666666666666666,\"#ed7953\"],[0.7777777777777778,\"#fb9f3a\"],[0.8888888888888888,\"#fdca26\"],[1.0,\"#f0f921\"]]}],\"contourcarpet\":[{\"type\":\"contourcarpet\",\"colorbar\":{\"outlinewidth\":0,\"ticks\":\"\"}}],\"contour\":[{\"type\":\"contour\",\"colorbar\":{\"outlinewidth\":0,\"ticks\":\"\"},\"colorscale\":[[0.0,\"#0d0887\"],[0.1111111111111111,\"#46039f\"],[0.2222222222222222,\"#7201a8\"],[0.3333333333333333,\"#9c179e\"],[0.4444444444444444,\"#bd3786\"],[0.5555555555555556,\"#d8576b\"],[0.6666666666666666,\"#ed7953\"],[0.7777777777777778,\"#fb9f3a\"],[0.8888888888888888,\"#fdca26\"],[1.0,\"#f0f921\"]]}],\"surface\":[{\"type\":\"surface\",\"colorbar\":{\"outlinewidth\":0,\"ticks\":\"\"},\"colorscale\":[[0.0,\"#0d0887\"],[0.1111111111111111,\"#46039f\"],[0.2222222222222222,\"#7201a8\"],[0.3333333333333333,\"#9c179e\"],[0.4444444444444444,\"#bd3786\"],[0.5555555555555556,\"#d8576b\"],[0.6666666666666666,\"#ed7953\"],[0.7777777777777778,\"#fb9f3a\"],[0.8888888888888888,\"#fdca26\"],[1.0,\"#f0f921\"]]}],\"mesh3d\":[{\"type\":\"mesh3d\",\"colorbar\":{\"outlinewidth\":0,\"ticks\":\"\"}}],\"scatter\":[{\"fillpattern\":{\"fillmode\":\"overlay\",\"size\":10,\"solidity\":0.2},\"type\":\"scatter\"}],\"parcoords\":[{\"type\":\"parcoords\",\"line\":{\"colorbar\":{\"outlinewidth\":0,\"ticks\":\"\"}}}],\"scatterpolargl\":[{\"type\":\"scatterpolargl\",\"marker\":{\"colorbar\":{\"outlinewidth\":0,\"ticks\":\"\"}}}],\"bar\":[{\"error_x\":{\"color\":\"#2a3f5f\"},\"error_y\":{\"color\":\"#2a3f5f\"},\"marker\":{\"line\":{\"color\":\"#E5ECF6\",\"width\":0.5},\"pattern\":{\"fillmode\":\"overlay\",\"size\":10,\"solidity\":0.2}},\"type\":\"bar\"}],\"scattergeo\":[{\"type\":\"scattergeo\",\"marker\":{\"colorbar\":{\"outlinewidth\":0,\"ticks\":\"\"}}}],\"scatterpolar\":[{\"type\":\"scatterpolar\",\"marker\":{\"colorbar\":{\"outlinewidth\":0,\"ticks\":\"\"}}}],\"histogram\":[{\"marker\":{\"pattern\":{\"fillmode\":\"overlay\",\"size\":10,\"solidity\":0.2}},\"type\":\"histogram\"}],\"scattergl\":[{\"type\":\"scattergl\",\"marker\":{\"colorbar\":{\"outlinewidth\":0,\"ticks\":\"\"}}}],\"scatter3d\":[{\"type\":\"scatter3d\",\"line\":{\"colorbar\":{\"outlinewidth\":0,\"ticks\":\"\"}},\"marker\":{\"colorbar\":{\"outlinewidth\":0,\"ticks\":\"\"}}}],\"scattermapbox\":[{\"type\":\"scattermapbox\",\"marker\":{\"colorbar\":{\"outlinewidth\":0,\"ticks\":\"\"}}}],\"scatterternary\":[{\"type\":\"scatterternary\",\"marker\":{\"colorbar\":{\"outlinewidth\":0,\"ticks\":\"\"}}}],\"scattercarpet\":[{\"type\":\"scattercarpet\",\"marker\":{\"colorbar\":{\"outlinewidth\":0,\"ticks\":\"\"}}}],\"carpet\":[{\"aaxis\":{\"endlinecolor\":\"#2a3f5f\",\"gridcolor\":\"white\",\"linecolor\":\"white\",\"minorgridcolor\":\"white\",\"startlinecolor\":\"#2a3f5f\"},\"baxis\":{\"endlinecolor\":\"#2a3f5f\",\"gridcolor\":\"white\",\"linecolor\":\"white\",\"minorgridcolor\":\"white\",\"startlinecolor\":\"#2a3f5f\"},\"type\":\"carpet\"}],\"table\":[{\"cells\":{\"fill\":{\"color\":\"#EBF0F8\"},\"line\":{\"color\":\"white\"}},\"header\":{\"fill\":{\"color\":\"#C8D4E3\"},\"line\":{\"color\":\"white\"}},\"type\":\"table\"}],\"barpolar\":[{\"marker\":{\"line\":{\"color\":\"#E5ECF6\",\"width\":0.5},\"pattern\":{\"fillmode\":\"overlay\",\"size\":10,\"solidity\":0.2}},\"type\":\"barpolar\"}],\"pie\":[{\"automargin\":true,\"type\":\"pie\"}]},\"layout\":{\"autotypenumbers\":\"strict\",\"colorway\":[\"#636efa\",\"#EF553B\",\"#00cc96\",\"#ab63fa\",\"#FFA15A\",\"#19d3f3\",\"#FF6692\",\"#B6E880\",\"#FF97FF\",\"#FECB52\"],\"font\":{\"color\":\"#2a3f5f\"},\"hovermode\":\"closest\",\"hoverlabel\":{\"align\":\"left\"},\"paper_bgcolor\":\"white\",\"plot_bgcolor\":\"#E5ECF6\",\"polar\":{\"bgcolor\":\"#E5ECF6\",\"angularaxis\":{\"gridcolor\":\"white\",\"linecolor\":\"white\",\"ticks\":\"\"},\"radialaxis\":{\"gridcolor\":\"white\",\"linecolor\":\"white\",\"ticks\":\"\"}},\"ternary\":{\"bgcolor\":\"#E5ECF6\",\"aaxis\":{\"gridcolor\":\"white\",\"linecolor\":\"white\",\"ticks\":\"\"},\"baxis\":{\"gridcolor\":\"white\",\"linecolor\":\"white\",\"ticks\":\"\"},\"caxis\":{\"gridcolor\":\"white\",\"linecolor\":\"white\",\"ticks\":\"\"}},\"coloraxis\":{\"colorbar\":{\"outlinewidth\":0,\"ticks\":\"\"}},\"colorscale\":{\"sequential\":[[0.0,\"#0d0887\"],[0.1111111111111111,\"#46039f\"],[0.2222222222222222,\"#7201a8\"],[0.3333333333333333,\"#9c179e\"],[0.4444444444444444,\"#bd3786\"],[0.5555555555555556,\"#d8576b\"],[0.6666666666666666,\"#ed7953\"],[0.7777777777777778,\"#fb9f3a\"],[0.8888888888888888,\"#fdca26\"],[1.0,\"#f0f921\"]],\"sequentialminus\":[[0.0,\"#0d0887\"],[0.1111111111111111,\"#46039f\"],[0.2222222222222222,\"#7201a8\"],[0.3333333333333333,\"#9c179e\"],[0.4444444444444444,\"#bd3786\"],[0.5555555555555556,\"#d8576b\"],[0.6666666666666666,\"#ed7953\"],[0.7777777777777778,\"#fb9f3a\"],[0.8888888888888888,\"#fdca26\"],[1.0,\"#f0f921\"]],\"diverging\":[[0,\"#8e0152\"],[0.1,\"#c51b7d\"],[0.2,\"#de77ae\"],[0.3,\"#f1b6da\"],[0.4,\"#fde0ef\"],[0.5,\"#f7f7f7\"],[0.6,\"#e6f5d0\"],[0.7,\"#b8e186\"],[0.8,\"#7fbc41\"],[0.9,\"#4d9221\"],[1,\"#276419\"]]},\"xaxis\":{\"gridcolor\":\"white\",\"linecolor\":\"white\",\"ticks\":\"\",\"title\":{\"standoff\":15},\"zerolinecolor\":\"white\",\"automargin\":true,\"zerolinewidth\":2},\"yaxis\":{\"gridcolor\":\"white\",\"linecolor\":\"white\",\"ticks\":\"\",\"title\":{\"standoff\":15},\"zerolinecolor\":\"white\",\"automargin\":true,\"zerolinewidth\":2},\"scene\":{\"xaxis\":{\"backgroundcolor\":\"#E5ECF6\",\"gridcolor\":\"white\",\"linecolor\":\"white\",\"showbackground\":true,\"ticks\":\"\",\"zerolinecolor\":\"white\",\"gridwidth\":2},\"yaxis\":{\"backgroundcolor\":\"#E5ECF6\",\"gridcolor\":\"white\",\"linecolor\":\"white\",\"showbackground\":true,\"ticks\":\"\",\"zerolinecolor\":\"white\",\"gridwidth\":2},\"zaxis\":{\"backgroundcolor\":\"#E5ECF6\",\"gridcolor\":\"white\",\"linecolor\":\"white\",\"showbackground\":true,\"ticks\":\"\",\"zerolinecolor\":\"white\",\"gridwidth\":2}},\"shapedefaults\":{\"line\":{\"color\":\"#2a3f5f\"}},\"annotationdefaults\":{\"arrowcolor\":\"#2a3f5f\",\"arrowhead\":0,\"arrowwidth\":1},\"geo\":{\"bgcolor\":\"white\",\"landcolor\":\"#E5ECF6\",\"subunitcolor\":\"white\",\"showland\":true,\"showlakes\":true,\"lakecolor\":\"white\"},\"title\":{\"x\":0.05},\"mapbox\":{\"style\":\"light\"}}},\"xaxis\":{\"anchor\":\"y\",\"domain\":[0.0,1.0],\"title\":{\"text\":\"Total Count\"}},\"yaxis\":{\"anchor\":\"x\",\"domain\":[0.0,1.0],\"title\":{\"text\":\"Navigation\"}},\"legend\":{\"tracegroupgap\":0},\"title\":{\"text\":\"Top 5 Navigation on Netflix\"},\"barmode\":\"relative\"},                        {\"responsive\": true}                    ).then(function(){\n",
              "                            \n",
              "var gd = document.getElementById('150392b3-34e2-4843-92b8-a122ec473052');\n",
              "var x = new MutationObserver(function (mutations, observer) {{\n",
              "        var display = window.getComputedStyle(gd).display;\n",
              "        if (!display || display === 'none') {{\n",
              "            console.log([gd, 'removed!']);\n",
              "            Plotly.purge(gd);\n",
              "            observer.disconnect();\n",
              "        }}\n",
              "}});\n",
              "\n",
              "// Listen for the removal of the full notebook cells\n",
              "var notebookContainer = gd.closest('#notebook-container');\n",
              "if (notebookContainer) {{\n",
              "    x.observe(notebookContainer, {childList: true});\n",
              "}}\n",
              "\n",
              "// Listen for the clearing of the current output cell\n",
              "var outputEl = gd.closest('.output');\n",
              "if (outputEl) {{\n",
              "    x.observe(outputEl, {childList: true});\n",
              "}}\n",
              "\n",
              "                        })                };                            </script>        </div>\n",
              "</body>\n",
              "</html>"
            ]
          },
          "metadata": {}
        }
      ]
    },
    {
      "cell_type": "markdown",
      "source": [
        "#Analysis of the Users"
      ],
      "metadata": {
        "id": "zDfd8jJibG8j"
      }
    },
    {
      "cell_type": "code",
      "source": [
        "User_df = pd.DataFrame()\n",
        "User_df = df['Profile Name'].str.split(',',expand=True).stack()\n",
        "User_df = User_df.to_frame()\n",
        "User_df.columns = ['User']\n",
        "Users = User_df.groupby(['User']).size().reset_index(name = 'Total Count')\n",
        "Users = Users.sort_values(by=['Total Count'], ascending=False)\n",
        "top5Users = Users.head()\n",
        "top5Users = top5Users.sort_values(by=['Total Count'])\n",
        "barChart2 = px.bar(top5Users, x='Total Count', y='User', title='Top 5 Users on Netflix')\n",
        "barChart2.show()"
      ],
      "metadata": {
        "id": "QPh-esqKL9Nz",
        "outputId": "63e2eef1-cf17-44a7-e597-a398e574abf0",
        "colab": {
          "base_uri": "https://localhost:8080/",
          "height": 542
        }
      },
      "execution_count": null,
      "outputs": [
        {
          "output_type": "display_data",
          "data": {
            "text/html": [
              "<html>\n",
              "<head><meta charset=\"utf-8\" /></head>\n",
              "<body>\n",
              "    <div>            <script src=\"https://cdnjs.cloudflare.com/ajax/libs/mathjax/2.7.5/MathJax.js?config=TeX-AMS-MML_SVG\"></script><script type=\"text/javascript\">if (window.MathJax && window.MathJax.Hub && window.MathJax.Hub.Config) {window.MathJax.Hub.Config({SVG: {font: \"STIX-Web\"}});}</script>                <script type=\"text/javascript\">window.PlotlyConfig = {MathJaxConfig: 'local'};</script>\n",
              "        <script charset=\"utf-8\" src=\"https://cdn.plot.ly/plotly-2.24.1.min.js\"></script>                <div id=\"d9376cdb-c369-4eb1-8639-e626bf6ce372\" class=\"plotly-graph-div\" style=\"height:525px; width:100%;\"></div>            <script type=\"text/javascript\">                                    window.PLOTLYENV=window.PLOTLYENV || {};                                    if (document.getElementById(\"d9376cdb-c369-4eb1-8639-e626bf6ce372\")) {                    Plotly.newPlot(                        \"d9376cdb-c369-4eb1-8639-e626bf6ce372\",                        [{\"alignmentgroup\":\"True\",\"hovertemplate\":\"Total Count=%{x}\\u003cbr\\u003eUser=%{y}\\u003cextra\\u003e\\u003c\\u002fextra\\u003e\",\"legendgroup\":\"\",\"marker\":{\"color\":\"#636efa\",\"pattern\":{\"shape\":\"\"}},\"name\":\"\",\"offsetgroup\":\"\",\"orientation\":\"h\",\"showlegend\":false,\"textposition\":\"auto\",\"x\":[933,1433,2066,3331,3553],\"xaxis\":\"x\",\"y\":[\"User 0\",\"User 4\",\"User 7\",\"User 8\",\"User 5\"],\"yaxis\":\"y\",\"type\":\"bar\"}],                        {\"template\":{\"data\":{\"histogram2dcontour\":[{\"type\":\"histogram2dcontour\",\"colorbar\":{\"outlinewidth\":0,\"ticks\":\"\"},\"colorscale\":[[0.0,\"#0d0887\"],[0.1111111111111111,\"#46039f\"],[0.2222222222222222,\"#7201a8\"],[0.3333333333333333,\"#9c179e\"],[0.4444444444444444,\"#bd3786\"],[0.5555555555555556,\"#d8576b\"],[0.6666666666666666,\"#ed7953\"],[0.7777777777777778,\"#fb9f3a\"],[0.8888888888888888,\"#fdca26\"],[1.0,\"#f0f921\"]]}],\"choropleth\":[{\"type\":\"choropleth\",\"colorbar\":{\"outlinewidth\":0,\"ticks\":\"\"}}],\"histogram2d\":[{\"type\":\"histogram2d\",\"colorbar\":{\"outlinewidth\":0,\"ticks\":\"\"},\"colorscale\":[[0.0,\"#0d0887\"],[0.1111111111111111,\"#46039f\"],[0.2222222222222222,\"#7201a8\"],[0.3333333333333333,\"#9c179e\"],[0.4444444444444444,\"#bd3786\"],[0.5555555555555556,\"#d8576b\"],[0.6666666666666666,\"#ed7953\"],[0.7777777777777778,\"#fb9f3a\"],[0.8888888888888888,\"#fdca26\"],[1.0,\"#f0f921\"]]}],\"heatmap\":[{\"type\":\"heatmap\",\"colorbar\":{\"outlinewidth\":0,\"ticks\":\"\"},\"colorscale\":[[0.0,\"#0d0887\"],[0.1111111111111111,\"#46039f\"],[0.2222222222222222,\"#7201a8\"],[0.3333333333333333,\"#9c179e\"],[0.4444444444444444,\"#bd3786\"],[0.5555555555555556,\"#d8576b\"],[0.6666666666666666,\"#ed7953\"],[0.7777777777777778,\"#fb9f3a\"],[0.8888888888888888,\"#fdca26\"],[1.0,\"#f0f921\"]]}],\"heatmapgl\":[{\"type\":\"heatmapgl\",\"colorbar\":{\"outlinewidth\":0,\"ticks\":\"\"},\"colorscale\":[[0.0,\"#0d0887\"],[0.1111111111111111,\"#46039f\"],[0.2222222222222222,\"#7201a8\"],[0.3333333333333333,\"#9c179e\"],[0.4444444444444444,\"#bd3786\"],[0.5555555555555556,\"#d8576b\"],[0.6666666666666666,\"#ed7953\"],[0.7777777777777778,\"#fb9f3a\"],[0.8888888888888888,\"#fdca26\"],[1.0,\"#f0f921\"]]}],\"contourcarpet\":[{\"type\":\"contourcarpet\",\"colorbar\":{\"outlinewidth\":0,\"ticks\":\"\"}}],\"contour\":[{\"type\":\"contour\",\"colorbar\":{\"outlinewidth\":0,\"ticks\":\"\"},\"colorscale\":[[0.0,\"#0d0887\"],[0.1111111111111111,\"#46039f\"],[0.2222222222222222,\"#7201a8\"],[0.3333333333333333,\"#9c179e\"],[0.4444444444444444,\"#bd3786\"],[0.5555555555555556,\"#d8576b\"],[0.6666666666666666,\"#ed7953\"],[0.7777777777777778,\"#fb9f3a\"],[0.8888888888888888,\"#fdca26\"],[1.0,\"#f0f921\"]]}],\"surface\":[{\"type\":\"surface\",\"colorbar\":{\"outlinewidth\":0,\"ticks\":\"\"},\"colorscale\":[[0.0,\"#0d0887\"],[0.1111111111111111,\"#46039f\"],[0.2222222222222222,\"#7201a8\"],[0.3333333333333333,\"#9c179e\"],[0.4444444444444444,\"#bd3786\"],[0.5555555555555556,\"#d8576b\"],[0.6666666666666666,\"#ed7953\"],[0.7777777777777778,\"#fb9f3a\"],[0.8888888888888888,\"#fdca26\"],[1.0,\"#f0f921\"]]}],\"mesh3d\":[{\"type\":\"mesh3d\",\"colorbar\":{\"outlinewidth\":0,\"ticks\":\"\"}}],\"scatter\":[{\"fillpattern\":{\"fillmode\":\"overlay\",\"size\":10,\"solidity\":0.2},\"type\":\"scatter\"}],\"parcoords\":[{\"type\":\"parcoords\",\"line\":{\"colorbar\":{\"outlinewidth\":0,\"ticks\":\"\"}}}],\"scatterpolargl\":[{\"type\":\"scatterpolargl\",\"marker\":{\"colorbar\":{\"outlinewidth\":0,\"ticks\":\"\"}}}],\"bar\":[{\"error_x\":{\"color\":\"#2a3f5f\"},\"error_y\":{\"color\":\"#2a3f5f\"},\"marker\":{\"line\":{\"color\":\"#E5ECF6\",\"width\":0.5},\"pattern\":{\"fillmode\":\"overlay\",\"size\":10,\"solidity\":0.2}},\"type\":\"bar\"}],\"scattergeo\":[{\"type\":\"scattergeo\",\"marker\":{\"colorbar\":{\"outlinewidth\":0,\"ticks\":\"\"}}}],\"scatterpolar\":[{\"type\":\"scatterpolar\",\"marker\":{\"colorbar\":{\"outlinewidth\":0,\"ticks\":\"\"}}}],\"histogram\":[{\"marker\":{\"pattern\":{\"fillmode\":\"overlay\",\"size\":10,\"solidity\":0.2}},\"type\":\"histogram\"}],\"scattergl\":[{\"type\":\"scattergl\",\"marker\":{\"colorbar\":{\"outlinewidth\":0,\"ticks\":\"\"}}}],\"scatter3d\":[{\"type\":\"scatter3d\",\"line\":{\"colorbar\":{\"outlinewidth\":0,\"ticks\":\"\"}},\"marker\":{\"colorbar\":{\"outlinewidth\":0,\"ticks\":\"\"}}}],\"scattermapbox\":[{\"type\":\"scattermapbox\",\"marker\":{\"colorbar\":{\"outlinewidth\":0,\"ticks\":\"\"}}}],\"scatterternary\":[{\"type\":\"scatterternary\",\"marker\":{\"colorbar\":{\"outlinewidth\":0,\"ticks\":\"\"}}}],\"scattercarpet\":[{\"type\":\"scattercarpet\",\"marker\":{\"colorbar\":{\"outlinewidth\":0,\"ticks\":\"\"}}}],\"carpet\":[{\"aaxis\":{\"endlinecolor\":\"#2a3f5f\",\"gridcolor\":\"white\",\"linecolor\":\"white\",\"minorgridcolor\":\"white\",\"startlinecolor\":\"#2a3f5f\"},\"baxis\":{\"endlinecolor\":\"#2a3f5f\",\"gridcolor\":\"white\",\"linecolor\":\"white\",\"minorgridcolor\":\"white\",\"startlinecolor\":\"#2a3f5f\"},\"type\":\"carpet\"}],\"table\":[{\"cells\":{\"fill\":{\"color\":\"#EBF0F8\"},\"line\":{\"color\":\"white\"}},\"header\":{\"fill\":{\"color\":\"#C8D4E3\"},\"line\":{\"color\":\"white\"}},\"type\":\"table\"}],\"barpolar\":[{\"marker\":{\"line\":{\"color\":\"#E5ECF6\",\"width\":0.5},\"pattern\":{\"fillmode\":\"overlay\",\"size\":10,\"solidity\":0.2}},\"type\":\"barpolar\"}],\"pie\":[{\"automargin\":true,\"type\":\"pie\"}]},\"layout\":{\"autotypenumbers\":\"strict\",\"colorway\":[\"#636efa\",\"#EF553B\",\"#00cc96\",\"#ab63fa\",\"#FFA15A\",\"#19d3f3\",\"#FF6692\",\"#B6E880\",\"#FF97FF\",\"#FECB52\"],\"font\":{\"color\":\"#2a3f5f\"},\"hovermode\":\"closest\",\"hoverlabel\":{\"align\":\"left\"},\"paper_bgcolor\":\"white\",\"plot_bgcolor\":\"#E5ECF6\",\"polar\":{\"bgcolor\":\"#E5ECF6\",\"angularaxis\":{\"gridcolor\":\"white\",\"linecolor\":\"white\",\"ticks\":\"\"},\"radialaxis\":{\"gridcolor\":\"white\",\"linecolor\":\"white\",\"ticks\":\"\"}},\"ternary\":{\"bgcolor\":\"#E5ECF6\",\"aaxis\":{\"gridcolor\":\"white\",\"linecolor\":\"white\",\"ticks\":\"\"},\"baxis\":{\"gridcolor\":\"white\",\"linecolor\":\"white\",\"ticks\":\"\"},\"caxis\":{\"gridcolor\":\"white\",\"linecolor\":\"white\",\"ticks\":\"\"}},\"coloraxis\":{\"colorbar\":{\"outlinewidth\":0,\"ticks\":\"\"}},\"colorscale\":{\"sequential\":[[0.0,\"#0d0887\"],[0.1111111111111111,\"#46039f\"],[0.2222222222222222,\"#7201a8\"],[0.3333333333333333,\"#9c179e\"],[0.4444444444444444,\"#bd3786\"],[0.5555555555555556,\"#d8576b\"],[0.6666666666666666,\"#ed7953\"],[0.7777777777777778,\"#fb9f3a\"],[0.8888888888888888,\"#fdca26\"],[1.0,\"#f0f921\"]],\"sequentialminus\":[[0.0,\"#0d0887\"],[0.1111111111111111,\"#46039f\"],[0.2222222222222222,\"#7201a8\"],[0.3333333333333333,\"#9c179e\"],[0.4444444444444444,\"#bd3786\"],[0.5555555555555556,\"#d8576b\"],[0.6666666666666666,\"#ed7953\"],[0.7777777777777778,\"#fb9f3a\"],[0.8888888888888888,\"#fdca26\"],[1.0,\"#f0f921\"]],\"diverging\":[[0,\"#8e0152\"],[0.1,\"#c51b7d\"],[0.2,\"#de77ae\"],[0.3,\"#f1b6da\"],[0.4,\"#fde0ef\"],[0.5,\"#f7f7f7\"],[0.6,\"#e6f5d0\"],[0.7,\"#b8e186\"],[0.8,\"#7fbc41\"],[0.9,\"#4d9221\"],[1,\"#276419\"]]},\"xaxis\":{\"gridcolor\":\"white\",\"linecolor\":\"white\",\"ticks\":\"\",\"title\":{\"standoff\":15},\"zerolinecolor\":\"white\",\"automargin\":true,\"zerolinewidth\":2},\"yaxis\":{\"gridcolor\":\"white\",\"linecolor\":\"white\",\"ticks\":\"\",\"title\":{\"standoff\":15},\"zerolinecolor\":\"white\",\"automargin\":true,\"zerolinewidth\":2},\"scene\":{\"xaxis\":{\"backgroundcolor\":\"#E5ECF6\",\"gridcolor\":\"white\",\"linecolor\":\"white\",\"showbackground\":true,\"ticks\":\"\",\"zerolinecolor\":\"white\",\"gridwidth\":2},\"yaxis\":{\"backgroundcolor\":\"#E5ECF6\",\"gridcolor\":\"white\",\"linecolor\":\"white\",\"showbackground\":true,\"ticks\":\"\",\"zerolinecolor\":\"white\",\"gridwidth\":2},\"zaxis\":{\"backgroundcolor\":\"#E5ECF6\",\"gridcolor\":\"white\",\"linecolor\":\"white\",\"showbackground\":true,\"ticks\":\"\",\"zerolinecolor\":\"white\",\"gridwidth\":2}},\"shapedefaults\":{\"line\":{\"color\":\"#2a3f5f\"}},\"annotationdefaults\":{\"arrowcolor\":\"#2a3f5f\",\"arrowhead\":0,\"arrowwidth\":1},\"geo\":{\"bgcolor\":\"white\",\"landcolor\":\"#E5ECF6\",\"subunitcolor\":\"white\",\"showland\":true,\"showlakes\":true,\"lakecolor\":\"white\"},\"title\":{\"x\":0.05},\"mapbox\":{\"style\":\"light\"}}},\"xaxis\":{\"anchor\":\"y\",\"domain\":[0.0,1.0],\"title\":{\"text\":\"Total Count\"}},\"yaxis\":{\"anchor\":\"x\",\"domain\":[0.0,1.0],\"title\":{\"text\":\"User\"}},\"legend\":{\"tracegroupgap\":0},\"title\":{\"text\":\"Top 5 Users on Netflix\"},\"barmode\":\"relative\"},                        {\"responsive\": true}                    ).then(function(){\n",
              "                            \n",
              "var gd = document.getElementById('d9376cdb-c369-4eb1-8639-e626bf6ce372');\n",
              "var x = new MutationObserver(function (mutations, observer) {{\n",
              "        var display = window.getComputedStyle(gd).display;\n",
              "        if (!display || display === 'none') {{\n",
              "            console.log([gd, 'removed!']);\n",
              "            Plotly.purge(gd);\n",
              "            observer.disconnect();\n",
              "        }}\n",
              "}});\n",
              "\n",
              "// Listen for the removal of the full notebook cells\n",
              "var notebookContainer = gd.closest('#notebook-container');\n",
              "if (notebookContainer) {{\n",
              "    x.observe(notebookContainer, {childList: true});\n",
              "}}\n",
              "\n",
              "// Listen for the clearing of the current output cell\n",
              "var outputEl = gd.closest('.output');\n",
              "if (outputEl) {{\n",
              "    x.observe(outputEl, {childList: true});\n",
              "}}\n",
              "\n",
              "                        })                };                            </script>        </div>\n",
              "</body>\n",
              "</html>"
            ]
          },
          "metadata": {}
        }
      ]
    },
    {
      "cell_type": "markdown",
      "source": [
        "#Everyday activities of the user"
      ],
      "metadata": {
        "id": "u3hX9A7CbbV3"
      }
    },
    {
      "cell_type": "code",
      "source": [
        "df1 = df[['Profile Name', 'Click Utc Ts']]\n",
        "df1 = df1.rename(columns = {\"Click Utc Ts\":\"Click_Utc_Ts\", \"type\": \"Profile Name\"})\n",
        "df2 = df1.groupby(['Click_Utc_Ts', 'Profile Name']).size().reset_index(name='Total Count')\n",
        "print(df2)"
      ],
      "metadata": {
        "id": "a8IditgfV4L8",
        "outputId": "2ef64ecc-e922-4ac4-fdff-e12e4328a3dc",
        "colab": {
          "base_uri": "https://localhost:8080/"
        }
      },
      "execution_count": null,
      "outputs": [
        {
          "output_type": "stream",
          "name": "stdout",
          "text": [
            "             Click_Utc_Ts Profile Name  Total Count\n",
            "0     2022-07-28 16:15:39       User 3            2\n",
            "1     2022-07-28 16:15:57       User 3            2\n",
            "2     2022-07-28 16:16:31       User 3            2\n",
            "3     2022-07-28 16:49:27       User 3            2\n",
            "4     2022-07-28 17:24:42       User 3            1\n",
            "...                   ...          ...          ...\n",
            "7257  2023-06-19 16:06:35       User 5            2\n",
            "7258  2023-06-19 16:06:52       User 5            2\n",
            "7259  2023-06-19 16:07:09       User 5            2\n",
            "7260  2023-06-19 16:07:23       User 5            2\n",
            "7261  2023-06-19 16:07:39       User 5            2\n",
            "\n",
            "[7262 rows x 3 columns]\n"
          ]
        }
      ]
    },
    {
      "cell_type": "markdown",
      "source": [
        "#Graphical representation"
      ],
      "metadata": {
        "id": "8_9PlVD7bihA"
      }
    },
    {
      "cell_type": "code",
      "source": [
        "\n",
        "graph = px.line(df2, x = \"Click_Utc_Ts\", y=\"Total Count\", color = \"Profile Name\", title = \"User Analysis Every Day\")\n",
        "graph.show()"
      ],
      "metadata": {
        "id": "d1H0C_ApWnJj",
        "outputId": "63c85484-8fd9-4c08-9904-87bc19f1ee38",
        "colab": {
          "base_uri": "https://localhost:8080/",
          "height": 542
        }
      },
      "execution_count": null,
      "outputs": [
        {
          "output_type": "display_data",
          "data": {
            "text/html": [
              "<html>\n",
              "<head><meta charset=\"utf-8\" /></head>\n",
              "<body>\n",
              "    <div>            <script src=\"https://cdnjs.cloudflare.com/ajax/libs/mathjax/2.7.5/MathJax.js?config=TeX-AMS-MML_SVG\"></script><script type=\"text/javascript\">if (window.MathJax && window.MathJax.Hub && window.MathJax.Hub.Config) {window.MathJax.Hub.Config({SVG: {font: \"STIX-Web\"}});}</script>                <script type=\"text/javascript\">window.PlotlyConfig = {MathJaxConfig: 'local'};</script>\n",
              "        <script charset=\"utf-8\" src=\"https://cdn.plot.ly/plotly-2.24.1.min.js\"></script>                <div id=\"a4b29983-6e22-46bc-925a-974ace367e9a\" class=\"plotly-graph-div\" style=\"height:525px; width:100%;\"></div>            <script type=\"text/javascript\">                                    window.PLOTLYENV=window.PLOTLYENV || {};                                    if (document.getElementById(\"a4b29983-6e22-46bc-925a-974ace367e9a\")) {                    Plotly.newPlot(                        \"a4b29983-6e22-46bc-925a-974ace367e9a\",                        [{\"hovertemplate\":\"Profile Name=User 3\\u003cbr\\u003eClick_Utc_Ts=%{x}\\u003cbr\\u003eTotal Count=%{y}\\u003cextra\\u003e\\u003c\\u002fextra\\u003e\",\"legendgroup\":\"User 3\",\"line\":{\"color\":\"#636efa\",\"dash\":\"solid\"},\"marker\":{\"symbol\":\"circle\"},\"mode\":\"lines\",\"name\":\"User 3\",\"showlegend\":true,\"x\":[\"2022-07-28 16:15:39\",\"2022-07-28 16:15:57\",\"2022-07-28 16:16:31\",\"2022-07-28 16:49:27\",\"2022-07-28 17:24:42\",\"2022-07-28 18:04:11\",\"2022-08-01 15:44:09\",\"2022-08-01 15:44:14\",\"2022-08-01 15:44:15\",\"2022-08-01 15:44:32\",\"2022-08-01 15:44:33\",\"2022-08-01 15:44:41\",\"2022-08-01 16:39:16\",\"2022-08-01 17:17:22\",\"2022-08-03 15:46:37\",\"2022-08-03 15:46:38\",\"2022-08-03 15:47:40\",\"2022-08-03 15:48:49\",\"2022-08-03 17:05:08\",\"2022-08-03 17:36:46\",\"2022-08-08 06:31:36\",\"2022-08-08 06:32:33\",\"2022-08-08 06:32:34\",\"2022-08-08 06:32:37\",\"2022-08-08 06:39:53\",\"2022-08-08 06:40:14\",\"2022-08-08 06:55:38\",\"2022-08-11 15:25:53\",\"2022-08-11 15:26:08\",\"2022-08-11 15:26:47\",\"2022-08-11 15:27:05\",\"2022-08-11 15:27:34\",\"2022-08-11 15:28:32\",\"2022-08-11 15:29:15\",\"2022-08-11 15:30:53\",\"2022-08-11 15:31:25\",\"2022-08-11 15:31:31\",\"2022-08-11 15:31:49\",\"2022-08-11 15:32:06\",\"2022-08-11 15:32:37\",\"2022-08-11 15:32:48\",\"2022-08-11 15:50:41\",\"2022-08-11 15:51:05\",\"2022-08-11 15:51:13\",\"2022-08-11 15:51:48\",\"2022-08-11 15:52:06\",\"2022-08-11 15:52:15\",\"2022-08-11 15:52:18\",\"2022-08-11 15:52:26\",\"2022-08-11 15:54:29\",\"2022-08-11 15:54:34\",\"2022-08-11 15:55:05\",\"2022-08-11 15:55:12\",\"2022-08-11 15:55:13\",\"2022-08-11 15:55:31\",\"2022-08-11 15:55:35\",\"2022-08-11 15:55:59\",\"2022-08-11 15:56:00\",\"2022-08-11 15:56:03\",\"2022-08-11 15:56:34\",\"2022-08-11 15:56:44\",\"2022-08-11 15:56:53\",\"2022-08-11 15:57:04\",\"2022-08-11 15:57:06\",\"2022-08-11 15:57:08\",\"2022-08-11 15:57:26\",\"2022-08-11 15:58:41\",\"2022-08-11 15:58:45\",\"2022-08-11 15:58:51\",\"2022-08-12 15:13:38\",\"2022-08-12 15:14:59\",\"2022-08-13 13:26:41\",\"2022-08-13 13:27:23\",\"2022-08-13 13:27:49\",\"2022-08-13 13:28:05\",\"2022-08-13 13:28:42\",\"2022-08-13 13:28:55\",\"2022-08-13 13:29:03\",\"2022-08-13 13:29:21\",\"2022-08-13 13:29:54\",\"2022-08-13 13:31:00\",\"2022-08-13 13:32:49\",\"2022-08-13 13:33:18\",\"2022-08-13 13:33:26\",\"2022-08-13 13:33:27\",\"2022-08-13 13:33:43\",\"2022-08-13 13:33:45\",\"2022-08-15 15:39:06\",\"2022-08-15 15:39:37\",\"2022-08-15 15:40:08\",\"2022-08-15 15:40:09\",\"2022-08-15 15:40:46\",\"2022-08-15 15:41:09\",\"2022-08-15 15:41:37\",\"2022-08-18 05:29:49\",\"2022-08-18 05:29:53\",\"2022-08-18 05:29:56\",\"2022-08-18 05:30:30\",\"2022-08-18 05:30:37\",\"2022-08-18 05:30:38\",\"2022-08-19 15:03:53\",\"2022-08-19 15:03:58\",\"2022-08-19 15:03:59\",\"2022-08-19 15:04:00\",\"2022-08-19 15:04:45\",\"2022-08-19 15:04:49\",\"2022-08-19 15:04:50\",\"2022-08-19 15:47:01\",\"2022-08-19 15:47:03\",\"2022-08-23 12:01:00\",\"2022-08-23 12:01:04\",\"2022-08-23 12:01:05\",\"2022-08-23 12:01:06\",\"2022-08-23 16:21:47\",\"2022-08-23 16:21:48\",\"2022-08-23 16:22:12\",\"2022-08-23 16:22:31\",\"2022-08-23 16:22:44\",\"2022-08-23 16:22:49\",\"2022-08-23 16:23:05\",\"2022-08-23 16:23:06\",\"2022-08-26 12:44:39\",\"2022-08-26 12:44:40\",\"2022-08-26 16:00:44\",\"2022-08-26 16:00:45\",\"2022-08-26 16:01:17\",\"2022-08-26 16:01:18\",\"2022-08-26 16:01:28\",\"2022-08-26 16:04:27\",\"2022-08-26 17:07:22\",\"2022-09-11 16:21:53\",\"2022-09-11 16:21:54\",\"2022-09-11 16:24:50\",\"2022-09-11 16:25:06\",\"2022-09-11 16:25:34\",\"2022-09-11 16:25:39\",\"2022-09-11 16:25:49\",\"2022-09-11 16:26:08\",\"2022-09-11 16:26:46\",\"2022-09-11 16:26:47\",\"2022-09-11 16:28:04\",\"2022-09-11 16:28:05\",\"2022-09-11 17:15:05\",\"2022-09-13 15:02:21\",\"2022-09-14 15:13:38\",\"2022-09-14 15:13:44\",\"2022-09-14 15:13:45\",\"2022-09-14 15:14:29\",\"2022-09-14 16:17:07\",\"2022-09-14 16:17:12\",\"2022-09-14 16:20:25\",\"2022-09-14 16:21:12\",\"2022-09-14 16:21:24\",\"2022-09-14 16:21:46\",\"2022-09-14 17:36:40\",\"2022-09-16 15:26:56\",\"2022-09-18 15:35:59\",\"2022-09-18 15:36:03\",\"2022-09-18 15:36:39\",\"2022-09-22 06:07:19\",\"2022-09-22 06:07:28\",\"2022-09-22 06:07:29\",\"2022-09-22 06:07:32\",\"2022-09-22 06:07:33\",\"2022-09-22 07:16:22\",\"2022-09-23 15:46:05\",\"2022-09-23 15:46:07\",\"2022-09-23 15:46:09\",\"2022-09-23 15:46:16\",\"2022-09-23 15:46:17\",\"2022-09-23 15:46:49\",\"2022-09-23 15:46:50\",\"2022-09-23 15:47:03\"],\"xaxis\":\"x\",\"y\":[2,2,2,2,1,1,2,1,1,1,1,2,2,1,1,1,2,2,2,1,2,4,2,2,2,2,2,2,2,2,2,2,2,2,4,2,2,2,2,2,2,2,2,2,2,2,2,2,2,2,2,2,1,1,2,2,1,1,2,2,2,2,2,2,2,2,2,2,2,2,2,2,2,2,2,2,2,2,2,2,2,2,2,1,1,2,2,2,2,1,1,2,2,2,2,2,2,2,1,1,2,2,1,1,2,1,1,2,2,2,1,1,2,1,1,2,2,2,2,2,2,1,1,1,1,2,2,2,2,2,1,3,2,2,2,2,2,2,1,1,1,1,2,2,2,1,1,2,2,2,2,2,2,2,1,1,2,2,2,2,1,1,1,1,2,4,2,2,2,2,1,1,2],\"yaxis\":\"y\",\"type\":\"scattergl\"},{\"hovertemplate\":\"Profile Name=User 4\\u003cbr\\u003eClick_Utc_Ts=%{x}\\u003cbr\\u003eTotal Count=%{y}\\u003cextra\\u003e\\u003c\\u002fextra\\u003e\",\"legendgroup\":\"User 4\",\"line\":{\"color\":\"#EF553B\",\"dash\":\"solid\"},\"marker\":{\"symbol\":\"circle\"},\"mode\":\"lines\",\"name\":\"User 4\",\"showlegend\":true,\"x\":[\"2022-07-28 19:46:15\",\"2022-07-30 05:05:14\",\"2022-07-30 05:05:35\",\"2022-07-30 05:05:36\",\"2022-07-30 05:05:42\",\"2022-07-30 05:05:47\",\"2022-07-30 05:05:48\",\"2022-07-30 05:05:54\",\"2022-07-30 05:21:08\",\"2022-07-30 05:21:10\",\"2022-07-30 05:21:11\",\"2022-07-30 05:21:12\",\"2022-07-30 06:06:29\",\"2022-07-30 06:14:44\",\"2022-07-30 07:40:46\",\"2022-07-30 07:40:58\",\"2022-07-30 19:07:27\",\"2022-07-30 19:08:19\",\"2022-07-30 19:08:30\",\"2022-07-30 19:08:51\",\"2022-07-31 08:29:55\",\"2022-07-31 08:31:40\",\"2022-07-31 08:31:41\",\"2022-07-31 08:32:09\",\"2022-07-31 08:32:11\",\"2022-07-31 08:32:16\",\"2022-07-31 08:32:17\",\"2022-07-31 08:32:24\",\"2022-07-31 08:32:28\",\"2022-07-31 08:32:29\",\"2022-07-31 09:11:53\",\"2022-07-31 09:41:55\",\"2022-07-31 10:13:33\",\"2022-08-01 13:58:51\",\"2022-08-01 13:58:52\",\"2022-08-01 13:59:01\",\"2022-08-01 13:59:03\",\"2022-08-01 13:59:04\",\"2022-08-01 13:59:16\",\"2022-08-01 13:59:18\",\"2022-08-01 14:22:29\",\"2022-08-01 14:31:28\",\"2022-08-01 15:18:41\",\"2022-08-01 15:18:42\",\"2022-08-01 16:53:28\",\"2022-08-01 17:09:55\",\"2022-08-01 17:40:05\",\"2022-08-01 18:20:24\",\"2022-08-01 18:50:40\",\"2022-08-01 19:35:00\",\"2022-08-02 03:40:24\",\"2022-08-02 03:40:46\",\"2022-08-02 03:40:47\",\"2022-08-02 03:50:47\",\"2022-08-02 03:59:35\",\"2022-08-02 05:19:57\",\"2022-08-02 05:20:42\",\"2022-08-02 08:16:45\",\"2022-08-02 08:26:05\",\"2022-08-02 08:26:07\",\"2022-08-02 08:29:02\",\"2022-08-02 08:31:53\",\"2022-08-02 08:31:54\",\"2022-08-02 09:47:49\",\"2022-08-02 09:48:21\",\"2022-08-02 10:00:38\",\"2022-08-02 10:00:39\",\"2022-08-02 10:44:17\",\"2022-08-02 10:44:18\",\"2022-08-02 10:44:19\",\"2022-08-02 11:58:04\",\"2022-08-02 12:12:22\",\"2022-08-02 12:23:29\",\"2022-08-02 13:11:28\",\"2022-08-02 13:56:27\",\"2022-08-02 14:38:53\",\"2022-08-02 14:40:40\",\"2022-08-02 14:40:41\",\"2022-08-02 14:47:09\",\"2022-08-02 15:03:17\",\"2022-08-02 15:58:02\",\"2022-08-02 15:58:03\",\"2022-08-02 15:58:14\",\"2022-08-02 15:58:15\",\"2022-08-02 16:38:19\",\"2022-08-03 03:50:23\",\"2022-08-03 03:50:24\",\"2022-08-03 07:10:16\",\"2022-08-03 07:10:19\",\"2022-08-03 07:10:26\",\"2022-08-03 07:10:39\",\"2022-08-03 08:47:50\",\"2022-08-03 08:47:51\",\"2022-08-03 08:47:52\",\"2022-08-03 08:47:53\",\"2022-08-03 09:16:37\",\"2022-08-03 09:16:40\",\"2022-08-03 09:46:47\",\"2022-08-03 10:41:53\",\"2022-08-03 10:41:54\",\"2022-08-03 11:02:41\",\"2022-08-03 11:02:46\",\"2022-08-03 11:02:47\",\"2022-08-03 11:36:12\",\"2022-08-03 11:36:13\",\"2022-08-03 12:36:26\",\"2022-08-03 13:01:52\",\"2022-08-03 13:33:10\",\"2022-08-03 14:09:29\",\"2022-08-03 14:43:24\",\"2022-08-03 15:21:08\",\"2022-08-03 16:54:59\",\"2022-08-03 16:55:02\",\"2022-08-03 16:55:03\",\"2022-08-03 16:55:25\",\"2022-08-03 16:55:27\",\"2022-08-03 16:55:28\",\"2022-08-03 16:55:55\",\"2022-08-03 16:55:56\",\"2022-08-03 16:56:15\",\"2022-08-03 16:56:16\",\"2022-08-04 03:55:18\",\"2022-08-04 03:55:29\",\"2022-08-04 03:55:30\",\"2022-08-04 03:55:32\",\"2022-08-04 03:55:36\",\"2022-08-04 03:55:37\",\"2022-08-04 06:11:09\",\"2022-08-04 06:11:15\",\"2022-08-04 06:11:16\",\"2022-08-04 06:49:27\",\"2022-08-04 06:49:28\",\"2022-08-04 07:27:43\",\"2022-08-04 07:49:54\",\"2022-08-04 07:49:56\",\"2022-08-04 07:49:57\",\"2022-08-04 09:13:43\",\"2022-08-04 09:20:03\",\"2022-08-04 09:53:43\",\"2022-08-04 10:24:19\",\"2022-08-04 11:00:05\",\"2022-08-04 11:30:18\",\"2022-08-04 11:47:31\",\"2022-08-04 11:51:05\",\"2022-08-04 11:55:35\",\"2022-08-04 11:55:36\",\"2022-08-04 12:11:25\",\"2022-08-04 12:32:36\",\"2022-08-04 17:33:27\",\"2022-08-04 17:33:35\",\"2022-08-04 17:50:33\",\"2022-08-04 17:57:00\",\"2022-08-04 17:57:01\",\"2022-08-04 18:15:18\",\"2022-08-04 18:17:46\",\"2022-08-04 18:17:47\",\"2022-08-04 18:17:58\",\"2022-08-04 18:19:03\",\"2022-08-04 18:19:04\",\"2022-08-04 18:22:23\",\"2022-08-04 18:22:29\",\"2022-08-04 18:59:01\",\"2022-08-04 18:59:12\",\"2022-08-04 19:00:36\",\"2022-08-04 19:00:37\",\"2022-08-04 19:09:52\",\"2022-08-04 19:09:53\",\"2022-08-04 19:09:54\",\"2022-08-04 19:15:34\",\"2022-08-04 19:49:25\",\"2022-08-04 20:54:16\",\"2022-08-04 21:24:35\",\"2022-08-04 21:56:21\",\"2022-08-04 22:54:23\",\"2022-08-04 23:49:28\",\"2022-08-05 00:35:32\",\"2022-08-05 01:38:08\",\"2022-08-05 02:13:12\",\"2022-08-05 02:46:18\",\"2022-08-05 04:12:41\",\"2022-08-05 04:12:47\",\"2022-08-05 04:12:48\",\"2022-08-05 07:10:11\",\"2022-08-05 07:10:17\",\"2022-08-05 07:10:27\",\"2022-08-05 07:10:31\",\"2022-08-05 07:10:32\",\"2022-08-05 07:10:35\",\"2022-08-05 07:10:37\",\"2022-08-05 07:10:43\",\"2022-08-05 07:11:00\",\"2022-08-05 07:11:06\",\"2022-08-05 07:11:20\",\"2022-08-05 07:11:23\",\"2022-08-05 07:11:24\",\"2022-08-05 07:52:55\",\"2022-08-05 07:56:48\",\"2022-08-05 07:56:49\",\"2022-08-05 08:51:51\",\"2022-08-05 08:51:53\",\"2022-08-05 08:51:54\",\"2022-08-05 09:10:07\",\"2022-08-05 09:10:54\",\"2022-08-05 09:10:55\",\"2022-08-05 09:58:39\",\"2022-08-05 10:00:40\",\"2022-08-05 10:00:41\",\"2022-08-05 10:31:41\",\"2022-08-05 10:47:34\",\"2022-08-05 10:47:35\",\"2022-08-05 11:32:26\",\"2022-08-05 15:52:03\",\"2022-08-05 15:52:04\",\"2022-08-05 15:52:17\",\"2022-08-05 15:52:18\",\"2022-08-05 16:27:51\",\"2022-08-05 16:30:56\",\"2022-08-05 16:30:57\",\"2022-08-05 18:47:08\",\"2022-08-05 18:47:30\",\"2022-08-05 18:47:31\",\"2022-08-05 19:07:29\",\"2022-08-05 19:19:09\",\"2022-08-05 19:51:25\",\"2022-08-05 20:29:25\",\"2022-08-05 21:46:15\",\"2022-08-05 22:54:31\",\"2022-08-05 23:49:17\",\"2022-08-06 01:34:51\",\"2022-08-06 02:14:17\",\"2022-08-06 02:14:54\",\"2022-08-06 02:15:09\",\"2022-08-06 02:15:10\",\"2022-08-06 02:51:25\",\"2022-08-06 02:51:33\",\"2022-08-06 03:33:59\",\"2022-08-06 04:01:09\",\"2022-08-06 04:17:00\",\"2022-08-06 04:43:03\",\"2022-08-06 05:03:59\",\"2022-08-06 05:04:00\",\"2022-08-06 05:15:40\",\"2022-08-06 05:15:46\",\"2022-08-06 05:17:29\",\"2022-08-06 05:24:51\",\"2022-08-06 05:24:52\",\"2022-08-06 05:25:47\",\"2022-08-06 05:25:48\",\"2022-08-06 05:25:49\",\"2022-08-06 06:18:24\",\"2022-08-06 06:39:40\",\"2022-08-06 06:39:47\",\"2022-08-06 06:39:48\",\"2022-08-06 06:56:57\",\"2022-08-06 06:57:44\",\"2022-08-06 07:28:49\",\"2022-08-06 08:27:58\",\"2022-08-06 08:28:02\",\"2022-08-06 08:28:03\",\"2022-08-06 09:25:41\",\"2022-08-06 09:57:55\",\"2022-08-06 09:58:24\",\"2022-08-06 09:58:25\",\"2022-08-06 10:49:58\",\"2022-08-06 17:30:23\",\"2022-08-06 17:30:24\",\"2022-08-06 17:31:04\",\"2022-08-06 17:31:05\",\"2022-08-06 17:45:27\",\"2022-08-07 06:07:19\",\"2022-08-07 06:07:20\",\"2022-08-07 06:08:24\",\"2022-08-07 07:41:55\",\"2022-08-07 14:54:30\",\"2022-08-07 14:54:36\",\"2022-08-07 14:54:37\",\"2022-08-07 14:57:31\",\"2022-08-07 15:14:09\",\"2022-08-07 15:32:12\",\"2022-08-07 15:32:13\",\"2022-08-07 17:05:43\",\"2022-08-07 17:28:23\",\"2022-08-07 18:09:19\",\"2022-08-07 18:09:47\",\"2022-08-07 18:09:48\",\"2022-08-07 18:26:57\",\"2022-08-07 18:26:59\",\"2022-08-07 18:27:00\",\"2022-08-07 18:27:03\",\"2022-08-07 20:06:54\",\"2022-08-07 20:43:53\",\"2022-08-07 21:17:18\",\"2022-08-07 21:48:24\",\"2022-08-07 22:25:57\",\"2022-08-08 03:52:20\",\"2022-08-08 03:52:46\",\"2022-08-08 03:53:09\",\"2022-08-08 03:54:09\",\"2022-08-08 03:54:10\",\"2022-08-08 05:04:01\",\"2022-08-08 05:14:21\",\"2022-08-08 05:14:23\",\"2022-08-08 05:14:24\",\"2022-08-08 07:28:23\",\"2022-08-08 07:28:46\",\"2022-08-08 07:39:13\",\"2022-08-08 07:39:16\",\"2022-08-08 08:11:26\",\"2022-08-08 08:11:27\",\"2022-08-08 08:51:18\",\"2022-08-08 08:53:12\",\"2022-08-08 08:53:58\",\"2022-08-08 08:54:00\",\"2022-08-08 08:54:01\",\"2022-08-08 09:35:33\",\"2022-08-08 09:38:22\",\"2022-08-08 09:38:23\",\"2022-08-08 09:52:22\",\"2022-08-08 10:10:21\",\"2022-08-08 10:10:22\",\"2022-08-08 10:10:25\",\"2022-08-08 10:10:26\",\"2022-08-08 11:07:46\",\"2022-08-08 11:21:21\",\"2022-08-08 11:34:10\",\"2022-08-08 11:50:24\",\"2022-08-08 11:51:10\",\"2022-08-08 11:51:46\",\"2022-08-08 11:51:47\",\"2022-08-08 11:52:50\",\"2022-08-08 11:52:52\",\"2022-08-08 12:10:30\",\"2022-08-08 12:17:28\",\"2022-08-08 12:17:29\",\"2022-08-08 12:51:32\",\"2022-08-08 19:19:56\",\"2022-08-08 19:20:51\",\"2022-08-08 19:20:53\",\"2022-08-08 19:20:54\",\"2022-08-08 19:20:55\",\"2022-08-08 19:45:42\",\"2022-08-08 19:52:15\",\"2022-08-08 21:08:19\",\"2022-08-08 21:44:30\",\"2022-08-08 23:15:10\",\"2022-08-09 00:19:59\",\"2022-08-09 00:57:22\",\"2022-08-09 01:39:45\",\"2022-08-09 02:13:26\",\"2022-08-09 02:45:38\",\"2022-08-09 03:19:16\",\"2022-08-09 03:24:40\",\"2022-08-09 04:06:12\",\"2022-08-09 04:06:16\",\"2022-08-09 04:06:17\",\"2022-08-09 04:07:41\",\"2022-08-09 04:07:42\",\"2022-08-09 04:08:11\",\"2022-08-09 04:08:14\",\"2022-08-09 05:32:05\",\"2022-08-09 05:48:20\",\"2022-08-09 05:50:26\",\"2022-08-09 05:50:27\",\"2022-08-09 07:50:35\",\"2022-08-09 09:29:49\",\"2022-08-09 14:50:00\",\"2022-08-09 14:50:06\",\"2022-08-09 14:50:14\",\"2022-08-09 14:50:43\",\"2022-08-09 14:50:44\",\"2022-08-09 14:51:18\",\"2022-08-09 14:51:24\",\"2022-08-12 08:31:56\",\"2022-08-12 08:32:38\",\"2022-08-12 08:32:39\",\"2022-08-12 08:52:24\",\"2022-08-16 03:48:55\",\"2022-08-20 04:00:41\",\"2022-08-20 04:00:42\",\"2022-08-20 04:00:48\",\"2022-08-20 04:00:49\",\"2022-08-21 04:11:36\",\"2022-08-21 04:11:49\",\"2022-08-21 04:11:50\",\"2022-08-21 04:45:02\",\"2022-08-23 14:56:12\",\"2022-08-23 14:56:20\",\"2022-08-23 14:56:26\",\"2022-08-23 14:57:05\",\"2022-08-23 14:58:51\",\"2022-08-23 15:00:58\",\"2022-08-23 15:01:03\",\"2022-08-23 15:20:19\",\"2022-08-23 15:20:21\",\"2022-08-23 15:42:51\",\"2022-08-23 16:12:51\",\"2022-08-24 07:54:38\",\"2022-08-24 07:54:39\",\"2022-08-24 07:54:46\",\"2022-08-24 07:54:49\",\"2022-08-24 08:06:19\",\"2022-08-24 15:10:11\",\"2022-08-24 15:10:39\",\"2022-08-24 15:10:51\",\"2022-08-24 15:10:55\",\"2022-08-24 15:14:32\",\"2022-08-24 15:14:34\",\"2022-08-24 15:33:18\",\"2022-08-25 15:02:15\",\"2022-08-25 15:02:32\",\"2022-08-25 15:10:21\",\"2022-08-25 15:10:23\",\"2022-08-25 15:33:38\",\"2022-08-26 04:24:43\",\"2022-08-26 04:24:49\",\"2022-08-26 04:30:48\",\"2022-08-26 04:30:51\",\"2022-08-26 14:54:40\",\"2022-08-26 14:54:42\",\"2022-08-26 14:54:52\",\"2022-08-26 14:54:55\",\"2022-08-26 14:58:16\",\"2022-08-26 14:58:19\",\"2022-08-26 15:23:14\",\"2022-08-26 15:23:20\",\"2022-08-26 15:30:48\",\"2022-08-27 08:10:28\",\"2022-08-27 08:10:31\",\"2022-08-27 14:51:07\",\"2022-08-27 14:51:19\",\"2022-08-27 14:51:36\",\"2022-08-27 14:51:46\",\"2022-08-27 15:05:24\",\"2022-08-27 15:05:25\",\"2022-08-28 07:51:51\",\"2022-08-28 07:51:52\",\"2022-08-28 07:52:01\",\"2022-08-28 08:00:13\",\"2022-08-28 08:00:15\",\"2022-08-28 08:18:31\",\"2022-08-28 08:18:32\",\"2022-08-28 08:36:11\",\"2022-08-28 08:36:14\",\"2022-08-28 08:49:05\",\"2022-08-28 08:49:06\",\"2022-08-28 08:59:48\",\"2022-08-28 08:59:50\",\"2022-08-28 09:04:00\",\"2022-08-28 09:04:01\",\"2022-08-28 09:15:31\",\"2022-08-28 09:45:31\",\"2022-08-28 15:01:08\",\"2022-08-28 15:01:11\",\"2022-08-28 15:01:16\",\"2022-08-28 15:01:19\",\"2022-08-28 15:20:23\",\"2022-08-28 15:20:25\",\"2022-08-28 15:44:14\",\"2022-08-28 16:14:15\",\"2022-08-29 04:24:20\",\"2022-08-29 04:24:26\",\"2022-08-29 04:24:27\",\"2022-08-29 04:51:58\",\"2022-08-29 07:42:58\",\"2022-08-29 07:43:03\",\"2022-08-29 07:43:15\",\"2022-08-29 07:43:22\",\"2022-08-29 07:50:29\",\"2022-08-29 07:50:35\",\"2022-08-29 08:03:02\",\"2022-08-30 04:48:06\",\"2022-08-30 04:48:08\",\"2022-08-30 04:48:23\",\"2022-08-30 04:48:25\",\"2022-08-30 04:56:10\",\"2022-08-30 04:56:12\",\"2022-08-30 07:47:50\",\"2022-08-30 07:47:51\",\"2022-08-30 07:47:54\",\"2022-08-30 07:58:06\",\"2022-08-30 07:58:07\",\"2022-08-31 03:50:55\",\"2022-08-31 03:50:56\",\"2022-08-31 03:51:00\",\"2022-08-31 04:04:01\",\"2022-08-31 04:04:06\",\"2022-08-31 07:47:21\",\"2022-08-31 07:47:22\",\"2022-08-31 07:47:25\",\"2022-08-31 07:56:27\",\"2022-08-31 07:56:28\",\"2022-08-31 08:07:49\",\"2022-08-31 08:07:50\",\"2022-08-31 15:20:02\",\"2022-08-31 15:20:11\",\"2022-08-31 15:30:52\",\"2022-08-31 15:30:54\",\"2022-08-31 15:49:01\",\"2022-08-31 15:49:04\",\"2022-08-31 15:49:10\",\"2022-09-04 12:35:40\",\"2022-09-04 12:36:26\",\"2022-09-04 12:36:28\",\"2022-09-04 12:36:29\",\"2022-09-04 12:37:20\",\"2022-09-04 12:37:21\",\"2022-09-04 12:37:23\",\"2022-09-04 12:37:24\",\"2022-09-04 12:37:34\",\"2022-09-04 12:37:35\",\"2022-09-04 12:38:37\",\"2022-09-04 12:40:04\",\"2022-09-04 12:40:28\",\"2022-09-04 12:45:06\",\"2022-09-04 12:45:08\",\"2022-09-04 12:45:11\",\"2022-09-04 12:45:12\",\"2022-09-04 12:45:19\",\"2022-09-04 12:45:28\",\"2022-09-04 12:45:29\",\"2022-09-04 13:17:20\",\"2022-09-04 14:00:05\",\"2022-09-04 14:00:11\",\"2022-09-04 14:00:12\",\"2022-09-04 14:16:13\",\"2022-09-04 15:54:26\",\"2022-09-04 16:03:34\",\"2022-09-04 16:03:35\",\"2022-09-04 16:03:36\",\"2022-09-04 16:03:38\",\"2022-09-04 16:03:52\",\"2022-09-04 16:03:53\",\"2022-09-04 17:02:13\",\"2022-09-05 08:36:12\",\"2022-09-05 08:36:13\",\"2022-09-05 08:36:19\",\"2022-09-05 08:37:51\",\"2022-09-05 08:37:54\",\"2022-09-05 08:57:25\",\"2022-09-06 04:01:14\",\"2022-09-06 04:01:15\",\"2022-09-06 04:01:22\",\"2022-09-06 04:06:17\",\"2022-09-06 04:06:19\",\"2022-09-07 07:44:23\",\"2022-09-07 07:44:24\",\"2022-09-07 07:44:28\",\"2022-09-07 07:56:32\",\"2022-09-07 07:56:34\",\"2022-09-07 15:03:37\",\"2022-09-07 15:03:39\",\"2022-09-07 15:06:35\",\"2022-09-07 15:06:39\",\"2022-09-07 15:13:18\",\"2022-09-07 15:13:23\",\"2022-09-07 15:30:33\",\"2022-09-08 14:51:33\",\"2022-09-08 14:51:39\",\"2022-09-08 14:51:45\",\"2022-09-08 14:58:26\",\"2022-09-08 14:58:31\",\"2022-09-08 15:17:22\",\"2022-09-08 15:19:57\",\"2022-09-08 15:20:43\",\"2022-09-09 07:52:56\",\"2022-09-09 07:53:00\",\"2022-09-09 07:53:05\",\"2022-09-09 07:55:35\",\"2022-09-09 07:55:41\",\"2022-09-09 08:06:25\",\"2022-09-09 08:06:26\",\"2022-09-10 03:57:53\",\"2022-09-10 03:57:54\",\"2022-09-10 03:58:44\",\"2022-09-10 03:58:48\",\"2022-09-10 04:03:56\",\"2022-09-10 04:03:58\",\"2022-09-10 04:20:33\",\"2022-09-10 04:20:34\",\"2022-09-11 14:48:03\",\"2022-09-11 14:48:04\",\"2022-09-11 14:48:14\",\"2022-09-11 14:56:36\",\"2022-09-11 14:56:37\",\"2022-09-11 14:57:09\",\"2022-09-11 14:57:11\",\"2022-09-11 14:58:14\",\"2022-09-11 14:58:15\",\"2022-09-11 15:03:17\",\"2022-09-11 15:03:19\",\"2022-09-11 15:05:07\",\"2022-09-11 15:05:10\",\"2022-09-11 15:05:46\",\"2022-09-11 15:05:50\",\"2022-09-11 15:06:19\",\"2022-09-11 15:06:21\",\"2022-09-11 15:06:43\",\"2022-09-11 15:06:45\",\"2022-09-11 15:07:17\",\"2022-09-11 15:07:18\",\"2022-09-11 15:08:00\",\"2022-09-11 15:08:02\",\"2022-09-11 15:08:57\",\"2022-09-11 15:08:59\",\"2022-09-11 15:10:30\",\"2022-09-11 15:10:32\",\"2022-09-11 15:11:07\",\"2022-09-11 15:11:09\",\"2022-09-11 15:16:58\",\"2022-09-11 15:17:14\",\"2022-09-11 15:21:58\",\"2022-09-11 15:22:02\",\"2022-09-11 15:22:14\",\"2022-09-11 15:22:18\",\"2022-09-11 15:22:29\",\"2022-09-11 15:35:21\",\"2022-09-11 15:35:23\",\"2022-09-11 15:40:41\",\"2022-09-11 15:40:42\",\"2022-09-11 15:42:38\",\"2022-09-11 15:42:39\",\"2022-09-11 15:42:59\",\"2022-09-11 15:43:01\",\"2022-09-11 15:43:37\",\"2022-09-11 15:43:39\",\"2022-09-11 15:51:45\",\"2022-09-11 15:51:47\",\"2022-09-11 15:52:18\",\"2022-09-11 15:52:19\",\"2022-09-11 15:59:12\",\"2022-09-11 15:59:14\",\"2022-09-11 16:02:54\",\"2022-09-11 16:02:57\",\"2022-09-11 16:04:26\",\"2022-09-11 16:04:28\",\"2022-09-11 16:07:13\",\"2022-09-11 16:07:15\",\"2022-09-11 16:14:20\",\"2022-09-11 16:14:22\",\"2022-09-11 16:25:00\",\"2022-09-12 04:12:12\",\"2022-09-12 04:12:35\",\"2022-09-12 04:12:36\",\"2022-09-12 04:25:32\",\"2022-09-12 04:25:40\",\"2022-09-12 04:25:41\",\"2022-09-12 04:57:27\",\"2022-09-12 04:57:29\",\"2022-09-12 15:04:44\",\"2022-09-12 15:04:51\",\"2022-09-12 15:05:18\",\"2022-09-12 15:05:31\",\"2022-09-12 15:05:41\",\"2022-09-12 15:26:04\",\"2022-09-12 15:26:07\",\"2022-09-12 15:44:19\",\"2022-09-12 15:53:53\",\"2022-09-12 15:58:59\",\"2022-09-12 16:18:58\",\"2022-09-13 04:08:44\",\"2022-09-13 04:08:45\",\"2022-09-13 04:08:49\",\"2022-09-13 04:16:48\",\"2022-09-13 04:16:50\",\"2022-09-13 04:30:27\",\"2022-09-13 07:37:38\",\"2022-09-13 07:37:39\",\"2022-09-13 07:37:46\",\"2022-09-13 07:43:24\",\"2022-09-13 07:43:29\",\"2022-09-13 07:58:27\",\"2022-09-13 07:58:29\",\"2022-09-13 07:58:59\",\"2022-09-13 07:59:02\",\"2022-09-13 08:00:07\",\"2022-09-13 08:00:08\",\"2022-09-13 08:00:52\",\"2022-09-13 08:00:55\",\"2022-09-13 08:05:17\",\"2022-09-13 08:05:19\",\"2022-09-13 14:42:48\",\"2022-09-13 14:42:49\",\"2022-09-13 14:42:55\",\"2022-09-13 14:54:55\",\"2022-09-13 14:55:00\",\"2022-09-13 15:07:21\",\"2022-09-13 15:11:42\",\"2022-09-13 15:11:44\",\"2022-09-13 15:11:46\",\"2022-09-13 15:28:24\",\"2022-09-13 15:28:29\",\"2022-09-13 15:46:46\",\"2022-09-13 15:46:49\",\"2022-09-13 15:57:44\",\"2022-09-14 04:15:27\",\"2022-09-14 04:15:28\",\"2022-09-14 04:15:30\",\"2022-09-14 04:15:39\",\"2022-09-14 04:30:46\",\"2022-09-14 04:30:48\",\"2022-09-14 04:38:45\",\"2022-09-14 04:38:47\",\"2022-09-14 04:44:28\",\"2022-09-14 07:53:12\",\"2022-09-14 07:53:13\",\"2022-09-14 07:53:18\",\"2022-09-14 08:03:47\",\"2022-09-14 08:03:49\",\"2022-09-14 14:32:22\",\"2022-09-14 14:32:23\",\"2022-09-14 14:32:27\",\"2022-09-14 14:42:33\",\"2022-09-14 14:42:35\",\"2022-09-14 14:59:33\",\"2022-09-14 14:59:37\",\"2022-09-14 15:24:37\",\"2022-09-14 15:24:51\",\"2022-09-15 03:42:57\",\"2022-09-15 03:42:58\",\"2022-09-15 03:43:01\",\"2022-09-15 04:04:37\",\"2022-09-15 04:04:42\",\"2022-09-15 04:24:29\",\"2022-09-15 04:24:31\",\"2022-09-15 04:43:44\",\"2022-09-15 04:43:48\",\"2022-09-15 05:03:34\",\"2022-09-15 05:03:39\",\"2022-09-15 05:03:54\",\"2022-09-15 07:45:24\",\"2022-09-15 07:45:25\",\"2022-09-15 07:45:31\",\"2022-09-15 07:47:19\",\"2022-09-15 07:47:23\",\"2022-09-15 07:47:47\",\"2022-09-15 07:47:50\",\"2022-09-15 07:48:10\",\"2022-09-15 07:57:10\",\"2022-09-15 07:57:11\",\"2022-09-15 08:10:24\",\"2022-09-15 08:10:29\",\"2022-09-15 08:10:35\",\"2022-09-15 14:55:07\",\"2022-09-15 14:55:08\",\"2022-09-15 14:55:12\",\"2022-09-15 15:18:36\",\"2022-09-16 03:34:56\",\"2022-09-16 03:35:13\",\"2022-09-16 03:44:58\",\"2022-09-16 03:49:42\",\"2022-09-16 04:04:33\",\"2022-09-16 04:05:50\",\"2022-09-16 04:09:12\",\"2022-09-16 04:09:14\",\"2022-09-16 04:31:01\",\"2022-09-16 04:31:04\",\"2022-09-16 04:51:19\",\"2022-09-16 04:51:21\",\"2022-09-16 05:08:36\",\"2022-09-16 14:48:21\",\"2022-09-16 14:48:22\",\"2022-09-16 14:48:33\",\"2022-09-16 15:07:29\",\"2022-09-16 15:07:31\",\"2022-09-16 15:14:20\",\"2022-09-16 15:16:12\",\"2022-09-16 15:23:34\",\"2022-09-16 15:38:49\",\"2022-09-16 15:57:29\",\"2022-09-16 15:57:34\",\"2022-09-16 16:20:41\",\"2022-09-16 16:26:54\",\"2022-09-16 16:32:00\",\"2022-09-17 04:07:53\",\"2022-09-17 04:07:54\",\"2022-09-17 04:08:00\",\"2022-09-17 04:22:35\",\"2022-09-17 15:50:43\",\"2022-09-17 16:18:42\",\"2022-09-17 16:18:43\",\"2022-09-17 16:18:51\",\"2022-09-17 16:19:00\",\"2022-09-17 16:20:27\",\"2022-09-17 16:20:30\",\"2022-09-17 16:20:34\",\"2022-09-17 16:20:37\",\"2022-09-17 16:22:09\",\"2022-09-17 16:22:42\",\"2022-09-17 16:27:53\",\"2022-09-18 14:39:58\",\"2022-09-18 14:39:59\",\"2022-09-18 14:40:26\",\"2022-09-18 14:40:29\",\"2022-09-18 14:44:40\",\"2022-09-18 14:44:43\",\"2022-09-18 15:00:23\",\"2022-09-18 15:00:25\",\"2022-09-18 15:12:31\",\"2022-09-18 15:12:35\",\"2022-09-18 15:33:29\",\"2022-09-18 15:33:30\",\"2022-09-19 04:01:20\",\"2022-09-19 04:01:21\",\"2022-09-19 04:01:27\",\"2022-09-19 04:03:40\",\"2022-09-19 04:03:43\",\"2022-09-19 04:04:04\",\"2022-09-19 04:04:08\",\"2022-09-19 04:04:47\",\"2022-09-19 04:04:49\",\"2022-09-20 14:55:24\",\"2022-09-20 14:55:27\",\"2022-09-20 14:55:46\",\"2022-09-20 14:55:49\",\"2022-09-20 15:21:45\",\"2022-09-21 15:19:32\",\"2022-09-21 15:19:33\",\"2022-09-21 15:19:38\",\"2022-09-21 15:54:00\",\"2022-09-21 16:13:53\",\"2022-09-21 16:18:59\",\"2022-09-22 04:30:47\",\"2022-09-22 04:30:48\",\"2022-09-22 04:30:52\",\"2022-09-22 05:05:49\",\"2022-09-22 05:10:46\",\"2022-09-22 05:15:47\",\"2022-09-22 08:50:15\",\"2022-09-22 08:50:18\",\"2022-09-22 09:57:58\",\"2022-09-24 21:52:22\",\"2022-09-24 21:52:26\",\"2022-09-24 21:52:30\",\"2022-09-24 21:52:51\",\"2022-09-24 21:52:54\",\"2022-09-24 21:52:55\",\"2022-09-25 04:48:22\",\"2022-09-30 14:52:58\",\"2022-09-30 14:52:59\",\"2022-09-30 14:53:07\",\"2022-09-30 14:53:20\",\"2022-09-30 14:53:24\",\"2022-09-30 14:53:49\",\"2022-09-30 14:53:50\",\"2022-10-08 14:04:46\",\"2022-10-08 14:04:47\"],\"xaxis\":\"x\",\"y\":[2,2,3,1,2,1,1,2,2,4,1,1,1,1,2,2,2,2,2,2,2,1,1,2,2,1,1,2,1,1,2,1,1,1,1,2,1,1,2,2,1,1,1,1,2,1,1,1,1,1,2,1,1,2,2,1,1,1,1,1,2,1,1,1,2,1,1,2,1,1,1,2,2,1,1,2,1,1,2,2,1,1,1,1,2,1,1,4,2,2,2,1,1,1,1,1,1,1,1,1,2,1,1,2,2,2,1,1,1,1,1,2,1,1,2,1,1,3,3,1,1,4,1,1,2,1,1,2,1,1,2,2,1,2,1,1,1,1,1,1,1,1,2,2,1,1,2,2,2,2,2,1,1,2,1,1,2,1,1,2,2,2,2,2,2,2,1,1,2,1,1,1,1,1,1,1,1,1,1,6,1,1,4,2,2,1,1,2,2,2,2,2,2,1,1,2,1,1,2,1,1,2,1,1,2,1,1,2,1,1,1,1,1,1,1,2,1,1,2,1,1,1,1,1,1,1,1,1,1,1,2,1,1,2,2,2,1,2,2,1,1,2,2,2,1,1,2,1,1,2,2,1,1,1,1,1,2,1,1,1,1,2,2,2,1,1,1,1,2,1,1,2,2,2,1,3,2,2,1,1,1,1,1,1,1,2,1,1,2,2,1,1,1,1,2,2,2,1,1,2,2,1,1,2,2,1,1,1,1,2,2,2,1,1,2,1,1,2,1,1,1,1,2,2,2,1,1,1,1,2,2,2,1,1,2,2,4,2,1,1,1,1,1,1,1,1,1,1,1,1,1,2,2,1,1,1,1,2,2,2,1,1,1,4,2,1,2,2,2,2,2,2,2,1,1,2,2,1,1,1,1,2,1,1,2,2,2,2,2,2,2,2,2,2,2,2,1,2,2,2,2,1,2,2,2,2,2,2,3,2,2,2,2,3,2,2,2,1,2,2,2,2,2,2,2,2,1,2,1,2,2,2,2,2,1,2,2,2,2,2,2,2,2,2,2,2,2,2,2,2,2,1,2,2,2,2,2,2,2,2,1,1,2,1,2,2,2,2,2,2,1,2,2,2,2,2,1,2,2,2,2,1,2,2,2,2,1,2,2,2,2,2,2,3,2,2,2,2,2,2,4,2,2,2,2,2,2,2,1,1,2,2,2,2,2,2,2,2,1,1,2,1,1,1,2,2,2,2,2,2,1,1,2,1,2,2,2,2,2,1,2,2,2,2,1,2,2,2,2,1,2,2,2,2,2,2,2,2,2,2,2,2,2,2,1,2,2,2,2,2,2,1,2,2,2,2,2,2,2,1,2,2,2,2,2,2,2,2,2,2,2,2,2,2,2,2,2,2,2,2,2,2,2,2,2,2,2,2,2,2,2,2,2,2,2,2,2,2,2,2,2,2,2,2,2,2,2,2,2,2,2,2,2,2,2,2,2,2,2,2,2,1,1,2,1,1,2,2,1,2,2,2,2,2,2,2,2,2,2,1,2,2,2,2,2,1,2,2,2,2,2,2,2,2,2,2,2,2,2,2,1,2,2,2,2,2,2,2,2,2,2,2,2,2,2,1,2,2,2,2,2,2,2,1,2,2,2,2,1,2,2,2,2,2,2,2,2,1,2,2,2,2,2,2,2,2,2,2,2,1,2,2,2,2,2,2,2,2,2,2,2,2,1,2,2,2,3,2,2,2,2,2,2,2,2,2,2,2,2,1,2,2,2,2,2,2,2,2,2,2,2,2,2,1,2,2,2,2,1,1,2,1,4,2,2,2,2,2,2,1,2,2,2,2,2,2,2,2,2,2,2,1,2,2,2,2,2,2,2,2,1,2,2,2,2,1,2,2,2,2,2,1,2,2,2,2,4,3,2,2,2,2,2,2,1,1,4,1,2,2,2,2,2,2,1,1],\"yaxis\":\"y\",\"type\":\"scattergl\"},{\"hovertemplate\":\"Profile Name=User 2\\u003cbr\\u003eClick_Utc_Ts=%{x}\\u003cbr\\u003eTotal Count=%{y}\\u003cextra\\u003e\\u003c\\u002fextra\\u003e\",\"legendgroup\":\"User 2\",\"line\":{\"color\":\"#00cc96\",\"dash\":\"solid\"},\"marker\":{\"symbol\":\"circle\"},\"mode\":\"lines\",\"name\":\"User 2\",\"showlegend\":true,\"x\":[\"2022-08-03 16:55:30\",\"2022-08-03 16:55:31\",\"2022-08-03 16:55:34\",\"2022-08-03 16:55:35\"],\"xaxis\":\"x\",\"y\":[2,4,1,1],\"yaxis\":\"y\",\"type\":\"scattergl\"},{\"hovertemplate\":\"Profile Name=User 0\\u003cbr\\u003eClick_Utc_Ts=%{x}\\u003cbr\\u003eTotal Count=%{y}\\u003cextra\\u003e\\u003c\\u002fextra\\u003e\",\"legendgroup\":\"User 0\",\"line\":{\"color\":\"#ab63fa\",\"dash\":\"solid\"},\"marker\":{\"symbol\":\"circle\"},\"mode\":\"lines\",\"name\":\"User 0\",\"showlegend\":true,\"x\":[\"2022-08-03 16:55:37\",\"2022-08-03 16:55:53\",\"2022-08-03 16:56:17\",\"2022-08-03 16:56:18\",\"2022-08-03 16:56:26\",\"2022-08-03 16:56:38\",\"2022-08-03 16:57:01\",\"2022-08-03 16:57:34\",\"2022-08-03 16:57:35\",\"2022-08-05 04:12:15\",\"2022-08-05 04:12:38\",\"2022-08-05 04:12:51\",\"2022-08-05 04:12:52\",\"2022-08-05 04:12:55\",\"2022-08-05 04:13:08\",\"2022-08-05 04:13:09\",\"2022-08-05 05:52:09\",\"2022-08-05 05:56:57\",\"2022-08-05 05:59:30\",\"2022-08-05 05:59:32\",\"2022-08-05 06:35:21\",\"2022-08-09 05:50:29\",\"2022-08-09 05:50:30\",\"2022-08-14 15:41:08\",\"2022-08-19 15:23:35\",\"2022-08-19 15:23:49\",\"2022-08-19 15:23:50\",\"2022-08-19 15:24:15\",\"2022-08-20 08:12:06\",\"2022-08-20 08:12:11\",\"2022-08-20 08:13:49\",\"2022-08-21 04:44:45\",\"2022-08-23 11:41:56\",\"2022-08-23 11:41:57\",\"2022-08-24 03:44:28\",\"2022-08-24 03:46:13\",\"2022-08-24 03:46:14\",\"2022-08-24 03:46:28\",\"2022-08-24 03:46:29\",\"2022-08-24 03:46:31\",\"2022-08-24 03:48:09\",\"2022-08-24 03:48:10\",\"2022-08-24 03:56:55\",\"2022-08-24 04:06:13\",\"2022-08-24 04:06:14\",\"2022-08-24 04:06:17\",\"2022-08-24 04:06:18\",\"2022-08-24 05:08:21\",\"2022-08-24 05:08:54\",\"2022-08-24 05:09:03\",\"2022-08-24 05:09:04\",\"2022-08-24 05:11:15\",\"2022-08-24 05:11:17\",\"2022-08-24 05:11:21\",\"2022-08-24 05:11:23\",\"2022-08-24 05:11:25\",\"2022-08-24 05:47:03\",\"2022-08-24 05:47:04\",\"2022-08-24 05:55:14\",\"2022-08-24 05:55:16\",\"2022-08-24 05:55:17\",\"2022-08-24 05:59:44\",\"2022-08-24 05:59:48\",\"2022-08-24 06:02:36\",\"2022-08-24 06:02:37\",\"2022-08-24 06:02:38\",\"2022-08-24 07:20:43\",\"2022-08-24 07:20:44\",\"2022-08-24 07:20:50\",\"2022-08-24 07:20:52\",\"2022-08-24 07:20:53\",\"2022-08-24 07:51:31\",\"2022-08-24 07:51:32\",\"2022-08-24 08:18:44\",\"2022-08-24 08:18:45\",\"2022-08-24 08:18:46\",\"2022-08-24 08:18:51\",\"2022-08-24 09:05:18\",\"2022-08-24 09:05:19\",\"2022-08-24 10:22:55\",\"2022-08-24 10:22:57\",\"2022-08-24 10:22:58\",\"2022-08-24 11:32:11\",\"2022-08-24 11:32:12\",\"2022-08-24 11:55:54\",\"2022-08-24 12:46:54\",\"2022-08-24 12:48:54\",\"2022-08-24 12:48:56\",\"2022-08-24 12:48:57\",\"2022-08-24 12:56:23\",\"2022-08-24 12:56:24\",\"2022-08-24 12:56:50\",\"2022-08-24 12:57:43\",\"2022-08-24 12:57:50\",\"2022-08-24 12:57:51\",\"2022-08-24 12:57:53\",\"2022-08-24 12:58:37\",\"2022-08-24 12:58:38\",\"2022-08-24 13:09:24\",\"2022-08-24 16:22:50\",\"2022-08-24 16:22:51\",\"2022-08-24 16:22:54\",\"2022-08-24 16:23:13\",\"2022-08-24 16:23:38\",\"2022-08-24 16:23:39\",\"2022-08-24 16:41:21\",\"2022-08-24 16:41:23\",\"2022-08-24 17:20:48\",\"2022-08-24 18:19:48\",\"2022-08-24 19:18:12\",\"2022-08-24 19:50:16\",\"2022-08-24 20:52:15\",\"2022-08-24 21:34:07\",\"2022-08-24 22:16:09\",\"2022-08-24 22:57:08\",\"2022-08-24 23:58:43\",\"2022-08-25 00:55:14\",\"2022-08-25 01:49:12\",\"2022-08-25 02:19:13\",\"2022-08-25 03:47:34\",\"2022-08-25 03:47:51\",\"2022-08-25 03:47:52\",\"2022-08-25 03:48:17\",\"2022-08-25 03:48:20\",\"2022-08-25 03:48:21\",\"2022-08-25 03:55:58\",\"2022-08-25 04:06:01\",\"2022-08-25 04:06:14\",\"2022-08-25 04:06:15\",\"2022-08-25 04:06:26\",\"2022-08-25 04:06:31\",\"2022-08-25 04:07:25\",\"2022-08-25 04:07:26\",\"2022-08-25 04:07:38\",\"2022-08-25 05:03:20\",\"2022-08-25 05:05:59\",\"2022-08-25 05:06:00\",\"2022-08-25 05:09:35\",\"2022-08-25 05:17:00\",\"2022-08-25 05:17:01\",\"2022-08-25 05:17:43\",\"2022-08-25 05:17:44\",\"2022-08-25 05:18:37\",\"2022-08-25 05:18:38\",\"2022-08-25 05:18:39\",\"2022-08-25 05:19:50\",\"2022-08-25 05:19:55\",\"2022-08-25 05:19:56\",\"2022-08-25 05:19:59\",\"2022-08-25 05:20:06\",\"2022-08-25 05:56:15\",\"2022-08-25 05:56:16\",\"2022-08-25 05:56:19\",\"2022-08-25 06:01:48\",\"2022-08-25 06:01:50\",\"2022-08-25 06:01:51\",\"2022-08-25 06:01:52\",\"2022-08-25 06:03:56\",\"2022-08-25 06:03:57\",\"2022-08-25 06:04:18\",\"2022-08-25 06:04:19\",\"2022-08-25 06:58:50\",\"2022-08-25 07:11:20\",\"2022-08-25 07:11:21\",\"2022-08-25 07:17:51\",\"2022-08-25 07:28:54\",\"2022-08-25 07:28:55\",\"2022-08-25 07:28:57\",\"2022-08-25 07:28:58\",\"2022-08-25 07:33:40\",\"2022-08-25 07:33:42\",\"2022-08-25 07:37:58\",\"2022-08-25 07:48:46\",\"2022-08-25 07:48:47\",\"2022-08-25 07:55:58\",\"2022-08-25 07:56:13\",\"2022-08-25 08:11:21\",\"2022-08-25 08:21:18\",\"2022-08-25 08:21:24\",\"2022-08-25 08:21:25\",\"2022-08-25 08:37:24\",\"2022-08-25 08:38:27\",\"2022-08-25 08:38:28\",\"2022-08-25 09:20:08\",\"2022-08-25 09:23:32\",\"2022-08-25 09:25:09\",\"2022-08-25 09:25:14\",\"2022-08-25 09:25:15\",\"2022-08-25 09:27:59\",\"2022-08-25 09:28:06\",\"2022-08-25 09:28:07\",\"2022-08-25 09:28:12\",\"2022-08-25 09:36:45\",\"2022-08-25 09:39:19\",\"2022-08-25 09:39:20\",\"2022-08-25 10:03:23\",\"2022-08-25 10:03:38\",\"2022-08-25 10:03:39\",\"2022-08-25 10:25:20\",\"2022-08-25 10:25:38\",\"2022-08-25 10:25:39\",\"2022-08-25 11:23:24\",\"2022-08-25 11:40:46\",\"2022-08-25 11:45:33\",\"2022-08-25 11:45:38\",\"2022-08-25 11:45:39\",\"2022-08-25 12:11:03\",\"2022-08-25 12:16:34\",\"2022-08-25 13:25:09\",\"2022-08-25 13:25:10\",\"2022-08-25 13:25:11\",\"2022-08-25 13:25:12\",\"2022-08-25 13:45:08\",\"2022-08-25 14:28:53\",\"2022-08-25 14:41:04\",\"2022-08-25 14:56:43\",\"2022-08-25 15:30:13\",\"2022-08-25 16:11:33\",\"2022-08-25 18:12:46\",\"2022-08-25 18:12:48\",\"2022-08-25 18:12:49\",\"2022-08-25 19:02:59\",\"2022-08-25 19:06:19\",\"2022-08-25 19:06:20\",\"2022-08-25 19:41:16\",\"2022-08-25 20:11:16\",\"2022-08-25 20:25:42\",\"2022-08-26 04:04:50\",\"2022-08-26 04:05:31\",\"2022-08-26 04:24:41\",\"2022-08-26 04:24:45\",\"2022-08-26 04:24:46\",\"2022-08-26 04:48:47\",\"2022-08-26 04:56:59\",\"2022-08-26 05:24:01\",\"2022-08-26 05:24:04\",\"2022-08-26 06:00:40\",\"2022-08-26 06:30:41\",\"2022-08-26 07:04:33\",\"2022-08-26 07:21:41\",\"2022-08-26 07:23:30\",\"2022-08-26 07:23:31\",\"2022-08-26 07:23:34\",\"2022-08-26 07:23:35\",\"2022-08-26 07:23:39\",\"2022-08-26 07:23:40\",\"2022-08-26 07:23:41\",\"2022-08-26 08:05:34\",\"2022-08-26 08:44:00\",\"2022-08-26 08:52:11\",\"2022-08-26 08:52:12\",\"2022-08-26 08:52:14\",\"2022-08-26 08:52:15\",\"2022-08-26 08:52:45\",\"2022-08-26 08:54:00\",\"2022-08-26 08:54:01\",\"2022-08-26 08:54:46\",\"2022-08-26 08:56:37\",\"2022-08-26 08:56:38\",\"2022-08-26 09:01:26\",\"2022-08-26 09:37:50\",\"2022-08-26 09:38:10\",\"2022-08-26 09:38:15\",\"2022-08-26 09:38:16\",\"2022-08-26 09:44:03\",\"2022-08-26 09:45:11\",\"2022-08-26 10:02:54\",\"2022-08-26 11:16:08\",\"2022-08-26 11:16:24\",\"2022-08-26 11:16:25\",\"2022-08-26 11:34:34\",\"2022-08-26 11:34:40\",\"2022-08-26 11:34:45\",\"2022-08-26 12:13:39\",\"2022-08-26 12:13:44\",\"2022-08-26 12:54:37\",\"2022-08-26 12:55:05\",\"2022-08-26 12:55:15\",\"2022-08-26 12:55:19\",\"2022-08-26 13:04:14\",\"2022-08-26 13:43:19\",\"2022-08-26 13:43:20\",\"2022-08-26 13:43:24\",\"2022-08-26 13:43:26\",\"2022-08-26 19:02:13\",\"2022-08-26 19:02:21\",\"2022-08-26 19:02:22\",\"2022-08-26 19:36:29\",\"2022-08-26 19:36:32\",\"2022-08-26 19:36:33\",\"2022-08-26 19:36:34\",\"2022-08-26 19:36:38\",\"2022-08-26 19:36:42\",\"2022-08-26 19:36:55\",\"2022-08-26 19:44:21\",\"2022-08-26 19:44:25\",\"2022-08-27 05:36:40\",\"2022-08-27 05:36:42\",\"2022-08-27 05:36:44\",\"2022-08-27 05:58:44\",\"2022-08-27 05:59:12\",\"2022-08-27 06:00:15\",\"2022-08-27 07:41:37\",\"2022-08-27 07:42:00\",\"2022-08-27 07:42:01\",\"2022-08-27 09:05:18\",\"2022-08-27 09:05:20\",\"2022-08-27 09:05:21\",\"2022-08-27 09:14:06\",\"2022-08-27 09:30:30\",\"2022-08-27 09:50:59\",\"2022-08-27 10:19:23\",\"2022-08-27 10:20:04\",\"2022-08-27 10:20:05\",\"2022-08-27 11:22:10\",\"2022-08-27 11:44:12\",\"2022-08-27 11:50:21\",\"2022-08-27 11:50:22\",\"2022-08-27 12:18:35\",\"2022-08-27 12:18:36\",\"2022-08-27 12:30:38\",\"2022-08-27 12:32:50\",\"2022-08-27 12:32:51\",\"2022-08-27 12:41:56\",\"2022-08-27 13:16:25\",\"2022-08-27 13:47:05\",\"2022-08-27 14:17:51\",\"2022-08-27 15:43:56\",\"2022-08-27 15:43:57\",\"2022-08-27 15:44:01\",\"2022-08-27 15:44:02\",\"2022-08-27 18:44:55\",\"2022-08-27 18:44:58\",\"2022-08-27 19:20:09\",\"2022-08-27 19:33:04\",\"2022-08-27 20:03:41\",\"2022-08-27 20:47:48\",\"2022-08-27 21:18:37\",\"2022-08-27 23:00:28\",\"2022-08-28 00:12:53\",\"2022-08-28 00:44:51\",\"2022-08-28 02:09:17\",\"2022-08-28 02:53:37\",\"2022-08-28 03:25:20\",\"2022-08-28 03:56:35\",\"2022-08-28 03:56:38\",\"2022-08-28 03:56:39\",\"2022-08-28 03:56:41\",\"2022-08-28 03:56:43\",\"2022-08-28 03:56:58\",\"2022-08-28 03:56:59\",\"2022-08-28 03:57:04\",\"2022-08-28 03:57:43\",\"2022-08-28 03:57:44\",\"2022-08-28 06:25:19\",\"2022-08-28 06:30:45\",\"2022-08-28 06:30:46\",\"2022-08-28 06:30:54\",\"2022-08-28 06:30:55\",\"2022-08-28 06:31:04\",\"2022-08-28 06:31:16\",\"2022-08-28 06:31:17\",\"2022-08-28 07:03:19\",\"2022-08-28 07:40:57\",\"2022-08-28 07:41:14\",\"2022-08-28 07:41:15\",\"2022-08-28 08:32:39\",\"2022-08-28 08:32:55\",\"2022-08-28 08:32:56\",\"2022-08-28 09:08:40\",\"2022-08-28 09:31:36\",\"2022-08-28 09:45:10\",\"2022-08-28 09:45:15\",\"2022-08-28 10:33:43\",\"2022-08-28 11:12:51\",\"2022-08-28 11:45:10\",\"2022-08-28 12:16:41\",\"2022-08-28 12:51:15\",\"2022-08-28 17:53:46\",\"2022-08-28 17:53:47\",\"2022-08-28 17:53:48\",\"2022-08-29 04:32:45\",\"2022-08-29 04:32:53\",\"2022-08-29 04:32:54\",\"2022-08-29 05:12:44\",\"2022-08-29 05:17:58\",\"2022-08-29 15:34:15\",\"2022-08-31 05:10:48\",\"2022-08-31 05:10:55\",\"2022-08-31 05:10:56\",\"2022-08-31 05:10:57\",\"2022-08-31 05:11:03\",\"2022-08-31 05:11:12\",\"2022-08-31 05:11:16\",\"2022-08-31 05:11:50\",\"2022-08-31 05:13:30\",\"2022-08-31 05:54:28\",\"2022-08-31 05:54:29\",\"2022-08-31 06:03:36\",\"2022-08-31 06:15:56\",\"2022-08-31 06:19:15\",\"2022-08-31 06:19:16\",\"2022-08-31 06:19:23\",\"2022-08-31 06:19:24\",\"2022-08-31 06:45:42\",\"2022-08-31 06:45:43\",\"2022-08-31 06:47:52\",\"2022-08-31 06:51:22\",\"2022-08-31 06:52:25\",\"2022-08-31 06:52:42\",\"2022-08-31 06:52:43\",\"2022-08-31 06:52:44\",\"2022-08-31 06:52:45\",\"2022-08-31 07:15:15\",\"2022-08-31 07:15:36\",\"2022-09-03 08:24:10\",\"2022-09-03 08:24:39\",\"2022-09-03 08:24:40\",\"2022-09-03 08:26:20\",\"2022-09-03 20:59:58\",\"2022-09-03 21:03:20\",\"2022-09-03 21:03:21\",\"2022-09-04 09:16:33\",\"2022-09-04 12:59:09\",\"2022-09-04 12:59:11\",\"2022-09-04 13:00:47\",\"2022-09-04 13:01:06\",\"2022-09-04 13:01:07\",\"2022-09-04 13:01:34\",\"2022-09-04 13:01:36\",\"2022-09-09 06:16:32\",\"2022-09-09 06:16:33\",\"2022-09-12 08:14:35\",\"2022-09-12 12:45:40\",\"2022-09-15 03:13:26\",\"2022-09-15 03:14:41\",\"2022-09-15 03:14:55\",\"2022-09-15 03:15:09\",\"2022-09-15 03:16:53\",\"2022-09-15 03:17:06\",\"2022-09-15 03:18:11\",\"2022-09-16 15:26:31\",\"2022-09-16 15:26:52\",\"2022-09-23 16:27:15\",\"2022-09-28 01:15:36\",\"2022-10-02 17:27:41\",\"2022-10-02 17:27:42\",\"2022-10-02 17:29:10\",\"2022-10-02 17:29:25\",\"2022-10-02 17:29:51\",\"2022-10-02 17:30:40\",\"2022-10-02 17:31:05\",\"2022-10-02 17:31:17\",\"2022-10-02 17:31:18\",\"2022-10-02 18:01:30\",\"2022-10-02 18:40:07\",\"2022-10-02 19:30:20\",\"2022-10-02 20:07:15\",\"2022-10-02 21:07:31\",\"2022-10-02 21:54:21\",\"2022-10-02 22:55:58\",\"2022-10-02 23:26:54\",\"2022-10-03 00:31:41\",\"2022-10-03 01:07:28\",\"2022-10-03 01:39:44\",\"2022-10-03 01:50:41\",\"2022-10-03 03:19:37\",\"2022-10-03 03:20:01\",\"2022-10-03 03:20:02\",\"2022-10-03 03:26:49\",\"2022-10-03 03:52:53\",\"2022-10-03 03:52:54\",\"2022-10-03 03:52:57\",\"2022-10-03 03:52:58\",\"2022-10-03 04:06:09\",\"2022-10-03 04:09:02\",\"2022-10-03 04:09:03\",\"2022-10-03 04:36:57\",\"2022-10-03 04:36:59\",\"2022-10-03 04:37:06\",\"2022-10-03 04:37:07\",\"2022-10-03 05:30:06\",\"2022-10-03 05:30:18\",\"2022-10-03 05:30:19\",\"2022-10-03 06:05:59\",\"2022-10-03 06:06:25\",\"2022-10-03 06:06:26\",\"2022-10-03 06:11:25\",\"2022-10-03 06:12:06\",\"2022-10-03 06:12:15\",\"2022-10-03 06:12:16\",\"2022-10-03 06:13:56\",\"2022-10-03 06:14:20\",\"2022-10-03 06:14:21\",\"2022-10-03 06:51:18\",\"2022-10-03 06:52:22\",\"2022-10-03 06:52:23\",\"2022-10-03 07:17:19\",\"2022-10-03 07:34:35\",\"2022-10-03 07:44:44\",\"2022-10-03 08:02:01\",\"2022-10-03 08:02:02\",\"2022-10-03 08:12:34\",\"2022-10-03 08:12:56\",\"2022-10-03 08:12:57\",\"2022-10-03 08:13:19\",\"2022-10-03 08:14:53\",\"2022-10-03 08:14:55\",\"2022-10-03 08:16:07\",\"2022-10-03 08:16:08\",\"2022-10-03 08:16:44\",\"2022-10-03 08:16:46\",\"2022-10-03 08:16:55\",\"2022-10-03 08:22:00\",\"2022-10-03 08:22:05\",\"2022-10-03 08:22:06\",\"2022-10-03 08:22:27\",\"2022-10-03 08:22:29\",\"2022-10-03 08:22:33\",\"2022-10-03 08:22:34\",\"2022-10-03 09:22:27\",\"2022-10-03 09:53:37\",\"2022-10-03 10:02:29\",\"2022-10-03 10:02:30\",\"2022-10-03 10:02:32\",\"2022-10-03 10:02:34\",\"2022-10-03 10:02:35\",\"2022-10-03 10:02:37\",\"2022-10-03 10:02:38\",\"2022-10-03 12:16:02\",\"2022-10-03 12:16:08\",\"2022-10-03 12:16:09\",\"2022-10-03 12:56:24\",\"2022-10-03 13:01:08\",\"2022-10-03 13:04:12\",\"2022-10-03 13:04:13\",\"2022-10-03 13:57:53\",\"2022-10-03 14:28:37\",\"2022-10-03 15:00:12\",\"2022-10-03 18:59:56\",\"2022-10-03 18:59:57\",\"2022-10-03 19:00:07\",\"2022-10-03 19:00:08\",\"2022-10-03 19:16:48\",\"2022-10-03 19:21:25\",\"2022-10-03 19:41:27\",\"2022-10-04 01:52:08\",\"2022-10-04 02:23:09\",\"2022-10-04 02:23:19\",\"2022-10-04 02:24:16\",\"2022-10-04 02:24:55\",\"2022-10-04 02:24:56\",\"2022-10-04 03:18:48\",\"2022-10-04 03:49:35\",\"2022-10-04 04:04:56\",\"2022-10-04 04:04:57\",\"2022-10-04 05:14:54\",\"2022-10-04 05:41:09\",\"2022-10-04 05:41:13\",\"2022-10-04 05:41:14\",\"2022-10-04 05:56:29\",\"2022-10-04 05:56:30\",\"2022-10-04 05:56:31\",\"2022-10-04 06:29:32\",\"2022-10-04 06:29:34\",\"2022-10-04 06:29:42\",\"2022-10-04 13:17:48\",\"2022-10-04 13:17:57\",\"2022-10-04 13:17:59\",\"2022-10-04 13:32:04\",\"2022-10-04 13:34:35\",\"2022-10-04 13:34:40\",\"2022-10-04 13:34:42\",\"2022-10-04 13:34:43\",\"2022-10-06 03:35:07\",\"2022-10-06 03:35:10\",\"2022-10-06 03:35:11\",\"2022-10-06 03:50:47\",\"2022-10-06 03:58:42\",\"2022-10-06 03:58:49\",\"2022-10-06 03:58:50\",\"2022-10-06 03:58:51\",\"2022-10-06 03:58:56\",\"2022-10-06 03:58:57\",\"2022-10-06 03:58:59\",\"2022-10-06 04:09:30\",\"2022-10-06 04:09:36\",\"2022-10-06 04:09:37\",\"2022-10-06 04:09:51\",\"2022-10-06 04:09:52\",\"2022-10-06 04:09:53\",\"2022-10-06 04:10:03\",\"2022-10-06 04:10:05\",\"2022-10-06 05:10:35\",\"2022-10-06 05:11:30\",\"2022-10-06 05:41:48\",\"2022-10-06 08:52:21\",\"2022-10-06 08:52:22\",\"2022-10-06 08:54:12\",\"2022-10-06 08:54:13\",\"2022-10-06 08:56:16\",\"2022-10-06 08:56:19\",\"2022-10-06 08:56:20\",\"2022-10-06 11:06:37\",\"2022-10-06 11:31:34\",\"2022-10-06 11:31:39\",\"2022-10-06 11:31:40\",\"2022-10-06 12:51:37\",\"2022-10-06 12:53:30\",\"2022-10-06 13:40:09\",\"2022-10-06 13:58:43\",\"2022-10-06 13:58:44\",\"2022-10-06 13:58:47\",\"2022-10-06 13:59:07\",\"2022-10-06 13:59:08\",\"2022-10-06 16:32:37\",\"2022-10-06 16:40:03\",\"2022-10-06 16:40:09\",\"2022-10-06 16:57:17\",\"2022-10-06 17:27:11\",\"2022-10-06 17:27:12\",\"2022-10-06 17:27:37\",\"2022-10-06 17:29:05\",\"2022-10-06 17:29:06\",\"2022-10-06 18:02:18\",\"2022-10-06 18:02:19\",\"2022-10-06 18:02:20\",\"2022-10-06 18:02:23\",\"2022-10-07 03:36:02\",\"2022-10-07 03:36:03\"],\"xaxis\":\"x\",\"y\":[6,2,3,3,2,2,2,2,2,4,2,6,2,2,1,1,1,2,1,1,2,2,4,4,2,1,1,2,2,2,2,2,1,1,2,1,1,1,1,2,1,1,2,1,1,1,1,2,2,1,1,2,4,2,2,2,1,1,2,1,1,1,1,2,1,1,2,1,2,1,1,1,1,1,1,2,2,1,1,2,1,1,1,1,1,1,2,1,1,2,2,2,2,1,1,2,1,1,2,1,1,2,2,1,1,2,2,1,2,1,1,1,1,1,1,1,1,1,1,2,1,1,2,1,1,1,1,1,1,2,2,1,3,2,2,1,1,2,1,1,1,1,2,1,1,2,1,1,2,2,1,1,2,2,2,3,1,1,3,1,1,2,1,1,2,1,1,1,1,2,2,2,1,1,2,2,2,2,1,1,2,1,1,2,1,2,1,1,2,1,1,2,2,1,1,2,1,1,2,1,1,1,1,2,1,1,2,4,1,1,1,1,1,1,1,2,1,1,2,1,1,2,1,1,1,1,2,2,2,2,1,1,2,1,2,2,1,1,1,1,1,4,1,1,1,2,1,2,1,1,1,1,1,2,1,1,2,1,1,1,1,2,1,1,2,1,1,2,1,1,2,1,1,1,1,2,4,4,2,2,1,1,1,1,2,1,1,2,1,1,2,2,2,2,2,2,1,1,2,1,1,2,2,1,1,2,1,1,2,2,2,1,1,1,2,1,1,1,1,1,2,1,1,2,1,1,1,1,1,1,1,2,2,1,1,1,1,1,1,1,1,1,1,1,2,1,1,2,2,3,1,2,1,1,2,1,1,1,1,2,1,1,2,1,1,1,2,1,1,2,2,1,1,2,1,1,1,1,1,1,1,2,1,1,1,2,1,2,1,1,2,2,2,2,2,4,1,1,2,2,2,2,1,1,1,1,2,2,2,2,2,1,1,2,2,2,1,1,2,2,1,1,2,1,1,2,1,1,2,2,3,3,2,2,2,2,2,2,2,2,2,4,2,2,2,1,1,2,2,2,2,2,1,1,2,1,1,1,1,1,1,1,1,1,1,3,2,1,1,2,1,1,1,1,2,1,1,2,2,1,1,2,1,1,2,1,1,2,2,1,1,2,1,1,2,1,1,2,2,2,1,1,2,1,1,2,2,2,1,1,2,2,2,2,1,1,2,2,1,1,1,1,2,1,2,3,2,1,1,2,1,1,2,1,1,1,2,1,1,1,1,1,1,2,2,2,1,2,2,2,1,1,2,1,1,1,2,2,1,1,2,1,1,2,2,2,2,1,1,2,2,2,1,1,2,1,1,2,2,2,1,1,2,1,1,2,1,1,2,1,1,2,2,1,1,1,1,1,1,1,2,1,1,2,2,1,1,2,2,2,1,1,2,1,1,2,1,1,2,1,1,2,1,1,2,1,1,2,1,1],\"yaxis\":\"y\",\"type\":\"scattergl\"},{\"hovertemplate\":\"Profile Name=User 1\\u003cbr\\u003eClick_Utc_Ts=%{x}\\u003cbr\\u003eTotal Count=%{y}\\u003cextra\\u003e\\u003c\\u002fextra\\u003e\",\"legendgroup\":\"User 1\",\"line\":{\"color\":\"#FFA15A\",\"dash\":\"solid\"},\"marker\":{\"symbol\":\"circle\"},\"mode\":\"lines\",\"name\":\"User 1\",\"showlegend\":true,\"x\":[\"2022-09-09 06:16:18\",\"2022-09-09 06:16:19\",\"2022-09-09 06:16:29\",\"2022-09-09 06:16:30\"],\"xaxis\":\"x\",\"y\":[1,3,1,1],\"yaxis\":\"y\",\"type\":\"scattergl\"},{\"hovertemplate\":\"Profile Name=User 8\\u003cbr\\u003eClick_Utc_Ts=%{x}\\u003cbr\\u003eTotal Count=%{y}\\u003cextra\\u003e\\u003c\\u002fextra\\u003e\",\"legendgroup\":\"User 8\",\"line\":{\"color\":\"#19d3f3\",\"dash\":\"solid\"},\"marker\":{\"symbol\":\"circle\"},\"mode\":\"lines\",\"name\":\"User 8\",\"showlegend\":true,\"x\":[\"2023-02-20 03:44:47\",\"2023-02-20 03:45:20\",\"2023-02-20 03:45:43\",\"2023-02-20 03:45:52\",\"2023-02-20 03:47:41\",\"2023-02-20 03:47:52\",\"2023-02-20 03:49:10\",\"2023-02-20 03:49:12\",\"2023-02-20 17:46:00\",\"2023-02-20 17:46:06\",\"2023-02-20 17:46:07\",\"2023-02-20 18:19:51\",\"2023-02-21 06:42:27\",\"2023-02-21 09:35:30\",\"2023-02-21 09:35:31\",\"2023-02-21 09:35:34\",\"2023-02-21 09:35:35\",\"2023-02-21 09:36:38\",\"2023-02-21 09:36:51\",\"2023-02-21 09:37:01\",\"2023-02-21 09:37:04\",\"2023-02-21 09:37:05\",\"2023-02-21 09:37:14\",\"2023-02-21 09:37:17\",\"2023-02-21 09:37:21\",\"2023-02-21 09:37:25\",\"2023-02-21 09:37:30\",\"2023-02-21 09:37:35\",\"2023-02-21 09:38:49\",\"2023-02-21 09:38:54\",\"2023-02-21 09:39:10\",\"2023-02-21 09:39:20\",\"2023-02-21 09:39:50\",\"2023-02-21 09:39:54\",\"2023-02-21 11:10:09\",\"2023-02-21 11:10:16\",\"2023-02-21 11:11:29\",\"2023-02-21 11:51:29\",\"2023-02-21 11:51:46\",\"2023-02-21 11:51:47\",\"2023-02-21 11:51:52\",\"2023-02-21 11:51:53\",\"2023-02-21 11:59:12\",\"2023-02-21 11:59:13\",\"2023-02-22 02:39:29\",\"2023-02-22 02:39:57\",\"2023-02-22 02:45:32\",\"2023-02-22 02:45:38\",\"2023-02-22 02:45:39\",\"2023-02-22 06:24:01\",\"2023-02-22 06:24:35\",\"2023-02-22 06:24:38\",\"2023-02-22 06:24:49\",\"2023-02-22 07:06:35\",\"2023-02-22 07:06:47\",\"2023-02-22 07:06:48\",\"2023-02-22 16:48:52\",\"2023-02-22 16:48:53\",\"2023-02-22 16:49:09\",\"2023-02-22 16:49:10\",\"2023-02-22 16:50:01\",\"2023-02-22 16:50:20\",\"2023-02-22 16:50:22\",\"2023-02-22 16:50:24\",\"2023-02-22 16:50:28\",\"2023-02-22 16:50:32\",\"2023-02-22 16:50:37\",\"2023-02-22 16:51:01\",\"2023-02-22 16:51:02\",\"2023-02-22 16:51:27\",\"2023-02-22 16:51:44\",\"2023-02-22 16:51:45\",\"2023-02-22 16:53:15\",\"2023-02-22 16:53:49\",\"2023-02-22 16:53:57\",\"2023-02-22 16:53:58\",\"2023-02-22 16:58:37\",\"2023-02-22 16:58:44\",\"2023-02-22 17:09:45\",\"2023-02-23 19:02:30\",\"2023-02-23 19:02:31\",\"2023-02-23 19:02:37\",\"2023-02-23 19:14:09\",\"2023-02-24 16:04:04\",\"2023-02-24 16:04:05\",\"2023-02-24 16:06:05\",\"2023-02-24 16:06:06\",\"2023-02-24 17:44:30\",\"2023-02-24 17:44:34\",\"2023-02-24 17:44:35\",\"2023-02-24 18:20:50\",\"2023-02-24 18:20:51\",\"2023-02-24 18:20:54\",\"2023-02-24 18:28:22\",\"2023-02-24 18:28:24\",\"2023-02-24 18:28:49\",\"2023-02-24 18:37:06\",\"2023-02-24 18:38:57\",\"2023-02-24 21:29:58\",\"2023-02-24 21:29:59\",\"2023-02-24 22:41:25\",\"2023-02-24 22:41:31\",\"2023-02-24 22:45:17\",\"2023-02-25 11:26:42\",\"2023-02-25 11:26:55\",\"2023-02-25 11:26:56\",\"2023-02-25 11:27:28\",\"2023-02-25 11:27:36\",\"2023-02-25 11:27:38\",\"2023-02-25 18:47:22\",\"2023-02-25 18:47:23\",\"2023-02-26 05:15:29\",\"2023-02-26 09:29:25\",\"2023-02-26 09:29:31\",\"2023-02-26 09:30:56\",\"2023-02-26 09:31:02\",\"2023-02-26 09:31:03\",\"2023-02-26 09:37:15\",\"2023-02-26 09:37:16\",\"2023-02-26 09:37:17\",\"2023-02-26 09:37:24\",\"2023-02-26 09:37:29\",\"2023-02-26 18:04:22\",\"2023-02-26 18:04:23\",\"2023-02-26 18:04:24\",\"2023-02-26 18:04:50\",\"2023-02-26 18:04:51\",\"2023-02-26 18:11:30\",\"2023-02-27 07:01:19\",\"2023-02-27 07:01:21\",\"2023-02-27 07:01:22\",\"2023-02-27 15:43:39\",\"2023-02-27 15:43:46\",\"2023-02-27 15:43:47\",\"2023-02-27 15:44:07\",\"2023-02-27 15:45:19\",\"2023-02-27 15:45:41\",\"2023-02-27 16:07:28\",\"2023-02-27 20:30:53\",\"2023-02-27 20:30:57\",\"2023-02-27 20:30:58\",\"2023-02-27 21:05:07\",\"2023-02-27 21:05:10\",\"2023-02-27 21:50:43\",\"2023-02-27 21:55:12\",\"2023-02-28 03:24:10\",\"2023-02-28 03:24:17\",\"2023-02-28 03:24:40\",\"2023-02-28 03:24:43\",\"2023-02-28 03:26:44\",\"2023-02-28 03:26:56\",\"2023-02-28 04:48:00\",\"2023-02-28 04:48:01\",\"2023-03-01 14:19:18\",\"2023-03-01 14:26:11\",\"2023-03-01 14:26:14\",\"2023-03-01 14:27:31\",\"2023-03-01 14:46:51\",\"2023-03-01 14:47:08\",\"2023-03-01 14:48:36\",\"2023-03-01 14:48:37\",\"2023-03-01 14:48:52\",\"2023-03-01 14:49:57\",\"2023-03-01 14:50:00\",\"2023-03-01 21:13:02\",\"2023-03-01 21:42:14\",\"2023-03-01 21:49:59\",\"2023-03-01 21:50:07\",\"2023-03-01 22:30:57\",\"2023-03-01 22:31:50\",\"2023-03-02 17:36:59\",\"2023-03-02 17:37:06\",\"2023-03-02 17:37:12\",\"2023-03-02 17:50:04\",\"2023-03-02 17:50:05\",\"2023-03-02 17:50:06\",\"2023-03-02 17:50:07\",\"2023-03-02 17:50:08\",\"2023-03-02 17:50:10\",\"2023-03-02 17:55:26\",\"2023-03-02 17:55:33\",\"2023-03-02 17:56:46\",\"2023-03-02 17:56:47\",\"2023-03-02 18:29:31\",\"2023-03-03 00:02:20\",\"2023-03-03 00:04:00\",\"2023-03-03 00:04:01\",\"2023-03-03 00:04:15\",\"2023-03-03 00:04:32\",\"2023-03-03 00:05:02\",\"2023-03-03 05:42:00\",\"2023-03-03 05:42:01\",\"2023-03-03 05:42:20\",\"2023-03-03 05:42:21\",\"2023-03-03 05:42:24\",\"2023-03-03 05:56:31\",\"2023-03-03 05:56:38\",\"2023-03-03 05:57:09\",\"2023-03-03 05:57:12\",\"2023-03-03 05:57:54\",\"2023-03-03 05:57:55\",\"2023-03-03 06:56:35\",\"2023-03-03 06:56:58\",\"2023-03-03 06:57:07\",\"2023-03-03 06:59:23\",\"2023-03-03 06:59:25\",\"2023-03-03 07:02:40\",\"2023-03-03 07:02:41\",\"2023-03-03 08:02:05\",\"2023-03-03 08:02:06\",\"2023-03-03 15:51:39\",\"2023-03-03 15:51:40\",\"2023-03-03 15:52:34\",\"2023-03-03 15:52:37\",\"2023-03-03 15:52:40\",\"2023-03-03 15:52:42\",\"2023-03-03 16:21:55\",\"2023-03-03 16:23:00\",\"2023-03-03 17:02:19\",\"2023-03-03 17:55:01\",\"2023-03-03 17:56:20\",\"2023-03-03 19:45:16\",\"2023-03-03 19:49:53\",\"2023-03-03 19:49:54\",\"2023-03-03 19:50:28\",\"2023-03-03 20:26:38\",\"2023-03-03 20:26:51\",\"2023-03-03 20:26:52\",\"2023-03-04 06:59:39\",\"2023-03-04 06:59:40\",\"2023-03-04 07:00:25\",\"2023-03-04 07:00:26\",\"2023-03-04 07:00:42\",\"2023-03-04 07:00:55\",\"2023-03-04 07:01:28\",\"2023-03-04 10:59:50\",\"2023-03-04 11:00:16\",\"2023-03-04 11:00:17\",\"2023-03-04 11:00:34\",\"2023-03-04 11:17:37\",\"2023-03-04 12:02:58\",\"2023-03-04 12:03:05\",\"2023-03-04 12:04:12\",\"2023-03-04 12:05:02\",\"2023-03-04 12:05:17\",\"2023-03-04 12:05:28\",\"2023-03-04 12:05:29\",\"2023-03-04 12:35:45\",\"2023-03-05 09:17:10\",\"2023-03-05 09:17:11\",\"2023-03-05 09:17:16\",\"2023-03-05 09:17:17\",\"2023-03-05 09:17:29\",\"2023-03-05 09:17:39\",\"2023-03-05 10:28:47\",\"2023-03-05 10:29:15\",\"2023-03-05 11:01:26\",\"2023-03-05 15:48:26\",\"2023-03-05 15:48:48\",\"2023-03-05 15:48:53\",\"2023-03-05 15:49:12\",\"2023-03-05 15:49:23\",\"2023-03-05 15:51:20\",\"2023-03-05 15:52:11\",\"2023-03-05 15:52:29\",\"2023-03-05 15:54:59\",\"2023-03-06 04:39:53\",\"2023-03-06 04:39:54\",\"2023-03-06 04:39:55\",\"2023-03-06 04:39:56\",\"2023-03-06 04:39:57\",\"2023-03-06 04:40:05\",\"2023-03-06 04:41:25\",\"2023-03-06 04:41:26\",\"2023-03-06 04:41:51\",\"2023-03-06 04:42:15\",\"2023-03-06 04:42:16\",\"2023-03-06 04:42:18\",\"2023-03-06 04:43:06\",\"2023-03-06 04:44:24\",\"2023-03-06 04:44:26\",\"2023-03-06 04:44:45\",\"2023-03-06 04:44:46\",\"2023-03-06 04:45:05\",\"2023-03-06 04:45:15\",\"2023-03-06 04:45:38\",\"2023-03-06 04:45:42\",\"2023-03-06 11:11:27\",\"2023-03-06 11:11:38\",\"2023-03-06 11:11:39\",\"2023-03-06 12:28:44\",\"2023-03-06 12:29:59\",\"2023-03-06 12:30:00\",\"2023-03-06 12:55:00\",\"2023-03-06 12:55:02\",\"2023-03-06 12:55:03\",\"2023-03-06 13:20:20\",\"2023-03-06 13:20:27\",\"2023-03-06 13:20:31\",\"2023-03-06 13:20:32\",\"2023-03-06 13:21:07\",\"2023-03-06 13:39:20\",\"2023-03-06 13:43:37\",\"2023-03-06 13:43:38\",\"2023-03-06 14:02:08\",\"2023-03-06 14:02:56\",\"2023-03-06 15:49:55\",\"2023-03-06 15:50:01\",\"2023-03-06 15:50:02\",\"2023-03-06 16:33:28\",\"2023-03-06 16:33:29\",\"2023-03-06 16:37:34\",\"2023-03-06 16:37:37\",\"2023-03-06 18:01:36\",\"2023-03-07 01:36:57\",\"2023-03-07 01:37:07\",\"2023-03-07 01:37:08\",\"2023-03-07 01:37:09\",\"2023-03-07 01:37:12\",\"2023-03-07 01:38:14\",\"2023-03-07 01:38:27\",\"2023-03-07 02:34:57\",\"2023-03-07 09:43:40\",\"2023-03-07 12:11:10\",\"2023-03-07 12:11:18\",\"2023-03-07 12:11:19\",\"2023-03-07 12:11:26\",\"2023-03-07 12:11:30\",\"2023-03-07 12:11:40\",\"2023-03-07 12:11:42\",\"2023-03-07 12:11:43\",\"2023-03-07 12:13:34\",\"2023-03-07 12:13:38\",\"2023-03-07 12:13:39\",\"2023-03-07 12:13:40\",\"2023-03-07 12:13:42\",\"2023-03-07 12:13:44\",\"2023-03-07 12:13:45\",\"2023-03-07 14:00:11\",\"2023-03-07 14:00:16\",\"2023-03-07 14:00:17\",\"2023-03-07 14:00:26\",\"2023-03-07 17:01:12\",\"2023-03-07 17:01:14\",\"2023-03-07 17:01:15\",\"2023-03-07 17:13:24\",\"2023-03-07 17:13:28\",\"2023-03-07 17:14:56\",\"2023-03-07 17:15:02\",\"2023-03-07 17:15:05\",\"2023-03-07 17:15:11\",\"2023-03-07 17:15:12\",\"2023-03-07 17:15:13\",\"2023-03-07 17:15:15\",\"2023-03-07 17:15:26\",\"2023-03-07 17:15:55\",\"2023-03-07 17:15:57\",\"2023-03-07 17:16:01\",\"2023-03-07 17:24:51\",\"2023-03-07 17:24:52\",\"2023-03-07 17:24:57\",\"2023-03-07 17:24:58\",\"2023-03-07 19:25:28\",\"2023-03-08 03:25:05\",\"2023-03-08 03:26:05\",\"2023-03-08 03:26:06\",\"2023-03-08 03:26:14\",\"2023-03-08 03:26:15\",\"2023-03-08 03:26:17\",\"2023-03-08 03:26:18\",\"2023-03-08 03:26:20\",\"2023-03-08 03:26:24\",\"2023-03-08 03:26:25\",\"2023-03-08 03:26:26\",\"2023-03-08 03:26:27\",\"2023-03-08 03:26:28\",\"2023-03-08 03:26:29\",\"2023-03-08 03:26:30\",\"2023-03-08 03:26:33\",\"2023-03-08 03:27:48\",\"2023-03-08 03:27:50\",\"2023-03-09 03:13:21\",\"2023-03-09 03:13:31\",\"2023-03-09 03:13:53\",\"2023-03-09 04:58:44\",\"2023-03-09 04:58:45\",\"2023-03-09 04:58:46\",\"2023-03-09 04:58:48\",\"2023-03-09 04:58:49\",\"2023-03-09 04:58:51\",\"2023-03-09 04:58:52\",\"2023-03-09 04:58:53\",\"2023-03-09 04:58:54\",\"2023-03-09 04:59:39\",\"2023-03-09 04:59:40\",\"2023-03-09 04:59:53\",\"2023-03-09 04:59:56\",\"2023-03-09 07:17:19\",\"2023-03-09 07:17:30\",\"2023-03-09 07:17:31\",\"2023-03-09 07:17:34\",\"2023-03-09 07:17:41\",\"2023-03-09 07:23:25\",\"2023-03-09 07:23:27\",\"2023-03-09 07:23:28\",\"2023-03-10 18:13:31\",\"2023-03-10 18:13:32\",\"2023-03-10 18:13:59\",\"2023-03-10 18:14:00\",\"2023-03-10 18:14:10\",\"2023-03-10 18:14:11\",\"2023-03-10 18:14:40\",\"2023-03-10 18:14:41\",\"2023-03-10 18:15:22\",\"2023-03-10 18:15:56\",\"2023-03-10 18:17:50\",\"2023-03-10 18:19:03\",\"2023-03-10 18:19:04\",\"2023-03-10 18:19:55\",\"2023-03-10 18:20:04\",\"2023-03-10 18:20:05\",\"2023-03-10 18:24:54\",\"2023-03-10 18:24:59\",\"2023-03-10 18:25:00\",\"2023-03-10 18:26:00\",\"2023-03-11 05:26:09\",\"2023-03-11 06:34:21\",\"2023-03-11 06:34:47\",\"2023-03-11 06:35:00\",\"2023-03-11 06:35:05\",\"2023-03-11 06:35:15\",\"2023-03-11 06:35:16\",\"2023-03-11 06:35:22\",\"2023-03-11 06:35:23\",\"2023-03-11 06:36:45\",\"2023-03-11 06:36:46\",\"2023-03-11 14:41:05\",\"2023-03-11 14:41:06\",\"2023-03-11 14:41:19\",\"2023-03-11 14:41:43\",\"2023-03-12 08:58:19\",\"2023-03-12 08:58:55\",\"2023-03-12 08:58:59\",\"2023-03-12 08:59:27\",\"2023-03-12 08:59:35\",\"2023-03-12 08:59:43\",\"2023-03-12 08:59:48\",\"2023-03-12 09:01:03\",\"2023-03-12 09:01:12\",\"2023-03-12 09:01:27\",\"2023-03-12 09:01:46\",\"2023-03-12 09:02:08\",\"2023-03-12 09:02:26\",\"2023-03-13 17:52:38\",\"2023-03-13 17:54:09\",\"2023-03-13 17:54:10\",\"2023-03-13 17:54:54\",\"2023-03-13 18:24:15\",\"2023-03-13 18:32:39\",\"2023-03-13 18:32:45\",\"2023-03-13 18:44:40\",\"2023-03-13 18:44:46\",\"2023-03-13 18:45:02\",\"2023-03-13 18:45:10\",\"2023-03-14 13:43:52\",\"2023-03-14 14:36:21\",\"2023-03-15 02:42:49\",\"2023-03-15 02:42:50\",\"2023-03-15 02:43:02\",\"2023-03-15 17:25:52\",\"2023-03-15 17:25:56\",\"2023-03-15 17:26:26\",\"2023-03-15 17:26:27\",\"2023-03-15 17:26:29\",\"2023-03-15 17:26:30\",\"2023-03-15 17:29:03\",\"2023-03-15 17:31:17\",\"2023-03-15 17:31:18\",\"2023-03-15 17:31:21\",\"2023-03-15 17:31:22\",\"2023-03-15 17:33:20\",\"2023-03-15 17:33:53\",\"2023-03-15 17:34:06\",\"2023-03-15 17:34:10\",\"2023-03-15 17:34:12\",\"2023-03-15 17:34:31\",\"2023-03-15 17:34:32\",\"2023-03-15 17:35:07\",\"2023-03-15 17:35:14\",\"2023-03-15 17:35:15\",\"2023-03-16 05:42:42\",\"2023-03-17 07:15:42\",\"2023-03-17 07:15:43\",\"2023-03-17 07:16:17\",\"2023-03-17 07:16:23\",\"2023-03-17 07:17:08\",\"2023-03-17 07:17:17\",\"2023-03-17 07:18:12\",\"2023-03-17 07:18:29\",\"2023-03-17 07:19:32\",\"2023-03-17 07:19:33\",\"2023-03-17 07:19:56\",\"2023-03-17 14:38:33\",\"2023-03-17 14:38:41\",\"2023-03-17 14:39:19\",\"2023-03-17 14:39:27\",\"2023-03-17 14:51:44\",\"2023-03-17 14:52:01\",\"2023-03-17 14:52:24\",\"2023-03-17 15:28:12\",\"2023-03-17 15:28:13\",\"2023-03-17 15:28:22\",\"2023-03-17 15:28:28\",\"2023-03-17 15:28:29\",\"2023-03-17 15:28:30\",\"2023-03-17 15:28:34\",\"2023-03-17 15:31:01\",\"2023-03-17 15:51:45\",\"2023-03-17 15:51:54\",\"2023-03-17 16:50:48\",\"2023-03-18 04:08:40\",\"2023-03-18 08:43:58\",\"2023-03-18 08:43:59\",\"2023-03-18 08:44:10\",\"2023-03-18 08:44:11\",\"2023-03-18 10:31:15\",\"2023-03-18 10:31:17\",\"2023-03-18 10:31:18\",\"2023-03-18 11:00:13\",\"2023-03-18 11:06:33\",\"2023-03-18 11:32:24\",\"2023-03-18 11:32:25\",\"2023-03-18 11:32:30\",\"2023-03-18 11:32:32\",\"2023-03-18 11:50:10\",\"2023-03-18 12:11:00\",\"2023-03-18 12:11:01\",\"2023-03-18 12:55:17\",\"2023-03-18 12:56:32\",\"2023-03-18 12:56:33\",\"2023-03-18 13:53:49\",\"2023-03-18 13:53:51\",\"2023-03-18 14:53:59\",\"2023-03-18 14:54:00\",\"2023-03-18 14:56:56\",\"2023-03-18 14:57:03\",\"2023-03-18 14:57:04\",\"2023-03-18 17:37:02\",\"2023-03-18 17:37:03\",\"2023-03-18 18:44:50\",\"2023-03-18 18:45:00\",\"2023-03-18 19:05:48\",\"2023-03-18 19:07:57\",\"2023-03-18 20:39:34\",\"2023-03-18 20:39:39\",\"2023-03-18 20:49:15\",\"2023-03-18 20:49:55\",\"2023-03-18 20:49:56\",\"2023-03-18 20:50:04\",\"2023-03-18 20:50:46\",\"2023-03-18 20:50:58\",\"2023-03-18 20:51:14\",\"2023-03-18 20:51:15\",\"2023-03-18 20:53:25\",\"2023-03-18 20:53:27\",\"2023-03-18 20:53:28\",\"2023-03-18 21:04:56\",\"2023-03-18 21:06:06\",\"2023-03-18 21:07:20\",\"2023-03-18 21:07:24\",\"2023-03-18 21:07:26\",\"2023-03-18 22:09:28\",\"2023-03-18 23:47:53\",\"2023-03-18 23:47:55\",\"2023-03-18 23:47:56\",\"2023-03-19 01:00:57\",\"2023-03-19 01:00:58\",\"2023-03-19 02:06:45\",\"2023-03-19 03:09:44\",\"2023-03-19 03:09:48\",\"2023-03-19 03:22:21\",\"2023-03-19 03:22:29\",\"2023-03-19 03:26:57\",\"2023-03-19 03:26:59\",\"2023-03-20 05:41:31\",\"2023-03-20 05:41:32\",\"2023-03-20 05:42:44\",\"2023-03-20 05:43:07\",\"2023-03-20 05:43:11\",\"2023-03-20 05:43:21\",\"2023-03-20 05:43:22\",\"2023-03-20 07:19:41\",\"2023-03-20 07:19:42\",\"2023-03-20 07:19:43\",\"2023-03-20 07:19:44\",\"2023-03-20 07:55:50\",\"2023-03-20 07:55:59\",\"2023-03-20 07:56:02\",\"2023-03-20 07:56:03\",\"2023-03-20 07:56:08\",\"2023-03-20 07:56:09\",\"2023-03-20 07:56:14\",\"2023-03-20 07:56:17\",\"2023-03-20 07:56:22\",\"2023-03-20 07:56:23\",\"2023-03-20 07:56:58\",\"2023-03-20 07:57:00\",\"2023-03-20 07:57:03\",\"2023-03-20 07:57:05\",\"2023-03-20 07:57:15\",\"2023-03-20 07:57:17\",\"2023-03-20 07:57:21\",\"2023-03-20 07:59:40\",\"2023-03-20 07:59:41\",\"2023-03-20 08:00:07\",\"2023-03-20 08:37:08\",\"2023-03-20 08:37:31\",\"2023-03-20 08:37:32\",\"2023-03-21 18:31:24\",\"2023-03-21 18:31:27\",\"2023-03-22 08:09:21\",\"2023-03-22 08:09:35\",\"2023-03-22 08:09:37\",\"2023-03-22 08:09:38\",\"2023-03-22 08:11:44\",\"2023-03-22 08:11:46\",\"2023-03-22 08:11:54\",\"2023-03-22 08:11:57\",\"2023-03-22 08:31:15\",\"2023-03-22 08:31:26\",\"2023-03-22 08:31:27\",\"2023-03-22 08:36:56\",\"2023-03-22 08:37:12\",\"2023-03-22 08:37:18\",\"2023-03-22 08:37:26\",\"2023-03-22 10:45:33\",\"2023-03-22 10:45:34\",\"2023-03-22 11:49:17\",\"2023-03-23 13:10:32\",\"2023-03-25 02:30:33\",\"2023-03-25 02:30:49\",\"2023-03-25 02:30:50\",\"2023-03-25 02:30:52\",\"2023-03-25 02:30:56\",\"2023-03-25 02:31:00\",\"2023-03-25 02:31:07\",\"2023-03-25 02:31:08\",\"2023-03-25 02:31:10\",\"2023-03-25 07:59:51\",\"2023-03-26 07:10:41\",\"2023-03-26 07:17:59\",\"2023-03-26 20:45:10\",\"2023-03-28 18:42:41\",\"2023-03-29 10:46:59\",\"2023-03-29 11:26:14\",\"2023-03-29 11:26:15\",\"2023-03-29 11:26:16\",\"2023-03-29 11:26:20\",\"2023-03-29 11:26:21\",\"2023-03-29 13:42:29\",\"2023-03-29 13:42:30\",\"2023-03-29 13:42:41\",\"2023-03-29 13:42:42\",\"2023-03-29 13:42:49\",\"2023-03-30 17:40:49\",\"2023-03-30 17:41:08\",\"2023-03-30 17:41:09\",\"2023-03-31 16:33:10\",\"2023-03-31 16:33:11\",\"2023-03-31 16:33:16\",\"2023-03-31 17:55:32\",\"2023-03-31 17:56:16\",\"2023-03-31 17:56:32\",\"2023-03-31 17:56:52\",\"2023-03-31 17:56:53\",\"2023-03-31 17:57:35\",\"2023-03-31 17:57:50\",\"2023-03-31 17:57:57\",\"2023-03-31 17:58:01\",\"2023-03-31 17:58:22\",\"2023-03-31 17:59:04\",\"2023-04-02 08:01:25\",\"2023-04-02 08:01:26\",\"2023-04-02 08:01:39\",\"2023-04-02 08:01:45\",\"2023-04-02 08:01:46\",\"2023-04-02 08:02:40\",\"2023-04-02 08:02:47\",\"2023-04-02 08:02:49\",\"2023-04-02 08:03:50\",\"2023-04-02 08:03:53\",\"2023-04-02 08:03:55\",\"2023-04-02 08:04:31\",\"2023-04-02 09:41:32\",\"2023-04-02 09:41:33\",\"2023-04-02 09:42:15\",\"2023-04-02 09:42:18\",\"2023-04-02 09:51:12\",\"2023-04-02 09:51:13\",\"2023-04-02 09:52:38\",\"2023-04-02 09:52:39\",\"2023-04-02 09:52:57\",\"2023-04-02 09:53:02\",\"2023-04-02 09:56:18\",\"2023-04-02 10:52:38\",\"2023-04-02 10:52:42\",\"2023-04-02 12:00:40\",\"2023-04-02 12:00:47\",\"2023-04-02 12:14:33\",\"2023-04-02 12:14:36\",\"2023-04-02 12:27:08\",\"2023-04-02 12:27:10\",\"2023-04-02 13:03:02\",\"2023-04-02 13:03:47\",\"2023-04-02 13:03:48\",\"2023-04-02 13:52:23\",\"2023-04-02 13:52:36\",\"2023-04-02 13:52:37\",\"2023-04-02 14:00:23\",\"2023-04-02 14:00:24\",\"2023-04-02 14:42:19\",\"2023-04-02 19:47:19\",\"2023-04-02 19:47:20\",\"2023-04-02 19:47:25\",\"2023-04-02 19:47:47\",\"2023-04-02 19:47:49\",\"2023-04-02 19:47:52\",\"2023-04-02 19:47:54\",\"2023-04-02 19:47:59\",\"2023-04-02 19:48:36\",\"2023-04-02 19:50:12\",\"2023-04-02 19:50:24\",\"2023-04-02 19:50:29\",\"2023-04-02 19:50:30\",\"2023-04-03 18:25:30\",\"2023-04-04 10:10:29\",\"2023-04-04 10:10:30\",\"2023-04-06 18:45:06\",\"2023-04-06 18:45:28\",\"2023-04-06 18:45:41\",\"2023-04-06 18:45:53\",\"2023-04-08 12:55:13\",\"2023-04-08 12:55:18\",\"2023-04-08 12:55:25\",\"2023-04-08 13:08:56\",\"2023-04-08 13:08:57\",\"2023-04-08 18:09:15\",\"2023-04-08 18:09:27\",\"2023-04-08 18:36:54\",\"2023-04-08 18:36:55\",\"2023-04-08 18:37:03\",\"2023-04-08 18:37:04\",\"2023-04-08 18:37:23\",\"2023-04-08 18:37:36\",\"2023-04-08 18:37:40\",\"2023-04-08 18:37:49\",\"2023-04-08 18:37:51\",\"2023-04-08 18:37:52\",\"2023-04-08 18:38:01\",\"2023-04-08 18:38:02\",\"2023-04-08 18:53:14\",\"2023-04-09 17:33:27\",\"2023-04-09 17:35:24\",\"2023-04-09 17:35:50\",\"2023-04-09 17:36:06\",\"2023-04-09 17:39:27\",\"2023-04-09 17:40:07\",\"2023-04-09 17:40:24\",\"2023-04-09 17:40:28\",\"2023-04-09 17:40:31\",\"2023-04-09 17:40:52\",\"2023-04-09 17:40:53\",\"2023-04-09 17:43:58\",\"2023-04-09 17:44:05\",\"2023-04-10 04:09:07\",\"2023-04-10 09:29:15\",\"2023-04-10 09:29:17\",\"2023-04-10 09:29:22\",\"2023-04-10 09:33:32\",\"2023-04-10 09:33:37\",\"2023-04-10 09:33:44\",\"2023-04-10 09:33:48\",\"2023-04-10 09:33:56\",\"2023-04-10 09:37:53\",\"2023-04-10 09:37:54\",\"2023-04-10 09:45:27\",\"2023-04-10 09:45:31\",\"2023-04-10 09:45:37\",\"2023-04-10 09:45:38\",\"2023-04-10 09:45:51\",\"2023-04-10 09:45:55\",\"2023-04-10 09:45:56\",\"2023-04-11 13:13:58\",\"2023-04-11 13:13:59\",\"2023-04-11 13:14:05\",\"2023-04-11 13:14:09\",\"2023-04-11 13:14:10\",\"2023-04-11 13:14:19\",\"2023-04-11 13:14:20\",\"2023-04-11 13:14:22\",\"2023-04-11 13:14:23\",\"2023-04-11 13:14:30\",\"2023-04-11 13:14:35\",\"2023-04-11 13:14:38\",\"2023-04-11 13:14:39\",\"2023-04-11 13:14:40\",\"2023-04-11 13:15:10\",\"2023-04-11 13:15:12\",\"2023-04-11 13:15:28\",\"2023-04-11 13:15:30\",\"2023-04-11 13:15:37\",\"2023-04-11 13:15:42\",\"2023-04-11 13:16:33\",\"2023-04-11 13:16:34\",\"2023-04-11 13:20:39\",\"2023-04-11 13:21:03\",\"2023-04-11 16:55:12\",\"2023-04-12 09:36:38\",\"2023-04-12 09:36:52\",\"2023-04-12 09:36:53\",\"2023-04-12 09:36:55\",\"2023-04-12 09:36:56\",\"2023-04-12 09:37:03\",\"2023-04-12 09:37:13\",\"2023-04-12 09:37:14\",\"2023-04-12 09:37:44\",\"2023-04-12 10:43:59\",\"2023-04-12 10:44:00\",\"2023-04-12 10:44:35\",\"2023-04-12 10:45:11\",\"2023-04-12 10:45:36\",\"2023-04-12 17:35:04\",\"2023-04-13 16:58:59\",\"2023-04-13 16:59:10\",\"2023-04-13 16:59:11\",\"2023-04-13 16:59:17\",\"2023-04-14 09:29:06\",\"2023-04-14 09:29:07\",\"2023-04-14 09:29:25\",\"2023-04-14 09:30:35\",\"2023-04-14 09:31:16\",\"2023-04-14 09:32:04\",\"2023-04-14 09:32:05\",\"2023-04-14 09:32:06\",\"2023-04-14 17:14:07\",\"2023-04-15 03:15:34\",\"2023-04-15 03:15:40\",\"2023-04-15 03:15:41\",\"2023-04-15 03:15:43\",\"2023-04-15 03:15:44\",\"2023-04-15 03:15:45\",\"2023-04-15 03:15:46\",\"2023-04-17 16:49:27\",\"2023-04-17 16:50:09\",\"2023-04-17 16:50:10\",\"2023-04-17 16:50:11\",\"2023-04-17 16:50:37\",\"2023-04-17 16:50:38\",\"2023-04-17 16:50:39\",\"2023-04-17 16:50:41\",\"2023-04-17 16:51:29\",\"2023-04-17 16:51:35\",\"2023-04-17 16:52:12\",\"2023-04-17 16:52:19\",\"2023-04-17 16:52:24\",\"2023-04-17 16:52:38\",\"2023-04-17 16:53:17\",\"2023-04-17 16:54:44\",\"2023-04-17 16:56:33\",\"2023-04-18 07:43:36\",\"2023-04-18 08:44:03\",\"2023-04-18 08:44:04\",\"2023-04-18 08:44:25\",\"2023-04-18 08:44:33\",\"2023-04-18 08:44:38\",\"2023-04-18 08:44:39\",\"2023-04-18 08:44:40\",\"2023-04-18 08:44:51\",\"2023-04-18 08:44:52\",\"2023-04-18 08:44:53\",\"2023-04-18 08:44:54\",\"2023-04-18 08:44:55\",\"2023-04-18 09:09:33\",\"2023-04-18 09:09:45\",\"2023-04-18 09:09:46\",\"2023-04-18 16:46:47\",\"2023-04-18 16:46:48\",\"2023-04-18 16:46:53\",\"2023-04-18 16:52:56\",\"2023-04-18 16:52:57\",\"2023-04-18 16:53:06\",\"2023-04-18 16:57:48\",\"2023-04-18 16:57:50\",\"2023-04-18 16:58:24\",\"2023-04-18 16:58:28\",\"2023-04-19 12:11:03\",\"2023-04-19 12:11:27\",\"2023-04-19 12:13:57\",\"2023-04-19 12:13:58\",\"2023-04-19 13:00:48\",\"2023-04-19 13:00:50\",\"2023-04-19 13:00:51\",\"2023-04-19 14:50:24\",\"2023-04-19 15:04:26\",\"2023-04-19 15:24:45\",\"2023-04-20 08:08:52\",\"2023-04-20 08:09:13\",\"2023-04-20 08:09:14\",\"2023-04-20 08:09:47\",\"2023-04-20 08:09:50\",\"2023-04-20 08:11:56\",\"2023-04-20 08:12:20\",\"2023-04-20 08:12:40\",\"2023-04-20 08:13:06\",\"2023-04-20 08:13:15\",\"2023-04-20 08:13:26\",\"2023-04-20 08:49:53\",\"2023-04-20 08:49:55\",\"2023-04-20 08:50:12\",\"2023-04-20 08:50:14\",\"2023-04-20 09:03:20\",\"2023-04-20 09:03:24\",\"2023-04-20 11:11:01\",\"2023-04-20 11:11:05\",\"2023-04-20 12:13:59\",\"2023-04-20 12:14:06\",\"2023-04-20 12:14:07\",\"2023-04-20 12:57:56\",\"2023-04-20 12:58:14\",\"2023-04-20 12:58:44\",\"2023-04-20 12:59:06\",\"2023-04-20 12:59:11\",\"2023-04-20 12:59:33\",\"2023-04-20 12:59:35\",\"2023-04-20 13:05:24\",\"2023-04-20 13:05:49\",\"2023-04-20 13:06:20\",\"2023-04-20 13:06:24\",\"2023-04-20 14:15:39\",\"2023-04-20 14:15:40\",\"2023-04-20 14:15:42\",\"2023-04-20 14:15:43\",\"2023-04-20 14:15:52\",\"2023-04-20 14:15:53\",\"2023-04-20 18:25:17\",\"2023-04-20 18:25:28\",\"2023-04-20 18:26:00\",\"2023-04-20 18:26:07\",\"2023-04-20 18:26:08\",\"2023-04-20 18:26:14\",\"2023-04-20 18:26:26\",\"2023-04-20 18:26:30\",\"2023-04-20 18:26:34\",\"2023-04-20 18:26:35\",\"2023-04-20 18:26:43\",\"2023-04-20 18:26:55\",\"2023-04-20 18:26:56\",\"2023-04-20 19:03:06\",\"2023-04-20 19:58:40\",\"2023-04-20 20:53:51\",\"2023-04-21 10:59:54\",\"2023-04-21 11:00:02\",\"2023-04-21 11:00:56\",\"2023-04-21 11:01:01\",\"2023-04-21 11:44:29\",\"2023-04-21 11:44:36\",\"2023-04-21 11:44:40\",\"2023-04-21 11:45:12\",\"2023-04-21 11:45:14\",\"2023-04-21 11:46:04\",\"2023-04-21 11:46:06\",\"2023-04-21 12:02:43\",\"2023-04-21 12:02:45\",\"2023-04-21 12:03:28\",\"2023-04-21 12:03:58\",\"2023-04-21 12:04:14\",\"2023-04-21 12:05:56\",\"2023-04-21 12:06:05\",\"2023-04-21 12:06:51\",\"2023-04-21 12:07:10\",\"2023-04-21 12:07:16\",\"2023-04-21 12:07:38\",\"2023-04-21 12:12:53\",\"2023-04-21 12:12:55\",\"2023-04-21 12:13:40\",\"2023-04-21 12:13:42\",\"2023-04-21 12:14:36\",\"2023-04-21 12:14:45\",\"2023-04-21 12:14:55\",\"2023-04-21 12:14:57\",\"2023-04-21 12:15:30\",\"2023-04-21 12:15:32\",\"2023-04-21 12:33:42\",\"2023-04-21 12:33:45\",\"2023-04-21 12:54:13\",\"2023-04-21 12:54:17\",\"2023-04-21 12:54:20\",\"2023-04-22 06:11:47\",\"2023-04-22 06:12:10\",\"2023-04-22 06:12:11\",\"2023-04-22 06:12:12\",\"2023-04-22 06:12:20\",\"2023-04-22 13:46:07\",\"2023-04-22 13:46:08\",\"2023-04-22 13:46:33\",\"2023-04-22 18:36:03\",\"2023-04-22 18:36:08\",\"2023-04-22 18:36:20\",\"2023-04-22 18:36:53\",\"2023-04-22 18:37:05\",\"2023-04-22 18:37:15\",\"2023-04-22 18:37:16\",\"2023-04-22 18:37:36\",\"2023-04-22 18:38:03\",\"2023-04-22 18:38:04\",\"2023-04-22 18:38:26\",\"2023-04-22 18:38:31\",\"2023-04-22 18:39:44\",\"2023-04-22 18:39:50\",\"2023-04-23 16:02:10\",\"2023-04-23 16:10:00\",\"2023-04-23 16:10:02\",\"2023-04-23 16:10:07\",\"2023-04-23 16:13:58\",\"2023-04-23 16:14:00\",\"2023-04-23 16:14:01\",\"2023-04-23 16:14:02\",\"2023-04-23 16:22:24\",\"2023-04-23 16:22:31\",\"2023-04-23 16:22:41\",\"2023-04-23 17:10:05\",\"2023-04-23 17:10:32\",\"2023-04-23 17:10:33\",\"2023-04-23 17:10:43\",\"2023-04-23 17:10:55\",\"2023-04-23 17:11:38\",\"2023-04-23 17:12:19\",\"2023-04-23 17:12:39\",\"2023-04-23 17:12:55\",\"2023-04-23 17:13:09\",\"2023-04-23 17:13:11\",\"2023-04-23 17:20:48\",\"2023-04-23 17:20:50\",\"2023-04-23 17:21:04\",\"2023-04-23 17:21:08\",\"2023-04-23 17:21:11\",\"2023-04-23 17:21:12\",\"2023-04-23 17:21:23\",\"2023-04-23 17:21:27\",\"2023-04-23 17:21:30\",\"2023-04-23 17:23:18\",\"2023-04-23 17:23:26\",\"2023-04-23 17:23:52\",\"2023-04-23 17:24:39\",\"2023-04-23 17:25:15\",\"2023-04-23 17:26:00\",\"2023-04-23 17:26:22\",\"2023-04-23 17:26:32\",\"2023-04-23 17:26:38\",\"2023-04-23 17:26:39\",\"2023-04-23 17:26:41\",\"2023-04-23 17:26:43\",\"2023-04-24 16:20:24\",\"2023-04-24 16:20:29\",\"2023-04-24 16:20:31\",\"2023-04-25 16:51:19\",\"2023-04-25 16:51:34\",\"2023-04-26 11:49:14\",\"2023-04-26 11:50:26\",\"2023-04-26 11:50:30\",\"2023-04-26 11:53:29\",\"2023-04-26 11:53:31\",\"2023-04-26 11:54:19\",\"2023-04-26 11:55:02\",\"2023-04-26 11:55:10\",\"2023-04-26 11:55:16\",\"2023-04-26 11:55:28\",\"2023-04-26 11:55:31\",\"2023-04-26 11:55:33\",\"2023-04-26 12:20:03\",\"2023-04-26 12:20:04\",\"2023-04-28 09:13:17\",\"2023-04-28 09:13:39\",\"2023-04-28 09:13:42\",\"2023-04-28 09:15:25\",\"2023-04-28 09:15:27\",\"2023-04-28 09:15:55\",\"2023-04-28 09:16:02\",\"2023-04-28 09:16:12\",\"2023-04-28 09:17:04\",\"2023-04-28 09:17:11\",\"2023-04-28 09:17:12\",\"2023-04-28 09:17:15\",\"2023-04-28 09:17:18\",\"2023-04-28 09:17:21\",\"2023-04-28 09:35:17\",\"2023-04-28 09:35:22\",\"2023-04-28 09:43:15\",\"2023-04-28 09:43:16\",\"2023-04-28 09:43:25\",\"2023-04-28 09:43:27\",\"2023-04-28 09:47:17\",\"2023-04-28 09:47:18\",\"2023-04-28 09:47:22\",\"2023-04-28 09:47:25\",\"2023-04-28 09:47:43\",\"2023-04-28 09:47:47\",\"2023-04-28 09:47:49\",\"2023-04-28 09:48:02\",\"2023-04-28 16:35:00\",\"2023-04-28 16:35:01\",\"2023-04-28 16:35:15\",\"2023-04-28 16:35:17\",\"2023-04-28 16:35:49\",\"2023-04-28 16:35:55\",\"2023-04-28 16:44:37\",\"2023-04-28 16:45:00\",\"2023-04-28 16:45:09\",\"2023-04-28 16:45:16\",\"2023-04-28 16:45:22\",\"2023-04-28 16:45:40\",\"2023-04-28 16:46:31\",\"2023-04-28 16:46:32\",\"2023-04-28 16:46:33\",\"2023-04-28 16:46:51\",\"2023-04-28 16:46:54\",\"2023-04-28 16:47:59\",\"2023-04-28 16:48:06\",\"2023-04-28 16:48:07\",\"2023-04-28 16:49:02\",\"2023-04-28 16:49:03\",\"2023-04-28 16:49:04\",\"2023-04-28 16:49:07\",\"2023-04-28 16:49:19\",\"2023-04-28 16:49:21\",\"2023-04-28 16:50:05\",\"2023-04-28 16:50:13\",\"2023-04-28 16:52:05\",\"2023-04-28 16:53:51\",\"2023-04-28 16:53:52\",\"2023-04-28 16:53:53\",\"2023-04-29 09:56:24\",\"2023-04-29 09:56:25\",\"2023-04-29 09:56:38\",\"2023-04-29 09:56:39\",\"2023-04-29 09:56:47\",\"2023-04-29 09:56:48\",\"2023-04-29 09:56:49\",\"2023-04-29 09:56:50\",\"2023-04-29 09:57:07\",\"2023-04-29 09:57:08\",\"2023-04-29 09:57:46\",\"2023-04-29 09:58:06\",\"2023-04-29 09:59:03\",\"2023-04-29 09:59:04\",\"2023-04-29 10:21:40\",\"2023-04-29 10:33:21\",\"2023-04-29 10:33:32\",\"2023-04-29 10:33:33\",\"2023-04-29 12:11:12\",\"2023-04-29 12:11:20\",\"2023-04-29 12:11:35\",\"2023-04-29 12:11:36\",\"2023-04-29 12:12:22\",\"2023-04-29 12:12:23\",\"2023-04-29 12:12:29\",\"2023-04-29 12:51:26\",\"2023-04-29 12:51:42\",\"2023-04-29 12:55:06\",\"2023-04-29 12:55:14\",\"2023-04-29 12:55:15\",\"2023-04-29 12:55:24\",\"2023-04-29 13:23:10\",\"2023-04-29 13:23:11\",\"2023-04-29 13:23:12\",\"2023-04-29 17:30:52\",\"2023-04-29 17:30:53\",\"2023-04-29 17:31:11\",\"2023-04-29 18:01:30\",\"2023-04-29 18:01:48\",\"2023-04-29 18:01:49\",\"2023-04-29 18:38:11\",\"2023-04-29 18:38:43\",\"2023-04-29 18:39:19\",\"2023-04-29 18:39:49\",\"2023-04-29 18:39:52\",\"2023-04-29 18:39:58\",\"2023-04-29 18:47:44\",\"2023-04-30 04:14:22\",\"2023-04-30 04:14:35\",\"2023-04-30 04:14:36\",\"2023-04-30 04:14:42\",\"2023-04-30 04:16:30\",\"2023-04-30 04:16:36\",\"2023-04-30 18:11:56\",\"2023-04-30 18:11:57\",\"2023-04-30 18:11:58\",\"2023-05-02 09:09:58\",\"2023-05-02 09:09:59\",\"2023-05-02 09:10:05\",\"2023-05-02 09:10:07\",\"2023-05-02 09:10:13\",\"2023-05-02 09:10:14\",\"2023-05-02 09:10:16\",\"2023-05-02 09:10:24\",\"2023-05-02 09:10:25\",\"2023-05-02 09:10:26\",\"2023-05-02 09:10:31\",\"2023-05-02 09:11:03\",\"2023-05-02 09:11:05\",\"2023-05-02 09:11:28\",\"2023-05-02 09:11:30\",\"2023-05-02 09:11:32\",\"2023-05-02 09:11:39\",\"2023-05-02 09:11:53\",\"2023-05-02 09:11:55\",\"2023-05-02 09:11:56\",\"2023-05-02 09:12:06\",\"2023-05-02 09:12:16\",\"2023-05-02 09:12:18\",\"2023-05-02 09:12:23\",\"2023-05-02 17:06:31\",\"2023-05-05 21:37:56\",\"2023-05-05 21:37:57\",\"2023-05-05 21:37:58\",\"2023-05-05 21:38:22\",\"2023-05-05 21:39:19\",\"2023-05-05 21:39:28\",\"2023-05-05 21:39:35\",\"2023-05-05 21:39:36\",\"2023-05-05 21:50:57\",\"2023-05-05 21:50:59\",\"2023-05-05 21:51:01\",\"2023-05-05 21:51:09\",\"2023-05-05 21:51:14\",\"2023-05-05 21:51:16\",\"2023-05-05 21:51:17\",\"2023-05-05 21:51:25\",\"2023-05-05 21:51:27\",\"2023-05-05 21:51:28\",\"2023-05-05 21:51:30\",\"2023-05-05 21:51:33\",\"2023-05-05 21:51:58\",\"2023-05-05 21:51:59\",\"2023-05-05 21:52:01\",\"2023-05-05 21:52:05\",\"2023-05-05 21:52:06\",\"2023-05-05 21:52:08\",\"2023-05-05 21:52:10\",\"2023-05-05 21:52:40\",\"2023-05-05 21:52:41\",\"2023-05-05 21:52:42\",\"2023-05-05 21:52:48\",\"2023-05-05 21:52:50\",\"2023-05-05 21:52:51\",\"2023-05-05 21:53:12\",\"2023-05-05 21:53:13\",\"2023-05-05 21:53:14\",\"2023-05-05 21:53:16\",\"2023-05-05 21:53:17\",\"2023-05-05 21:53:35\",\"2023-05-05 21:53:37\",\"2023-05-05 21:53:38\",\"2023-05-05 21:53:42\",\"2023-05-05 21:53:54\",\"2023-05-05 21:53:55\",\"2023-05-05 21:53:57\",\"2023-05-05 21:54:13\",\"2023-05-05 21:54:14\",\"2023-05-05 21:54:19\",\"2023-05-05 21:54:20\",\"2023-05-05 21:54:27\",\"2023-05-05 21:54:28\",\"2023-05-05 21:54:32\",\"2023-05-05 21:55:38\",\"2023-05-08 17:14:56\",\"2023-05-08 17:15:07\",\"2023-05-08 17:15:19\",\"2023-05-08 17:15:27\",\"2023-05-08 17:15:36\",\"2023-05-08 17:15:54\",\"2023-05-08 17:15:55\",\"2023-05-08 17:16:02\",\"2023-05-08 17:16:27\",\"2023-05-08 17:16:29\",\"2023-05-08 17:16:36\",\"2023-05-08 17:20:22\",\"2023-05-08 17:20:23\",\"2023-05-08 17:20:24\",\"2023-05-08 17:20:40\",\"2023-05-08 17:20:58\",\"2023-05-08 17:21:05\",\"2023-05-08 17:21:24\",\"2023-05-08 17:21:26\",\"2023-05-08 17:21:33\",\"2023-05-08 17:21:35\",\"2023-05-08 17:21:36\",\"2023-05-08 17:40:02\",\"2023-05-08 17:40:03\",\"2023-05-08 17:40:09\",\"2023-05-08 17:40:10\",\"2023-05-09 13:52:31\",\"2023-05-09 13:53:52\",\"2023-05-09 13:54:14\",\"2023-05-09 17:11:53\",\"2023-05-09 17:12:00\",\"2023-05-09 17:12:01\",\"2023-05-09 18:40:01\",\"2023-05-10 08:28:46\",\"2023-05-10 08:28:47\",\"2023-05-10 08:28:53\",\"2023-05-10 08:28:54\",\"2023-05-10 09:14:56\",\"2023-05-10 09:14:57\",\"2023-05-10 18:26:14\",\"2023-05-10 18:26:52\",\"2023-05-10 18:26:53\",\"2023-05-10 18:27:12\",\"2023-05-10 18:27:50\",\"2023-05-10 18:27:52\",\"2023-05-10 18:28:09\",\"2023-05-10 18:28:14\",\"2023-05-10 18:28:40\",\"2023-05-10 18:28:47\",\"2023-05-10 18:28:56\",\"2023-05-10 18:29:11\",\"2023-05-10 18:29:14\",\"2023-05-10 18:29:16\",\"2023-05-10 18:29:21\",\"2023-05-10 18:29:42\",\"2023-05-10 18:30:01\",\"2023-05-10 18:30:02\",\"2023-05-10 18:30:08\",\"2023-05-10 18:30:09\",\"2023-05-10 18:30:21\",\"2023-05-10 18:30:42\",\"2023-05-10 18:30:51\",\"2023-05-10 18:31:27\",\"2023-05-10 18:31:30\",\"2023-05-10 18:31:34\",\"2023-05-10 18:31:53\",\"2023-05-10 18:31:57\",\"2023-05-10 18:32:08\",\"2023-05-10 18:32:09\",\"2023-05-10 18:32:10\",\"2023-05-10 18:32:11\",\"2023-05-10 18:32:21\",\"2023-05-10 18:32:32\",\"2023-05-10 18:32:43\",\"2023-05-10 18:32:47\",\"2023-05-10 18:32:55\",\"2023-05-10 18:33:17\",\"2023-05-10 18:33:28\",\"2023-05-10 18:33:35\",\"2023-05-10 18:33:36\",\"2023-05-10 18:33:47\",\"2023-05-10 18:33:52\",\"2023-05-10 18:33:56\",\"2023-05-10 18:34:10\",\"2023-05-10 18:34:20\",\"2023-05-10 18:34:23\",\"2023-05-10 18:34:29\",\"2023-05-10 18:34:32\",\"2023-05-10 18:34:36\",\"2023-05-10 18:34:42\",\"2023-05-11 18:00:44\",\"2023-05-11 18:01:45\",\"2023-05-11 18:02:03\",\"2023-05-11 18:02:22\",\"2023-05-11 18:02:33\",\"2023-05-11 18:02:36\",\"2023-05-11 18:02:46\",\"2023-05-11 18:03:11\",\"2023-05-11 18:03:21\",\"2023-05-11 18:03:22\",\"2023-05-11 18:03:26\",\"2023-05-11 18:03:41\",\"2023-05-11 18:03:46\",\"2023-05-14 17:19:10\",\"2023-05-14 17:19:13\",\"2023-05-14 17:58:38\",\"2023-05-14 17:58:39\",\"2023-05-14 17:58:40\",\"2023-05-14 18:59:54\",\"2023-05-14 19:00:15\",\"2023-05-14 19:00:19\",\"2023-05-14 19:00:20\",\"2023-05-14 19:00:45\",\"2023-05-14 19:00:52\",\"2023-05-14 19:01:06\",\"2023-05-14 19:01:34\",\"2023-05-14 19:01:40\",\"2023-05-14 19:01:48\",\"2023-05-14 19:01:49\",\"2023-05-14 19:01:56\",\"2023-05-15 17:41:22\",\"2023-05-15 17:42:18\",\"2023-05-15 17:42:20\",\"2023-05-15 17:43:25\",\"2023-05-15 17:43:48\",\"2023-05-15 17:45:18\",\"2023-05-15 17:45:20\",\"2023-05-15 17:45:21\",\"2023-05-15 17:45:30\",\"2023-05-15 17:45:34\",\"2023-05-15 17:45:36\",\"2023-05-15 17:45:37\",\"2023-05-15 17:45:42\",\"2023-05-15 17:45:56\",\"2023-05-15 17:45:58\",\"2023-05-15 17:46:23\",\"2023-05-15 17:46:24\",\"2023-05-15 17:46:38\",\"2023-05-15 17:46:41\",\"2023-05-15 17:46:42\",\"2023-05-16 04:34:02\",\"2023-05-16 04:34:03\",\"2023-05-16 04:34:06\",\"2023-05-17 18:18:16\",\"2023-05-17 18:18:18\",\"2023-05-17 18:18:20\",\"2023-05-17 18:18:21\",\"2023-05-17 18:18:41\",\"2023-05-17 18:18:48\",\"2023-05-17 18:19:01\",\"2023-05-17 18:19:02\",\"2023-05-18 14:35:17\",\"2023-05-18 14:35:18\",\"2023-05-18 14:35:19\",\"2023-05-18 14:35:56\",\"2023-05-18 14:36:05\",\"2023-05-18 14:37:03\",\"2023-05-18 14:37:04\",\"2023-05-18 14:37:10\",\"2023-05-18 14:37:16\",\"2023-05-18 14:37:26\",\"2023-05-18 14:37:41\",\"2023-05-18 14:38:04\",\"2023-05-18 14:38:25\",\"2023-05-18 14:38:26\",\"2023-05-18 18:00:20\",\"2023-05-18 18:14:05\",\"2023-05-18 18:14:06\",\"2023-05-18 18:14:29\",\"2023-05-18 18:14:35\",\"2023-05-18 18:45:11\",\"2023-05-19 17:11:28\",\"2023-05-19 17:11:34\",\"2023-05-19 17:11:44\",\"2023-05-19 17:13:05\",\"2023-05-19 17:13:06\",\"2023-05-19 18:48:12\",\"2023-05-19 19:22:36\",\"2023-05-19 20:14:42\",\"2023-05-20 11:28:46\",\"2023-05-20 11:28:52\",\"2023-05-20 11:29:36\",\"2023-05-20 11:29:43\",\"2023-05-20 11:29:55\",\"2023-05-20 11:30:01\",\"2023-05-20 11:30:06\",\"2023-05-20 11:30:12\",\"2023-05-20 11:30:13\",\"2023-05-20 11:30:19\",\"2023-05-20 11:30:27\",\"2023-05-20 11:30:31\",\"2023-05-20 11:31:16\",\"2023-05-20 11:32:12\",\"2023-05-20 11:32:16\",\"2023-05-20 11:32:45\",\"2023-05-20 11:32:47\",\"2023-05-20 11:33:02\",\"2023-05-20 11:33:11\",\"2023-05-20 11:33:12\",\"2023-05-20 11:33:23\",\"2023-05-20 11:33:28\",\"2023-05-20 11:33:29\",\"2023-05-20 12:18:40\",\"2023-05-20 13:10:26\",\"2023-05-20 13:10:28\",\"2023-05-20 13:11:05\",\"2023-05-20 13:11:06\",\"2023-05-20 13:11:18\",\"2023-05-20 13:11:20\",\"2023-05-20 13:12:03\",\"2023-05-20 13:12:05\",\"2023-05-20 13:12:12\",\"2023-05-20 13:12:40\",\"2023-05-20 13:13:56\",\"2023-05-20 13:13:57\",\"2023-05-20 15:15:17\",\"2023-05-20 16:02:39\",\"2023-05-20 16:02:42\",\"2023-05-20 16:02:57\",\"2023-05-20 16:02:58\",\"2023-05-20 16:02:59\",\"2023-05-20 16:03:16\",\"2023-05-20 16:03:26\",\"2023-05-20 16:03:41\",\"2023-05-20 16:03:49\",\"2023-05-20 16:03:51\",\"2023-05-20 16:03:58\",\"2023-05-20 16:04:04\",\"2023-05-20 16:05:16\",\"2023-05-20 16:05:17\",\"2023-05-20 16:08:23\",\"2023-05-20 16:13:24\",\"2023-05-20 16:14:50\",\"2023-05-20 17:17:05\",\"2023-05-20 18:07:37\",\"2023-05-20 18:49:05\",\"2023-05-20 19:03:54\",\"2023-05-20 19:03:57\",\"2023-05-20 19:04:12\",\"2023-05-20 19:04:32\",\"2023-05-20 19:04:33\",\"2023-05-20 19:29:15\",\"2023-05-21 02:00:25\",\"2023-05-21 02:10:33\",\"2023-05-21 02:15:42\",\"2023-05-21 04:37:51\",\"2023-05-21 04:38:51\",\"2023-05-21 04:58:12\",\"2023-05-21 04:58:13\",\"2023-05-21 04:58:21\",\"2023-05-21 05:48:34\",\"2023-05-21 05:48:36\",\"2023-05-21 07:08:48\",\"2023-05-21 07:09:11\",\"2023-05-21 07:09:12\",\"2023-05-21 07:10:57\",\"2023-05-21 07:25:19\",\"2023-05-21 09:49:51\",\"2023-05-21 09:50:03\",\"2023-05-21 10:19:14\",\"2023-05-21 10:19:24\",\"2023-05-21 10:19:40\",\"2023-05-21 10:19:48\",\"2023-05-21 10:19:59\",\"2023-05-21 10:20:16\",\"2023-05-21 10:29:10\",\"2023-05-21 10:29:25\",\"2023-05-21 10:29:34\",\"2023-05-21 10:29:42\",\"2023-05-21 10:29:45\",\"2023-05-21 10:29:46\",\"2023-05-21 10:30:09\",\"2023-05-21 10:30:12\",\"2023-05-21 10:30:53\",\"2023-05-21 10:30:58\",\"2023-05-21 10:31:01\",\"2023-05-21 11:12:08\",\"2023-05-21 11:12:09\",\"2023-05-21 11:12:10\",\"2023-05-21 11:12:12\",\"2023-05-21 11:15:15\",\"2023-05-21 11:15:16\",\"2023-05-21 11:15:22\",\"2023-05-21 12:34:22\",\"2023-05-21 12:34:44\",\"2023-05-21 12:34:57\",\"2023-05-21 12:36:07\",\"2023-05-21 12:36:22\",\"2023-05-21 12:37:07\",\"2023-05-21 12:37:19\",\"2023-05-21 12:38:04\",\"2023-05-21 12:38:11\",\"2023-05-21 12:38:49\",\"2023-05-21 12:38:53\",\"2023-05-21 12:38:57\",\"2023-05-21 12:39:04\",\"2023-05-21 12:40:38\",\"2023-05-21 12:40:42\",\"2023-05-21 12:41:21\",\"2023-05-21 15:12:11\",\"2023-05-21 15:12:12\",\"2023-05-21 15:33:18\",\"2023-05-21 15:33:26\",\"2023-05-21 15:56:03\",\"2023-05-21 15:56:21\",\"2023-05-21 15:57:06\",\"2023-05-21 15:57:08\",\"2023-05-21 15:58:31\",\"2023-05-21 15:58:39\",\"2023-05-21 15:59:32\",\"2023-05-21 15:59:38\",\"2023-05-21 16:01:33\",\"2023-05-21 16:03:43\",\"2023-05-21 16:04:41\",\"2023-05-21 16:05:33\",\"2023-05-21 16:06:31\",\"2023-05-21 16:06:39\",\"2023-05-21 16:07:54\",\"2023-05-21 16:07:57\",\"2023-05-21 16:08:04\",\"2023-05-21 16:08:50\",\"2023-05-21 16:08:55\",\"2023-05-21 16:08:57\",\"2023-05-21 16:09:02\",\"2023-05-21 16:09:04\",\"2023-05-21 16:09:08\",\"2023-05-21 16:09:11\",\"2023-05-21 16:09:21\",\"2023-05-21 16:10:43\",\"2023-05-21 16:10:44\",\"2023-05-21 18:47:42\",\"2023-05-21 18:47:43\",\"2023-05-21 18:47:46\",\"2023-05-21 18:47:48\",\"2023-05-22 18:30:46\",\"2023-05-22 18:31:00\",\"2023-05-22 18:34:32\",\"2023-05-22 18:34:33\",\"2023-05-22 18:35:04\",\"2023-05-22 18:35:05\",\"2023-05-22 18:48:50\",\"2023-05-23 08:18:59\",\"2023-05-23 08:19:16\",\"2023-05-23 08:19:32\",\"2023-05-23 08:19:33\",\"2023-05-23 08:19:34\",\"2023-05-23 08:19:35\",\"2023-05-23 08:19:43\",\"2023-05-23 08:19:55\",\"2023-05-23 08:19:56\",\"2023-05-23 08:20:13\",\"2023-05-23 14:42:28\",\"2023-05-23 14:43:08\",\"2023-05-23 14:43:11\",\"2023-05-23 14:43:25\",\"2023-05-23 14:43:31\",\"2023-05-23 14:43:44\",\"2023-05-23 14:43:53\",\"2023-05-23 14:44:03\",\"2023-05-23 17:59:47\",\"2023-05-23 17:59:56\",\"2023-05-23 18:29:48\",\"2023-05-23 19:30:08\",\"2023-05-24 18:11:20\",\"2023-05-24 18:11:21\",\"2023-05-24 18:11:22\",\"2023-05-24 18:37:18\",\"2023-05-25 17:54:44\",\"2023-05-25 17:54:54\",\"2023-05-25 17:54:55\",\"2023-05-25 19:03:54\",\"2023-05-25 19:03:55\",\"2023-05-25 19:05:01\",\"2023-05-25 19:05:22\",\"2023-05-25 19:05:25\",\"2023-05-25 19:05:56\",\"2023-05-25 19:05:57\",\"2023-05-25 19:05:59\",\"2023-05-25 19:21:56\",\"2023-05-25 20:22:58\",\"2023-05-26 15:15:10\",\"2023-05-26 15:15:27\",\"2023-05-26 15:15:31\",\"2023-05-26 15:15:38\",\"2023-05-26 15:15:39\",\"2023-05-26 15:26:18\",\"2023-05-26 15:26:19\",\"2023-05-26 15:26:21\",\"2023-05-26 15:27:15\",\"2023-05-26 16:00:54\",\"2023-05-26 16:13:42\",\"2023-05-26 16:13:43\",\"2023-05-26 16:13:44\",\"2023-05-26 18:00:07\",\"2023-05-26 18:07:12\",\"2023-05-26 18:07:46\",\"2023-05-26 18:35:24\",\"2023-05-26 18:35:29\",\"2023-05-26 18:35:30\",\"2023-05-26 19:53:41\",\"2023-05-26 19:53:50\",\"2023-05-27 18:37:43\",\"2023-05-27 18:37:49\",\"2023-05-27 18:37:50\",\"2023-05-27 19:06:27\",\"2023-05-29 15:30:33\",\"2023-05-29 15:30:40\",\"2023-05-29 15:30:41\",\"2023-05-29 15:30:50\",\"2023-05-29 16:15:23\",\"2023-05-29 16:21:41\",\"2023-05-29 16:21:42\",\"2023-05-29 17:03:34\",\"2023-05-29 17:03:36\",\"2023-05-29 17:03:37\",\"2023-05-29 17:29:43\",\"2023-05-29 18:00:19\",\"2023-05-29 18:28:24\",\"2023-05-29 18:28:25\",\"2023-05-29 18:30:48\",\"2023-05-29 18:52:22\",\"2023-05-29 18:52:25\",\"2023-05-29 18:52:26\",\"2023-05-29 19:10:16\",\"2023-05-29 20:00:01\",\"2023-05-29 20:40:17\",\"2023-05-29 21:36:47\",\"2023-05-29 22:10:42\",\"2023-05-29 22:49:26\",\"2023-05-29 23:40:23\",\"2023-05-30 00:19:14\",\"2023-05-30 00:55:01\",\"2023-05-30 01:25:50\",\"2023-05-30 02:07:25\",\"2023-05-30 02:37:36\",\"2023-05-30 03:07:48\",\"2023-05-30 03:38:24\",\"2023-05-30 04:08:24\",\"2023-05-30 04:42:40\",\"2023-05-30 05:14:27\",\"2023-05-30 05:45:24\",\"2023-05-30 06:23:54\",\"2023-05-30 06:57:01\",\"2023-05-30 07:28:53\",\"2023-05-30 07:58:54\",\"2023-05-30 08:28:54\",\"2023-05-30 09:04:30\",\"2023-05-30 09:35:20\",\"2023-05-30 10:06:40\",\"2023-05-30 10:37:30\",\"2023-05-30 13:58:58\",\"2023-05-30 13:59:03\",\"2023-05-30 13:59:05\",\"2023-05-30 13:59:06\",\"2023-05-30 13:59:17\",\"2023-05-30 13:59:24\",\"2023-05-30 13:59:27\",\"2023-05-30 13:59:35\",\"2023-05-30 13:59:43\",\"2023-05-30 13:59:57\",\"2023-05-30 14:00:23\",\"2023-05-30 14:00:24\",\"2023-05-30 14:05:21\",\"2023-05-30 14:05:23\",\"2023-05-30 14:05:35\",\"2023-05-30 16:50:22\",\"2023-05-30 16:50:23\",\"2023-05-30 17:21:10\",\"2023-05-30 19:05:03\",\"2023-05-30 19:05:05\",\"2023-05-30 19:05:06\",\"2023-05-30 19:10:36\",\"2023-05-30 20:03:45\",\"2023-05-30 20:37:10\",\"2023-05-30 20:42:10\",\"2023-05-30 20:42:24\",\"2023-05-30 20:42:41\",\"2023-05-30 20:42:55\",\"2023-05-30 20:43:30\",\"2023-05-30 20:43:37\",\"2023-05-30 20:43:43\",\"2023-05-30 20:44:20\",\"2023-05-30 20:44:22\",\"2023-05-30 20:44:29\",\"2023-05-30 20:44:43\",\"2023-05-30 20:45:13\",\"2023-05-30 20:46:19\",\"2023-05-30 20:46:22\",\"2023-05-30 20:46:31\",\"2023-05-30 20:46:36\",\"2023-05-30 22:08:14\",\"2023-05-31 01:29:20\",\"2023-05-31 02:09:36\",\"2023-05-31 02:40:39\",\"2023-05-31 03:10:50\",\"2023-05-31 03:41:35\",\"2023-05-31 04:13:44\",\"2023-05-31 04:49:59\",\"2023-05-31 05:20:28\",\"2023-05-31 05:51:12\",\"2023-05-31 06:26:24\",\"2023-05-31 06:56:28\",\"2023-05-31 07:27:28\",\"2023-05-31 08:03:54\",\"2023-05-31 09:36:39\",\"2023-05-31 09:36:47\",\"2023-05-31 09:36:48\",\"2023-05-31 10:27:41\",\"2023-05-31 18:59:15\",\"2023-05-31 18:59:22\",\"2023-05-31 18:59:23\",\"2023-05-31 19:22:15\",\"2023-05-31 19:22:18\",\"2023-05-31 19:34:39\",\"2023-06-01 18:47:05\",\"2023-06-01 18:47:12\",\"2023-06-01 18:47:13\",\"2023-06-02 16:25:24\",\"2023-06-02 16:27:22\",\"2023-06-02 16:27:24\",\"2023-06-02 16:27:25\",\"2023-06-02 16:27:27\",\"2023-06-02 16:27:28\",\"2023-06-02 16:39:44\",\"2023-06-02 16:39:46\",\"2023-06-02 16:44:42\",\"2023-06-02 16:45:34\",\"2023-06-02 16:45:35\",\"2023-06-02 17:12:34\",\"2023-06-04 17:26:29\",\"2023-06-04 17:26:34\",\"2023-06-04 17:26:42\",\"2023-06-04 17:28:07\",\"2023-06-04 17:28:21\",\"2023-06-04 17:28:27\",\"2023-06-04 17:28:28\",\"2023-06-05 17:25:43\",\"2023-06-05 17:25:52\",\"2023-06-05 17:28:44\",\"2023-06-05 17:28:45\",\"2023-06-05 17:28:46\",\"2023-06-05 17:28:52\",\"2023-06-05 17:29:04\",\"2023-06-05 17:29:05\",\"2023-06-05 17:29:07\",\"2023-06-05 17:29:08\",\"2023-06-05 17:29:09\",\"2023-06-05 17:29:25\",\"2023-06-05 17:29:26\",\"2023-06-05 17:29:29\",\"2023-06-05 17:30:29\",\"2023-06-05 17:30:42\",\"2023-06-05 17:30:44\",\"2023-06-05 17:31:21\",\"2023-06-05 17:31:23\",\"2023-06-05 17:31:29\",\"2023-06-05 17:31:52\",\"2023-06-05 17:31:53\",\"2023-06-08 11:39:16\",\"2023-06-08 11:39:17\",\"2023-06-08 11:39:18\",\"2023-06-08 11:39:19\",\"2023-06-08 11:39:20\",\"2023-06-08 11:39:37\",\"2023-06-08 11:39:38\",\"2023-06-08 11:39:42\",\"2023-06-08 11:39:44\",\"2023-06-08 11:40:03\",\"2023-06-08 11:40:06\",\"2023-06-08 11:40:09\",\"2023-06-08 11:40:10\",\"2023-06-08 17:39:42\",\"2023-06-08 17:39:50\",\"2023-06-08 17:39:51\",\"2023-06-08 18:01:11\",\"2023-06-08 18:01:12\",\"2023-06-08 18:05:37\",\"2023-06-08 18:17:47\",\"2023-06-08 18:17:48\",\"2023-06-08 19:02:21\",\"2023-06-08 19:03:05\",\"2023-06-08 19:03:08\",\"2023-06-08 19:03:09\",\"2023-06-09 16:41:10\",\"2023-06-09 16:41:27\",\"2023-06-09 16:41:28\",\"2023-06-09 17:59:21\",\"2023-06-09 18:00:38\",\"2023-06-09 18:00:39\",\"2023-06-09 19:48:16\",\"2023-06-09 23:48:10\",\"2023-06-09 23:48:28\",\"2023-06-09 23:48:29\",\"2023-06-09 23:49:20\",\"2023-06-09 23:49:44\",\"2023-06-09 23:49:45\",\"2023-06-09 23:50:18\",\"2023-06-09 23:50:20\",\"2023-06-09 23:50:22\",\"2023-06-10 17:26:02\",\"2023-06-10 17:26:16\",\"2023-06-10 17:26:20\",\"2023-06-10 17:26:38\",\"2023-06-12 08:30:39\",\"2023-06-12 08:31:26\",\"2023-06-12 08:32:07\",\"2023-06-12 08:41:18\",\"2023-06-12 08:41:20\",\"2023-06-13 15:50:12\",\"2023-06-13 15:50:17\",\"2023-06-13 15:50:29\",\"2023-06-13 15:50:30\",\"2023-06-13 15:50:31\",\"2023-06-13 15:50:32\",\"2023-06-13 15:50:33\",\"2023-06-13 15:51:57\",\"2023-06-13 15:51:58\",\"2023-06-13 15:51:59\",\"2023-06-13 15:52:37\",\"2023-06-13 15:52:38\",\"2023-06-13 15:52:44\",\"2023-06-13 15:52:45\",\"2023-06-13 18:09:00\",\"2023-06-13 18:43:53\",\"2023-06-13 19:59:27\",\"2023-06-14 07:19:01\",\"2023-06-14 07:19:03\",\"2023-06-14 08:16:58\",\"2023-06-14 08:16:59\",\"2023-06-14 08:17:01\",\"2023-06-14 08:17:02\",\"2023-06-14 08:23:45\",\"2023-06-14 14:59:17\",\"2023-06-14 14:59:26\",\"2023-06-14 14:59:51\",\"2023-06-14 15:00:02\",\"2023-06-14 17:03:08\",\"2023-06-14 17:03:09\",\"2023-06-14 18:08:13\",\"2023-06-14 18:08:23\",\"2023-06-14 18:08:24\",\"2023-06-14 18:08:29\",\"2023-06-14 18:08:41\",\"2023-06-15 03:46:00\",\"2023-06-15 11:26:26\",\"2023-06-15 11:26:33\",\"2023-06-15 11:26:34\",\"2023-06-15 11:27:01\",\"2023-06-15 17:16:33\",\"2023-06-15 17:16:34\",\"2023-06-15 17:16:37\",\"2023-06-15 17:16:38\",\"2023-06-15 17:16:46\",\"2023-06-15 17:17:33\",\"2023-06-15 17:17:42\",\"2023-06-15 17:18:04\",\"2023-06-15 17:18:05\",\"2023-06-15 17:18:07\",\"2023-06-15 17:18:08\",\"2023-06-17 12:01:57\",\"2023-06-17 12:01:59\",\"2023-06-17 12:02:00\",\"2023-06-17 12:02:04\",\"2023-06-17 12:02:39\",\"2023-06-17 12:02:42\",\"2023-06-17 12:02:43\",\"2023-06-17 12:02:47\",\"2023-06-17 12:02:48\",\"2023-06-17 12:03:19\",\"2023-06-17 12:03:22\",\"2023-06-17 12:04:06\",\"2023-06-17 12:04:08\",\"2023-06-17 12:04:14\",\"2023-06-17 12:04:21\",\"2023-06-17 12:04:26\",\"2023-06-17 12:04:31\",\"2023-06-17 14:29:33\",\"2023-06-17 15:50:20\",\"2023-06-17 19:00:59\",\"2023-06-17 19:01:07\",\"2023-06-17 19:01:23\",\"2023-06-17 19:01:25\",\"2023-06-17 19:01:27\",\"2023-06-17 19:03:38\",\"2023-06-17 19:03:41\",\"2023-06-17 19:03:42\",\"2023-06-17 19:32:04\"],\"xaxis\":\"x\",\"y\":[2,2,2,2,2,2,4,2,2,1,1,2,2,1,1,1,1,2,2,2,1,1,2,2,2,2,2,2,2,2,2,2,2,2,2,2,2,2,1,1,1,1,2,2,2,2,2,1,1,2,4,2,2,2,1,1,1,1,1,1,2,2,2,2,2,2,2,1,1,2,1,1,2,2,1,1,2,2,4,1,1,2,2,2,2,1,1,1,1,1,1,1,2,1,1,2,2,2,1,1,2,2,2,2,1,1,2,2,2,1,1,2,2,2,2,1,1,2,2,2,2,2,1,1,2,1,1,2,2,1,1,2,1,1,2,2,2,2,2,1,1,2,2,2,2,2,2,2,2,2,2,3,1,2,2,2,2,2,2,1,1,2,2,2,1,2,2,2,2,2,2,2,2,4,2,2,2,2,2,2,2,1,1,2,2,1,3,2,2,2,1,1,1,1,2,2,2,2,2,1,1,2,2,2,2,2,1,1,3,3,1,1,2,2,1,1,2,2,2,2,2,2,1,1,2,2,1,1,1,1,1,1,2,2,2,2,1,1,2,2,2,2,2,2,2,2,2,2,1,1,1,1,2,2,2,2,2,2,2,2,2,2,2,2,2,2,2,1,1,2,2,2,1,1,2,1,1,2,2,4,2,1,1,2,2,2,2,2,1,1,2,1,1,2,1,1,2,2,1,1,2,2,1,1,2,2,2,1,1,3,1,2,2,2,2,1,1,2,2,2,2,2,2,2,1,1,2,2,2,1,1,2,1,1,2,2,1,1,2,1,1,2,2,1,1,2,2,2,1,1,3,2,2,1,2,2,1,1,3,1,1,1,2,2,1,1,2,4,1,1,2,2,2,1,1,1,2,1,2,2,2,2,2,2,1,2,1,2,2,1,3,1,1,2,2,2,2,2,1,1,2,2,2,3,1,1,1,1,1,1,1,1,1,2,2,2,1,1,2,1,1,2,1,1,2,2,2,2,2,2,1,1,1,1,1,1,1,1,2,2,2,2,2,2,2,2,2,2,2,2,2,2,2,2,2,2,2,1,2,2,2,2,2,2,2,2,1,1,2,2,2,1,1,1,1,2,1,1,3,1,2,2,2,1,1,2,2,2,1,1,2,1,1,2,2,2,2,2,2,1,1,2,2,2,2,2,2,2,2,1,1,2,1,1,2,2,2,2,2,2,4,1,3,1,1,1,1,1,2,2,1,1,2,2,2,1,1,2,1,1,2,2,1,1,2,1,1,1,1,2,2,2,2,2,2,2,1,1,2,2,2,1,1,2,1,1,2,2,2,1,1,2,1,1,1,1,1,2,2,2,2,2,2,2,1,1,2,4,2,1,1,1,1,1,1,4,2,1,1,1,1,4,2,1,1,2,2,2,2,1,1,2,2,2,2,4,1,1,2,2,2,2,2,2,4,2,2,2,2,1,1,2,2,2,3,2,2,2,2,2,1,1,2,2,2,1,3,2,2,2,2,2,2,2,1,1,2,2,2,1,1,1,1,2,2,1,1,1,1,2,2,2,2,1,1,2,2,2,2,2,2,1,1,2,1,1,1,2,1,2,1,1,2,1,1,2,2,1,1,1,1,2,2,2,1,2,2,2,2,2,2,2,2,1,1,1,1,1,2,2,2,1,1,2,2,2,4,2,2,2,2,2,1,1,2,2,2,2,2,2,2,2,2,2,1,1,2,2,2,4,1,1,2,1,1,2,1,1,2,2,2,2,2,2,2,2,2,2,2,2,1,1,2,2,1,2,2,2,2,2,2,2,2,1,1,2,2,1,1,2,1,1,1,1,2,1,1,1,1,1,1,2,2,2,1,1,2,2,2,2,2,2,1,1,2,2,2,2,1,1,2,2,2,1,1,2,1,1,2,2,2,2,2,1,1,2,1,1,2,2,2,2,2,2,1,2,1,1,1,3,2,2,2,1,2,1,1,1,4,2,2,1,1,2,2,2,2,2,4,1,1,1,2,2,1,3,2,3,3,2,1,1,2,1,1,1,1,2,1,1,2,2,2,2,2,2,2,1,1,2,1,1,2,2,1,2,1,1,2,2,2,2,2,2,2,2,2,2,2,2,2,2,2,2,2,1,1,2,2,2,1,3,2,2,2,2,2,2,2,2,2,2,1,1,2,2,2,1,1,2,2,2,1,1,2,1,1,2,1,1,2,2,2,2,2,2,2,2,2,2,2,2,2,2,2,2,2,2,2,2,2,2,2,2,2,2,2,2,2,2,2,2,2,2,3,2,2,2,2,2,2,2,1,1,2,2,2,2,2,2,1,1,2,1,1,2,2,2,2,2,2,1,1,1,1,1,1,2,2,2,2,1,1,2,2,2,2,2,2,2,2,2,2,2,2,1,1,2,2,2,2,2,2,2,2,2,2,2,2,2,2,2,2,2,2,4,2,2,2,2,2,2,2,2,2,2,2,2,2,2,2,2,2,2,2,2,2,2,2,2,2,2,2,2,2,2,2,2,2,2,2,2,2,2,2,2,2,2,2,1,1,2,2,2,2,2,2,2,2,2,2,2,1,1,2,2,2,1,1,1,1,1,1,4,2,2,2,2,4,2,2,1,1,1,1,1,1,1,1,1,1,2,2,1,1,2,2,1,1,6,2,1,1,2,2,2,2,2,2,1,1,2,2,1,1,1,1,2,1,1,1,2,2,2,2,2,2,2,2,1,1,2,2,2,2,1,1,1,1,2,2,2,2,2,2,1,1,2,2,2,2,2,2,2,2,1,1,4,2,2,4,2,2,1,1,2,2,2,1,1,2,2,2,2,2,1,1,4,2,2,2,2,2,2,2,1,1,2,2,2,2,2,2,1,1,3,1,2,1,1,2,2,2,2,1,1,2,4,2,1,1,1,1,2,2,2,2,2,2,2,4,4,2,2,2,2,1,1,2,2,2,2,2,2,2,3,1,1,1,1,1,2,2,2,2,1,1,2,1,1,1,1,1,1,2,1,1,2,2,2,2,2,2,2,2,2,2,2,2,2,1,1,2,2,2,2,2,2,2,2,2,2,2,2,1,3,2,2,2,2,2,2,2,2,2,2,2,2,2,2,2,2,2,2,2,2,2,2,2,2,2,2,2,1,1,2,2,2,2,2,2,1,1,2,2,2,2,2,2,2,2,2,2,2,2,2,1,1,2,2,2,1,1,2,2,1,1,2,2,2,1,1,2,1,1,1,1,2,2,2,2,2,2,2,1,1,2,1,1,2,2,1,1,2,2,2,2,2,1,1,2,1,1,2,2,2,2,2,2,1,1,2,2,1,2,2,2,2,2,2,2,1,1,2,2,2,2,2,2,2,2,2,1,1,2,1,1,1,2,2,2,2,1,1,2,2,2,2,1,1,2,1,2,1,1,2,2,2,2,2,2,2,2,1,1,2,2,2,1,2,2,2,2,2,1,1,2,2,2,2,2,2,2,2,2,2,2,2,1,1,2,2,2,2,2,2,2,2,2,2,2,2,2,2,2,2,2,2,2,2,2,2,2,2,2,1,1,2,2,2,2,2,2,2,2,2,2,2,2,2,2,2,2,2,1,1,2,2,2,2,2,2,2,2,2,2,2,2,2,2,2,2,1,2,1,2,2,2,2,2,2,2,2,1,1,1,3,2,2,2,2,1,1,1,1,2,4,2,1,1,1,1,2,1,1,2,2,2,2,2,2,2,2,2,2,2,2,1,1,1,2,2,2,1,1,1,1,2,4,3,2,1,1,2,1,2,2,2,1,1,1,1,2,2,2,2,1,1,1,2,2,2,1,1,2,2,2,1,1,2,2,1,1,2,2,1,1,2,1,1,2,1,1,1,1,2,1,1,1,1,1,1,1,1,1,1,1,1,1,1,1,1,1,1,1,1,1,1,1,1,1,1,1,1,1,2,2,3,1,1,1,2,2,2,2,1,1,2,2,2,1,1,2,2,1,1,2,1,1,2,2,2,2,2,2,2,4,2,2,2,2,2,2,2,2,1,1,1,1,1,1,1,1,1,1,1,1,1,1,2,1,1,2,2,1,1,2,2,2,2,1,1,2,4,1,1,1,1,1,1,2,1,1,2,2,2,2,2,2,1,1,2,2,2,1,1,2,1,2,1,1,1,2,2,2,2,2,2,2,1,1,2,2,2,2,1,2,1,1,3,1,2,2,2,1,1,2,1,1,1,1,2,1,1,2,4,3,1,2,1,1,2,1,1,2,2,1,1,2,1,1,2,2,2,2,2,2,2,2,2,2,2,2,2,2,1,1,4,1,1,1,2,2,4,4,1,2,2,1,2,2,1,1,1,1,1,2,2,2,2,2,1,1,2,1,1,2,2,1,2,1,1,2,2,4,1,1,2,2,2,1,1,1,1,2,1,1,2,2,1,1,2,2,2,2,2,2,2,2,4,2,2,2,2,2,2,1,1,2,1,1,2],\"yaxis\":\"y\",\"type\":\"scattergl\"},{\"hovertemplate\":\"Profile Name=User 5\\u003cbr\\u003eClick_Utc_Ts=%{x}\\u003cbr\\u003eTotal Count=%{y}\\u003cextra\\u003e\\u003c\\u002fextra\\u003e\",\"legendgroup\":\"User 5\",\"line\":{\"color\":\"#FF6692\",\"dash\":\"solid\"},\"marker\":{\"symbol\":\"circle\"},\"mode\":\"lines\",\"name\":\"User 5\",\"showlegend\":true,\"x\":[\"2023-02-20 04:26:12\",\"2023-02-20 04:26:15\",\"2023-02-20 04:26:24\",\"2023-02-20 04:26:27\",\"2023-02-20 08:07:02\",\"2023-02-20 08:07:03\",\"2023-02-20 08:10:56\",\"2023-02-20 08:11:01\",\"2023-02-20 08:11:02\",\"2023-02-20 08:11:25\",\"2023-02-20 08:11:28\",\"2023-02-20 08:12:00\",\"2023-02-23 15:05:31\",\"2023-02-23 15:05:32\",\"2023-02-23 15:05:37\",\"2023-02-23 15:28:23\",\"2023-02-23 15:58:23\",\"2023-02-23 16:04:50\",\"2023-02-23 16:04:55\",\"2023-02-23 16:05:00\",\"2023-02-23 16:05:28\",\"2023-02-23 16:05:48\",\"2023-02-23 17:25:20\",\"2023-02-24 04:09:14\",\"2023-02-24 04:09:16\",\"2023-02-24 04:09:43\",\"2023-02-24 04:09:45\",\"2023-02-24 04:29:34\",\"2023-02-24 08:14:59\",\"2023-02-24 08:15:07\",\"2023-02-24 08:15:11\",\"2023-02-24 08:15:21\",\"2023-02-25 04:43:22\",\"2023-02-25 04:43:25\",\"2023-02-25 04:43:31\",\"2023-02-25 04:43:37\",\"2023-02-25 04:59:52\",\"2023-02-25 08:28:18\",\"2023-02-25 08:28:19\",\"2023-02-25 08:28:31\",\"2023-02-25 08:29:01\",\"2023-02-25 08:29:22\",\"2023-02-25 08:30:35\",\"2023-02-25 08:30:56\",\"2023-02-25 08:31:11\",\"2023-02-25 13:14:02\",\"2023-02-25 13:14:03\",\"2023-02-25 13:14:04\",\"2023-02-25 13:14:16\",\"2023-02-25 13:15:21\",\"2023-02-25 13:15:43\",\"2023-02-25 15:00:31\",\"2023-02-25 15:00:41\",\"2023-03-07 15:11:51\",\"2023-03-07 15:11:52\",\"2023-03-07 15:23:07\",\"2023-03-07 15:23:10\",\"2023-03-07 15:28:59\",\"2023-03-07 15:29:02\",\"2023-03-07 15:40:45\",\"2023-03-07 15:40:46\",\"2023-03-07 15:40:58\",\"2023-03-07 15:41:03\",\"2023-03-07 15:41:07\",\"2023-03-07 15:41:22\",\"2023-03-07 15:47:14\",\"2023-03-07 15:53:11\",\"2023-03-07 17:37:06\",\"2023-03-07 17:37:19\",\"2023-03-08 04:36:06\",\"2023-03-08 04:36:43\",\"2023-03-08 04:37:12\",\"2023-03-08 04:37:15\",\"2023-03-08 04:54:45\",\"2023-03-08 04:55:35\",\"2023-03-08 04:55:36\",\"2023-03-08 05:12:40\",\"2023-03-08 05:12:41\",\"2023-03-08 05:31:09\",\"2023-03-08 05:32:48\",\"2023-03-08 08:11:32\",\"2023-03-08 08:11:42\",\"2023-03-08 08:11:48\",\"2023-03-08 08:11:51\",\"2023-03-08 08:30:06\",\"2023-03-08 08:30:08\",\"2023-03-08 14:57:16\",\"2023-03-08 14:57:18\",\"2023-03-08 14:57:45\",\"2023-03-08 14:58:02\",\"2023-03-08 15:19:59\",\"2023-03-08 15:20:04\",\"2023-03-08 15:42:05\",\"2023-03-08 15:42:10\",\"2023-03-09 04:06:47\",\"2023-03-09 04:06:50\",\"2023-03-09 04:07:10\",\"2023-03-09 04:07:25\",\"2023-03-09 04:07:36\",\"2023-03-09 04:07:39\",\"2023-03-09 04:07:51\",\"2023-03-09 04:23:21\",\"2023-03-09 07:55:41\",\"2023-03-09 07:55:42\",\"2023-03-09 07:55:53\",\"2023-03-09 07:55:56\",\"2023-03-09 08:01:12\",\"2023-03-09 08:01:14\",\"2023-03-09 08:01:37\",\"2023-03-09 08:01:40\",\"2023-03-09 08:02:24\",\"2023-03-09 08:02:33\",\"2023-03-09 08:02:36\",\"2023-03-09 08:02:54\",\"2023-03-09 08:02:57\",\"2023-03-09 08:03:14\",\"2023-03-09 08:03:16\",\"2023-03-09 08:04:29\",\"2023-03-09 08:04:52\",\"2023-03-09 08:05:03\",\"2023-03-09 08:12:19\",\"2023-03-09 08:12:21\",\"2023-03-09 15:45:54\",\"2023-03-10 16:44:11\",\"2023-03-11 15:57:41\",\"2023-03-11 15:57:51\",\"2023-03-11 15:57:52\",\"2023-03-11 15:58:09\",\"2023-03-11 15:58:55\",\"2023-03-11 15:58:56\",\"2023-03-11 16:07:01\",\"2023-03-11 16:07:20\",\"2023-03-11 16:07:26\",\"2023-03-11 16:07:27\",\"2023-03-11 16:09:25\",\"2023-03-11 16:09:27\",\"2023-03-11 16:09:28\",\"2023-03-11 16:09:29\",\"2023-03-12 14:59:05\",\"2023-03-12 14:59:09\",\"2023-03-12 15:00:52\",\"2023-03-12 15:01:04\",\"2023-03-12 15:06:09\",\"2023-03-12 15:07:11\",\"2023-03-12 15:18:45\",\"2023-03-12 15:18:50\",\"2023-03-12 15:34:32\",\"2023-03-12 15:36:30\",\"2023-03-12 15:49:03\",\"2023-03-12 16:19:03\",\"2023-03-13 04:53:49\",\"2023-03-13 04:53:55\",\"2023-03-13 04:54:54\",\"2023-03-13 04:54:57\",\"2023-03-13 05:06:33\",\"2023-03-13 08:02:16\",\"2023-03-13 08:02:17\",\"2023-03-13 08:03:26\",\"2023-03-13 08:03:29\",\"2023-03-13 08:13:21\",\"2023-03-13 08:13:24\",\"2023-03-13 08:22:42\",\"2023-03-13 14:48:38\",\"2023-03-13 14:49:02\",\"2023-03-13 14:49:07\",\"2023-03-13 14:49:32\",\"2023-03-13 15:04:06\",\"2023-03-13 15:04:07\",\"2023-03-13 15:05:39\",\"2023-03-14 04:30:02\",\"2023-03-14 04:30:04\",\"2023-03-14 04:30:12\",\"2023-03-14 04:30:15\",\"2023-03-14 04:30:29\",\"2023-03-14 04:30:30\",\"2023-03-14 07:49:24\",\"2023-03-14 07:49:26\",\"2023-03-14 07:52:28\",\"2023-03-14 07:53:41\",\"2023-03-14 07:53:53\",\"2023-03-14 07:54:03\",\"2023-03-14 07:54:27\",\"2023-03-14 07:54:42\",\"2023-03-14 07:55:27\",\"2023-03-14 07:55:30\",\"2023-03-14 07:59:01\",\"2023-03-14 07:59:05\",\"2023-03-14 08:00:30\",\"2023-03-14 08:00:33\",\"2023-03-14 08:06:03\",\"2023-03-14 08:06:06\",\"2023-03-14 08:06:22\",\"2023-03-14 08:06:24\",\"2023-03-14 08:06:30\",\"2023-03-14 08:06:45\",\"2023-03-14 08:07:21\",\"2023-03-14 08:07:23\",\"2023-03-14 08:07:50\",\"2023-03-14 08:07:53\",\"2023-03-14 08:08:05\",\"2023-03-14 08:08:07\",\"2023-03-14 08:08:29\",\"2023-03-14 08:08:31\",\"2023-03-14 08:15:06\",\"2023-03-14 08:15:09\",\"2023-03-14 14:59:43\",\"2023-03-14 14:59:46\",\"2023-03-14 14:59:55\",\"2023-03-14 14:59:58\",\"2023-03-14 15:11:05\",\"2023-03-14 15:11:07\",\"2023-03-15 05:07:36\",\"2023-03-15 05:07:37\",\"2023-03-15 05:07:58\",\"2023-03-15 05:08:02\",\"2023-03-18 16:19:37\",\"2023-03-18 16:20:26\",\"2023-03-18 16:20:41\",\"2023-03-18 16:20:42\",\"2023-03-18 16:27:22\",\"2023-03-18 16:27:26\",\"2023-03-18 16:39:17\",\"2023-03-18 16:53:50\",\"2023-03-19 08:12:58\",\"2023-03-19 08:13:04\",\"2023-03-19 08:17:01\",\"2023-03-19 08:17:03\",\"2023-03-19 15:17:00\",\"2023-03-19 15:17:01\",\"2023-03-19 15:18:10\",\"2023-03-19 15:18:13\",\"2023-03-19 16:22:11\",\"2023-03-20 04:49:07\",\"2023-03-20 04:49:09\",\"2023-03-20 04:49:26\",\"2023-03-20 04:49:29\",\"2023-03-20 08:08:04\",\"2023-03-20 08:08:09\",\"2023-03-20 08:08:17\",\"2023-03-20 08:08:19\",\"2023-03-20 08:25:11\",\"2023-03-20 14:40:46\",\"2023-03-20 14:40:56\",\"2023-03-20 14:41:05\",\"2023-03-20 14:41:08\",\"2023-03-20 14:52:31\",\"2023-03-20 14:52:32\",\"2023-03-20 14:52:36\",\"2023-03-20 14:54:02\",\"2023-03-20 14:54:19\",\"2023-03-20 14:55:15\",\"2023-03-20 15:27:31\",\"2023-03-20 15:27:57\",\"2023-03-20 15:27:59\",\"2023-03-20 15:28:25\",\"2023-03-20 15:29:10\",\"2023-03-20 15:29:44\",\"2023-03-20 15:29:49\",\"2023-03-21 04:12:04\",\"2023-03-21 04:12:11\",\"2023-03-21 07:47:38\",\"2023-03-21 07:47:39\",\"2023-03-21 07:47:47\",\"2023-03-21 07:47:48\",\"2023-03-21 07:51:51\",\"2023-03-21 07:51:55\",\"2023-03-21 15:04:16\",\"2023-03-21 15:04:18\",\"2023-03-21 15:04:24\",\"2023-03-21 15:04:27\",\"2023-03-21 15:49:57\",\"2023-03-21 15:49:58\",\"2023-03-21 15:50:01\",\"2023-03-21 15:50:05\",\"2023-03-22 04:39:51\",\"2023-03-22 04:39:55\",\"2023-03-22 04:40:02\",\"2023-03-22 04:40:04\",\"2023-03-22 04:50:20\",\"2023-03-22 04:51:24\",\"2023-03-22 04:52:29\",\"2023-03-22 04:52:44\",\"2023-03-22 04:59:24\",\"2023-03-22 05:04:29\",\"2023-03-22 05:24:30\",\"2023-03-22 08:09:23\",\"2023-03-22 08:09:24\",\"2023-03-24 16:28:25\",\"2023-03-24 16:28:38\",\"2023-03-24 16:28:49\",\"2023-03-24 16:28:50\",\"2023-03-24 17:23:06\",\"2023-03-27 03:33:27\",\"2023-03-27 03:33:30\",\"2023-03-27 03:35:15\",\"2023-03-27 03:35:24\",\"2023-03-27 03:35:30\",\"2023-03-27 03:35:38\",\"2023-03-27 03:35:40\",\"2023-03-27 03:35:48\",\"2023-03-27 03:36:17\",\"2023-03-27 03:36:21\",\"2023-03-27 08:11:52\",\"2023-03-27 08:11:53\",\"2023-03-27 08:12:04\",\"2023-03-27 08:12:06\",\"2023-03-27 08:28:48\",\"2023-03-27 14:53:12\",\"2023-03-27 14:53:13\",\"2023-03-27 14:53:21\",\"2023-03-27 14:53:23\",\"2023-03-27 15:14:46\",\"2023-03-28 04:20:07\",\"2023-03-28 04:20:11\",\"2023-03-28 04:20:18\",\"2023-03-28 04:21:15\",\"2023-03-28 04:53:47\",\"2023-03-28 07:56:04\",\"2023-03-28 07:56:21\",\"2023-03-28 07:59:59\",\"2023-03-28 08:00:00\",\"2023-03-28 08:00:05\",\"2023-03-28 08:00:07\",\"2023-03-28 08:46:24\",\"2023-03-28 14:57:07\",\"2023-03-28 14:59:00\",\"2023-03-28 15:01:36\",\"2023-03-28 15:01:39\",\"2023-03-28 15:03:25\",\"2023-03-28 15:33:52\",\"2023-03-28 16:27:19\",\"2023-03-29 16:15:58\",\"2023-03-30 15:31:14\",\"2023-03-30 15:31:18\",\"2023-03-30 15:31:20\",\"2023-03-30 15:31:34\",\"2023-03-30 15:32:20\",\"2023-03-31 04:45:09\",\"2023-03-31 04:45:57\",\"2023-03-31 04:46:59\",\"2023-03-31 04:50:49\",\"2023-03-31 04:50:51\",\"2023-03-31 05:14:09\",\"2023-03-31 15:00:16\",\"2023-03-31 15:00:25\",\"2023-03-31 15:00:28\",\"2023-03-31 16:36:26\",\"2023-04-01 04:25:44\",\"2023-04-01 04:25:45\",\"2023-04-01 04:25:51\",\"2023-04-01 04:25:53\",\"2023-04-01 04:32:08\",\"2023-04-01 14:51:25\",\"2023-04-01 14:51:26\",\"2023-04-01 14:51:31\",\"2023-04-01 14:51:34\",\"2023-04-01 14:57:54\",\"2023-04-01 14:58:14\",\"2023-04-01 15:24:01\",\"2023-04-01 15:31:02\",\"2023-04-01 15:36:08\",\"2023-04-01 15:56:07\",\"2023-04-02 04:09:43\",\"2023-04-02 04:12:08\",\"2023-04-02 04:12:09\",\"2023-04-02 04:12:26\",\"2023-04-02 04:18:12\",\"2023-04-02 04:18:13\",\"2023-04-02 04:18:21\",\"2023-04-02 04:18:41\",\"2023-04-02 04:18:42\",\"2023-04-02 04:58:56\",\"2023-04-02 04:58:57\",\"2023-04-02 07:55:22\",\"2023-04-02 07:55:23\",\"2023-04-02 07:55:40\",\"2023-04-02 07:56:05\",\"2023-04-02 07:57:29\",\"2023-04-02 07:58:10\",\"2023-04-02 07:58:15\",\"2023-04-02 07:58:22\",\"2023-04-02 07:58:26\",\"2023-04-02 07:58:39\",\"2023-04-02 07:58:43\",\"2023-04-02 07:58:44\",\"2023-04-02 07:59:18\",\"2023-04-02 07:59:59\",\"2023-04-02 08:00:52\",\"2023-04-02 08:19:14\",\"2023-04-02 08:19:15\",\"2023-04-02 08:39:54\",\"2023-04-02 08:39:55\",\"2023-04-02 08:42:09\",\"2023-04-02 08:42:11\",\"2023-04-02 08:53:07\",\"2023-04-02 08:53:08\",\"2023-04-02 09:04:28\",\"2023-04-02 14:50:45\",\"2023-04-02 14:51:03\",\"2023-04-02 14:51:10\",\"2023-04-02 14:59:45\",\"2023-04-02 14:59:49\",\"2023-04-02 15:10:03\",\"2023-04-02 15:10:04\",\"2023-04-02 15:14:07\",\"2023-04-02 15:14:09\",\"2023-04-02 15:37:44\",\"2023-04-02 15:37:48\",\"2023-04-03 08:23:13\",\"2023-04-03 08:23:41\",\"2023-04-03 08:23:49\",\"2023-04-03 08:23:52\",\"2023-04-03 08:44:01\",\"2023-04-03 15:38:09\",\"2023-04-03 15:38:23\",\"2023-04-03 15:38:31\",\"2023-04-03 15:38:34\",\"2023-04-03 15:43:08\",\"2023-04-03 15:43:12\",\"2023-04-03 16:09:53\",\"2023-04-03 16:25:15\",\"2023-04-03 16:30:33\",\"2023-04-04 04:40:12\",\"2023-04-04 05:05:33\",\"2023-04-04 07:48:27\",\"2023-04-04 07:48:29\",\"2023-04-04 07:48:43\",\"2023-04-04 07:48:47\",\"2023-04-04 07:56:33\",\"2023-04-04 07:56:35\",\"2023-04-04 07:58:05\",\"2023-04-04 07:58:07\",\"2023-04-04 08:08:27\",\"2023-04-04 14:58:26\",\"2023-04-04 14:58:45\",\"2023-04-04 14:58:46\",\"2023-04-06 05:22:43\",\"2023-04-06 05:23:03\",\"2023-04-06 05:23:15\",\"2023-04-06 05:23:18\",\"2023-04-06 05:23:37\",\"2023-04-06 05:23:41\",\"2023-04-06 05:44:48\",\"2023-04-06 05:44:53\",\"2023-04-06 05:47:49\",\"2023-04-06 07:41:49\",\"2023-04-06 07:41:53\",\"2023-04-06 07:42:02\",\"2023-04-06 07:42:21\",\"2023-04-06 07:58:13\",\"2023-04-06 07:58:16\",\"2023-04-06 08:05:21\",\"2023-04-06 14:56:24\",\"2023-04-06 14:56:26\",\"2023-04-06 14:56:51\",\"2023-04-06 14:56:54\",\"2023-04-06 15:01:18\",\"2023-04-06 15:01:23\",\"2023-04-06 15:19:22\",\"2023-04-06 15:41:43\",\"2023-04-06 15:41:46\",\"2023-04-06 15:41:58\",\"2023-04-06 15:55:26\",\"2023-04-06 15:56:30\",\"2023-04-06 15:56:31\",\"2023-04-07 04:30:26\",\"2023-04-07 04:30:31\",\"2023-04-07 04:31:34\",\"2023-04-07 04:31:39\",\"2023-04-07 04:32:30\",\"2023-04-07 04:32:37\",\"2023-04-07 04:32:39\",\"2023-04-07 04:44:29\",\"2023-04-07 04:44:34\",\"2023-04-07 05:01:30\",\"2023-04-07 05:01:32\",\"2023-04-07 05:21:17\",\"2023-04-07 05:21:18\",\"2023-04-07 05:21:30\",\"2023-04-07 08:05:20\",\"2023-04-07 08:05:22\",\"2023-04-07 08:05:54\",\"2023-04-07 08:05:57\",\"2023-04-07 08:25:35\",\"2023-04-07 08:25:38\",\"2023-04-07 08:30:42\",\"2023-04-07 15:11:00\",\"2023-04-07 15:11:02\",\"2023-04-07 15:11:12\",\"2023-04-07 15:11:29\",\"2023-04-07 15:25:51\",\"2023-04-07 15:25:56\",\"2023-04-07 15:33:46\",\"2023-04-07 15:35:15\",\"2023-04-07 15:52:51\",\"2023-04-07 15:52:56\",\"2023-04-07 15:53:16\",\"2023-04-07 16:23:16\",\"2023-04-08 18:38:56\",\"2023-04-08 18:39:02\",\"2023-04-08 18:39:03\",\"2023-04-08 18:39:09\",\"2023-04-08 18:39:13\",\"2023-04-08 18:39:15\",\"2023-04-08 18:39:22\",\"2023-04-08 18:39:23\",\"2023-04-08 18:39:40\",\"2023-04-08 18:39:42\",\"2023-04-08 18:39:43\",\"2023-04-08 18:41:18\",\"2023-04-08 18:41:19\",\"2023-04-08 18:41:20\",\"2023-04-08 18:41:21\",\"2023-04-08 18:41:22\",\"2023-04-08 18:41:30\",\"2023-04-08 18:43:03\",\"2023-04-09 04:06:13\",\"2023-04-09 04:06:15\",\"2023-04-09 04:06:35\",\"2023-04-09 04:06:36\",\"2023-04-09 04:06:39\",\"2023-04-09 04:07:54\",\"2023-04-09 04:07:56\",\"2023-04-09 04:08:26\",\"2023-04-09 04:08:28\",\"2023-04-09 04:08:37\",\"2023-04-09 04:08:43\",\"2023-04-09 04:09:08\",\"2023-04-09 04:27:57\",\"2023-04-09 04:27:59\",\"2023-04-09 04:47:51\",\"2023-04-09 04:47:52\",\"2023-04-09 05:02:28\",\"2023-04-09 05:02:30\",\"2023-04-09 05:03:59\",\"2023-04-09 07:53:18\",\"2023-04-09 07:53:20\",\"2023-04-09 07:53:26\",\"2023-04-09 07:53:30\",\"2023-04-09 08:11:36\",\"2023-04-09 08:11:39\",\"2023-04-09 08:29:57\",\"2023-04-09 08:29:59\",\"2023-04-09 08:30:24\",\"2023-04-09 08:30:26\",\"2023-04-09 08:30:32\",\"2023-04-09 08:30:38\",\"2023-04-09 08:31:02\",\"2023-04-09 08:43:48\",\"2023-04-09 08:43:49\",\"2023-04-09 08:44:31\",\"2023-04-09 08:44:34\",\"2023-04-09 08:44:51\",\"2023-04-09 08:44:53\",\"2023-04-09 08:46:42\",\"2023-04-09 08:46:45\",\"2023-04-09 09:01:25\",\"2023-04-09 09:01:27\",\"2023-04-09 09:01:40\",\"2023-04-09 10:13:45\",\"2023-04-09 10:14:07\",\"2023-04-09 10:14:27\",\"2023-04-09 10:14:50\",\"2023-04-09 11:43:56\",\"2023-04-09 11:44:14\",\"2023-04-09 14:55:57\",\"2023-04-09 14:56:02\",\"2023-04-09 14:56:11\",\"2023-04-09 14:56:26\",\"2023-04-09 15:12:58\",\"2023-04-09 15:13:00\",\"2023-04-09 15:25:18\",\"2023-04-09 15:26:38\",\"2023-04-09 15:38:16\",\"2023-04-09 15:38:18\",\"2023-04-09 15:51:09\",\"2023-04-10 02:47:50\",\"2023-04-10 02:47:51\",\"2023-04-10 02:48:07\",\"2023-04-10 02:48:08\",\"2023-04-10 02:58:20\",\"2023-04-10 02:58:22\",\"2023-04-10 05:45:48\",\"2023-04-10 05:45:50\",\"2023-04-10 05:47:39\",\"2023-04-10 05:47:41\",\"2023-04-10 05:51:54\",\"2023-04-10 05:51:56\",\"2023-04-10 05:58:13\",\"2023-04-10 05:58:17\",\"2023-04-10 05:58:24\",\"2023-04-10 07:09:24\",\"2023-04-10 07:09:25\",\"2023-04-10 07:09:37\",\"2023-04-10 07:09:38\",\"2023-04-10 07:20:43\",\"2023-04-10 07:22:50\",\"2023-04-10 07:22:51\",\"2023-04-10 07:25:57\",\"2023-04-10 09:01:47\",\"2023-04-10 09:01:49\",\"2023-04-10 09:02:23\",\"2023-04-10 09:02:27\",\"2023-04-10 09:10:06\",\"2023-04-10 09:10:10\",\"2023-04-10 09:33:45\",\"2023-04-10 09:33:47\",\"2023-04-10 09:46:13\",\"2023-04-10 09:46:29\",\"2023-04-10 09:46:30\",\"2023-04-10 14:18:26\",\"2023-04-10 14:18:33\",\"2023-04-10 14:23:58\",\"2023-04-10 15:24:46\",\"2023-04-10 15:24:52\",\"2023-04-10 15:25:00\",\"2023-04-10 15:25:07\",\"2023-04-10 15:44:37\",\"2023-04-10 15:44:43\",\"2023-04-10 15:44:58\",\"2023-04-11 03:57:46\",\"2023-04-11 03:57:53\",\"2023-04-11 03:58:06\",\"2023-04-11 03:58:09\",\"2023-04-11 03:58:12\",\"2023-04-11 03:58:15\",\"2023-04-11 04:16:42\",\"2023-04-11 04:16:44\",\"2023-04-11 04:18:12\",\"2023-04-11 06:50:23\",\"2023-04-11 06:50:32\",\"2023-04-11 06:50:33\",\"2023-04-11 07:00:16\",\"2023-04-11 07:52:42\",\"2023-04-11 07:52:44\",\"2023-04-11 07:52:50\",\"2023-04-11 07:52:53\",\"2023-04-11 08:09:01\",\"2023-04-11 08:09:03\",\"2023-04-11 08:17:08\",\"2023-04-11 14:54:52\",\"2023-04-11 14:55:04\",\"2023-04-11 14:55:51\",\"2023-04-11 14:55:58\",\"2023-04-11 15:07:11\",\"2023-04-11 15:07:12\",\"2023-04-11 15:25:15\",\"2023-04-11 15:25:20\",\"2023-04-12 04:19:52\",\"2023-04-12 04:19:54\",\"2023-04-12 04:20:02\",\"2023-04-12 04:20:04\",\"2023-04-12 04:21:37\",\"2023-04-12 04:21:39\",\"2023-04-12 04:21:43\",\"2023-04-12 04:21:48\",\"2023-04-12 04:23:48\",\"2023-04-12 04:27:41\",\"2023-04-12 04:27:43\",\"2023-04-12 04:39:50\",\"2023-04-12 04:39:53\",\"2023-04-12 04:43:43\",\"2023-04-12 04:43:45\",\"2023-04-12 15:13:17\",\"2023-04-12 15:13:31\",\"2023-04-12 15:13:34\",\"2023-04-12 15:13:37\",\"2023-04-12 15:20:23\",\"2023-04-12 15:20:25\",\"2023-04-12 15:27:01\",\"2023-04-12 15:27:05\",\"2023-04-12 15:29:06\",\"2023-04-12 15:29:09\",\"2023-04-12 15:30:33\",\"2023-04-12 15:30:38\",\"2023-04-12 15:48:30\",\"2023-04-12 15:48:33\",\"2023-04-12 16:08:55\",\"2023-04-12 16:09:00\",\"2023-04-12 16:09:13\",\"2023-04-13 04:59:45\",\"2023-04-13 04:59:48\",\"2023-04-13 05:00:16\",\"2023-04-13 05:00:25\",\"2023-04-13 05:11:09\",\"2023-04-13 05:11:13\",\"2023-04-13 07:52:26\",\"2023-04-13 07:52:28\",\"2023-04-13 07:52:34\",\"2023-04-13 07:52:39\",\"2023-04-13 07:52:46\",\"2023-04-13 07:53:05\",\"2023-04-13 07:53:42\",\"2023-04-13 08:05:02\",\"2023-04-13 08:05:06\",\"2023-04-13 14:53:38\",\"2023-04-13 14:53:59\",\"2023-04-13 14:54:13\",\"2023-04-13 14:54:21\",\"2023-04-13 14:54:35\",\"2023-04-13 14:54:49\",\"2023-04-13 15:05:15\",\"2023-04-13 15:05:18\",\"2023-04-13 15:07:09\",\"2023-04-13 15:07:11\",\"2023-04-13 15:07:15\",\"2023-04-13 15:07:18\",\"2023-04-13 15:07:23\",\"2023-04-13 15:07:25\",\"2023-04-13 15:07:28\",\"2023-04-13 15:07:32\",\"2023-04-13 15:07:35\",\"2023-04-13 15:07:41\",\"2023-04-13 15:43:43\",\"2023-04-14 04:42:44\",\"2023-04-14 04:42:52\",\"2023-04-14 04:43:07\",\"2023-04-14 04:43:11\",\"2023-04-14 04:55:25\",\"2023-04-14 05:43:24\",\"2023-04-14 05:43:28\",\"2023-04-14 05:43:29\",\"2023-04-14 05:43:39\",\"2023-04-14 15:09:07\",\"2023-04-14 15:09:08\",\"2023-04-14 15:09:19\",\"2023-04-14 15:09:22\",\"2023-04-14 15:10:22\",\"2023-04-14 15:10:27\",\"2023-04-14 15:10:30\",\"2023-04-15 04:38:01\",\"2023-04-15 04:38:04\",\"2023-04-15 04:38:09\",\"2023-04-15 04:38:12\",\"2023-04-15 04:40:34\",\"2023-04-15 04:40:40\",\"2023-04-15 04:42:49\",\"2023-04-15 04:42:54\",\"2023-04-15 04:43:03\",\"2023-04-15 05:04:20\",\"2023-04-15 05:04:22\",\"2023-04-15 05:16:40\",\"2023-04-15 05:16:46\",\"2023-04-15 15:08:38\",\"2023-04-15 15:08:39\",\"2023-04-15 15:08:43\",\"2023-04-15 15:09:05\",\"2023-04-15 15:09:13\",\"2023-04-15 15:09:15\",\"2023-04-15 15:19:40\",\"2023-04-15 15:19:45\",\"2023-04-15 15:44:08\",\"2023-04-15 15:44:13\",\"2023-04-15 16:00:05\",\"2023-04-21 04:38:53\",\"2023-04-21 04:38:54\",\"2023-04-21 04:38:55\",\"2023-04-21 04:39:06\",\"2023-04-21 04:39:09\",\"2023-04-21 04:39:12\",\"2023-04-21 07:49:35\",\"2023-04-21 07:49:36\",\"2023-04-21 07:49:47\",\"2023-04-22 06:40:57\",\"2023-04-22 06:40:58\",\"2023-04-22 06:40:59\",\"2023-04-22 06:41:13\",\"2023-04-22 06:41:25\",\"2023-04-22 06:42:00\",\"2023-04-22 06:42:07\",\"2023-04-22 06:42:08\",\"2023-04-22 06:42:15\",\"2023-04-22 06:42:25\",\"2023-04-22 06:42:26\",\"2023-04-22 07:03:12\",\"2023-04-22 07:03:15\",\"2023-04-22 07:03:21\",\"2023-04-22 07:03:26\",\"2023-04-22 07:05:30\",\"2023-04-22 07:05:32\",\"2023-04-22 07:05:33\",\"2023-04-22 07:05:39\",\"2023-04-22 07:06:02\",\"2023-04-22 07:06:05\",\"2023-04-22 07:06:06\",\"2023-04-22 07:25:27\",\"2023-04-22 07:25:31\",\"2023-04-22 07:25:34\",\"2023-04-22 15:47:01\",\"2023-04-22 15:47:17\",\"2023-04-22 16:16:00\",\"2023-04-22 16:16:39\",\"2023-04-22 16:16:58\",\"2023-04-22 16:16:59\",\"2023-04-22 16:19:18\",\"2023-04-22 16:19:21\",\"2023-04-22 16:19:22\",\"2023-04-22 16:19:25\",\"2023-04-22 16:19:27\",\"2023-04-22 16:19:31\",\"2023-04-22 16:19:32\",\"2023-04-22 16:19:50\",\"2023-04-22 16:19:53\",\"2023-04-22 18:02:03\",\"2023-04-23 19:59:13\",\"2023-04-24 15:06:30\",\"2023-04-24 15:18:41\",\"2023-04-24 15:18:50\",\"2023-04-24 15:18:59\",\"2023-04-24 15:19:02\",\"2023-04-24 15:42:03\",\"2023-04-24 15:42:07\",\"2023-04-24 15:42:28\",\"2023-04-24 15:42:50\",\"2023-04-24 15:42:55\",\"2023-04-24 15:43:09\",\"2023-04-24 15:43:12\",\"2023-04-24 16:13:18\",\"2023-04-25 05:14:41\",\"2023-04-25 05:14:43\",\"2023-04-25 05:15:28\",\"2023-04-25 05:18:04\",\"2023-04-25 08:12:53\",\"2023-04-25 08:12:57\",\"2023-04-25 08:13:51\",\"2023-04-25 08:13:57\",\"2023-04-25 08:14:04\",\"2023-04-25 08:14:07\",\"2023-04-25 08:14:56\",\"2023-04-25 08:15:09\",\"2023-04-25 08:15:44\",\"2023-04-25 08:15:46\",\"2023-04-25 10:13:55\",\"2023-04-25 10:13:56\",\"2023-04-25 10:14:04\",\"2023-04-25 10:15:45\",\"2023-04-25 10:15:46\",\"2023-04-25 10:15:53\",\"2023-04-25 10:48:27\",\"2023-04-25 14:50:54\",\"2023-04-27 16:44:53\",\"2023-04-27 16:44:54\",\"2023-04-27 16:45:16\",\"2023-04-27 16:45:19\",\"2023-04-27 16:45:50\",\"2023-04-27 16:46:11\",\"2023-04-29 12:09:49\",\"2023-04-29 12:11:05\",\"2023-04-29 12:11:06\",\"2023-04-29 12:12:31\",\"2023-04-29 12:12:32\",\"2023-04-29 12:12:44\",\"2023-04-30 16:40:37\",\"2023-04-30 16:40:38\",\"2023-04-30 16:40:40\",\"2023-04-30 16:41:13\",\"2023-04-30 16:41:15\",\"2023-04-30 17:04:21\",\"2023-04-30 17:04:56\",\"2023-04-30 17:04:57\",\"2023-04-30 17:53:26\",\"2023-04-30 17:53:28\",\"2023-04-30 17:53:36\",\"2023-05-01 00:43:16\",\"2023-05-01 00:43:18\",\"2023-05-01 01:11:32\",\"2023-05-01 14:43:32\",\"2023-05-01 14:44:13\",\"2023-05-01 15:00:50\",\"2023-05-01 15:01:42\",\"2023-05-01 15:01:50\",\"2023-05-07 11:00:45\",\"2023-05-07 11:00:46\",\"2023-05-07 11:00:56\",\"2023-05-07 11:01:00\",\"2023-05-07 11:01:02\",\"2023-05-07 11:01:03\",\"2023-05-07 11:01:06\",\"2023-05-07 11:01:10\",\"2023-05-07 11:01:11\",\"2023-05-07 11:01:32\",\"2023-05-07 11:01:33\",\"2023-05-07 11:01:40\",\"2023-05-07 11:01:43\",\"2023-05-07 11:01:49\",\"2023-05-07 11:01:50\",\"2023-05-07 11:02:03\",\"2023-05-07 14:27:09\",\"2023-05-07 14:27:37\",\"2023-05-07 14:27:38\",\"2023-05-07 14:27:42\",\"2023-05-07 14:29:14\",\"2023-05-07 14:29:15\",\"2023-05-07 14:29:18\",\"2023-05-07 14:29:20\",\"2023-05-07 14:29:22\",\"2023-05-07 14:29:30\",\"2023-05-07 14:29:34\",\"2023-05-07 14:29:40\",\"2023-05-07 14:29:43\",\"2023-05-07 14:29:53\",\"2023-05-07 14:30:02\",\"2023-05-07 14:30:11\",\"2023-05-07 14:30:14\",\"2023-05-07 14:30:15\",\"2023-05-07 14:30:25\",\"2023-05-07 14:30:28\",\"2023-05-07 14:30:56\",\"2023-05-07 14:31:29\",\"2023-05-07 14:31:30\",\"2023-05-07 15:53:56\",\"2023-05-07 23:39:38\",\"2023-05-07 23:39:44\",\"2023-05-07 23:39:45\",\"2023-05-08 00:18:04\",\"2023-05-08 01:12:13\",\"2023-05-08 01:13:02\",\"2023-05-08 01:13:04\",\"2023-05-08 01:13:05\",\"2023-05-08 01:13:41\",\"2023-05-08 01:13:42\",\"2023-05-08 01:13:44\",\"2023-05-08 01:30:06\",\"2023-05-08 01:31:10\",\"2023-05-08 01:31:11\",\"2023-05-08 01:31:30\",\"2023-05-08 01:31:34\",\"2023-05-08 01:31:53\",\"2023-05-08 01:31:55\",\"2023-05-08 01:33:51\",\"2023-05-08 01:34:07\",\"2023-05-08 01:34:08\",\"2023-05-08 01:36:26\",\"2023-05-08 01:36:32\",\"2023-05-08 01:49:47\",\"2023-05-08 04:34:41\",\"2023-05-08 04:34:59\",\"2023-05-08 04:35:00\",\"2023-05-08 04:35:08\",\"2023-05-08 04:35:11\",\"2023-05-08 04:37:33\",\"2023-05-08 04:37:34\",\"2023-05-08 04:37:36\",\"2023-05-08 04:37:39\",\"2023-05-08 04:37:43\",\"2023-05-08 04:37:44\",\"2023-05-08 04:37:53\",\"2023-05-08 04:37:55\",\"2023-05-08 05:12:21\",\"2023-05-08 05:12:24\",\"2023-05-08 05:12:25\",\"2023-05-08 05:31:49\",\"2023-05-08 05:34:34\",\"2023-05-08 05:44:44\",\"2023-05-08 05:45:00\",\"2023-05-08 05:45:05\",\"2023-05-08 05:45:11\",\"2023-05-08 06:04:48\",\"2023-05-08 14:16:25\",\"2023-05-08 14:16:39\",\"2023-05-08 14:16:40\",\"2023-05-08 15:18:56\",\"2023-05-08 15:18:57\",\"2023-05-08 15:18:59\",\"2023-05-08 15:19:00\",\"2023-05-08 15:19:02\",\"2023-05-08 15:20:46\",\"2023-05-08 15:20:50\",\"2023-05-08 15:22:00\",\"2023-05-08 15:34:26\",\"2023-05-08 15:37:08\",\"2023-05-08 15:37:10\",\"2023-05-08 15:37:18\",\"2023-05-08 15:37:19\",\"2023-05-08 15:37:29\",\"2023-05-08 15:37:31\",\"2023-05-08 15:37:56\",\"2023-05-08 15:37:57\",\"2023-05-08 15:38:28\",\"2023-05-08 15:39:52\",\"2023-05-10 11:02:31\",\"2023-05-10 11:02:32\",\"2023-05-10 11:04:11\",\"2023-05-10 18:32:16\",\"2023-05-10 18:32:45\",\"2023-05-10 18:32:46\",\"2023-05-10 18:33:30\",\"2023-05-10 18:33:43\",\"2023-05-10 18:33:49\",\"2023-05-10 18:34:10\",\"2023-05-10 18:34:12\",\"2023-05-10 18:34:19\",\"2023-05-10 18:34:20\",\"2023-05-10 19:47:35\",\"2023-05-11 07:56:53\",\"2023-05-11 07:56:56\",\"2023-05-11 07:58:41\",\"2023-05-12 03:07:25\",\"2023-05-12 03:07:46\",\"2023-05-12 03:07:47\",\"2023-05-12 03:07:52\",\"2023-05-12 03:08:17\",\"2023-05-12 03:09:04\",\"2023-05-12 03:09:07\",\"2023-05-12 03:09:09\",\"2023-05-12 03:09:10\",\"2023-05-12 03:12:20\",\"2023-05-12 03:12:33\",\"2023-05-12 03:12:34\",\"2023-05-12 03:12:39\",\"2023-05-12 03:12:40\",\"2023-05-12 03:19:06\",\"2023-05-12 03:19:09\",\"2023-05-12 03:19:12\",\"2023-05-12 03:19:59\",\"2023-05-12 03:24:28\",\"2023-05-12 03:27:50\",\"2023-05-12 03:28:16\",\"2023-05-12 03:28:40\",\"2023-05-12 08:12:01\",\"2023-05-12 08:12:06\",\"2023-05-12 08:13:47\",\"2023-05-12 08:13:53\",\"2023-05-12 08:14:00\",\"2023-05-12 08:33:18\",\"2023-05-12 08:33:27\",\"2023-05-12 14:53:26\",\"2023-05-12 14:53:33\",\"2023-05-12 14:54:10\",\"2023-05-12 14:54:21\",\"2023-05-12 14:54:49\",\"2023-05-12 14:54:52\",\"2023-05-13 16:12:36\",\"2023-05-13 19:06:26\",\"2023-05-13 19:06:38\",\"2023-05-13 19:06:40\",\"2023-05-13 19:06:57\",\"2023-05-13 19:06:58\",\"2023-05-13 19:07:28\",\"2023-05-13 19:07:45\",\"2023-05-13 19:08:01\",\"2023-05-13 19:08:02\",\"2023-05-13 19:11:29\",\"2023-05-13 19:11:30\",\"2023-05-13 19:12:14\",\"2023-05-13 19:12:34\",\"2023-05-14 03:54:39\",\"2023-05-14 03:54:47\",\"2023-05-14 03:54:51\",\"2023-05-14 07:58:51\",\"2023-05-14 07:58:56\",\"2023-05-14 07:58:59\",\"2023-05-14 08:24:42\",\"2023-05-14 14:51:06\",\"2023-05-14 14:51:09\",\"2023-05-14 14:51:24\",\"2023-05-14 14:51:26\",\"2023-05-14 15:14:42\",\"2023-05-14 15:16:31\",\"2023-05-14 16:21:08\",\"2023-05-14 18:43:29\",\"2023-05-14 18:43:51\",\"2023-05-14 18:43:52\",\"2023-05-14 18:43:55\",\"2023-05-15 03:35:27\",\"2023-05-15 03:35:32\",\"2023-05-15 11:33:36\",\"2023-05-15 11:33:37\",\"2023-05-15 11:33:40\",\"2023-05-15 11:33:41\",\"2023-05-15 11:33:44\",\"2023-05-15 11:34:33\",\"2023-05-15 11:34:34\",\"2023-05-15 11:35:03\",\"2023-05-15 11:35:04\",\"2023-05-15 11:36:45\",\"2023-05-15 11:39:03\",\"2023-05-15 11:39:07\",\"2023-05-15 11:44:08\",\"2023-05-15 11:44:12\",\"2023-05-15 11:44:15\",\"2023-05-15 11:53:50\",\"2023-05-15 11:58:08\",\"2023-05-15 12:12:23\",\"2023-05-16 03:51:02\",\"2023-05-16 03:51:04\",\"2023-05-16 04:22:10\",\"2023-05-16 14:43:46\",\"2023-05-16 15:17:36\",\"2023-05-17 08:08:45\",\"2023-05-17 08:12:08\",\"2023-05-17 08:12:10\",\"2023-05-17 08:28:28\",\"2023-05-17 08:58:28\",\"2023-05-17 14:59:06\",\"2023-05-17 14:59:09\",\"2023-05-17 14:59:48\",\"2023-05-17 14:59:50\",\"2023-05-17 15:05:54\",\"2023-05-17 16:11:36\",\"2023-05-17 16:15:36\",\"2023-05-17 16:16:04\",\"2023-05-17 16:16:05\",\"2023-05-19 06:14:29\",\"2023-05-19 06:14:39\",\"2023-05-19 16:38:03\",\"2023-05-19 16:38:04\",\"2023-05-19 16:38:07\",\"2023-05-20 07:57:47\",\"2023-05-20 07:57:56\",\"2023-05-20 07:58:35\",\"2023-05-20 07:58:41\",\"2023-05-20 08:00:02\",\"2023-05-20 08:30:02\",\"2023-05-21 03:57:01\",\"2023-05-21 03:57:02\",\"2023-05-21 03:57:04\",\"2023-05-21 04:46:56\",\"2023-05-21 07:56:05\",\"2023-05-21 07:56:07\",\"2023-05-21 07:56:54\",\"2023-05-21 07:57:27\",\"2023-05-21 07:57:36\",\"2023-05-21 07:57:46\",\"2023-05-21 07:57:50\",\"2023-05-21 07:58:00\",\"2023-05-21 07:58:01\",\"2023-05-21 07:58:02\",\"2023-05-21 07:58:13\",\"2023-05-21 07:58:31\",\"2023-05-21 07:58:40\",\"2023-05-21 07:58:41\",\"2023-05-21 07:58:43\",\"2023-05-21 07:58:50\",\"2023-05-21 07:58:52\",\"2023-05-21 07:59:02\",\"2023-05-21 07:59:05\",\"2023-05-21 07:59:07\",\"2023-05-21 07:59:08\",\"2023-05-21 07:59:10\",\"2023-05-21 07:59:18\",\"2023-05-21 07:59:19\",\"2023-05-21 07:59:37\",\"2023-05-21 07:59:38\",\"2023-05-21 07:59:39\",\"2023-05-21 07:59:44\",\"2023-05-21 07:59:55\",\"2023-05-21 08:00:01\",\"2023-05-21 08:00:03\",\"2023-05-21 08:00:05\",\"2023-05-21 08:00:07\",\"2023-05-21 08:00:09\",\"2023-05-21 08:00:20\",\"2023-05-21 08:00:25\",\"2023-05-21 08:48:53\",\"2023-05-21 08:49:05\",\"2023-05-21 12:10:40\",\"2023-05-21 12:10:44\",\"2023-05-21 15:09:59\",\"2023-05-21 15:10:02\",\"2023-05-21 15:45:49\",\"2023-05-21 16:05:23\",\"2023-05-21 16:06:30\",\"2023-05-21 16:06:31\",\"2023-05-21 16:06:34\",\"2023-05-21 16:06:42\",\"2023-05-21 16:47:15\",\"2023-05-21 16:47:36\",\"2023-05-21 16:47:41\",\"2023-05-21 16:48:54\",\"2023-05-21 16:48:55\",\"2023-05-21 16:48:58\",\"2023-05-21 16:49:09\",\"2023-05-21 16:49:15\",\"2023-05-21 16:49:17\",\"2023-05-21 16:49:18\",\"2023-05-21 16:49:22\",\"2023-05-21 16:49:25\",\"2023-05-21 16:49:26\",\"2023-05-21 17:25:44\",\"2023-05-21 17:25:45\",\"2023-05-22 02:10:27\",\"2023-05-22 02:10:45\",\"2023-05-22 02:10:47\",\"2023-05-22 02:11:00\",\"2023-05-22 02:12:01\",\"2023-05-22 02:12:02\",\"2023-05-22 02:12:04\",\"2023-05-22 02:12:05\",\"2023-05-22 02:12:33\",\"2023-05-22 02:12:34\",\"2023-05-22 02:12:39\",\"2023-05-22 02:12:43\",\"2023-05-22 02:12:45\",\"2023-05-22 02:12:49\",\"2023-05-22 02:12:57\",\"2023-05-22 02:13:15\",\"2023-05-22 02:14:15\",\"2023-05-22 02:14:17\",\"2023-05-22 02:14:19\",\"2023-05-22 02:14:26\",\"2023-05-22 02:14:27\",\"2023-05-22 02:14:36\",\"2023-05-22 04:18:53\",\"2023-05-22 04:38:55\",\"2023-05-22 04:38:56\",\"2023-05-22 04:39:08\",\"2023-05-22 04:39:09\",\"2023-05-22 04:42:45\",\"2023-05-22 04:42:49\",\"2023-05-22 04:43:12\",\"2023-05-22 04:43:14\",\"2023-05-22 04:43:15\",\"2023-05-22 04:43:19\",\"2023-05-22 04:43:20\",\"2023-05-22 04:44:30\",\"2023-05-22 04:44:39\",\"2023-05-22 04:45:07\",\"2023-05-22 04:45:09\",\"2023-05-22 06:03:43\",\"2023-05-22 07:16:12\",\"2023-05-22 07:16:13\",\"2023-05-22 07:16:16\",\"2023-05-22 15:24:17\",\"2023-05-22 15:24:19\",\"2023-05-22 15:24:27\",\"2023-05-22 15:24:37\",\"2023-05-22 15:24:43\",\"2023-05-22 15:45:42\",\"2023-05-22 16:15:42\",\"2023-05-23 03:45:27\",\"2023-05-23 03:45:29\",\"2023-05-23 03:55:36\",\"2023-05-23 03:55:38\",\"2023-05-23 04:42:27\",\"2023-05-23 08:02:27\",\"2023-05-23 08:02:29\",\"2023-05-23 08:03:36\",\"2023-05-23 08:03:39\",\"2023-05-23 08:21:31\",\"2023-05-23 08:21:34\",\"2023-05-23 08:25:50\",\"2023-05-23 15:26:24\",\"2023-05-23 15:26:29\",\"2023-05-23 15:26:34\",\"2023-05-23 15:26:38\",\"2023-05-23 15:51:27\",\"2023-05-24 04:16:11\",\"2023-05-24 04:16:16\",\"2023-05-24 04:16:41\",\"2023-05-24 04:16:49\",\"2023-05-24 04:33:51\",\"2023-05-24 04:33:54\",\"2023-05-24 05:03:42\",\"2023-05-24 07:48:01\",\"2023-05-24 07:48:27\",\"2023-05-24 07:49:28\",\"2023-05-24 07:49:31\",\"2023-05-24 08:19:39\",\"2023-05-24 08:20:00\",\"2023-05-24 14:59:58\",\"2023-05-24 15:00:02\",\"2023-05-24 15:07:18\",\"2023-05-24 15:07:20\",\"2023-05-24 15:24:14\",\"2023-05-24 16:01:06\",\"2023-05-24 16:01:08\",\"2023-05-24 16:01:13\",\"2023-05-24 16:01:23\",\"2023-05-25 15:29:31\",\"2023-05-25 15:31:19\",\"2023-05-25 15:31:29\",\"2023-05-25 15:31:31\",\"2023-05-25 15:32:51\",\"2023-05-25 15:32:52\",\"2023-05-25 15:33:00\",\"2023-05-25 15:33:16\",\"2023-05-25 15:33:23\",\"2023-05-25 15:50:36\",\"2023-05-25 15:50:38\",\"2023-05-25 15:50:41\",\"2023-05-25 15:50:44\",\"2023-05-25 15:54:29\",\"2023-05-25 15:54:53\",\"2023-05-25 15:54:54\",\"2023-05-26 03:51:17\",\"2023-05-26 03:51:20\",\"2023-05-26 03:51:31\",\"2023-05-26 03:51:34\",\"2023-05-26 04:04:35\",\"2023-05-26 08:13:03\",\"2023-05-26 08:13:09\",\"2023-05-26 08:13:22\",\"2023-05-26 08:13:25\",\"2023-05-26 08:31:37\",\"2023-05-26 08:32:21\",\"2023-05-26 08:43:48\",\"2023-05-26 15:06:32\",\"2023-05-26 15:06:34\",\"2023-05-26 15:07:28\",\"2023-05-26 15:07:31\",\"2023-05-26 15:34:41\",\"2023-05-27 06:59:16\",\"2023-05-27 06:59:23\",\"2023-05-27 06:59:38\",\"2023-05-27 06:59:47\",\"2023-05-27 07:00:10\",\"2023-05-27 07:00:24\",\"2023-05-27 07:00:25\",\"2023-05-27 07:00:36\",\"2023-05-27 07:00:48\",\"2023-05-27 07:00:55\",\"2023-05-27 07:01:18\",\"2023-05-27 07:01:19\",\"2023-05-27 07:01:31\",\"2023-05-27 07:01:36\",\"2023-05-27 07:01:37\",\"2023-05-27 07:01:39\",\"2023-05-27 07:01:49\",\"2023-05-27 07:01:50\",\"2023-05-27 07:01:58\",\"2023-05-27 07:01:59\",\"2023-05-27 07:02:30\",\"2023-05-27 07:02:34\",\"2023-05-27 07:02:35\",\"2023-05-27 07:02:43\",\"2023-05-27 07:02:45\",\"2023-05-27 07:03:04\",\"2023-05-27 07:03:09\",\"2023-05-27 07:03:10\",\"2023-05-27 07:03:17\",\"2023-05-27 07:03:19\",\"2023-05-27 07:03:29\",\"2023-05-27 07:03:34\",\"2023-05-27 07:03:38\",\"2023-05-27 07:03:54\",\"2023-05-27 07:04:02\",\"2023-05-27 07:04:04\",\"2023-05-27 07:04:14\",\"2023-05-27 07:04:33\",\"2023-05-27 07:04:34\",\"2023-05-27 07:04:42\",\"2023-05-27 07:04:44\",\"2023-05-27 07:05:11\",\"2023-05-27 07:05:51\",\"2023-05-27 07:06:17\",\"2023-05-27 07:06:19\",\"2023-05-27 07:17:29\",\"2023-05-27 07:17:44\",\"2023-05-27 07:17:45\",\"2023-05-27 07:17:46\",\"2023-05-27 07:17:50\",\"2023-05-27 07:19:05\",\"2023-05-27 07:19:10\",\"2023-05-27 07:19:21\",\"2023-05-27 07:19:22\",\"2023-05-27 07:19:31\",\"2023-05-27 07:20:06\",\"2023-05-27 07:20:07\",\"2023-05-27 07:20:15\",\"2023-05-27 07:20:26\",\"2023-05-27 07:20:27\",\"2023-05-27 07:20:40\",\"2023-05-27 07:20:48\",\"2023-05-27 07:21:23\",\"2023-05-27 07:21:25\",\"2023-05-27 07:55:07\",\"2023-05-27 07:55:13\",\"2023-05-27 07:55:44\",\"2023-05-27 07:55:56\",\"2023-05-27 07:56:25\",\"2023-05-27 07:56:26\",\"2023-05-27 07:56:35\",\"2023-05-27 07:56:57\",\"2023-05-27 07:56:58\",\"2023-05-27 07:57:26\",\"2023-05-27 08:06:40\",\"2023-05-27 08:06:46\",\"2023-05-27 08:06:50\",\"2023-05-27 08:07:10\",\"2023-05-27 08:07:16\",\"2023-05-27 08:08:35\",\"2023-05-27 09:04:11\",\"2023-05-27 12:39:13\",\"2023-05-27 12:39:33\",\"2023-05-27 12:40:11\",\"2023-05-27 12:40:13\",\"2023-05-27 12:40:14\",\"2023-05-27 12:40:18\",\"2023-05-27 12:40:20\",\"2023-05-27 12:40:22\",\"2023-05-27 13:01:48\",\"2023-05-27 13:01:49\",\"2023-05-27 13:01:57\",\"2023-05-27 13:01:58\",\"2023-05-27 14:00:20\",\"2023-05-27 14:43:48\",\"2023-05-27 14:44:03\",\"2023-05-27 14:44:04\",\"2023-05-27 15:05:27\",\"2023-05-27 15:05:35\",\"2023-05-27 15:05:41\",\"2023-05-27 15:05:56\",\"2023-05-27 15:11:20\",\"2023-05-27 15:13:19\",\"2023-05-27 15:13:20\",\"2023-05-27 15:13:27\",\"2023-05-27 15:13:28\",\"2023-05-27 15:13:31\",\"2023-05-27 15:13:33\",\"2023-05-27 15:13:34\",\"2023-05-27 15:13:35\",\"2023-05-27 15:13:37\",\"2023-05-27 15:13:38\",\"2023-05-27 15:13:39\",\"2023-05-27 15:13:46\",\"2023-05-27 15:13:50\",\"2023-05-27 15:25:35\",\"2023-05-27 15:26:02\",\"2023-05-27 15:26:16\",\"2023-05-27 15:26:43\",\"2023-05-27 15:26:46\",\"2023-05-27 15:28:03\",\"2023-05-27 15:28:04\",\"2023-05-27 15:29:01\",\"2023-05-27 15:29:11\",\"2023-05-27 15:29:14\",\"2023-05-27 15:42:51\",\"2023-05-27 15:42:52\",\"2023-05-27 15:55:35\",\"2023-05-27 16:51:24\",\"2023-05-27 16:51:27\",\"2023-05-27 16:51:28\",\"2023-05-27 16:51:53\",\"2023-05-28 00:27:17\",\"2023-05-28 00:27:18\",\"2023-05-28 00:27:20\",\"2023-05-28 00:53:40\",\"2023-05-28 04:48:29\",\"2023-05-28 04:48:31\",\"2023-05-28 04:49:06\",\"2023-05-28 04:49:08\",\"2023-05-28 04:53:39\",\"2023-05-28 04:53:42\",\"2023-05-28 04:55:30\",\"2023-05-28 04:55:32\",\"2023-05-28 05:02:33\",\"2023-05-28 05:02:35\",\"2023-05-28 05:18:48\",\"2023-05-28 05:18:50\",\"2023-05-28 05:24:28\",\"2023-05-28 07:52:41\",\"2023-05-28 07:52:43\",\"2023-05-28 07:53:54\",\"2023-05-28 07:53:57\",\"2023-05-28 07:54:08\",\"2023-05-28 07:54:11\",\"2023-05-28 07:54:54\",\"2023-05-28 07:55:06\",\"2023-05-28 07:55:15\",\"2023-05-28 07:55:17\",\"2023-05-28 07:55:49\",\"2023-05-28 08:18:01\",\"2023-05-28 08:18:06\",\"2023-05-28 08:37:45\",\"2023-05-28 09:04:59\",\"2023-05-28 09:05:00\",\"2023-05-28 09:05:36\",\"2023-05-28 09:05:38\",\"2023-05-28 09:05:50\",\"2023-05-28 09:05:55\",\"2023-05-28 09:06:10\",\"2023-05-28 09:06:26\",\"2023-05-28 09:06:27\",\"2023-05-28 09:06:42\",\"2023-05-28 09:06:43\",\"2023-05-28 14:51:13\",\"2023-05-28 14:51:49\",\"2023-05-28 14:52:29\",\"2023-05-28 14:52:38\",\"2023-05-28 14:52:40\",\"2023-05-28 14:52:52\",\"2023-05-28 14:53:10\",\"2023-05-28 14:53:46\",\"2023-05-28 14:53:48\",\"2023-05-28 14:53:49\",\"2023-05-28 14:54:01\",\"2023-05-28 14:54:05\",\"2023-05-28 14:54:06\",\"2023-05-28 14:54:19\",\"2023-05-28 14:54:28\",\"2023-05-28 14:54:30\",\"2023-05-28 14:54:34\",\"2023-05-28 14:58:46\",\"2023-05-28 14:58:47\",\"2023-05-28 14:59:38\",\"2023-05-28 14:59:40\",\"2023-05-28 15:20:11\",\"2023-05-28 15:20:13\",\"2023-05-28 15:20:15\",\"2023-05-28 15:20:20\",\"2023-05-28 15:49:23\",\"2023-05-28 16:16:42\",\"2023-05-28 16:16:43\",\"2023-05-28 16:16:54\",\"2023-05-28 16:16:55\",\"2023-05-28 16:25:06\",\"2023-05-28 16:25:25\",\"2023-05-28 16:25:26\",\"2023-05-28 16:25:34\",\"2023-05-28 16:25:35\",\"2023-05-28 16:34:45\",\"2023-05-28 16:34:51\",\"2023-05-28 16:35:16\",\"2023-05-28 16:35:18\",\"2023-05-28 23:08:40\",\"2023-05-28 23:08:41\",\"2023-05-28 23:08:42\",\"2023-05-28 23:08:46\",\"2023-05-28 23:08:47\",\"2023-05-28 23:09:01\",\"2023-05-28 23:09:02\",\"2023-05-28 23:09:04\",\"2023-05-28 23:09:11\",\"2023-05-28 23:09:43\",\"2023-05-28 23:09:45\",\"2023-05-28 23:15:29\",\"2023-05-29 04:12:29\",\"2023-05-29 04:12:33\",\"2023-05-29 04:12:38\",\"2023-05-29 04:12:43\",\"2023-05-29 04:12:46\",\"2023-05-29 04:12:49\",\"2023-05-29 04:12:57\",\"2023-05-29 04:30:16\",\"2023-05-29 04:30:23\",\"2023-05-29 15:02:50\",\"2023-05-29 15:02:52\",\"2023-05-29 15:02:53\",\"2023-05-29 15:02:54\",\"2023-05-29 15:02:55\",\"2023-05-29 15:02:56\",\"2023-05-29 15:02:58\",\"2023-05-29 15:02:59\",\"2023-05-29 15:03:02\",\"2023-05-29 15:03:07\",\"2023-05-29 15:10:39\",\"2023-05-29 15:10:41\",\"2023-05-29 15:10:51\",\"2023-05-29 15:10:53\",\"2023-05-29 15:10:54\",\"2023-05-29 15:21:00\",\"2023-05-29 15:52:49\",\"2023-05-29 15:52:50\",\"2023-05-29 15:52:55\",\"2023-05-29 15:52:57\",\"2023-05-29 15:52:58\",\"2023-05-29 15:52:59\",\"2023-05-29 15:53:00\",\"2023-05-29 15:53:01\",\"2023-05-29 15:53:04\",\"2023-05-29 15:53:07\",\"2023-05-29 15:53:11\",\"2023-05-29 15:53:28\",\"2023-05-30 07:54:05\",\"2023-05-30 07:54:09\",\"2023-05-30 07:54:10\",\"2023-05-30 07:54:15\",\"2023-05-30 07:54:17\",\"2023-05-30 07:54:20\",\"2023-05-30 07:54:28\",\"2023-05-30 07:54:29\",\"2023-05-30 07:58:56\",\"2023-05-30 07:59:13\",\"2023-05-30 07:59:14\",\"2023-05-30 07:59:36\",\"2023-05-30 07:59:39\",\"2023-05-30 07:59:40\",\"2023-05-30 08:12:22\",\"2023-05-30 08:12:24\",\"2023-05-30 08:12:27\",\"2023-05-30 08:12:28\",\"2023-05-30 08:12:32\",\"2023-05-30 08:12:34\",\"2023-05-30 14:16:18\",\"2023-05-30 14:17:02\",\"2023-05-30 15:05:31\",\"2023-05-30 15:05:32\",\"2023-05-30 15:05:45\",\"2023-05-30 15:06:08\",\"2023-05-30 15:06:21\",\"2023-05-30 15:06:44\",\"2023-05-30 15:06:52\",\"2023-05-30 15:06:54\",\"2023-05-30 15:06:56\",\"2023-05-30 15:07:08\",\"2023-05-30 15:07:26\",\"2023-05-30 15:07:27\",\"2023-05-30 15:21:41\",\"2023-05-30 15:21:43\",\"2023-05-30 15:21:50\",\"2023-05-30 15:21:59\",\"2023-05-30 15:22:13\",\"2023-05-30 15:22:17\",\"2023-05-30 15:22:18\",\"2023-05-30 15:22:19\",\"2023-05-30 16:25:52\",\"2023-05-31 13:51:21\",\"2023-05-31 13:51:22\",\"2023-05-31 13:51:34\",\"2023-05-31 13:51:35\",\"2023-05-31 13:51:51\",\"2023-05-31 13:51:52\",\"2023-05-31 13:51:54\",\"2023-05-31 13:52:52\",\"2023-05-31 13:52:56\",\"2023-05-31 13:53:03\",\"2023-05-31 13:53:04\",\"2023-05-31 15:18:34\",\"2023-05-31 15:18:35\",\"2023-05-31 15:57:46\",\"2023-05-31 15:57:50\",\"2023-05-31 15:58:10\",\"2023-05-31 15:58:11\",\"2023-05-31 15:58:14\",\"2023-05-31 15:58:15\",\"2023-05-31 15:58:22\",\"2023-05-31 15:59:24\",\"2023-05-31 15:59:41\",\"2023-05-31 15:59:42\",\"2023-05-31 15:59:54\",\"2023-05-31 15:59:58\",\"2023-05-31 16:00:21\",\"2023-05-31 16:00:22\",\"2023-05-31 16:01:10\",\"2023-05-31 16:01:13\",\"2023-05-31 16:01:14\",\"2023-05-31 16:03:25\",\"2023-05-31 16:03:54\",\"2023-05-31 16:05:02\",\"2023-05-31 16:05:20\",\"2023-05-31 16:05:21\",\"2023-05-31 16:05:30\",\"2023-05-31 16:05:31\",\"2023-05-31 16:05:34\",\"2023-05-31 16:05:37\",\"2023-05-31 16:05:38\",\"2023-05-31 16:05:40\",\"2023-05-31 16:05:41\",\"2023-05-31 16:06:01\",\"2023-05-31 16:06:37\",\"2023-05-31 16:06:41\",\"2023-05-31 16:09:04\",\"2023-05-31 16:09:24\",\"2023-05-31 16:19:05\",\"2023-05-31 16:19:07\",\"2023-05-31 16:19:09\",\"2023-05-31 16:19:11\",\"2023-05-31 16:19:28\",\"2023-05-31 16:20:25\",\"2023-05-31 16:20:26\",\"2023-05-31 16:20:39\",\"2023-05-31 16:20:43\",\"2023-05-31 16:20:46\",\"2023-05-31 16:21:13\",\"2023-05-31 16:21:55\",\"2023-05-31 16:22:08\",\"2023-05-31 16:22:09\",\"2023-05-31 16:55:26\",\"2023-05-31 16:55:28\",\"2023-05-31 16:55:30\",\"2023-05-31 16:57:53\",\"2023-05-31 16:58:18\",\"2023-05-31 16:58:46\",\"2023-05-31 16:58:47\",\"2023-05-31 16:58:49\",\"2023-06-01 14:41:50\",\"2023-06-01 14:41:51\",\"2023-06-01 14:56:00\",\"2023-06-01 14:56:01\",\"2023-06-01 15:03:22\",\"2023-06-01 15:03:23\",\"2023-06-01 15:03:25\",\"2023-06-01 15:19:38\",\"2023-06-01 15:20:14\",\"2023-06-01 15:20:17\",\"2023-06-01 15:20:40\",\"2023-06-01 15:20:41\",\"2023-06-01 16:19:28\",\"2023-06-01 16:19:29\",\"2023-06-01 16:19:30\",\"2023-06-04 18:25:43\",\"2023-06-04 18:26:07\",\"2023-06-04 18:26:08\",\"2023-06-04 18:26:09\",\"2023-06-04 18:26:10\",\"2023-06-05 04:08:11\",\"2023-06-05 04:08:23\",\"2023-06-05 04:09:18\",\"2023-06-05 04:09:22\",\"2023-06-05 04:30:52\",\"2023-06-05 04:31:18\",\"2023-06-05 15:05:39\",\"2023-06-05 15:05:43\",\"2023-06-05 15:37:01\",\"2023-06-06 16:00:33\",\"2023-06-06 16:00:50\",\"2023-06-06 16:01:27\",\"2023-06-06 16:01:29\",\"2023-06-06 16:01:40\",\"2023-06-06 16:01:44\",\"2023-06-06 16:01:49\",\"2023-06-06 16:01:51\",\"2023-06-06 16:02:27\",\"2023-06-06 16:02:34\",\"2023-06-06 16:02:35\",\"2023-06-06 16:02:36\",\"2023-06-06 16:27:59\",\"2023-06-06 16:28:00\",\"2023-06-06 16:28:01\",\"2023-06-06 16:35:47\",\"2023-06-06 16:35:55\",\"2023-06-06 16:35:56\",\"2023-06-06 17:11:15\",\"2023-06-06 17:11:17\",\"2023-06-07 00:40:28\",\"2023-06-07 00:40:30\",\"2023-06-07 00:40:32\",\"2023-06-07 00:40:37\",\"2023-06-07 00:40:42\",\"2023-06-07 00:40:43\",\"2023-06-07 00:40:44\",\"2023-06-07 00:40:46\",\"2023-06-08 15:43:21\",\"2023-06-08 15:43:22\",\"2023-06-09 07:43:29\",\"2023-06-09 07:43:40\",\"2023-06-09 07:45:47\",\"2023-06-09 07:47:17\",\"2023-06-09 07:47:21\",\"2023-06-09 08:15:40\",\"2023-06-09 14:53:53\",\"2023-06-09 14:54:08\",\"2023-06-09 14:54:57\",\"2023-06-09 14:55:05\",\"2023-06-09 14:55:17\",\"2023-06-09 14:55:21\",\"2023-06-09 14:55:29\",\"2023-06-09 14:55:30\",\"2023-06-09 14:55:35\",\"2023-06-09 14:55:48\",\"2023-06-09 14:55:49\",\"2023-06-09 15:46:13\",\"2023-06-09 15:46:14\",\"2023-06-09 16:16:24\",\"2023-06-10 14:51:23\",\"2023-06-10 14:51:57\",\"2023-06-10 14:51:58\",\"2023-06-10 14:51:59\",\"2023-06-10 14:53:52\",\"2023-06-10 14:53:55\",\"2023-06-10 14:53:58\",\"2023-06-10 14:54:51\",\"2023-06-10 14:54:53\",\"2023-06-10 14:55:48\",\"2023-06-10 14:56:39\",\"2023-06-10 14:56:40\",\"2023-06-10 15:17:37\",\"2023-06-10 15:17:41\",\"2023-06-10 15:19:26\",\"2023-06-10 15:19:42\",\"2023-06-10 15:19:47\",\"2023-06-10 15:21:01\",\"2023-06-10 15:21:04\",\"2023-06-10 15:21:41\",\"2023-06-10 15:22:05\",\"2023-06-10 16:26:45\",\"2023-06-11 13:29:04\",\"2023-06-11 13:29:19\",\"2023-06-11 13:29:20\",\"2023-06-11 14:23:53\",\"2023-06-12 03:23:29\",\"2023-06-12 03:23:32\",\"2023-06-12 03:24:15\",\"2023-06-12 03:24:23\",\"2023-06-12 03:24:27\",\"2023-06-12 03:24:33\",\"2023-06-12 03:24:42\",\"2023-06-12 03:24:45\",\"2023-06-12 03:29:45\",\"2023-06-12 03:30:29\",\"2023-06-12 03:45:28\",\"2023-06-12 03:46:00\",\"2023-06-12 03:46:08\",\"2023-06-12 08:00:29\",\"2023-06-12 08:00:33\",\"2023-06-12 08:00:45\",\"2023-06-12 08:00:50\",\"2023-06-12 08:01:01\",\"2023-06-12 08:19:38\",\"2023-06-12 15:02:48\",\"2023-06-12 15:02:50\",\"2023-06-13 03:52:07\",\"2023-06-13 03:52:57\",\"2023-06-13 04:40:23\",\"2023-06-13 04:40:26\",\"2023-06-13 04:40:41\",\"2023-06-13 07:37:26\",\"2023-06-13 07:37:30\",\"2023-06-13 07:37:37\",\"2023-06-13 07:37:40\",\"2023-06-13 08:28:35\",\"2023-06-13 08:28:40\",\"2023-06-13 15:18:40\",\"2023-06-13 15:18:43\",\"2023-06-13 15:18:52\",\"2023-06-13 15:19:12\",\"2023-06-13 15:19:17\",\"2023-06-13 15:19:22\",\"2023-06-13 15:19:27\",\"2023-06-13 15:19:29\",\"2023-06-13 15:24:56\",\"2023-06-13 15:24:57\",\"2023-06-13 15:52:21\",\"2023-06-13 15:54:50\",\"2023-06-13 15:54:51\",\"2023-06-13 15:54:52\",\"2023-06-13 15:54:53\",\"2023-06-13 15:55:00\",\"2023-06-13 15:55:01\",\"2023-06-13 15:55:03\",\"2023-06-13 15:55:04\",\"2023-06-13 15:55:09\",\"2023-06-13 15:55:25\",\"2023-06-13 15:55:28\",\"2023-06-13 15:55:29\",\"2023-06-13 15:56:29\",\"2023-06-13 15:57:11\",\"2023-06-13 15:57:13\",\"2023-06-13 16:12:15\",\"2023-06-13 16:14:28\",\"2023-06-13 16:14:29\",\"2023-06-13 16:30:09\",\"2023-06-13 17:11:23\",\"2023-06-13 17:11:24\",\"2023-06-13 17:11:25\",\"2023-06-13 17:21:16\",\"2023-06-14 03:51:55\",\"2023-06-14 03:51:58\",\"2023-06-14 03:52:12\",\"2023-06-14 03:52:14\",\"2023-06-14 04:03:42\",\"2023-06-14 04:03:47\",\"2023-06-14 04:58:04\",\"2023-06-14 07:41:23\",\"2023-06-14 07:41:27\",\"2023-06-14 07:41:31\",\"2023-06-14 07:41:34\",\"2023-06-14 07:44:20\",\"2023-06-14 07:44:23\",\"2023-06-14 08:29:35\",\"2023-06-14 14:55:48\",\"2023-06-14 14:56:00\",\"2023-06-14 14:56:22\",\"2023-06-14 14:56:30\",\"2023-06-14 14:56:32\",\"2023-06-14 14:56:34\",\"2023-06-14 15:00:12\",\"2023-06-14 15:00:13\",\"2023-06-14 15:00:17\",\"2023-06-14 15:00:19\",\"2023-06-14 15:01:33\",\"2023-06-14 15:01:34\",\"2023-06-14 15:16:53\",\"2023-06-14 15:16:55\",\"2023-06-14 15:16:56\",\"2023-06-14 15:16:58\",\"2023-06-14 15:16:59\",\"2023-06-14 15:17:00\",\"2023-06-14 15:17:01\",\"2023-06-14 15:17:02\",\"2023-06-14 15:17:03\",\"2023-06-14 15:17:04\",\"2023-06-14 15:17:32\",\"2023-06-14 15:17:33\",\"2023-06-14 15:17:48\",\"2023-06-14 15:18:28\",\"2023-06-14 15:18:43\",\"2023-06-14 15:18:56\",\"2023-06-14 15:19:13\",\"2023-06-14 15:19:14\",\"2023-06-14 15:19:16\",\"2023-06-14 15:19:18\",\"2023-06-14 15:19:19\",\"2023-06-14 15:32:45\",\"2023-06-14 15:35:46\",\"2023-06-14 15:37:42\",\"2023-06-14 16:05:19\",\"2023-06-14 16:05:24\",\"2023-06-14 16:59:49\",\"2023-06-14 16:59:54\",\"2023-06-14 17:08:21\",\"2023-06-15 03:21:29\",\"2023-06-15 03:21:58\",\"2023-06-15 03:22:05\",\"2023-06-15 03:22:07\",\"2023-06-15 04:17:06\",\"2023-06-15 08:05:11\",\"2023-06-15 08:05:16\",\"2023-06-15 08:06:01\",\"2023-06-15 08:06:05\",\"2023-06-15 08:06:17\",\"2023-06-15 08:06:19\",\"2023-06-15 08:09:05\",\"2023-06-15 08:09:07\",\"2023-06-15 08:32:54\",\"2023-06-16 14:45:16\",\"2023-06-16 14:45:17\",\"2023-06-16 14:45:20\",\"2023-06-16 15:15:21\",\"2023-06-16 15:18:01\",\"2023-06-16 15:37:53\",\"2023-06-16 15:54:25\",\"2023-06-16 16:51:01\",\"2023-06-16 16:51:10\",\"2023-06-17 03:37:00\",\"2023-06-17 03:37:04\",\"2023-06-17 03:39:29\",\"2023-06-17 03:39:33\",\"2023-06-17 03:39:35\",\"2023-06-17 03:39:41\",\"2023-06-17 03:39:45\",\"2023-06-17 03:39:46\",\"2023-06-17 16:03:23\",\"2023-06-17 16:03:25\",\"2023-06-17 16:03:35\",\"2023-06-17 16:51:20\",\"2023-06-18 04:07:16\",\"2023-06-18 04:07:21\",\"2023-06-18 04:07:53\",\"2023-06-18 04:07:56\",\"2023-06-18 04:24:59\",\"2023-06-18 04:25:18\",\"2023-06-18 04:54:39\",\"2023-06-18 06:44:25\",\"2023-06-18 06:45:13\",\"2023-06-18 06:45:53\",\"2023-06-18 06:45:58\",\"2023-06-18 06:46:08\",\"2023-06-18 06:46:09\",\"2023-06-18 06:50:07\",\"2023-06-18 06:50:10\",\"2023-06-18 07:55:00\",\"2023-06-18 07:55:04\",\"2023-06-18 07:55:09\",\"2023-06-18 07:55:14\",\"2023-06-18 08:21:28\",\"2023-06-18 08:22:06\",\"2023-06-18 09:09:59\",\"2023-06-18 09:10:00\",\"2023-06-18 12:48:21\",\"2023-06-18 12:48:22\",\"2023-06-18 12:48:23\",\"2023-06-18 14:58:17\",\"2023-06-18 14:59:03\",\"2023-06-18 14:59:20\",\"2023-06-18 15:01:48\",\"2023-06-18 15:01:51\",\"2023-06-18 16:11:28\",\"2023-06-18 16:11:46\",\"2023-06-18 16:11:47\",\"2023-06-18 16:34:30\",\"2023-06-19 04:10:57\",\"2023-06-19 04:11:00\",\"2023-06-19 04:12:38\",\"2023-06-19 04:12:44\",\"2023-06-19 04:13:33\",\"2023-06-19 04:13:41\",\"2023-06-19 04:13:44\",\"2023-06-19 04:13:51\",\"2023-06-19 04:13:53\",\"2023-06-19 04:14:31\",\"2023-06-19 04:14:59\",\"2023-06-19 04:15:01\",\"2023-06-19 07:58:59\",\"2023-06-19 07:59:12\",\"2023-06-19 07:59:38\",\"2023-06-19 07:59:41\",\"2023-06-19 07:59:51\",\"2023-06-19 07:59:55\",\"2023-06-19 15:13:18\",\"2023-06-19 15:13:25\",\"2023-06-19 15:13:29\",\"2023-06-19 16:00:49\",\"2023-06-19 16:01:02\",\"2023-06-19 16:06:35\",\"2023-06-19 16:06:52\",\"2023-06-19 16:07:09\",\"2023-06-19 16:07:23\",\"2023-06-19 16:07:39\"],\"xaxis\":\"x\",\"y\":[1,2,2,2,1,2,2,2,2,2,2,2,2,1,2,2,2,2,2,2,2,2,2,1,2,2,2,2,2,1,2,2,1,2,2,2,2,2,1,2,2,2,2,2,2,4,3,1,2,2,2,1,2,1,2,2,2,2,2,2,2,2,2,2,2,2,2,2,2,1,2,2,2,4,2,2,2,2,4,2,1,2,2,2,2,2,1,2,2,2,2,2,2,2,1,2,2,2,2,2,2,2,1,2,2,2,2,2,2,2,2,2,2,2,2,2,2,2,2,2,2,2,2,2,2,1,1,2,1,1,2,2,1,1,2,2,2,2,1,2,2,2,2,2,2,2,2,2,2,2,1,2,2,2,2,1,2,2,2,2,2,2,1,2,2,2,2,2,2,1,2,2,2,2,2,1,2,2,2,2,2,2,2,2,2,2,2,2,2,2,2,2,2,2,2,2,2,2,2,2,2,2,2,2,2,1,2,2,2,2,2,1,2,2,2,2,2,1,1,2,2,2,2,1,2,2,2,1,2,2,2,2,1,2,2,2,1,2,2,2,2,1,2,2,2,2,2,4,2,2,2,2,2,2,2,2,2,2,1,2,1,2,2,2,2,2,1,2,2,2,1,1,2,2,1,2,2,2,2,2,2,2,2,2,2,1,2,2,2,1,1,2,1,2,2,2,2,2,2,2,2,2,1,2,2,2,2,1,2,2,2,2,1,2,2,2,2,2,2,1,2,2,2,2,1,2,2,2,2,2,2,2,2,2,2,2,2,2,2,2,2,2,2,2,2,2,2,1,2,2,2,2,1,2,2,2,2,2,2,2,2,2,2,1,1,2,1,1,2,1,1,2,2,2,1,2,2,2,2,2,2,2,2,1,1,2,2,2,2,2,2,2,2,2,2,2,2,2,2,2,2,2,2,2,2,2,2,2,1,2,2,2,2,1,2,2,2,2,2,2,2,2,2,2,1,2,2,2,2,2,2,2,2,2,1,1,1,2,2,2,2,2,2,2,2,1,2,2,2,2,2,2,2,1,2,2,2,2,4,2,2,2,2,2,2,1,2,2,2,2,2,2,2,2,2,2,2,2,2,1,2,2,2,2,2,2,1,2,2,2,2,2,2,2,2,2,2,2,8,1,1,2,1,1,1,1,2,1,1,1,3,3,1,2,1,2,1,2,1,1,2,2,2,2,2,2,2,2,2,2,2,2,2,2,2,1,2,2,2,2,2,2,2,2,2,2,2,2,1,3,2,2,2,2,1,1,2,2,2,2,2,2,2,2,2,1,2,2,2,2,2,2,2,2,2,2,1,1,1,1,1,2,2,1,2,2,2,2,2,2,2,1,1,1,1,2,1,1,2,1,2,2,2,2,2,2,2,2,1,1,2,2,1,1,2,2,2,2,2,2,1,2,2,2,2,2,2,2,2,2,1,1,2,1,2,2,2,2,2,2,1,2,2,2,2,2,2,2,1,2,2,2,2,2,2,2,2,2,2,2,2,2,2,1,2,2,2,2,2,2,2,2,2,2,2,2,2,2,2,2,1,2,2,2,2,2,1,2,2,2,2,2,2,2,2,1,2,2,2,2,2,2,2,2,2,4,2,4,2,2,2,2,2,2,1,2,2,2,2,2,1,1,2,1,2,2,2,2,2,2,1,2,2,2,2,2,2,2,2,2,2,2,2,1,2,2,2,2,2,2,2,2,2,2,2,1,1,2,2,2,1,1,2,1,1,2,2,2,2,1,1,2,1,1,2,2,2,2,2,1,1,2,2,1,1,2,2,2,2,2,2,2,1,1,2,1,1,2,2,2,2,2,2,2,2,2,2,2,2,2,2,2,2,2,2,2,2,2,2,2,2,4,1,2,2,2,2,2,2,2,2,2,1,1,2,1,1,2,2,1,1,1,2,2,2,2,2,1,1,4,2,2,2,2,2,1,1,2,1,1,1,1,2,1,1,2,2,2,1,2,1,1,1,2,2,3,1,2,1,1,1,1,2,2,1,1,2,4,2,2,2,2,1,1,2,2,2,2,2,2,2,2,2,1,1,2,2,2,1,1,1,4,1,1,2,2,2,1,1,2,1,1,2,1,1,2,2,1,1,2,1,1,2,2,2,2,1,1,2,2,1,3,4,2,2,2,2,2,2,1,1,2,2,2,2,2,2,2,2,1,1,1,1,1,3,2,2,2,2,2,2,2,1,1,2,2,1,1,2,2,1,1,2,2,1,1,2,2,2,2,2,1,1,2,1,2,2,2,1,1,2,2,2,2,1,1,2,1,1,1,1,2,2,2,2,2,2,2,2,1,2,2,2,2,2,2,1,2,2,2,2,2,2,2,2,2,1,1,2,2,1,1,2,2,2,2,2,2,2,2,2,2,2,1,2,2,2,2,2,2,2,1,1,2,1,2,1,1,1,1,2,1,1,1,1,2,1,2,2,2,2,2,2,2,1,2,2,2,2,2,2,2,2,2,1,2,2,2,2,2,2,1,1,2,2,1,2,1,1,2,2,2,2,2,2,1,2,2,1,2,2,2,2,2,2,1,1,2,2,2,2,2,2,2,2,2,2,2,2,2,2,2,2,2,2,2,2,2,2,2,2,2,2,2,2,2,4,2,1,2,2,2,1,1,2,2,2,2,2,1,1,2,2,2,1,1,2,1,1,1,1,2,2,2,2,4,2,2,4,1,1,2,2,2,2,2,2,2,2,2,1,1,1,1,1,1,2,2,2,2,2,1,1,1,1,2,2,2,2,1,1,1,2,1,2,2,2,2,2,2,1,2,2,2,2,1,2,2,2,2,2,2,1,2,2,2,2,1,2,2,2,2,2,2,1,2,2,2,2,2,1,2,2,2,2,2,2,2,2,2,2,2,2,2,2,2,2,2,2,2,2,2,2,1,1,1,2,2,2,2,1,2,2,2,2,2,2,1,2,2,2,2,2,2,2,2,2,1,1,2,2,2,1,1,2,1,2,1,1,1,2,2,2,1,1,2,2,2,1,1,2,2,2,2,2,2,2,2,2,1,1,2,2,2,2,1,1,2,2,1,1,2,2,2,2,2,2,1,1,2,1,1,2,2,2,2,2,2,2,2,1,1,2,1,1,2,2,1,2,2,2,2,2,2,3,2,1,1,4,1,1,1,1,1,1,2,2,1,1,1,2,2,2,2,1,1,3,1,2,2,1,1,2,1,2,1,1,2,2,2,2,2,1,1,2,1,2,1,1,2,2,1,1,2,1,1,2,2,1,2,2,2,2,2,2,2,2,2,2,2,2,1,2,2,2,2,2,2,2,2,2,2,2,2,2,1,1,2,2,2,2,2,1,1,1,1,2,2,2,1,1,2,2,2,3,1,2,2,2,2,2,1,1,1,2,2,2,2,2,2,2,2,1,1,1,1,6,1,1,1,1,2,2,4,2,1,1,2,3,1,2,2,2,2,1,1,2,1,2,2,2,2,2,2,2,2,1,5,1,3,2,1,2,1,1,1,2,2,2,1,1,1,1,3,4,1,1,4,1,3,4,2,1,2,2,1,1,1,1,1,1,1,1,1,1,2,1,1,2,2,2,2,4,2,2,2,1,1,2,2,2,2,2,1,1,2,1,1,1,1,2,2,1,1,1,1,2,1,1,2,1,3,1,1,2,2,1,1,1,1,2,2,1,1,1,1,2,4,1,1,2,2,1,1,2,1,1,2,2,2,1,1,2,2,2,1,1,2,2,2,2,2,2,2,1,2,2,2,2,1,1,2,2,2,2,2,1,1,1,2,1,3,2,1,1,2,1,1,1,1,2,2,1,2,2,2,1,1,2,2,2,2,1,1,1,1,1,2,2,2,2,2,1,2,2,2,2,1,1,2,2,2,2,2,2,1,1,2,1,1,2,1,1,2,2,2,2,2,2,2,2,1,1,1,1,1,2,2,2,2,2,1,2,2,2,1,2,1,1,1,1,1,1,1,2,2,2,1,1,2,2,2,4,2,2,1,1,1,2,4,2,2,2,2,2,2,2,2,1,1,2,1,2,2,2,2,2,2,2,2,2,2,2,2,1,2,2,2,2,2,1,2,2,2,2,2,2,1,2,2,2,2,2,1,2,2,2,2,2,2,2,1,1,2,1,1,2,1,1,1,2,1,2,2,2,1,2,1,1,2,2,2,2,2,1,1,2,1,2,2,2,2,2,2,1,2,2,2,2,2,2,2,2,2,2,1,1,2,1,2,2,2,2,4,2,2,2,2,2,4,2,1,1,1,3,2,2,2,2,1,3,2,1,1,2,2,2,2,2,2,2,2,1,2,2,2,2,1,2,2,2,2,2,2,2,2,2,1,2,2,2,2,2,2,2,1,2,2,2,2,2,2,2,1,2,2,2,1,2,2,2,2,2,2,2,2,1,1,3,1,2,2,1,2,2,2,2,2,1,1,2,1,1,2,2,2,1,2,2,1,1,2,1,2,2,2,2,2,2,2,2,2,2,2,1,2,2,2,2,2,2,2,2,2,2,2,2,2,2,2],\"yaxis\":\"y\",\"type\":\"scattergl\"},{\"hovertemplate\":\"Profile Name=User 7\\u003cbr\\u003eClick_Utc_Ts=%{x}\\u003cbr\\u003eTotal Count=%{y}\\u003cextra\\u003e\\u003c\\u002fextra\\u003e\",\"legendgroup\":\"User 7\",\"line\":{\"color\":\"#B6E880\",\"dash\":\"solid\"},\"marker\":{\"symbol\":\"circle\"},\"mode\":\"lines\",\"name\":\"User 7\",\"showlegend\":true,\"x\":[\"2023-02-20 15:56:38\",\"2023-02-20 15:56:39\",\"2023-02-22 18:18:57\",\"2023-02-22 18:19:24\",\"2023-02-22 18:19:25\",\"2023-02-22 18:19:34\",\"2023-02-22 18:19:47\",\"2023-02-22 18:20:17\",\"2023-02-22 18:20:18\",\"2023-02-22 18:21:05\",\"2023-02-22 18:22:29\",\"2023-02-22 18:22:30\",\"2023-02-22 18:22:38\",\"2023-02-22 18:22:41\",\"2023-02-22 18:22:42\",\"2023-02-22 18:25:05\",\"2023-02-22 18:25:22\",\"2023-02-22 18:25:23\",\"2023-02-22 18:25:24\",\"2023-02-26 09:01:34\",\"2023-02-26 09:02:38\",\"2023-02-26 09:02:39\",\"2023-03-01 12:24:52\",\"2023-03-01 12:24:57\",\"2023-03-01 12:24:58\",\"2023-03-01 12:25:14\",\"2023-03-01 12:25:15\",\"2023-03-01 12:44:38\",\"2023-03-02 19:09:13\",\"2023-03-02 19:09:14\",\"2023-03-02 19:09:26\",\"2023-03-02 19:09:36\",\"2023-03-02 19:09:37\",\"2023-03-02 19:46:42\",\"2023-03-02 19:46:51\",\"2023-03-02 19:46:52\",\"2023-03-02 19:47:18\",\"2023-03-02 19:47:59\",\"2023-03-02 19:48:14\",\"2023-03-02 19:49:18\",\"2023-03-02 19:49:19\",\"2023-03-02 19:49:48\",\"2023-03-02 19:50:11\",\"2023-03-06 16:32:35\",\"2023-03-06 16:32:36\",\"2023-03-06 16:32:38\",\"2023-03-06 16:32:39\",\"2023-03-06 17:18:56\",\"2023-03-06 17:19:09\",\"2023-03-06 17:19:10\",\"2023-03-06 17:19:42\",\"2023-03-06 17:20:11\",\"2023-03-06 17:20:12\",\"2023-03-06 17:21:51\",\"2023-03-06 17:21:54\",\"2023-03-06 17:21:56\",\"2023-03-06 17:22:16\",\"2023-03-06 17:25:21\",\"2023-03-06 17:25:22\",\"2023-03-06 17:29:01\",\"2023-03-06 17:29:03\",\"2023-03-06 17:29:13\",\"2023-03-06 17:29:14\",\"2023-03-06 17:38:40\",\"2023-03-07 19:53:43\",\"2023-03-07 19:53:44\",\"2023-03-07 19:55:27\",\"2023-03-07 19:55:30\",\"2023-03-07 19:55:33\",\"2023-03-07 19:55:34\",\"2023-03-07 19:56:14\",\"2023-03-07 19:56:19\",\"2023-03-14 08:01:13\",\"2023-03-14 08:01:29\",\"2023-03-14 08:01:31\",\"2023-03-14 08:03:51\",\"2023-03-14 08:03:52\",\"2023-03-14 08:57:57\",\"2023-03-14 09:59:58\",\"2023-03-14 09:59:59\",\"2023-03-14 10:00:01\",\"2023-03-14 10:40:10\",\"2023-03-14 10:42:12\",\"2023-03-15 16:00:54\",\"2023-03-15 16:00:59\",\"2023-03-15 16:01:02\",\"2023-03-15 16:01:07\",\"2023-03-15 16:01:51\",\"2023-03-15 16:01:52\",\"2023-03-15 16:06:00\",\"2023-03-15 16:11:19\",\"2023-03-15 16:25:55\",\"2023-03-15 16:26:00\",\"2023-03-15 16:26:07\",\"2023-03-16 17:28:43\",\"2023-03-16 17:28:44\",\"2023-03-17 15:28:38\",\"2023-03-17 15:29:22\",\"2023-03-17 15:29:27\",\"2023-03-17 15:29:34\",\"2023-03-17 15:29:35\",\"2023-03-17 15:30:41\",\"2023-03-17 15:30:42\",\"2023-03-17 15:30:48\",\"2023-03-17 15:30:59\",\"2023-03-17 15:31:00\",\"2023-03-17 15:51:55\",\"2023-03-17 15:52:21\",\"2023-03-17 15:52:26\",\"2023-03-17 15:52:36\",\"2023-03-17 16:12:39\",\"2023-03-17 16:12:40\",\"2023-03-17 17:58:01\",\"2023-03-17 17:58:02\",\"2023-03-17 17:58:06\",\"2023-03-17 17:58:07\",\"2023-03-17 17:58:16\",\"2023-03-17 17:58:19\",\"2023-03-17 17:58:21\",\"2023-03-17 17:58:24\",\"2023-03-17 17:58:26\",\"2023-03-17 17:58:27\",\"2023-03-17 18:07:40\",\"2023-03-17 18:07:53\",\"2023-03-17 18:07:54\",\"2023-03-17 18:08:00\",\"2023-03-17 18:08:21\",\"2023-03-17 18:08:22\",\"2023-03-17 18:22:06\",\"2023-03-17 18:22:26\",\"2023-03-17 18:22:27\",\"2023-03-17 18:29:15\",\"2023-03-17 18:29:25\",\"2023-03-17 18:29:27\",\"2023-03-17 18:32:53\",\"2023-03-17 18:33:32\",\"2023-03-17 18:33:33\",\"2023-03-17 18:52:39\",\"2023-03-18 16:22:24\",\"2023-03-19 06:56:24\",\"2023-03-19 06:58:33\",\"2023-03-19 06:58:34\",\"2023-03-19 06:58:50\",\"2023-03-19 06:58:51\",\"2023-03-19 17:09:52\",\"2023-03-19 17:09:53\",\"2023-03-19 17:10:00\",\"2023-03-19 17:10:01\",\"2023-03-19 17:10:10\",\"2023-03-19 17:10:12\",\"2023-03-19 17:10:15\",\"2023-03-20 04:31:18\",\"2023-03-20 04:31:19\",\"2023-03-20 04:31:22\",\"2023-03-20 04:31:23\",\"2023-03-20 05:16:49\",\"2023-03-20 05:47:17\",\"2023-03-20 08:38:01\",\"2023-03-20 08:38:02\",\"2023-03-20 08:40:07\",\"2023-03-20 08:40:59\",\"2023-03-20 08:41:00\",\"2023-03-20 13:58:29\",\"2023-03-20 13:58:52\",\"2023-03-20 13:58:58\",\"2023-03-20 13:59:53\",\"2023-03-20 13:59:55\",\"2023-03-20 13:59:56\",\"2023-03-21 16:18:13\",\"2023-03-21 16:18:32\",\"2023-03-21 16:18:33\",\"2023-03-21 16:18:45\",\"2023-03-21 16:18:46\",\"2023-03-21 16:19:39\",\"2023-03-21 16:19:41\",\"2023-03-21 16:19:42\",\"2023-03-21 16:20:37\",\"2023-03-21 16:21:10\",\"2023-03-21 16:22:26\",\"2023-03-21 16:22:27\",\"2023-03-21 16:30:18\",\"2023-03-21 16:30:20\",\"2023-03-21 16:30:28\",\"2023-03-21 16:30:56\",\"2023-03-21 16:30:57\",\"2023-03-23 07:30:19\",\"2023-03-27 13:44:01\",\"2023-03-27 13:44:02\",\"2023-04-01 20:36:25\",\"2023-04-01 20:36:28\",\"2023-04-01 20:36:29\",\"2023-04-01 20:36:41\",\"2023-04-01 20:36:48\",\"2023-04-01 20:36:51\",\"2023-04-01 23:30:19\",\"2023-04-01 23:30:26\",\"2023-04-01 23:58:14\",\"2023-04-02 06:39:35\",\"2023-04-02 06:39:37\",\"2023-04-02 06:39:38\",\"2023-04-02 07:00:06\",\"2023-04-02 07:51:14\",\"2023-04-02 08:34:12\",\"2023-04-02 08:34:15\",\"2023-04-02 10:44:25\",\"2023-04-03 18:56:37\",\"2023-04-03 18:56:38\",\"2023-04-03 18:56:39\",\"2023-04-03 18:56:40\",\"2023-04-03 19:14:32\",\"2023-04-03 19:18:16\",\"2023-04-03 19:34:29\",\"2023-04-03 19:35:29\",\"2023-04-03 19:35:30\",\"2023-04-03 19:35:32\",\"2023-04-03 19:35:37\",\"2023-04-03 19:35:38\",\"2023-04-03 22:56:56\",\"2023-04-03 22:56:57\",\"2023-04-04 20:25:08\",\"2023-04-04 20:25:09\",\"2023-04-04 20:25:10\",\"2023-04-04 21:52:18\",\"2023-04-04 21:52:37\",\"2023-04-04 21:52:38\",\"2023-04-04 21:53:01\",\"2023-04-04 21:53:03\",\"2023-04-04 21:55:05\",\"2023-04-04 21:55:06\",\"2023-04-04 21:55:14\",\"2023-04-04 21:55:47\",\"2023-04-04 21:56:24\",\"2023-04-04 21:56:28\",\"2023-04-04 21:56:30\",\"2023-04-04 21:58:26\",\"2023-04-06 09:28:51\",\"2023-04-06 09:28:52\",\"2023-04-06 09:28:53\",\"2023-04-06 09:29:06\",\"2023-04-06 09:29:09\",\"2023-04-06 09:29:15\",\"2023-04-06 09:48:08\",\"2023-04-06 10:13:18\",\"2023-04-06 10:13:46\",\"2023-04-06 10:50:17\",\"2023-04-06 10:50:18\",\"2023-04-06 10:50:26\",\"2023-04-06 10:50:31\",\"2023-04-06 10:51:21\",\"2023-04-06 10:51:24\",\"2023-04-06 11:03:00\",\"2023-04-06 11:38:38\",\"2023-04-06 11:59:31\",\"2023-04-06 12:00:09\",\"2023-04-06 15:57:48\",\"2023-04-06 15:58:12\",\"2023-04-06 15:58:13\",\"2023-04-06 16:35:17\",\"2023-04-06 16:35:20\",\"2023-04-06 17:24:20\",\"2023-04-06 17:24:21\",\"2023-04-06 17:24:23\",\"2023-04-06 18:41:32\",\"2023-04-06 18:41:35\",\"2023-04-06 18:41:36\",\"2023-04-06 20:18:22\",\"2023-04-06 20:18:23\",\"2023-04-07 09:29:58\",\"2023-04-07 09:30:00\",\"2023-04-07 09:30:04\",\"2023-04-07 09:30:13\",\"2023-04-07 10:28:02\",\"2023-04-07 10:28:05\",\"2023-04-07 10:28:06\",\"2023-04-07 15:10:29\",\"2023-04-07 15:10:30\",\"2023-04-07 15:11:48\",\"2023-04-07 15:11:49\",\"2023-04-07 15:12:01\",\"2023-04-07 15:12:40\",\"2023-04-07 15:12:44\",\"2023-04-07 15:12:45\",\"2023-04-07 15:27:42\",\"2023-04-07 15:27:52\",\"2023-04-07 15:28:18\",\"2023-04-07 15:28:26\",\"2023-04-07 15:28:45\",\"2023-04-07 15:29:02\",\"2023-04-07 15:32:18\",\"2023-04-07 15:32:19\",\"2023-04-07 15:32:21\",\"2023-04-07 15:32:22\",\"2023-04-07 15:45:03\",\"2023-04-07 15:45:16\",\"2023-04-07 15:45:32\",\"2023-04-07 19:18:49\",\"2023-04-07 19:18:51\",\"2023-04-07 19:18:53\",\"2023-04-07 22:23:53\",\"2023-04-07 22:24:17\",\"2023-04-07 22:25:11\",\"2023-04-07 22:25:28\",\"2023-04-07 22:27:29\",\"2023-04-08 06:07:21\",\"2023-04-08 06:07:31\",\"2023-04-08 06:08:40\",\"2023-04-08 12:32:03\",\"2023-04-08 12:32:04\",\"2023-04-08 18:05:27\",\"2023-04-08 18:05:30\",\"2023-04-08 18:05:31\",\"2023-04-08 18:07:01\",\"2023-04-08 18:07:02\",\"2023-04-08 18:07:16\",\"2023-04-08 18:07:17\",\"2023-04-08 18:17:53\",\"2023-04-08 18:18:12\",\"2023-04-08 18:18:46\",\"2023-04-08 18:19:06\",\"2023-04-08 18:19:53\",\"2023-04-08 18:20:09\",\"2023-04-08 18:20:22\",\"2023-04-08 18:21:03\",\"2023-04-08 18:21:04\",\"2023-04-08 18:21:50\",\"2023-04-08 18:21:53\",\"2023-04-08 18:21:54\",\"2023-04-08 18:25:29\",\"2023-04-08 18:25:54\",\"2023-04-08 18:25:55\",\"2023-04-08 18:32:28\",\"2023-04-08 18:32:32\",\"2023-04-08 18:35:15\",\"2023-04-08 18:35:41\",\"2023-04-08 18:35:59\",\"2023-04-08 18:36:00\",\"2023-04-08 18:36:26\",\"2023-04-08 18:36:43\",\"2023-04-08 18:36:50\",\"2023-04-08 18:39:50\",\"2023-04-08 18:39:51\",\"2023-04-08 18:39:54\",\"2023-04-08 18:39:56\",\"2023-04-08 18:40:04\",\"2023-04-08 18:40:08\",\"2023-04-08 18:40:09\",\"2023-04-08 18:40:11\",\"2023-04-08 18:40:15\",\"2023-04-08 18:40:16\",\"2023-04-08 18:40:20\",\"2023-04-08 18:40:49\",\"2023-04-08 18:43:05\",\"2023-04-08 18:43:06\",\"2023-04-08 18:43:07\",\"2023-04-08 18:43:21\",\"2023-04-08 18:43:24\",\"2023-04-08 18:43:25\",\"2023-04-08 18:43:26\",\"2023-04-08 18:43:33\",\"2023-04-08 18:43:34\",\"2023-04-08 18:43:35\",\"2023-04-08 18:43:49\",\"2023-04-08 18:45:06\",\"2023-04-08 18:45:17\",\"2023-04-08 18:45:24\",\"2023-04-08 18:45:48\",\"2023-04-08 18:45:50\",\"2023-04-08 18:45:56\",\"2023-04-08 18:46:15\",\"2023-04-08 18:46:38\",\"2023-04-08 18:47:03\",\"2023-04-08 18:50:33\",\"2023-04-08 18:50:34\",\"2023-04-08 18:50:49\",\"2023-04-08 18:50:52\",\"2023-04-08 18:50:57\",\"2023-04-08 18:51:50\",\"2023-04-08 18:51:54\",\"2023-04-08 18:51:58\",\"2023-04-08 18:52:00\",\"2023-04-08 18:52:01\",\"2023-04-08 18:52:02\",\"2023-04-08 18:52:05\",\"2023-04-08 18:52:14\",\"2023-04-08 18:52:32\",\"2023-04-08 18:53:09\",\"2023-04-08 18:55:20\",\"2023-04-08 18:55:21\",\"2023-04-08 21:16:58\",\"2023-04-08 21:16:59\",\"2023-04-08 21:33:09\",\"2023-04-09 19:56:25\",\"2023-04-09 19:56:28\",\"2023-04-09 20:31:55\",\"2023-04-09 20:32:02\",\"2023-04-09 20:32:50\",\"2023-04-09 21:27:21\",\"2023-04-09 21:27:24\",\"2023-04-09 21:27:26\",\"2023-04-10 09:45:59\",\"2023-04-10 09:46:05\",\"2023-04-10 09:46:06\",\"2023-04-10 09:46:09\",\"2023-04-10 09:46:11\",\"2023-04-10 09:46:12\",\"2023-04-10 19:00:03\",\"2023-04-10 19:00:04\",\"2023-04-10 19:00:05\",\"2023-04-10 19:01:34\",\"2023-04-10 19:02:20\",\"2023-04-10 19:02:21\",\"2023-04-10 19:55:27\",\"2023-04-11 18:14:57\",\"2023-04-11 18:18:13\",\"2023-04-11 18:18:14\",\"2023-04-11 18:18:47\",\"2023-04-11 18:18:51\",\"2023-04-11 19:21:08\",\"2023-04-11 19:21:09\",\"2023-04-11 19:21:10\",\"2023-04-11 19:21:11\",\"2023-04-11 20:08:33\",\"2023-04-12 16:14:57\",\"2023-04-12 16:14:58\",\"2023-04-12 16:15:14\",\"2023-04-12 16:15:23\",\"2023-04-12 16:15:24\",\"2023-04-14 18:19:05\",\"2023-04-14 18:19:13\",\"2023-04-14 18:19:14\",\"2023-04-17 17:46:43\",\"2023-04-17 17:46:44\",\"2023-04-17 17:46:52\",\"2023-04-17 17:46:59\",\"2023-04-17 17:47:01\",\"2023-04-17 17:59:10\",\"2023-04-17 17:59:13\",\"2023-04-17 17:59:14\",\"2023-04-17 18:09:15\",\"2023-04-17 18:09:22\",\"2023-04-17 18:09:31\",\"2023-04-17 18:09:43\",\"2023-04-17 18:30:29\",\"2023-04-17 18:31:28\",\"2023-04-17 18:31:41\",\"2023-04-17 18:31:43\",\"2023-04-17 18:31:44\",\"2023-04-17 18:57:30\",\"2023-04-17 18:57:31\",\"2023-04-18 20:14:22\",\"2023-04-18 20:14:27\",\"2023-04-18 20:28:01\",\"2023-04-18 20:31:29\",\"2023-04-18 20:31:30\",\"2023-04-18 21:04:18\",\"2023-04-20 08:29:53\",\"2023-04-20 08:29:54\",\"2023-04-20 08:30:23\",\"2023-04-20 08:30:27\",\"2023-04-20 08:30:28\",\"2023-04-20 12:02:57\",\"2023-04-20 12:03:21\",\"2023-04-20 12:03:50\",\"2023-04-20 12:03:57\",\"2023-04-20 12:04:17\",\"2023-04-20 12:04:18\",\"2023-04-20 12:04:50\",\"2023-04-20 12:05:01\",\"2023-04-20 12:06:11\",\"2023-04-20 12:06:12\",\"2023-04-20 12:06:33\",\"2023-04-20 12:06:36\",\"2023-04-20 13:09:00\",\"2023-04-20 13:09:01\",\"2023-04-20 13:09:39\",\"2023-04-22 13:20:01\",\"2023-04-22 13:20:07\",\"2023-04-22 13:20:08\",\"2023-04-22 16:20:47\",\"2023-04-22 16:20:48\",\"2023-04-22 16:21:05\",\"2023-04-22 16:21:09\",\"2023-04-22 16:21:10\",\"2023-04-22 16:25:35\",\"2023-04-22 16:25:37\",\"2023-04-22 16:25:39\",\"2023-04-22 16:26:22\",\"2023-04-22 16:51:11\",\"2023-04-22 16:51:12\",\"2023-04-22 17:18:33\",\"2023-04-22 17:18:34\",\"2023-04-22 17:18:36\",\"2023-04-22 17:18:37\",\"2023-04-22 17:18:39\",\"2023-04-22 17:24:09\",\"2023-04-22 17:24:10\",\"2023-04-22 17:24:23\",\"2023-04-22 17:25:01\",\"2023-04-22 17:25:41\",\"2023-04-22 17:25:59\",\"2023-04-22 17:26:38\",\"2023-04-22 17:27:15\",\"2023-04-22 17:27:20\",\"2023-04-22 17:27:31\",\"2023-04-22 17:27:32\",\"2023-04-22 17:59:52\",\"2023-04-22 18:00:00\",\"2023-04-22 18:00:01\",\"2023-04-22 18:00:03\",\"2023-04-22 18:00:07\",\"2023-04-22 18:25:39\",\"2023-04-22 18:25:44\",\"2023-04-22 18:25:45\",\"2023-04-22 18:25:55\",\"2023-04-22 18:25:56\",\"2023-04-22 18:27:47\",\"2023-04-22 18:27:50\",\"2023-04-22 18:27:54\",\"2023-04-22 18:27:55\",\"2023-04-22 18:27:58\",\"2023-04-22 18:28:06\",\"2023-04-22 18:28:07\",\"2023-04-22 18:28:30\",\"2023-04-22 18:28:51\",\"2023-04-22 18:28:52\",\"2023-04-22 18:37:47\",\"2023-04-22 19:02:46\",\"2023-04-22 19:02:47\",\"2023-04-22 19:20:00\",\"2023-04-22 19:20:01\",\"2023-04-22 19:20:28\",\"2023-04-22 19:22:25\",\"2023-04-22 19:22:27\",\"2023-04-22 19:22:32\",\"2023-04-22 20:24:34\",\"2023-04-22 20:24:50\",\"2023-04-22 20:34:20\",\"2023-04-23 06:35:36\",\"2023-04-23 06:35:37\",\"2023-04-23 06:49:56\",\"2023-04-23 06:50:17\",\"2023-04-23 06:50:55\",\"2023-04-23 06:51:05\",\"2023-04-23 06:51:06\",\"2023-04-23 07:04:07\",\"2023-04-23 07:05:10\",\"2023-04-23 07:05:13\",\"2023-04-23 09:28:29\",\"2023-04-23 09:28:30\",\"2023-04-23 09:28:41\",\"2023-04-23 09:28:42\",\"2023-04-23 09:28:45\",\"2023-04-23 09:30:29\",\"2023-04-23 09:30:30\",\"2023-04-23 09:43:12\",\"2023-04-23 09:43:13\",\"2023-04-23 09:44:07\",\"2023-04-23 09:44:13\",\"2023-04-23 09:44:14\",\"2023-04-23 14:35:43\",\"2023-04-23 14:35:50\",\"2023-04-23 14:35:53\",\"2023-04-23 14:35:54\",\"2023-04-23 14:55:05\",\"2023-04-23 14:55:35\",\"2023-04-23 14:55:37\",\"2023-04-23 14:55:48\",\"2023-04-23 14:55:49\",\"2023-04-23 14:56:02\",\"2023-04-23 14:56:07\",\"2023-04-23 14:56:08\",\"2023-04-23 14:56:14\",\"2023-04-23 14:56:17\",\"2023-04-23 14:56:21\",\"2023-04-23 14:56:29\",\"2023-04-23 14:56:30\",\"2023-04-23 15:01:00\",\"2023-04-23 15:01:01\",\"2023-04-23 15:01:04\",\"2023-04-23 15:01:05\",\"2023-04-23 15:07:52\",\"2023-04-23 15:07:53\",\"2023-04-23 15:07:55\",\"2023-04-23 15:08:00\",\"2023-04-23 17:55:19\",\"2023-04-23 17:55:24\",\"2023-04-23 17:55:25\",\"2023-04-23 18:28:19\",\"2023-04-23 18:28:25\",\"2023-04-23 18:31:47\",\"2023-04-23 18:31:48\",\"2023-04-23 18:31:53\",\"2023-04-23 18:31:55\",\"2023-04-23 18:31:56\",\"2023-04-23 18:41:17\",\"2023-04-23 18:45:50\",\"2023-04-23 18:45:51\",\"2023-04-23 18:45:59\",\"2023-04-23 18:46:15\",\"2023-04-23 18:46:17\",\"2023-04-23 18:46:18\",\"2023-04-23 19:17:11\",\"2023-04-23 19:18:26\",\"2023-04-23 19:18:29\",\"2023-04-23 19:18:30\",\"2023-04-23 19:18:31\",\"2023-04-23 19:18:36\",\"2023-04-23 19:19:57\",\"2023-04-23 19:19:59\",\"2023-04-23 19:41:45\",\"2023-04-24 03:56:26\",\"2023-04-24 03:56:27\",\"2023-04-24 03:56:41\",\"2023-04-24 03:56:44\",\"2023-04-24 03:56:45\",\"2023-04-24 04:08:27\",\"2023-04-24 04:08:28\",\"2023-04-24 04:08:45\",\"2023-04-24 04:08:48\",\"2023-04-24 04:08:59\",\"2023-04-24 04:09:07\",\"2023-04-24 04:09:08\",\"2023-04-24 04:15:51\",\"2023-04-24 04:15:52\",\"2023-04-24 04:17:46\",\"2023-04-24 04:17:47\",\"2023-04-24 04:17:48\",\"2023-04-24 04:17:49\",\"2023-04-24 04:17:50\",\"2023-04-24 10:42:12\",\"2023-04-24 10:42:13\",\"2023-04-24 10:42:21\",\"2023-04-24 10:42:22\",\"2023-04-24 11:43:54\",\"2023-04-24 11:43:56\",\"2023-04-24 11:43:57\",\"2023-04-24 11:51:54\",\"2023-04-24 11:51:55\",\"2023-04-24 11:51:56\",\"2023-04-24 11:52:21\",\"2023-04-24 11:53:32\",\"2023-04-24 11:53:33\",\"2023-04-24 17:41:16\",\"2023-04-24 17:41:19\",\"2023-04-24 18:06:05\",\"2023-04-24 19:08:41\",\"2023-04-24 19:08:42\",\"2023-04-24 19:08:49\",\"2023-04-24 19:08:50\",\"2023-04-24 19:10:03\",\"2023-04-24 19:10:04\",\"2023-04-24 19:12:53\",\"2023-04-24 19:13:10\",\"2023-04-24 19:13:11\",\"2023-04-24 19:13:17\",\"2023-04-24 19:13:18\",\"2023-04-24 19:13:20\",\"2023-04-24 19:13:22\",\"2023-04-24 19:20:12\",\"2023-04-24 19:21:01\",\"2023-04-24 19:21:04\",\"2023-04-24 19:21:05\",\"2023-04-24 19:21:14\",\"2023-04-24 19:21:15\",\"2023-04-24 19:21:33\",\"2023-04-24 19:22:57\",\"2023-04-25 09:57:55\",\"2023-04-25 10:00:41\",\"2023-04-25 10:01:11\",\"2023-04-25 10:01:17\",\"2023-04-25 13:42:46\",\"2023-04-25 13:42:49\",\"2023-04-25 13:42:50\",\"2023-04-25 14:16:04\",\"2023-04-25 14:16:07\",\"2023-04-25 14:16:08\",\"2023-04-25 14:16:34\",\"2023-04-25 14:16:40\",\"2023-04-25 14:16:43\",\"2023-04-25 14:16:44\",\"2023-04-25 14:16:57\",\"2023-04-25 14:16:58\",\"2023-04-25 14:25:25\",\"2023-04-25 14:25:28\",\"2023-04-25 16:43:53\",\"2023-04-25 16:43:59\",\"2023-04-25 16:44:00\",\"2023-04-25 16:44:25\",\"2023-04-25 16:44:26\",\"2023-04-25 16:44:37\",\"2023-04-25 16:44:38\",\"2023-04-25 16:44:56\",\"2023-04-25 19:47:46\",\"2023-04-25 19:47:47\",\"2023-04-25 19:47:49\",\"2023-04-25 20:43:47\",\"2023-04-25 23:12:08\",\"2023-04-25 23:12:12\",\"2023-04-26 17:59:37\",\"2023-04-26 17:59:40\",\"2023-04-26 18:01:44\",\"2023-04-26 18:01:48\",\"2023-04-26 18:03:05\",\"2023-04-26 18:12:57\",\"2023-04-26 18:51:12\",\"2023-04-26 18:55:51\",\"2023-04-26 18:55:52\",\"2023-04-26 20:19:38\",\"2023-04-26 21:37:58\",\"2023-04-26 21:38:02\",\"2023-04-26 21:38:03\",\"2023-04-26 21:38:04\",\"2023-04-26 21:38:05\",\"2023-04-26 21:38:08\",\"2023-04-26 21:38:15\",\"2023-04-26 21:38:45\",\"2023-04-26 21:39:17\",\"2023-04-26 21:39:18\",\"2023-04-26 21:39:32\",\"2023-04-27 08:47:35\",\"2023-04-27 08:47:36\",\"2023-04-27 08:47:37\",\"2023-04-27 08:47:39\",\"2023-04-27 10:39:19\",\"2023-04-27 10:39:23\",\"2023-04-27 10:39:26\",\"2023-04-27 17:08:56\",\"2023-04-27 17:08:57\",\"2023-04-27 17:08:59\",\"2023-04-27 17:09:01\",\"2023-04-27 17:48:43\",\"2023-04-27 17:48:45\",\"2023-04-27 18:08:55\",\"2023-04-27 18:08:56\",\"2023-04-27 18:09:18\",\"2023-04-27 18:09:27\",\"2023-04-27 18:09:57\",\"2023-04-27 18:10:54\",\"2023-04-27 18:11:17\",\"2023-04-27 18:11:19\",\"2023-04-27 18:11:21\",\"2023-04-27 18:27:26\",\"2023-04-27 18:27:28\",\"2023-04-27 18:29:15\",\"2023-04-27 18:29:18\",\"2023-04-27 18:29:27\",\"2023-04-27 18:29:28\",\"2023-04-27 18:29:30\",\"2023-04-27 18:35:38\",\"2023-04-27 18:37:09\",\"2023-04-27 18:37:10\",\"2023-04-27 19:11:24\",\"2023-04-27 19:18:59\",\"2023-04-27 19:19:01\",\"2023-04-27 19:19:02\",\"2023-04-27 20:14:25\",\"2023-04-27 20:14:28\",\"2023-04-27 20:14:31\",\"2023-04-27 20:23:58\",\"2023-04-27 20:23:59\",\"2023-04-27 21:15:52\",\"2023-04-27 21:15:53\",\"2023-04-27 21:15:56\",\"2023-04-28 10:16:49\",\"2023-04-28 10:16:50\",\"2023-04-28 10:22:52\",\"2023-04-28 10:23:35\",\"2023-04-28 10:49:58\",\"2023-04-29 10:49:00\",\"2023-04-29 10:49:15\",\"2023-04-29 10:49:17\",\"2023-04-29 10:49:26\",\"2023-04-29 10:49:28\",\"2023-04-29 11:10:44\",\"2023-04-30 09:03:10\",\"2023-04-30 09:03:11\",\"2023-04-30 09:03:37\",\"2023-04-30 09:03:40\",\"2023-04-30 09:28:30\",\"2023-04-30 09:28:35\",\"2023-04-30 09:28:42\",\"2023-04-30 14:41:27\",\"2023-04-30 14:41:38\",\"2023-04-30 14:41:40\",\"2023-05-01 12:06:12\",\"2023-05-01 12:06:15\",\"2023-05-01 12:06:21\",\"2023-05-01 12:06:48\",\"2023-05-01 12:06:50\",\"2023-05-01 12:08:04\",\"2023-05-01 12:08:05\",\"2023-05-01 12:08:06\",\"2023-05-01 12:08:11\",\"2023-05-01 12:40:18\",\"2023-05-01 19:13:23\",\"2023-05-01 19:13:25\",\"2023-05-01 19:13:26\",\"2023-05-01 20:19:23\",\"2023-05-01 20:19:26\",\"2023-05-01 22:10:00\",\"2023-05-01 22:10:04\",\"2023-05-02 09:24:29\",\"2023-05-02 09:24:32\",\"2023-05-02 09:51:26\",\"2023-05-02 09:51:28\",\"2023-05-02 09:51:29\",\"2023-05-02 09:51:35\",\"2023-05-02 09:51:36\",\"2023-05-02 09:52:19\",\"2023-05-02 09:52:25\",\"2023-05-02 09:52:26\",\"2023-05-02 10:46:32\",\"2023-05-02 10:46:35\",\"2023-05-02 10:46:37\",\"2023-05-02 10:46:53\",\"2023-05-02 10:47:20\",\"2023-05-02 10:47:21\",\"2023-05-02 10:47:22\",\"2023-05-02 10:47:26\",\"2023-05-02 10:47:27\",\"2023-05-02 10:47:28\",\"2023-05-02 10:47:43\",\"2023-05-02 10:50:40\",\"2023-05-02 10:50:43\",\"2023-05-02 11:22:34\",\"2023-05-02 11:22:37\",\"2023-05-02 11:23:04\",\"2023-05-02 11:27:34\",\"2023-05-02 11:30:32\",\"2023-05-02 11:40:32\",\"2023-05-02 11:40:33\",\"2023-05-02 11:40:35\",\"2023-05-02 15:26:25\",\"2023-05-02 15:29:48\",\"2023-05-02 15:29:52\",\"2023-05-02 15:32:32\",\"2023-05-02 15:42:40\",\"2023-05-02 15:42:41\",\"2023-05-02 15:47:35\",\"2023-05-02 15:47:37\",\"2023-05-02 17:27:32\",\"2023-05-04 10:08:37\",\"2023-05-04 10:08:44\",\"2023-05-04 10:08:45\",\"2023-05-04 10:52:18\",\"2023-05-04 10:52:19\",\"2023-05-04 10:52:20\",\"2023-05-04 11:12:19\",\"2023-05-04 11:12:21\",\"2023-05-04 11:12:22\",\"2023-05-04 13:17:20\",\"2023-05-04 13:18:02\",\"2023-05-04 13:18:03\",\"2023-05-04 13:18:24\",\"2023-05-04 13:18:47\",\"2023-05-04 13:18:55\",\"2023-05-04 13:18:58\",\"2023-05-04 13:18:59\",\"2023-05-04 13:40:36\",\"2023-05-04 13:40:38\",\"2023-05-04 13:40:43\",\"2023-05-04 14:50:49\",\"2023-05-04 14:50:51\",\"2023-05-04 14:50:52\",\"2023-05-04 14:51:06\",\"2023-05-04 14:51:10\",\"2023-05-04 14:51:12\",\"2023-05-04 15:09:27\",\"2023-05-04 15:09:28\",\"2023-05-04 15:09:42\",\"2023-05-04 15:40:17\",\"2023-05-04 16:10:17\",\"2023-05-04 16:41:19\",\"2023-05-04 17:11:32\",\"2023-05-04 17:41:38\",\"2023-05-04 18:16:24\",\"2023-05-04 18:46:44\",\"2023-05-04 19:16:43\",\"2023-05-04 19:46:43\",\"2023-05-04 20:16:43\",\"2023-05-04 20:46:43\",\"2023-05-04 21:16:43\",\"2023-05-04 21:46:43\",\"2023-05-04 22:16:43\",\"2023-05-04 22:46:43\",\"2023-05-05 20:52:31\",\"2023-05-05 20:52:32\",\"2023-05-05 20:52:48\",\"2023-05-05 20:52:49\",\"2023-05-05 20:52:59\",\"2023-05-05 20:53:02\",\"2023-05-05 20:55:08\",\"2023-05-05 20:55:10\",\"2023-05-05 20:55:17\",\"2023-05-05 20:57:57\",\"2023-05-05 20:58:02\",\"2023-05-05 20:58:03\",\"2023-05-05 20:58:14\",\"2023-05-05 20:58:17\",\"2023-05-05 20:58:25\",\"2023-05-05 20:58:26\",\"2023-05-05 20:58:37\",\"2023-05-05 20:59:28\",\"2023-05-05 20:59:29\",\"2023-05-05 21:36:10\",\"2023-05-05 21:36:12\",\"2023-05-05 21:36:16\",\"2023-05-05 21:36:21\",\"2023-05-05 21:36:29\",\"2023-05-05 21:37:04\",\"2023-05-05 21:37:05\",\"2023-05-05 21:37:23\",\"2023-05-05 21:37:28\",\"2023-05-05 21:37:31\",\"2023-05-05 21:37:35\",\"2023-05-05 21:37:36\",\"2023-05-05 21:37:42\",\"2023-05-05 21:37:43\",\"2023-05-05 21:37:47\",\"2023-05-06 11:23:12\",\"2023-05-06 11:23:13\",\"2023-05-06 11:23:37\",\"2023-05-06 11:23:39\",\"2023-05-06 11:23:40\",\"2023-05-06 11:52:59\",\"2023-05-06 11:53:01\",\"2023-05-07 10:20:22\",\"2023-05-07 10:20:24\",\"2023-05-07 10:20:40\",\"2023-05-07 10:20:42\",\"2023-05-07 18:11:18\",\"2023-05-07 18:11:38\",\"2023-05-07 18:11:40\",\"2023-05-07 18:11:42\",\"2023-05-07 18:28:48\",\"2023-05-07 18:28:51\",\"2023-05-07 18:28:52\",\"2023-05-07 18:34:14\",\"2023-05-07 18:34:15\",\"2023-05-07 18:34:30\",\"2023-05-07 18:34:32\",\"2023-05-07 18:34:33\",\"2023-05-07 18:43:37\",\"2023-05-07 18:43:38\",\"2023-05-07 18:43:46\",\"2023-05-07 18:43:47\",\"2023-05-07 18:43:48\",\"2023-05-07 18:43:50\",\"2023-05-07 18:58:30\",\"2023-05-07 18:58:38\",\"2023-05-07 18:58:39\",\"2023-05-07 19:11:38\",\"2023-05-07 19:29:44\",\"2023-05-07 19:30:23\",\"2023-05-07 19:32:36\",\"2023-05-07 19:32:40\",\"2023-05-07 19:32:41\",\"2023-05-07 19:36:08\",\"2023-05-07 20:09:11\",\"2023-05-07 20:37:46\",\"2023-05-07 21:08:25\",\"2023-05-07 21:41:15\",\"2023-05-07 22:10:44\",\"2023-05-07 22:41:37\",\"2023-05-07 23:11:58\",\"2023-05-07 23:47:46\",\"2023-05-08 00:18:20\",\"2023-05-08 00:48:36\",\"2023-05-08 01:21:23\",\"2023-05-08 01:55:26\",\"2023-05-08 02:14:48\",\"2023-05-08 03:18:13\",\"2023-05-08 03:18:16\",\"2023-05-08 03:18:22\",\"2023-05-08 03:25:36\",\"2023-05-08 19:36:39\",\"2023-05-12 11:47:43\",\"2023-05-12 11:47:44\",\"2023-05-12 11:47:46\",\"2023-05-12 11:47:47\",\"2023-05-14 17:26:41\",\"2023-05-14 17:26:42\",\"2023-05-14 17:27:10\",\"2023-05-14 17:27:11\",\"2023-05-14 17:55:26\",\"2023-05-15 16:48:59\",\"2023-05-15 16:49:00\",\"2023-05-15 16:49:05\",\"2023-05-15 16:49:06\",\"2023-05-15 17:04:44\",\"2023-05-15 17:04:47\",\"2023-05-15 17:04:48\",\"2023-05-15 21:04:11\",\"2023-05-15 21:04:12\",\"2023-05-15 21:04:23\",\"2023-05-15 21:04:50\",\"2023-05-15 21:04:59\",\"2023-05-15 21:05:01\",\"2023-05-15 21:46:27\",\"2023-05-15 22:17:19\",\"2023-05-15 22:49:13\",\"2023-05-15 23:19:13\",\"2023-05-15 23:49:43\",\"2023-05-16 01:45:34\",\"2023-05-16 02:16:09\",\"2023-05-16 02:54:04\",\"2023-05-16 03:28:35\",\"2023-05-16 04:23:24\",\"2023-05-16 05:04:56\",\"2023-05-16 05:35:52\",\"2023-05-16 06:16:56\",\"2023-05-17 06:43:15\",\"2023-05-17 06:43:29\",\"2023-05-17 14:31:07\",\"2023-05-17 14:31:08\",\"2023-05-17 14:31:47\",\"2023-05-17 14:31:48\",\"2023-05-17 21:55:30\",\"2023-05-17 21:55:31\",\"2023-05-17 21:56:06\",\"2023-05-17 22:27:37\",\"2023-05-17 22:27:39\",\"2023-05-17 22:27:40\",\"2023-05-17 22:27:43\",\"2023-05-17 22:28:06\",\"2023-05-17 22:28:08\",\"2023-05-17 22:28:09\",\"2023-05-17 22:29:11\",\"2023-05-17 22:30:30\",\"2023-05-17 22:30:32\",\"2023-05-17 22:30:55\",\"2023-05-17 22:31:09\",\"2023-05-17 22:31:11\",\"2023-05-18 09:33:46\",\"2023-05-18 09:33:59\",\"2023-05-18 09:34:00\",\"2023-05-18 09:55:23\",\"2023-05-18 13:10:49\",\"2023-05-18 13:11:45\",\"2023-05-18 13:11:46\",\"2023-05-18 13:13:28\",\"2023-05-18 13:13:29\",\"2023-05-18 14:54:30\",\"2023-05-18 14:54:43\",\"2023-05-18 14:54:46\",\"2023-05-18 14:54:47\",\"2023-05-18 15:24:09\",\"2023-05-18 15:32:25\",\"2023-05-18 15:32:26\",\"2023-05-18 15:32:48\",\"2023-05-18 15:32:49\",\"2023-05-18 15:33:34\",\"2023-05-18 18:15:31\",\"2023-05-25 12:57:08\",\"2023-05-25 12:57:09\",\"2023-05-25 12:57:33\",\"2023-05-25 12:57:34\",\"2023-05-25 13:02:33\",\"2023-05-25 13:03:56\",\"2023-05-25 13:03:57\",\"2023-05-28 23:19:52\",\"2023-05-28 23:19:53\",\"2023-05-28 23:19:56\",\"2023-05-28 23:19:57\",\"2023-05-28 23:19:58\",\"2023-05-28 23:20:00\",\"2023-05-29 00:25:45\",\"2023-05-29 00:25:46\",\"2023-05-29 00:25:48\",\"2023-05-29 01:03:38\",\"2023-05-29 01:03:39\",\"2023-05-29 01:07:11\",\"2023-05-29 08:45:11\",\"2023-05-29 08:45:12\",\"2023-05-29 08:45:13\",\"2023-05-29 08:45:15\",\"2023-05-29 08:45:17\",\"2023-05-29 08:50:20\",\"2023-05-29 08:50:23\",\"2023-05-29 08:50:51\",\"2023-05-29 09:47:28\",\"2023-05-29 09:47:29\",\"2023-05-29 09:47:31\",\"2023-05-29 09:47:47\",\"2023-05-29 09:48:52\",\"2023-06-01 03:27:05\",\"2023-06-01 03:28:40\",\"2023-06-01 03:28:41\",\"2023-06-01 03:28:43\",\"2023-06-06 13:01:47\",\"2023-06-06 13:01:48\",\"2023-06-06 13:02:13\",\"2023-06-06 13:02:14\",\"2023-06-06 13:06:04\",\"2023-06-06 16:50:36\",\"2023-06-06 16:50:37\",\"2023-06-07 12:24:41\",\"2023-06-07 12:24:42\",\"2023-06-07 12:24:50\",\"2023-06-07 12:24:51\",\"2023-06-07 19:31:53\",\"2023-06-07 19:32:13\",\"2023-06-07 19:32:14\",\"2023-06-07 19:32:58\",\"2023-06-07 19:33:04\",\"2023-06-07 19:33:37\",\"2023-06-07 19:33:44\",\"2023-06-07 19:33:50\",\"2023-06-07 19:35:45\",\"2023-06-07 19:35:46\",\"2023-06-07 20:11:35\",\"2023-06-10 08:16:27\",\"2023-06-10 08:16:28\",\"2023-06-10 08:16:43\",\"2023-06-10 08:16:44\",\"2023-06-10 08:24:38\",\"2023-06-10 08:25:25\",\"2023-06-10 08:25:26\",\"2023-06-10 08:25:27\",\"2023-06-10 08:25:34\",\"2023-06-10 08:25:35\",\"2023-06-10 08:25:36\",\"2023-06-10 08:25:54\",\"2023-06-10 08:26:16\",\"2023-06-10 08:26:17\",\"2023-06-10 08:41:31\",\"2023-06-10 14:03:19\",\"2023-06-10 14:03:20\",\"2023-06-10 14:03:41\",\"2023-06-10 14:03:54\",\"2023-06-10 14:03:55\",\"2023-06-10 14:04:36\",\"2023-06-10 14:05:26\",\"2023-06-10 14:05:45\",\"2023-06-10 14:06:40\",\"2023-06-10 14:06:41\",\"2023-06-10 14:07:02\",\"2023-06-10 14:07:06\",\"2023-06-10 14:07:08\",\"2023-06-10 16:31:32\",\"2023-06-10 16:31:42\",\"2023-06-10 16:31:55\",\"2023-06-10 16:31:56\",\"2023-06-10 16:34:24\",\"2023-06-10 16:34:25\",\"2023-06-10 16:36:11\",\"2023-06-10 16:36:13\",\"2023-06-11 14:51:05\",\"2023-06-11 14:51:06\",\"2023-06-11 14:51:07\",\"2023-06-11 14:51:09\",\"2023-06-11 14:51:16\",\"2023-06-11 18:59:37\",\"2023-06-11 18:59:38\",\"2023-06-11 18:59:41\",\"2023-06-11 18:59:42\",\"2023-06-11 18:59:51\",\"2023-06-11 18:59:52\",\"2023-06-11 18:59:54\",\"2023-06-11 18:59:55\",\"2023-06-12 15:45:42\",\"2023-06-12 15:47:51\",\"2023-06-12 15:47:52\",\"2023-06-12 15:48:00\",\"2023-06-12 15:48:07\",\"2023-06-12 15:48:13\",\"2023-06-12 16:35:13\",\"2023-06-12 16:35:31\",\"2023-06-13 16:19:30\",\"2023-06-13 16:19:31\",\"2023-06-13 16:19:36\",\"2023-06-13 16:19:37\",\"2023-06-13 16:19:48\",\"2023-06-14 09:36:33\",\"2023-06-14 09:36:34\",\"2023-06-14 09:36:39\",\"2023-06-14 09:36:41\",\"2023-06-14 10:09:43\",\"2023-06-14 10:11:17\",\"2023-06-14 10:11:18\",\"2023-06-14 10:11:26\",\"2023-06-14 10:11:27\",\"2023-06-14 10:11:28\",\"2023-06-14 10:13:38\",\"2023-06-14 10:13:51\",\"2023-06-14 10:13:52\",\"2023-06-14 10:19:57\",\"2023-06-14 10:19:58\",\"2023-06-14 10:20:38\",\"2023-06-14 10:20:41\",\"2023-06-14 10:20:42\",\"2023-06-14 10:22:13\",\"2023-06-14 10:22:16\",\"2023-06-14 10:22:24\",\"2023-06-14 10:22:30\",\"2023-06-14 10:22:31\",\"2023-06-14 10:29:29\",\"2023-06-14 17:38:25\",\"2023-06-14 17:38:27\",\"2023-06-14 17:38:28\",\"2023-06-14 17:38:36\",\"2023-06-14 17:38:38\",\"2023-06-14 18:08:44\",\"2023-06-14 18:15:42\",\"2023-06-14 18:15:43\",\"2023-06-14 18:15:56\",\"2023-06-14 18:15:57\",\"2023-06-14 18:16:13\",\"2023-06-14 18:16:17\",\"2023-06-14 18:24:49\",\"2023-06-14 18:24:50\",\"2023-06-14 18:24:52\",\"2023-06-14 18:25:00\",\"2023-06-14 18:25:01\",\"2023-06-14 18:25:13\",\"2023-06-14 18:25:14\",\"2023-06-14 18:25:24\",\"2023-06-14 18:25:25\",\"2023-06-14 18:31:59\",\"2023-06-14 21:00:53\",\"2023-06-14 21:00:54\",\"2023-06-14 21:00:58\",\"2023-06-14 21:01:00\",\"2023-06-14 21:06:21\",\"2023-06-15 07:18:52\",\"2023-06-15 07:18:58\",\"2023-06-15 07:18:59\",\"2023-06-15 07:19:02\",\"2023-06-15 07:19:03\",\"2023-06-15 07:19:06\",\"2023-06-15 07:19:08\",\"2023-06-15 08:36:36\",\"2023-06-15 08:36:47\",\"2023-06-15 08:36:51\",\"2023-06-15 08:37:02\",\"2023-06-15 08:37:07\",\"2023-06-15 08:37:41\",\"2023-06-15 08:37:50\",\"2023-06-15 08:37:53\",\"2023-06-15 08:37:54\",\"2023-06-15 17:16:26\",\"2023-06-15 17:16:28\",\"2023-06-15 17:16:29\",\"2023-06-15 17:16:30\",\"2023-06-16 13:38:37\",\"2023-06-16 13:38:40\",\"2023-06-16 13:38:42\",\"2023-06-16 13:38:44\",\"2023-06-16 17:36:03\",\"2023-06-16 17:36:05\",\"2023-06-16 17:36:13\",\"2023-06-16 17:36:14\",\"2023-06-16 17:41:04\",\"2023-06-16 17:50:16\",\"2023-06-16 17:50:17\",\"2023-06-16 19:11:54\",\"2023-06-16 19:11:55\",\"2023-06-16 19:23:56\",\"2023-06-16 19:24:08\",\"2023-06-16 19:24:09\",\"2023-06-16 19:44:43\",\"2023-06-16 19:45:43\",\"2023-06-16 19:45:44\",\"2023-06-16 20:07:48\",\"2023-06-16 20:39:00\",\"2023-06-16 21:11:50\",\"2023-06-16 21:42:08\",\"2023-06-16 22:13:04\",\"2023-06-17 09:12:29\",\"2023-06-17 09:12:30\",\"2023-06-17 09:12:32\",\"2023-06-17 09:12:33\",\"2023-06-17 09:14:20\",\"2023-06-17 09:17:15\",\"2023-06-17 10:37:43\",\"2023-06-17 10:58:59\",\"2023-06-17 11:02:01\",\"2023-06-17 11:30:17\",\"2023-06-17 12:17:00\",\"2023-06-17 13:21:59\",\"2023-06-17 13:22:03\",\"2023-06-17 13:30:35\",\"2023-06-17 13:48:16\",\"2023-06-17 13:48:20\",\"2023-06-17 15:28:08\",\"2023-06-17 15:28:09\",\"2023-06-17 15:29:02\",\"2023-06-17 15:32:07\",\"2023-06-17 15:32:26\",\"2023-06-17 15:34:09\",\"2023-06-17 15:35:03\",\"2023-06-17 15:37:02\",\"2023-06-17 15:39:43\",\"2023-06-17 15:40:03\",\"2023-06-17 15:42:09\",\"2023-06-17 15:42:15\",\"2023-06-17 15:42:48\",\"2023-06-17 15:43:32\",\"2023-06-17 15:47:11\",\"2023-06-17 15:47:12\",\"2023-06-17 15:48:05\",\"2023-06-17 15:50:33\",\"2023-06-17 15:50:34\",\"2023-06-17 15:50:41\",\"2023-06-17 15:50:53\",\"2023-06-17 15:50:54\",\"2023-06-17 15:59:50\",\"2023-06-17 15:59:57\",\"2023-06-17 16:00:00\",\"2023-06-17 16:00:01\",\"2023-06-17 16:00:19\",\"2023-06-17 16:00:20\",\"2023-06-17 16:02:18\",\"2023-06-17 16:02:33\",\"2023-06-17 16:02:34\",\"2023-06-17 16:04:31\",\"2023-06-17 16:04:33\",\"2023-06-17 16:05:38\",\"2023-06-17 16:06:33\",\"2023-06-17 16:08:59\",\"2023-06-17 16:09:03\",\"2023-06-17 16:09:10\",\"2023-06-17 16:09:14\",\"2023-06-17 16:09:15\",\"2023-06-17 16:19:52\",\"2023-06-17 16:19:53\",\"2023-06-17 16:57:14\",\"2023-06-17 17:01:02\",\"2023-06-17 17:01:03\",\"2023-06-17 17:12:47\",\"2023-06-17 17:12:48\",\"2023-06-17 17:12:49\",\"2023-06-17 18:02:57\",\"2023-06-17 19:27:34\",\"2023-06-17 19:27:35\",\"2023-06-17 21:52:32\",\"2023-06-17 21:52:36\",\"2023-06-17 21:52:38\",\"2023-06-17 21:52:39\",\"2023-06-18 08:39:44\",\"2023-06-18 08:39:45\",\"2023-06-18 10:20:27\",\"2023-06-18 10:20:28\",\"2023-06-18 10:43:33\",\"2023-06-18 11:14:49\",\"2023-06-18 11:34:10\",\"2023-06-18 11:34:11\",\"2023-06-18 14:20:47\",\"2023-06-18 14:45:08\",\"2023-06-18 15:34:16\",\"2023-06-18 15:34:17\",\"2023-06-18 16:11:42\",\"2023-06-18 16:25:20\",\"2023-06-18 22:11:47\",\"2023-06-18 22:11:48\",\"2023-06-18 22:12:07\",\"2023-06-18 22:12:08\",\"2023-06-18 22:12:10\",\"2023-06-18 22:51:23\",\"2023-06-19 05:56:16\",\"2023-06-19 05:56:21\",\"2023-06-19 07:11:08\",\"2023-06-19 07:11:22\",\"2023-06-19 07:11:23\",\"2023-06-19 07:46:04\",\"2023-06-19 07:46:05\"],\"xaxis\":\"x\",\"y\":[1,1,2,1,1,2,2,1,1,2,1,1,2,1,1,2,2,1,1,2,1,1,2,1,1,1,1,2,1,1,2,1,1,2,2,2,2,2,2,1,1,2,2,1,1,1,1,2,1,1,2,1,1,2,1,1,2,1,1,1,1,1,1,2,2,2,2,2,1,1,2,2,2,1,1,1,1,2,1,1,1,1,1,2,2,2,2,1,1,2,2,2,2,2,1,1,2,2,2,1,1,2,2,2,1,1,2,2,2,2,2,4,1,1,1,1,2,2,2,2,1,1,2,1,1,2,1,1,2,1,1,2,1,1,2,1,1,2,2,2,1,1,1,1,1,1,1,1,2,1,1,1,1,1,1,2,1,2,4,2,1,1,2,1,1,2,1,1,2,1,1,1,1,2,1,1,2,2,1,1,2,2,2,2,2,2,1,1,2,1,1,2,1,1,2,2,2,2,1,1,2,2,1,1,1,1,1,1,1,2,2,2,1,1,2,1,1,2,2,2,1,1,2,1,1,2,2,1,1,2,2,2,2,2,2,2,1,1,2,2,2,1,1,1,1,1,2,2,2,2,1,1,1,2,2,1,1,1,1,2,1,1,2,1,1,1,1,2,1,2,3,2,1,1,1,1,1,1,2,2,1,1,2,2,2,2,2,2,1,1,1,1,2,2,2,1,1,2,2,2,2,2,2,2,2,2,1,3,2,1,1,1,1,1,1,2,2,2,2,2,2,2,1,1,2,1,1,2,1,1,2,2,2,2,1,1,2,2,2,7,1,2,2,2,2,2,2,1,1,2,2,3,3,2,2,1,1,2,2,1,1,1,2,2,1,2,2,2,2,2,2,1,1,2,2,2,2,4,4,2,1,1,2,2,2,2,1,1,1,1,2,2,2,2,2,2,1,1,2,2,1,1,2,1,1,2,1,1,2,1,1,2,2,1,1,2,2,1,1,1,1,2,1,1,2,1,1,2,1,1,1,1,2,1,1,2,1,1,2,2,2,2,2,2,2,1,1,2,2,2,2,2,1,1,2,1,1,2,1,1,2,2,2,2,2,2,2,2,2,2,2,2,2,2,2,2,1,1,1,1,2,1,1,2,1,1,2,1,1,1,1,2,1,1,2,2,2,2,2,2,2,2,2,1,1,2,2,2,2,2,2,1,1,1,1,2,2,1,1,2,1,1,2,1,1,2,1,1,2,2,2,2,2,2,2,2,2,1,1,2,2,2,1,1,2,2,2,1,1,1,1,2,1,1,1,1,2,2,2,2,2,1,1,2,2,2,1,1,2,1,1,2,2,2,2,2,1,1,1,1,1,1,2,2,2,1,1,2,2,1,1,2,1,1,2,1,1,2,2,1,1,2,2,2,1,1,2,1,1,2,1,1,2,1,1,1,1,2,2,2,1,1,1,1,2,2,2,4,2,1,1,1,2,2,1,1,2,1,1,2,2,2,2,2,2,1,1,1,1,1,1,2,1,1,1,1,1,1,2,2,2,2,1,1,2,2,4,2,2,2,2,1,1,2,1,1,2,2,2,2,1,1,2,2,4,1,1,1,1,1,1,2,1,1,2,1,2,2,2,2,2,2,2,2,2,1,1,2,2,3,1,2,1,2,1,2,1,1,2,2,2,2,2,2,2,1,1,1,2,2,2,2,1,1,2,2,2,2,2,1,1,1,1,2,2,2,1,1,2,2,2,2,2,1,1,2,1,1,1,1,2,4,2,3,1,2,2,2,4,2,2,1,1,2,1,1,1,1,2,2,2,2,1,1,2,2,2,1,1,1,1,1,1,2,2,1,1,2,2,2,2,2,2,2,1,1,1,1,2,1,1,2,1,1,2,4,1,1,1,3,2,2,2,2,2,2,2,2,2,2,4,2,2,2,2,2,1,1,1,1,2,2,1,1,2,1,1,2,1,1,2,1,1,2,2,2,1,1,2,2,2,2,1,1,2,1,1,1,1,2,1,1,1,1,1,1,1,1,1,1,1,1,1,1,1,1,3,1,1,2,2,2,2,2,2,1,1,4,2,1,1,2,1,1,2,2,2,2,2,1,1,2,4,2,1,1,2,2,2,1,1,2,1,1,2,2,1,1,1,1,2,2,1,1,2,1,1,2,2,2,1,1,1,1,1,1,1,1,2,1,1,2,2,2,2,1,1,2,1,1,1,1,1,1,1,1,1,1,1,1,2,1,2,1,2,2,1,1,1,1,1,1,1,1,2,1,1,1,1,2,1,1,1,1,2,2,1,1,2,1,1,1,1,1,1,1,1,1,1,1,1,2,2,1,1,1,1,1,1,2,2,3,1,2,2,1,1,2,1,1,2,1,1,2,1,1,2,2,1,1,1,1,1,1,1,1,2,1,1,1,1,1,2,1,3,1,1,2,1,1,1,1,1,1,1,1,2,1,1,1,1,2,1,1,2,1,1,2,2,2,1,1,2,2,2,1,2,1,1,1,1,1,1,2,1,1,1,1,1,1,2,1,1,2,2,2,2,2,1,1,2,1,1,1,1,2,2,1,1,2,1,3,3,1,1,2,1,1,2,1,1,2,2,2,1,1,2,1,1,2,2,1,1,1,1,2,1,1,1,1,1,2,1,1,1,1,1,1,1,1,2,1,1,2,1,1,2,2,1,1,1,1,2,1,1,1,1,2,2,2,2,3,1,2,1,1,2,2,2,1,1,2,2,2,1,1,2,2,1,1,1,1,2,1,1,1,1,2,2,2,2,2,1,1,1,2,2,2,2,1,1,1,1,2,2,1,1,1,1,1,1,2,2,2,2,2,2,2,1,1,1,1,1,1,4,2,1,1,1,1,1,1,4,1,1,1,1,2,1,1,2,1,1,2,1,1,1,1,1,1,1,1,2,2,2,2,2,2,2,1,1,2,6,2,1,1,2,2,2,2,2,2,2,2,2,2,2,2,2,2,2,2,2,2,3,1,2,2,1,1,1,1,2,2,2,3,2,2,2,2,2,2,1,1,1,1,2,1,1,2,1,1,2,1,1,2,2,1,1,1,1,1,1,2,1,1,1,2,2,1,1,2,2,1,1,2,1,1,2,1,1,2,1,1,1,1],\"yaxis\":\"y\",\"type\":\"scattergl\"},{\"hovertemplate\":\"Profile Name=User 6\\u003cbr\\u003eClick_Utc_Ts=%{x}\\u003cbr\\u003eTotal Count=%{y}\\u003cextra\\u003e\\u003c\\u002fextra\\u003e\",\"legendgroup\":\"User 6\",\"line\":{\"color\":\"#FF97FF\",\"dash\":\"solid\"},\"marker\":{\"symbol\":\"circle\"},\"mode\":\"lines\",\"name\":\"User 6\",\"showlegend\":true,\"x\":[\"2023-02-28 10:33:46\",\"2023-02-28 10:33:48\",\"2023-02-28 16:59:48\",\"2023-02-28 16:59:51\",\"2023-02-28 17:00:21\",\"2023-02-28 17:00:23\",\"2023-02-28 17:00:46\",\"2023-02-28 17:01:53\",\"2023-02-28 17:01:54\",\"2023-02-28 17:02:44\",\"2023-02-28 17:04:31\",\"2023-02-28 17:04:51\",\"2023-02-28 17:04:53\",\"2023-02-28 17:09:21\",\"2023-02-28 17:09:26\",\"2023-02-28 17:09:27\",\"2023-02-28 17:09:39\",\"2023-02-28 17:09:41\",\"2023-02-28 17:55:08\",\"2023-03-01 16:58:19\",\"2023-03-01 16:58:20\",\"2023-03-01 16:58:42\",\"2023-03-01 16:58:51\",\"2023-03-07 13:46:18\",\"2023-03-07 13:46:19\",\"2023-03-07 13:46:43\",\"2023-03-07 13:46:47\",\"2023-03-07 13:47:54\",\"2023-03-07 13:47:57\",\"2023-03-07 13:47:58\",\"2023-03-07 13:51:46\",\"2023-03-07 13:51:47\",\"2023-03-07 13:52:23\",\"2023-03-07 13:52:37\",\"2023-03-07 13:54:38\",\"2023-03-07 13:54:46\",\"2023-03-07 13:58:59\",\"2023-03-07 13:59:00\",\"2023-03-07 14:12:20\",\"2023-03-07 15:22:04\",\"2023-03-07 15:22:06\",\"2023-03-07 15:22:07\",\"2023-03-07 15:22:09\",\"2023-03-07 15:22:10\",\"2023-03-07 15:22:11\",\"2023-03-07 16:13:05\",\"2023-03-07 17:32:37\",\"2023-03-09 16:36:30\",\"2023-03-09 16:36:31\",\"2023-03-10 16:12:03\",\"2023-03-10 16:12:31\",\"2023-03-10 16:12:32\",\"2023-03-10 16:12:36\",\"2023-03-10 16:21:24\",\"2023-03-11 07:34:21\",\"2023-03-11 07:35:05\",\"2023-03-11 07:35:06\",\"2023-03-11 07:44:38\",\"2023-03-11 07:46:08\",\"2023-03-11 07:46:09\",\"2023-03-11 07:55:04\",\"2023-03-11 07:56:14\",\"2023-03-11 07:56:15\",\"2023-03-11 07:56:22\",\"2023-03-11 07:56:26\",\"2023-03-11 07:57:16\",\"2023-03-11 07:58:50\",\"2023-03-11 07:58:54\",\"2023-03-11 07:59:20\",\"2023-03-11 07:59:35\",\"2023-03-11 07:59:58\",\"2023-03-11 08:00:44\",\"2023-03-11 08:01:40\",\"2023-03-11 08:02:06\",\"2023-03-11 08:03:10\",\"2023-03-11 08:03:37\",\"2023-03-11 08:04:49\",\"2023-03-11 08:04:50\",\"2023-03-11 08:07:45\",\"2023-03-14 01:36:37\",\"2023-03-14 01:36:38\",\"2023-03-14 01:36:46\",\"2023-03-14 01:37:09\",\"2023-03-14 01:37:11\",\"2023-03-14 02:17:12\",\"2023-03-14 02:17:17\",\"2023-03-16 05:42:47\",\"2023-03-16 05:43:18\",\"2023-03-16 05:43:19\",\"2023-03-16 05:43:46\",\"2023-03-16 05:44:03\",\"2023-03-17 15:52:36\",\"2023-03-17 15:54:22\",\"2023-03-17 15:56:10\",\"2023-03-17 15:56:11\",\"2023-03-17 15:56:14\",\"2023-03-17 15:56:15\",\"2023-03-17 15:56:21\",\"2023-03-17 15:56:26\",\"2023-03-17 15:56:31\",\"2023-03-17 15:56:44\",\"2023-03-17 15:56:54\",\"2023-03-17 16:04:31\",\"2023-03-17 16:04:32\",\"2023-03-17 16:04:37\",\"2023-03-17 16:04:45\",\"2023-03-17 16:05:14\",\"2023-03-17 16:05:16\",\"2023-03-17 16:05:17\",\"2023-03-17 16:05:47\",\"2023-03-17 16:05:48\",\"2023-03-17 16:05:50\",\"2023-03-17 16:05:51\",\"2023-03-17 16:06:01\",\"2023-03-17 16:07:08\",\"2023-03-17 16:07:09\",\"2023-03-17 16:07:10\",\"2023-03-17 16:07:11\",\"2023-03-17 16:07:12\",\"2023-03-18 14:11:11\",\"2023-03-18 14:11:12\",\"2023-03-18 14:11:22\",\"2023-03-18 14:11:23\",\"2023-03-18 14:11:27\",\"2023-03-18 14:11:28\",\"2023-03-18 14:14:27\",\"2023-03-18 14:15:26\",\"2023-03-18 14:15:29\",\"2023-03-18 14:15:49\",\"2023-03-18 14:16:36\",\"2023-03-19 04:02:01\",\"2023-03-19 04:02:03\",\"2023-03-19 04:02:19\",\"2023-03-19 04:02:29\",\"2023-03-19 04:02:37\",\"2023-03-19 04:04:27\",\"2023-03-19 18:09:26\",\"2023-03-19 18:09:27\",\"2023-03-19 18:09:28\",\"2023-03-20 08:37:36\",\"2023-03-20 08:37:53\",\"2023-03-20 08:37:54\",\"2023-03-24 12:45:11\",\"2023-03-25 14:09:28\",\"2023-03-25 14:09:29\",\"2023-04-04 14:08:00\",\"2023-04-04 14:08:01\",\"2023-04-04 14:10:14\",\"2023-04-04 14:11:27\",\"2023-04-04 14:11:28\",\"2023-04-04 15:01:05\",\"2023-04-04 15:01:07\",\"2023-04-04 15:01:09\",\"2023-04-04 15:08:02\",\"2023-04-04 15:08:03\",\"2023-04-04 15:08:28\",\"2023-04-04 15:08:29\",\"2023-04-04 15:35:07\",\"2023-04-08 18:38:11\",\"2023-04-08 18:38:12\",\"2023-04-08 18:38:17\",\"2023-04-08 18:38:19\",\"2023-04-08 18:38:27\",\"2023-04-08 18:38:37\",\"2023-04-08 18:38:39\",\"2023-04-08 18:38:48\",\"2023-04-08 18:38:51\",\"2023-04-08 18:38:52\",\"2023-04-08 18:40:55\",\"2023-04-08 18:40:57\",\"2023-04-08 18:40:58\",\"2023-04-08 18:40:59\",\"2023-04-08 18:41:15\",\"2023-04-10 09:46:32\",\"2023-04-10 09:47:33\",\"2023-04-10 09:47:34\",\"2023-04-10 09:48:55\",\"2023-04-10 09:48:59\",\"2023-04-10 09:49:00\",\"2023-04-10 09:49:09\",\"2023-04-10 09:49:18\",\"2023-05-01 15:06:03\",\"2023-05-01 15:06:25\",\"2023-05-01 15:06:26\",\"2023-05-01 15:22:56\",\"2023-05-01 15:22:58\",\"2023-05-01 15:22:59\",\"2023-05-02 15:23:40\",\"2023-05-02 15:23:41\",\"2023-05-02 15:24:01\",\"2023-05-02 15:24:07\",\"2023-05-07 14:00:41\",\"2023-05-07 14:00:55\",\"2023-05-07 14:01:01\",\"2023-05-07 14:04:34\",\"2023-05-07 14:04:35\",\"2023-05-07 14:04:42\",\"2023-05-07 14:05:03\",\"2023-05-07 14:09:28\",\"2023-05-07 14:09:31\",\"2023-05-07 14:09:33\",\"2023-05-07 14:09:46\",\"2023-05-07 14:09:50\",\"2023-05-07 14:10:11\",\"2023-05-07 14:11:27\",\"2023-05-07 14:11:29\",\"2023-05-07 23:39:31\",\"2023-05-08 07:38:16\",\"2023-05-08 07:38:24\",\"2023-05-08 07:39:26\",\"2023-05-08 07:39:30\",\"2023-05-08 07:39:31\",\"2023-05-08 07:40:01\",\"2023-05-08 07:40:02\",\"2023-05-08 07:40:07\",\"2023-05-08 07:40:08\",\"2023-05-08 08:07:50\",\"2023-05-13 17:46:30\",\"2023-05-13 17:47:20\",\"2023-05-13 17:58:58\",\"2023-05-13 17:59:04\",\"2023-05-13 18:35:42\",\"2023-05-14 02:12:24\",\"2023-05-14 02:12:25\",\"2023-05-14 02:12:26\",\"2023-05-19 16:38:14\",\"2023-05-19 16:38:16\",\"2023-05-19 16:39:31\",\"2023-05-19 16:39:33\",\"2023-05-19 16:39:42\",\"2023-05-19 16:39:43\",\"2023-05-19 16:40:24\",\"2023-05-19 16:40:26\",\"2023-05-19 16:41:49\",\"2023-05-19 16:42:05\",\"2023-05-19 16:42:09\",\"2023-05-19 16:42:10\",\"2023-05-19 16:42:39\",\"2023-05-19 16:43:25\",\"2023-05-19 16:43:28\",\"2023-05-19 16:43:29\",\"2023-05-19 16:52:41\",\"2023-05-19 16:52:43\",\"2023-05-19 16:52:45\",\"2023-05-19 16:52:46\",\"2023-05-19 16:52:47\",\"2023-05-19 16:53:48\",\"2023-05-19 16:53:49\",\"2023-05-20 17:17:20\",\"2023-05-20 17:20:30\",\"2023-05-20 17:20:34\",\"2023-05-20 17:35:43\",\"2023-05-20 17:47:08\",\"2023-05-20 18:25:59\",\"2023-05-28 16:24:57\",\"2023-05-28 16:25:03\",\"2023-05-30 06:48:17\",\"2023-05-30 06:48:18\",\"2023-06-07 15:46:58\",\"2023-06-07 15:47:08\",\"2023-06-07 15:47:09\",\"2023-06-10 15:51:50\",\"2023-06-16 14:56:28\",\"2023-06-16 14:56:29\",\"2023-06-16 14:56:46\",\"2023-06-17 13:47:56\",\"2023-06-17 13:48:02\",\"2023-06-17 13:48:03\",\"2023-06-17 13:48:04\",\"2023-06-17 13:48:13\",\"2023-06-17 13:48:14\",\"2023-06-17 13:48:25\",\"2023-06-17 13:48:26\",\"2023-06-17 17:35:28\",\"2023-06-17 17:35:29\",\"2023-06-19 04:44:36\",\"2023-06-19 04:46:07\"],\"xaxis\":\"x\",\"y\":[2,2,1,1,1,1,2,1,1,2,2,1,1,2,1,1,2,2,2,1,1,2,2,1,1,1,1,2,1,1,1,1,2,2,2,2,1,1,2,1,1,2,3,2,1,2,2,1,1,2,2,2,2,2,2,1,1,2,1,1,2,1,1,2,2,2,1,1,2,2,2,2,2,2,2,2,1,1,2,1,1,2,1,1,2,2,4,1,3,2,4,2,2,1,1,1,1,2,2,2,2,2,1,1,2,2,2,2,4,1,1,1,1,2,1,2,3,2,2,1,1,1,1,1,1,2,1,1,2,2,2,1,2,2,2,2,4,1,3,6,1,1,4,1,1,1,1,2,1,1,1,2,1,1,1,1,1,2,5,3,1,1,2,1,1,2,1,1,3,1,3,3,2,2,1,1,2,2,2,2,2,4,1,1,2,1,1,1,1,2,2,4,1,1,1,1,2,2,2,1,1,2,2,2,1,1,4,4,2,2,1,1,3,1,2,2,2,2,2,2,2,2,1,2,1,2,2,1,1,1,1,2,2,2,2,1,1,1,1,1,1,3,2,2,1,2,1,1,2,2,2,2,2,2,4,2,1,1,2,1,7,1,1,1,2,2,1,1,2,1,1,2,4,1,1,2,2],\"yaxis\":\"y\",\"type\":\"scattergl\"}],                        {\"template\":{\"data\":{\"histogram2dcontour\":[{\"type\":\"histogram2dcontour\",\"colorbar\":{\"outlinewidth\":0,\"ticks\":\"\"},\"colorscale\":[[0.0,\"#0d0887\"],[0.1111111111111111,\"#46039f\"],[0.2222222222222222,\"#7201a8\"],[0.3333333333333333,\"#9c179e\"],[0.4444444444444444,\"#bd3786\"],[0.5555555555555556,\"#d8576b\"],[0.6666666666666666,\"#ed7953\"],[0.7777777777777778,\"#fb9f3a\"],[0.8888888888888888,\"#fdca26\"],[1.0,\"#f0f921\"]]}],\"choropleth\":[{\"type\":\"choropleth\",\"colorbar\":{\"outlinewidth\":0,\"ticks\":\"\"}}],\"histogram2d\":[{\"type\":\"histogram2d\",\"colorbar\":{\"outlinewidth\":0,\"ticks\":\"\"},\"colorscale\":[[0.0,\"#0d0887\"],[0.1111111111111111,\"#46039f\"],[0.2222222222222222,\"#7201a8\"],[0.3333333333333333,\"#9c179e\"],[0.4444444444444444,\"#bd3786\"],[0.5555555555555556,\"#d8576b\"],[0.6666666666666666,\"#ed7953\"],[0.7777777777777778,\"#fb9f3a\"],[0.8888888888888888,\"#fdca26\"],[1.0,\"#f0f921\"]]}],\"heatmap\":[{\"type\":\"heatmap\",\"colorbar\":{\"outlinewidth\":0,\"ticks\":\"\"},\"colorscale\":[[0.0,\"#0d0887\"],[0.1111111111111111,\"#46039f\"],[0.2222222222222222,\"#7201a8\"],[0.3333333333333333,\"#9c179e\"],[0.4444444444444444,\"#bd3786\"],[0.5555555555555556,\"#d8576b\"],[0.6666666666666666,\"#ed7953\"],[0.7777777777777778,\"#fb9f3a\"],[0.8888888888888888,\"#fdca26\"],[1.0,\"#f0f921\"]]}],\"heatmapgl\":[{\"type\":\"heatmapgl\",\"colorbar\":{\"outlinewidth\":0,\"ticks\":\"\"},\"colorscale\":[[0.0,\"#0d0887\"],[0.1111111111111111,\"#46039f\"],[0.2222222222222222,\"#7201a8\"],[0.3333333333333333,\"#9c179e\"],[0.4444444444444444,\"#bd3786\"],[0.5555555555555556,\"#d8576b\"],[0.6666666666666666,\"#ed7953\"],[0.7777777777777778,\"#fb9f3a\"],[0.8888888888888888,\"#fdca26\"],[1.0,\"#f0f921\"]]}],\"contourcarpet\":[{\"type\":\"contourcarpet\",\"colorbar\":{\"outlinewidth\":0,\"ticks\":\"\"}}],\"contour\":[{\"type\":\"contour\",\"colorbar\":{\"outlinewidth\":0,\"ticks\":\"\"},\"colorscale\":[[0.0,\"#0d0887\"],[0.1111111111111111,\"#46039f\"],[0.2222222222222222,\"#7201a8\"],[0.3333333333333333,\"#9c179e\"],[0.4444444444444444,\"#bd3786\"],[0.5555555555555556,\"#d8576b\"],[0.6666666666666666,\"#ed7953\"],[0.7777777777777778,\"#fb9f3a\"],[0.8888888888888888,\"#fdca26\"],[1.0,\"#f0f921\"]]}],\"surface\":[{\"type\":\"surface\",\"colorbar\":{\"outlinewidth\":0,\"ticks\":\"\"},\"colorscale\":[[0.0,\"#0d0887\"],[0.1111111111111111,\"#46039f\"],[0.2222222222222222,\"#7201a8\"],[0.3333333333333333,\"#9c179e\"],[0.4444444444444444,\"#bd3786\"],[0.5555555555555556,\"#d8576b\"],[0.6666666666666666,\"#ed7953\"],[0.7777777777777778,\"#fb9f3a\"],[0.8888888888888888,\"#fdca26\"],[1.0,\"#f0f921\"]]}],\"mesh3d\":[{\"type\":\"mesh3d\",\"colorbar\":{\"outlinewidth\":0,\"ticks\":\"\"}}],\"scatter\":[{\"fillpattern\":{\"fillmode\":\"overlay\",\"size\":10,\"solidity\":0.2},\"type\":\"scatter\"}],\"parcoords\":[{\"type\":\"parcoords\",\"line\":{\"colorbar\":{\"outlinewidth\":0,\"ticks\":\"\"}}}],\"scatterpolargl\":[{\"type\":\"scatterpolargl\",\"marker\":{\"colorbar\":{\"outlinewidth\":0,\"ticks\":\"\"}}}],\"bar\":[{\"error_x\":{\"color\":\"#2a3f5f\"},\"error_y\":{\"color\":\"#2a3f5f\"},\"marker\":{\"line\":{\"color\":\"#E5ECF6\",\"width\":0.5},\"pattern\":{\"fillmode\":\"overlay\",\"size\":10,\"solidity\":0.2}},\"type\":\"bar\"}],\"scattergeo\":[{\"type\":\"scattergeo\",\"marker\":{\"colorbar\":{\"outlinewidth\":0,\"ticks\":\"\"}}}],\"scatterpolar\":[{\"type\":\"scatterpolar\",\"marker\":{\"colorbar\":{\"outlinewidth\":0,\"ticks\":\"\"}}}],\"histogram\":[{\"marker\":{\"pattern\":{\"fillmode\":\"overlay\",\"size\":10,\"solidity\":0.2}},\"type\":\"histogram\"}],\"scattergl\":[{\"type\":\"scattergl\",\"marker\":{\"colorbar\":{\"outlinewidth\":0,\"ticks\":\"\"}}}],\"scatter3d\":[{\"type\":\"scatter3d\",\"line\":{\"colorbar\":{\"outlinewidth\":0,\"ticks\":\"\"}},\"marker\":{\"colorbar\":{\"outlinewidth\":0,\"ticks\":\"\"}}}],\"scattermapbox\":[{\"type\":\"scattermapbox\",\"marker\":{\"colorbar\":{\"outlinewidth\":0,\"ticks\":\"\"}}}],\"scatterternary\":[{\"type\":\"scatterternary\",\"marker\":{\"colorbar\":{\"outlinewidth\":0,\"ticks\":\"\"}}}],\"scattercarpet\":[{\"type\":\"scattercarpet\",\"marker\":{\"colorbar\":{\"outlinewidth\":0,\"ticks\":\"\"}}}],\"carpet\":[{\"aaxis\":{\"endlinecolor\":\"#2a3f5f\",\"gridcolor\":\"white\",\"linecolor\":\"white\",\"minorgridcolor\":\"white\",\"startlinecolor\":\"#2a3f5f\"},\"baxis\":{\"endlinecolor\":\"#2a3f5f\",\"gridcolor\":\"white\",\"linecolor\":\"white\",\"minorgridcolor\":\"white\",\"startlinecolor\":\"#2a3f5f\"},\"type\":\"carpet\"}],\"table\":[{\"cells\":{\"fill\":{\"color\":\"#EBF0F8\"},\"line\":{\"color\":\"white\"}},\"header\":{\"fill\":{\"color\":\"#C8D4E3\"},\"line\":{\"color\":\"white\"}},\"type\":\"table\"}],\"barpolar\":[{\"marker\":{\"line\":{\"color\":\"#E5ECF6\",\"width\":0.5},\"pattern\":{\"fillmode\":\"overlay\",\"size\":10,\"solidity\":0.2}},\"type\":\"barpolar\"}],\"pie\":[{\"automargin\":true,\"type\":\"pie\"}]},\"layout\":{\"autotypenumbers\":\"strict\",\"colorway\":[\"#636efa\",\"#EF553B\",\"#00cc96\",\"#ab63fa\",\"#FFA15A\",\"#19d3f3\",\"#FF6692\",\"#B6E880\",\"#FF97FF\",\"#FECB52\"],\"font\":{\"color\":\"#2a3f5f\"},\"hovermode\":\"closest\",\"hoverlabel\":{\"align\":\"left\"},\"paper_bgcolor\":\"white\",\"plot_bgcolor\":\"#E5ECF6\",\"polar\":{\"bgcolor\":\"#E5ECF6\",\"angularaxis\":{\"gridcolor\":\"white\",\"linecolor\":\"white\",\"ticks\":\"\"},\"radialaxis\":{\"gridcolor\":\"white\",\"linecolor\":\"white\",\"ticks\":\"\"}},\"ternary\":{\"bgcolor\":\"#E5ECF6\",\"aaxis\":{\"gridcolor\":\"white\",\"linecolor\":\"white\",\"ticks\":\"\"},\"baxis\":{\"gridcolor\":\"white\",\"linecolor\":\"white\",\"ticks\":\"\"},\"caxis\":{\"gridcolor\":\"white\",\"linecolor\":\"white\",\"ticks\":\"\"}},\"coloraxis\":{\"colorbar\":{\"outlinewidth\":0,\"ticks\":\"\"}},\"colorscale\":{\"sequential\":[[0.0,\"#0d0887\"],[0.1111111111111111,\"#46039f\"],[0.2222222222222222,\"#7201a8\"],[0.3333333333333333,\"#9c179e\"],[0.4444444444444444,\"#bd3786\"],[0.5555555555555556,\"#d8576b\"],[0.6666666666666666,\"#ed7953\"],[0.7777777777777778,\"#fb9f3a\"],[0.8888888888888888,\"#fdca26\"],[1.0,\"#f0f921\"]],\"sequentialminus\":[[0.0,\"#0d0887\"],[0.1111111111111111,\"#46039f\"],[0.2222222222222222,\"#7201a8\"],[0.3333333333333333,\"#9c179e\"],[0.4444444444444444,\"#bd3786\"],[0.5555555555555556,\"#d8576b\"],[0.6666666666666666,\"#ed7953\"],[0.7777777777777778,\"#fb9f3a\"],[0.8888888888888888,\"#fdca26\"],[1.0,\"#f0f921\"]],\"diverging\":[[0,\"#8e0152\"],[0.1,\"#c51b7d\"],[0.2,\"#de77ae\"],[0.3,\"#f1b6da\"],[0.4,\"#fde0ef\"],[0.5,\"#f7f7f7\"],[0.6,\"#e6f5d0\"],[0.7,\"#b8e186\"],[0.8,\"#7fbc41\"],[0.9,\"#4d9221\"],[1,\"#276419\"]]},\"xaxis\":{\"gridcolor\":\"white\",\"linecolor\":\"white\",\"ticks\":\"\",\"title\":{\"standoff\":15},\"zerolinecolor\":\"white\",\"automargin\":true,\"zerolinewidth\":2},\"yaxis\":{\"gridcolor\":\"white\",\"linecolor\":\"white\",\"ticks\":\"\",\"title\":{\"standoff\":15},\"zerolinecolor\":\"white\",\"automargin\":true,\"zerolinewidth\":2},\"scene\":{\"xaxis\":{\"backgroundcolor\":\"#E5ECF6\",\"gridcolor\":\"white\",\"linecolor\":\"white\",\"showbackground\":true,\"ticks\":\"\",\"zerolinecolor\":\"white\",\"gridwidth\":2},\"yaxis\":{\"backgroundcolor\":\"#E5ECF6\",\"gridcolor\":\"white\",\"linecolor\":\"white\",\"showbackground\":true,\"ticks\":\"\",\"zerolinecolor\":\"white\",\"gridwidth\":2},\"zaxis\":{\"backgroundcolor\":\"#E5ECF6\",\"gridcolor\":\"white\",\"linecolor\":\"white\",\"showbackground\":true,\"ticks\":\"\",\"zerolinecolor\":\"white\",\"gridwidth\":2}},\"shapedefaults\":{\"line\":{\"color\":\"#2a3f5f\"}},\"annotationdefaults\":{\"arrowcolor\":\"#2a3f5f\",\"arrowhead\":0,\"arrowwidth\":1},\"geo\":{\"bgcolor\":\"white\",\"landcolor\":\"#E5ECF6\",\"subunitcolor\":\"white\",\"showland\":true,\"showlakes\":true,\"lakecolor\":\"white\"},\"title\":{\"x\":0.05},\"mapbox\":{\"style\":\"light\"}}},\"xaxis\":{\"anchor\":\"y\",\"domain\":[0.0,1.0],\"title\":{\"text\":\"Click_Utc_Ts\"}},\"yaxis\":{\"anchor\":\"x\",\"domain\":[0.0,1.0],\"title\":{\"text\":\"Total Count\"}},\"legend\":{\"title\":{\"text\":\"Profile Name\"},\"tracegroupgap\":0},\"title\":{\"text\":\"User Analysis Every Day\"}},                        {\"responsive\": true}                    ).then(function(){\n",
              "                            \n",
              "var gd = document.getElementById('a4b29983-6e22-46bc-925a-974ace367e9a');\n",
              "var x = new MutationObserver(function (mutations, observer) {{\n",
              "        var display = window.getComputedStyle(gd).display;\n",
              "        if (!display || display === 'none') {{\n",
              "            console.log([gd, 'removed!']);\n",
              "            Plotly.purge(gd);\n",
              "            observer.disconnect();\n",
              "        }}\n",
              "}});\n",
              "\n",
              "// Listen for the removal of the full notebook cells\n",
              "var notebookContainer = gd.closest('#notebook-container');\n",
              "if (notebookContainer) {{\n",
              "    x.observe(notebookContainer, {childList: true});\n",
              "}}\n",
              "\n",
              "// Listen for the clearing of the current output cell\n",
              "var outputEl = gd.closest('.output');\n",
              "if (outputEl) {{\n",
              "    x.observe(outputEl, {childList: true});\n",
              "}}\n",
              "\n",
              "                        })                };                            </script>        </div>\n",
              "</body>\n",
              "</html>"
            ]
          },
          "metadata": {}
        }
      ]
    }
  ]
}